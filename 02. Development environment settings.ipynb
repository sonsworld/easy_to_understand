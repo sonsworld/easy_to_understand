{
 "cells": [
  {
   "cell_type": "markdown",
   "metadata": {
    "slideshow": {
     "slide_type": "slide"
    }
   },
   "source": [
    "# Requirements\n",
    "\n",
    "* Anaconda3: https://www.anaconda.com/distribution/\n",
    "* Python version 3.7+\n",
    " * Python 2.7+도 괜찮을 수도 있습니다만..\n",
    "* numpy version 1.16 or later: https://www.numpy.org\n",
    "* scipy version 1.2 or later: https://www.scipy.org\n",
    "* matplotlib version 3.0 or later: https://matplotlib.org\n",
    "* pandas version 0.24 or later: https://pandas.pydata.org\n",
    "\n",
    "* keras-gpu version 2.2 or later: https://keras.io\n",
    "* tensorflow-gpu version 1.13 or later: https://www.tensorflow.org\n",
    "* ipython/jupyter version 4.4 or later, with notebook support"
   ]
  },
  {
   "cell_type": "markdown",
   "metadata": {
    "slideshow": {
     "slide_type": "subslide"
    }
   },
   "source": [
    "#### (추가적인 툴들):\n",
    "* scikit-learn version 0.20 or later: http://scikit-learn.org\n",
    "* pyyaml 5.1\n",
    "* hdf5 and h5py (required if you use model saving/loading functions in keras)\n",
    "* NVIDIA cuDNN if you have NVIDIA GPUs on your machines.\n",
    " * CUDA Toolkit 9.0+: https://developer.nvidia.com/cuda-downloads\n",
    " * cuDNN 7.1+ for CUDA 9.0+: https://developer.nvidia.com/rdp/cudnn-download\n",
    "  * cuDNN sdk 문서: https://docs.nvidia.com/deeplearning/sdk/cudnn-install/\n"
   ]
  },
  {
   "cell_type": "markdown",
   "metadata": {
    "slideshow": {
     "slide_type": "slide"
    }
   },
   "source": [
    "# 가상환경 만들기\n",
    "\n",
    "* notebook cell에서 !를 입력하면 command 명령어를 수행 할 수 있음"
   ]
  },
  {
   "cell_type": "code",
   "execution_count": 1,
   "metadata": {
    "slideshow": {
     "slide_type": "slide"
    }
   },
   "outputs": [
    {
     "name": "stdout",
     "output_type": "stream",
     "text": [
      "total 44\n",
      "drw-rw-rw-  5 sons 0  4096 2019-05-12 17:30 .\n",
      "drw-rw-rw-  6 sons 0     0 2019-05-12 16:49 ..\n",
      "drw-rw-rw-  7 sons 0  4096 2019-05-12 00:36 .git\n",
      "drw-rw-rw-  2 sons 0     0 2019-05-12 17:04 .ipynb_checkpoints\n",
      "-rw-rw-rw-  1 sons 0 22921 2019-05-12 00:34 01. Machine Learning Introduction.ipynb\n",
      "-rw-rw-rw-  1 sons 0  3767 2019-05-12 17:30 02. Development environment settings.ipynb\n",
      "drw-rw-rw-  2 sons 0  8192 2019-05-12 00:33 img\n"
     ]
    }
   ],
   "source": [
    "#현재 dir에 대한 정보 자세히 보기\n",
    "!ls -al"
   ]
  },
  {
   "cell_type": "code",
   "execution_count": 2,
   "metadata": {
    "slideshow": {
     "slide_type": "slide"
    }
   },
   "outputs": [
    {
     "name": "stdout",
     "output_type": "stream",
     "text": [
      "# conda environments:\n",
      "#\n",
      "base                  *  C:\\Users\\sons\\Anaconda3\n",
      "py3                      C:\\Users\\sons\\Anaconda3\\envs\\py3\n",
      "\n"
     ]
    }
   ],
   "source": [
    "#현재 conda의 가상환경 보기\n",
    "!conda env list"
   ]
  },
  {
   "cell_type": "markdown",
   "metadata": {
    "slideshow": {
     "slide_type": "slide"
    }
   },
   "source": [
    "# conda에 가상 환경을 추가하기\n",
    "\n",
    "* keras_dl이란 이름과 python 3.7로)\n",
    "* cmd에서 실행\n",
    "* conda create -n keras_dl python=3.7\n",
    "* 강사는 py3 env에서 진행\n",
    "\n",
    "<center><img src='img/02_01.png' width='30%' height='30%'></center>"
   ]
  },
  {
   "cell_type": "code",
   "execution_count": 3,
   "metadata": {
    "slideshow": {
     "slide_type": "slide"
    }
   },
   "outputs": [
    {
     "name": "stdout",
     "output_type": "stream",
     "text": [
      "# conda environments:\n",
      "#\n",
      "base                  *  C:\\Users\\sons\\Anaconda3\n",
      "keras_dl                 C:\\Users\\sons\\Anaconda3\\envs\\keras_dl\n",
      "py3                      C:\\Users\\sons\\Anaconda3\\envs\\py3\n",
      "\n"
     ]
    }
   ],
   "source": [
    "#추가 되었는지 확인\n",
    "!conda env list"
   ]
  },
  {
   "cell_type": "markdown",
   "metadata": {
    "slideshow": {
     "slide_type": "slide"
    }
   },
   "source": [
    "<center><img src='img/02_02.png'></center>"
   ]
  },
  {
   "cell_type": "code",
   "execution_count": 4,
   "metadata": {
    "slideshow": {
     "slide_type": "slide"
    }
   },
   "outputs": [
    {
     "name": "stdout",
     "output_type": "stream",
     "text": [
      "Available kernels:\n",
      "  keras_dl    C:\\Users\\sons\\AppData\\Roaming\\jupyter\\kernels\\keras_dl\n",
      "  py3         C:\\Users\\sons\\AppData\\Roaming\\jupyter\\kernels\\py3\n",
      "  spark       C:\\Users\\sons\\AppData\\Roaming\\jupyter\\kernels\\spark\n",
      "  python3     C:\\Users\\sons\\Anaconda3\\share\\jupyter\\kernels\\python3\n"
     ]
    }
   ],
   "source": [
    "#주피터에 설치되어 있는 커널 확인\n",
    "!jupyter kernelspec list"
   ]
  },
  {
   "cell_type": "markdown",
   "metadata": {
    "slideshow": {
     "slide_type": "slide"
    }
   },
   "source": [
    "# 주피터 커널과 conda env 연결\n",
    "\n",
    "* cmd에서 실행\n",
    "* (base)에서 python -m ipykernel install --user --name keras_dl --display-name \"Python for keras\" 실행\n",
    "\n",
    "<center><img src='img/02_03.png'></center>"
   ]
  },
  {
   "cell_type": "code",
   "execution_count": 5,
   "metadata": {
    "slideshow": {
     "slide_type": "subslide"
    }
   },
   "outputs": [
    {
     "name": "stdout",
     "output_type": "stream",
     "text": [
      "Python 3.7.3\n"
     ]
    }
   ],
   "source": [
    "# python 버전 확인\n",
    "!python --version"
   ]
  },
  {
   "cell_type": "code",
   "execution_count": 6,
   "metadata": {
    "slideshow": {
     "slide_type": "slide"
    }
   },
   "outputs": [],
   "source": [
    "# 필수 패키지들 import 확인\n",
    "import numpy as np\n",
    "import scipy as sp\n",
    "import pandas as pd\n",
    "import matplotlib\n",
    "import sklearn"
   ]
  },
  {
   "cell_type": "code",
   "execution_count": 7,
   "metadata": {
    "slideshow": {
     "slide_type": "slide"
    }
   },
   "outputs": [
    {
     "name": "stderr",
     "output_type": "stream",
     "text": [
      "Using TensorFlow backend.\n"
     ]
    }
   ],
   "source": [
    "# deep learning 패키지들 import\n",
    "import tensorflow as tf\n",
    "import keras"
   ]
  },
  {
   "cell_type": "code",
   "execution_count": null,
   "metadata": {
    "slideshow": {
     "slide_type": "notes"
    }
   },
   "outputs": [],
   "source": [
    "#만약 에러가 난다면 base에 가서 tensorflow 를 다시 설치 후 jupyter notebook을 재시작"
   ]
  },
  {
   "cell_type": "code",
   "execution_count": 8,
   "metadata": {
    "scrolled": true,
    "slideshow": {
     "slide_type": "slide"
    }
   },
   "outputs": [
    {
     "name": "stdout",
     "output_type": "stream",
     "text": [
      "numpy: 1.16.3\n",
      "scipy: 1.2.1\n",
      "scikit-learn: 0.20.3\n",
      "matplotlib: 3.0.3\n",
      "pandas: 0.24.2\n",
      "keras:  2.2.4\n",
      "Tensorflow:  1.13.1\n"
     ]
    }
   ],
   "source": [
    "# 패키지들 버전 확인\n",
    "print('numpy:', np.__version__)\n",
    "print('scipy:', sp.__version__)\n",
    "print('scikit-learn:', sklearn.__version__)\n",
    "print('matplotlib:', matplotlib.__version__)\n",
    "print('pandas:', pd.__version__)\n",
    "print('keras: ', keras.__version__)\n",
    "print('Tensorflow: ', tf.__version__)"
   ]
  }
 ],
 "metadata": {
  "celltoolbar": "Slideshow",
  "kernelspec": {
   "display_name": "Python py3",
   "language": "python",
   "name": "py3"
  },
  "language_info": {
   "codemirror_mode": {
    "name": "ipython",
    "version": 3
   },
   "file_extension": ".py",
   "mimetype": "text/x-python",
   "name": "python",
   "nbconvert_exporter": "python",
   "pygments_lexer": "ipython3",
   "version": "3.7.3"
  },
  "toc": {
   "base_numbering": 1,
   "nav_menu": {},
   "number_sections": false,
   "sideBar": false,
   "skip_h1_title": false,
   "title_cell": "Table of Contents",
   "title_sidebar": "Contents",
   "toc_cell": false,
   "toc_position": {
    "height": "47px",
    "left": "1616px",
    "top": "198px",
    "width": "159px"
   },
   "toc_section_display": false,
   "toc_window_display": true
  },
  "varInspector": {
   "cols": {
    "lenName": 16,
    "lenType": 16,
    "lenVar": 40
   },
   "kernels_config": {
    "python": {
     "delete_cmd_postfix": "",
     "delete_cmd_prefix": "del ",
     "library": "var_list.py",
     "varRefreshCmd": "print(var_dic_list())"
    },
    "r": {
     "delete_cmd_postfix": ") ",
     "delete_cmd_prefix": "rm(",
     "library": "var_list.r",
     "varRefreshCmd": "cat(var_dic_list()) "
    }
   },
   "types_to_exclude": [
    "module",
    "function",
    "builtin_function_or_method",
    "instance",
    "_Feature"
   ],
   "window_display": false
  }
 },
 "nbformat": 4,
 "nbformat_minor": 2
}
