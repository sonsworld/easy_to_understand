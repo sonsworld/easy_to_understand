{
 "cells": [
  {
   "cell_type": "markdown",
   "metadata": {
    "slideshow": {
     "slide_type": "slide"
    }
   },
   "source": [
    "<!-- <img src='img/fastcamp_h.png'> -->\n",
    "\n",
    "# 5. Deep Learning from Basic Method 2 with Keras"
   ]
  },
  {
   "cell_type": "markdown",
   "metadata": {
    "slideshow": {
     "slide_type": "slide"
    }
   },
   "source": [
    "# AI의 겨울\n",
    "\n",
    "* perceptron이 이렇게 강력했지만 이후 ai는 20년에 가까운 시간 동안 \"AI Winter\"라는 시기를 겪음\n",
    "* 왜 그럴까?"
   ]
  },
  {
   "cell_type": "markdown",
   "metadata": {
    "slideshow": {
     "slide_type": "fragment"
    }
   },
   "source": [
    "# XOR PROBLEM; 비선형 문제\n",
    "\n",
    "<img src='img/05_01.png' width=50% height=50%>\n",
    "\n",
    "* 기존의 AND 문제, OR 문제는 방정식 1개로 (선형으로) 문제를 해결 할 수 있었음\n",
    "* 그러나 XOR는 1개의 방정식으로 해결 할 수 없음\n",
    "  * 이 문제를 perceptron은 절대 해결 할 수 없기 때문에 AI winter가 찾아옴\n",
    "  * 1969년 Marvin Minsky와 Seymour Papert의 “Perceptrons: an introduction to computational geometry”"
   ]
  },
  {
   "cell_type": "markdown",
   "metadata": {
    "slideshow": {
     "slide_type": "subslide"
    }
   },
   "source": [
    "# Multi-Layer Perceptron(MLP) 의 등장\n",
    "\n",
    "* 1986년 McClelland, James L., David E. Rumelhart, and **Geoffrey E. Hinton**이 MLP를 발표\n",
    "* 이전 perceptron의 출력을 또다른 perceptron의 입력으로 사용하고 현재 출력에 비선형 step function을 사용하여 MLP가 비선형으로 동작하게 함"
   ]
  },
  {
   "cell_type": "markdown",
   "metadata": {
    "slideshow": {
     "slide_type": "fragment"
    }
   },
   "source": [
    "# 선형 분류와 비선형 분류의 차이\n",
    "\n",
    "<center><img src='img/05_03.png'></center>"
   ]
  },
  {
   "cell_type": "markdown",
   "metadata": {
    "slideshow": {
     "slide_type": "subslide"
    }
   },
   "source": [
    "# 다시보는 Perceptron의 구조\n",
    "\n",
    "<center><img src='img/03_01.png'></center>\n",
    "\n",
    "* input($x_n$): 외부에서 들어오는 입력, 보통 vector, matrix\n",
    "* weight($w_n$): x와 곱해지는 가중치, DL에서 구해야하는 값\n",
    "* bias($1$): 바이어스, 절편 값\n",
    "* sigma: x와 w의 곱 + bias의 합을 출력\n",
    "* step function: 해당 출력의 활성 여부를 결정"
   ]
  },
  {
   "cell_type": "markdown",
   "metadata": {
    "slideshow": {
     "slide_type": "subslide"
    }
   },
   "source": [
    "# Multi-Layer Perceptron의 구조\n",
    "\n",
    "<center><img src='img/05_02.png'></center>\n",
    "\n",
    "* input layer: 외부에서 들어오는 입력, 보통 vector, matrix\n",
    "* hidden layer:\n",
    " 1. 각 노드는 이전 layer의 출력을 입력으로 받음\n",
    " 2. hidden layer의 각 노드는 step funtion을 가짐\n",
    " 3. hidden layer는 여러장 올 수 있음\n",
    "<br><br>\n",
    "* hidden layer의 각 노드\n",
    " * weight($w_n$): 이전 입력과 곱해지는 가중치, DL에서 구해야하는 값\n",
    " * bias($1$): 바이어스, 절편 값\n",
    " * sigma: 입력과 w의 곱 + bias의 합을 출력\n",
    " * activation/step function: 해당 출력의 활성 여부를 결정"
   ]
  },
  {
   "cell_type": "code",
   "execution_count": 19,
   "metadata": {
    "slideshow": {
     "slide_type": "slide"
    }
   },
   "outputs": [
    {
     "name": "stdout",
     "output_type": "stream",
     "text": [
      "오차: 1.1934709548950195\n",
      "오차: 0.1989368498325348\n",
      "오차: 0.15673863887786865\n",
      "오차: 0.12096760421991348\n",
      "오차: 0.0845719426870346\n",
      "오차: 0.05304841324687004\n",
      "오차: 0.02948678657412529\n",
      "오차: 0.014505070634186268\n",
      "오차: 0.0064311884343624115\n",
      "오차: 0.002637288300320506\n",
      "정확도: 1.0\n"
     ]
    }
   ],
   "source": [
    "import keras\n",
    "from keras.layers import Dense\n",
    "from keras.models import Sequential\n",
    "import numpy as np\n",
    "\n",
    "model = Sequential()\n",
    "model.add(Dense(2, input_shape=(2,), activation='tanh'))\n",
    "model.add(Dense(1))\n",
    "model.compile(optimizer='sgd', loss='mse')\n",
    "\n",
    "X = np.array([[0,0], [0,1], [1,0], [1,1]])\n",
    "Y = np.array([[0], [1], [1], [0]])\n",
    "hist = model.fit(X, Y, epochs=3000, verbose=0)\n",
    "\n",
    "H = (model.predict(X) > 0.5).astype(np.float32)\n",
    "for loss in hist.history['loss'][::300]:\n",
    "    print('오차:', loss)\n",
    "print('정확도:', np.mean(np.equal(H, Y)))"
   ]
  },
  {
   "cell_type": "markdown",
   "metadata": {
    "slideshow": {
     "slide_type": "fragment"
    }
   },
   "source": [
    "<center><img src='img/05_04.png' width=30% height=30%></center>"
   ]
  },
  {
   "cell_type": "markdown",
   "metadata": {
    "slideshow": {
     "slide_type": "slide"
    }
   },
   "source": [
    "# Activation을 선형으로 바꾸면 어떻게 될까?"
   ]
  },
  {
   "cell_type": "code",
   "execution_count": 20,
   "metadata": {
    "slideshow": {
     "slide_type": "fragment"
    }
   },
   "outputs": [
    {
     "name": "stdout",
     "output_type": "stream",
     "text": [
      "오차: 1.3322943449020386\n",
      "오차: 0.25137215852737427\n",
      "오차: 0.2500744163990021\n",
      "오차: 0.25000476837158203\n",
      "오차: 0.2500002980232239\n",
      "오차: 0.2500000298023224\n",
      "오차: 0.25\n",
      "오차: 0.25\n",
      "오차: 0.2499999701976776\n",
      "오차: 0.25\n",
      "정확도: 0.75\n"
     ]
    }
   ],
   "source": [
    "import keras\n",
    "from keras.layers import Dense\n",
    "from keras.models import Sequential\n",
    "import numpy as np\n",
    "\n",
    "model = Sequential()\n",
    "model.add(Dense(2, input_shape=(2,), activation='linear'))\n",
    "model.add(Dense(1))\n",
    "model.compile(optimizer='sgd', loss='mse')\n",
    "\n",
    "X = np.array([[0,0], [0,1], [1,0], [1,1]])\n",
    "Y = np.array([[0], [1], [1], [0]])\n",
    "hist = model.fit(X, Y, epochs=3000, verbose=0)\n",
    "\n",
    "H = (model.predict(X) > 0.5).astype(np.float32)\n",
    "for loss in hist.history['loss'][::300]:\n",
    "    print('오차:', loss)\n",
    "print('정확도:', np.mean(np.equal(H, Y)))"
   ]
  },
  {
   "cell_type": "code",
   "execution_count": 22,
   "metadata": {
    "slideshow": {
     "slide_type": "subslide"
    }
   },
   "outputs": [
    {
     "name": "stdout",
     "output_type": "stream",
     "text": [
      "오차: 0.9149474501609802\n",
      "오차: 0.25\n",
      "오차: 0.25\n",
      "오차: 0.25\n",
      "오차: 0.25\n",
      "오차: 0.25\n",
      "오차: 0.25\n",
      "오차: 0.25\n",
      "오차: 0.25\n",
      "오차: 0.25\n",
      "정확도: 0.25\n"
     ]
    }
   ],
   "source": [
    "import keras\n",
    "from keras.layers import Dense\n",
    "from keras.models import Sequential\n",
    "import numpy as np\n",
    "\n",
    "model = Sequential()\n",
    "model.add(Dense(2, input_shape=(2,), activation='linear'))\n",
    "model.add(Dense(1))\n",
    "model.compile(optimizer='sgd', loss='mse')\n",
    "\n",
    "X = np.array([[0,0], [0,1], [1,0], [1,1]])\n",
    "Y = np.array([[0], [1], [1], [0]])\n",
    "hist = model.fit(X, Y, epochs=30000, verbose=0)\n",
    "\n",
    "H = (model.predict(X) > 0.5).astype(np.float32)\n",
    "for loss in hist.history['loss'][::3000]:\n",
    "    print('오차:', loss)\n",
    "print('정확도:', np.mean(np.equal(H, Y)))"
   ]
  },
  {
   "cell_type": "markdown",
   "metadata": {
    "slideshow": {
     "slide_type": "slide"
    }
   },
   "source": [
    "# 선형은 아무리 겹쳐도 선형\n",
    "\n",
    "* XOR MLP의 수식을 다음과 같다고 가정\n",
    "\n",
    "\\begin{align}\n",
    "g(f(x)) = y \\nonumber\n",
    "\\end{align}\n",
    "\n",
    "\\begin{align}\n",
    "f(x) = ax + b \\nonumber \\\\\n",
    "g(x) = cx + d \\nonumber \\\\\n",
    "z(x) = mx + n \\nonumber\n",
    "\\end{align}\n",
    "\n",
    "\\begin{align}\n",
    "g(f(x)) &= y \\nonumber \\\\\n",
    "&= c(ax + b) + d \\nonumber \\\\\n",
    "&= cax + cb + d \\nonumber \\\\\n",
    "&= (ca)x + (cb + d), ca \\rightarrow m, cb + d \\rightarrow n  \\nonumber \\\\\n",
    "&= mx + n \\nonumber \\\\\n",
    "&= z(x) \\nonumber\n",
    "\\end{align}"
   ]
  },
  {
   "cell_type": "markdown",
   "metadata": {
    "slideshow": {
     "slide_type": "slide"
    }
   },
   "source": [
    "# 왜 이렇게 오래걸렸나?\n",
    "\n",
    "* 우리가 보기에 바뀐게 거의 없을 정도\n",
    "* 그런데 왜 20여년 정도 AI winter였을까?"
   ]
  },
  {
   "cell_type": "markdown",
   "metadata": {
    "slideshow": {
     "slide_type": "slide"
    }
   },
   "source": [
    "# Loss Funtion의 어려움\n",
    "\n",
    "* Marvin Minsky 교수는 MLP와 같은 개념으로 XOR를 풀 수 있다는 것은 알고 있었음\n",
    "* 그러나 MLP 같은 방식의 모델에서 loss/cost function을 수행하는 것이 불가능하다고 단정\n",
    "\n",
    "<center><img src='img/03_05.png' width=100% height=100%></center>"
   ]
  },
  {
   "cell_type": "markdown",
   "metadata": {
    "slideshow": {
     "slide_type": "subslide"
    }
   },
   "source": [
    "* 5~6년 뒤 MIT 박사과정의 Paul werbos가 backpropagation를 통한 학습이 가능함을 연구하였지만 당시 분위기상 무시됨\n",
    "* 그것을 박사과정 중이던 르쿤 교수가 다시 찾아내고(1984), 2년 뒤 힌튼 교수가 백프로퍼게이션을 재정립(1986) 시키면서 MLP가 부활함\n",
    "\n",
    "<center><img src='img/05_04.png' width=100% height=100%></center>"
   ]
  },
  {
   "cell_type": "markdown",
   "metadata": {
    "slideshow": {
     "slide_type": "subslide"
    }
   },
   "source": [
    "# Backpropagation (역전파)\n",
    "\n",
    "* chain-rule을 이용하는 그라디언트 디센트 방식\n",
    "* ANN을 효율적으로 학습하기 위하여 가중치 업데이트를 반복/재귀적으로 역순 수행함\n",
    "* activation의 결과를 어떻게 미분할지 설정해야함\n",
    " * 최근 많은 라이브러리에서 Automatic differentiation를 제공하여 사용자가 function에 대한 미분을 정의할 필요는 없음\n",
    "* 일반적으로 그라디언트 디센트를 통하여 loss function의 기울기를 계산하여 가중치를 조절함"
   ]
  },
  {
   "cell_type": "markdown",
   "metadata": {
    "slideshow": {
     "slide_type": "subslide"
    }
   },
   "source": [
    "# Backprop의 concept\n",
    "\n",
    "## Gradient Descent\n",
    "\n",
    "* 함수를 미분하여 오차가 감소하는 방향으로 $\\alpha$만큼 기울기를 조절\n",
    "\n",
    "## Chain-rule을 이용한 computation graph\n",
    "\n",
    "* 계산 연산을 그래프 구조 형태로 변환하여 복잡한 미분을 쉽게 분해하여 단계별로 하는 기법\n",
    "* 즉, computation graph를 이용하여 복잡한 수식을 미분 입장에서 쉽게 변경한 뒤 각각을 미분하여 GD방법으로 오차를 줄임"
   ]
  },
  {
   "cell_type": "markdown",
   "metadata": {
    "slideshow": {
     "slide_type": "subslide"
    }
   },
   "source": [
    "$$ f(x,y,z) = (x+y)z \\nonumber $$\n",
    "\n",
    "$$ x = -2 \\nonumber $$\n",
    "$$ y = 5 \\nonumber $$\n",
    "$$ z = -4 \\nonumber $$\n",
    "\n",
    "<center><img src='img/05_08.png' width=50% height=50%></center>"
   ]
  },
  {
   "cell_type": "markdown",
   "metadata": {
    "slideshow": {
     "slide_type": "fragment"
    }
   },
   "source": [
    "* chain-rule을 적용하기 위해 다음과 같이 치환 가능\n",
    "$$ f(x,y,z) = g(h(x,y),z) \\nonumber $$\n",
    "$$ h(x,y) = x + y, g(a,b) = a * b \\nonumber $$\n",
    "\n",
    "$$ \\frac{df}{dx} =  \\frac{dg}{dh}\\frac{dh}{dx} \\nonumber $$\n",
    "\n",
    "$$ \\frac{df}{dy} =  \\frac{dg}{dh}\\frac{dh}{dy} \\nonumber $$\n",
    "\n",
    "$$ q = x + y, \\frac{dq}{dx} = 1,  \\frac{dq}{dy} = 1 \\nonumber $$\n",
    "\n",
    "$$ f = qz, \\frac{df}{dq} = z, \\frac{df}{dz} = q \\nonumber $$\n",
    "\n",
    "\n",
    "\n"
   ]
  },
  {
   "cell_type": "markdown",
   "metadata": {
    "slideshow": {
     "slide_type": "fragment"
    }
   },
   "source": [
    "<center><img src='img/05_09.png' width=50% height=50%></center>"
   ]
  },
  {
   "cell_type": "markdown",
   "metadata": {
    "slideshow": {
     "slide_type": "fragment"
    }
   },
   "source": [
    "<center><img src='img/05_10.png' width=50% height=50%></center>"
   ]
  },
  {
   "cell_type": "markdown",
   "metadata": {
    "slideshow": {
     "slide_type": "fragment"
    }
   },
   "source": [
    "<center><img src='img/05_11.png' width=50% height=50%></center>"
   ]
  },
  {
   "cell_type": "markdown",
   "metadata": {
    "slideshow": {
     "slide_type": "fragment"
    }
   },
   "source": [
    "<center><img src='img/05_12.png' width=50% height=50%></center>"
   ]
  },
  {
   "cell_type": "markdown",
   "metadata": {
    "slideshow": {
     "slide_type": "fragment"
    }
   },
   "source": [
    "<center><img src='img/05_13.png' width=50% height=50%></center>"
   ]
  },
  {
   "cell_type": "markdown",
   "metadata": {
    "slideshow": {
     "slide_type": "fragment"
    }
   },
   "source": [
    "<center><img src='img/05_14.png' width=50% height=50%></center>"
   ]
  },
  {
   "cell_type": "markdown",
   "metadata": {
    "slideshow": {
     "slide_type": "subslide"
    }
   },
   "source": [
    "# computation graph의 핵심\n",
    "\n",
    "* 전역적 미분을 연산당 국소적 미분으로 변경함\n",
    "\n",
    "<center><img src='img/05_15.png' width=50% height=50%></center>"
   ]
  },
  {
   "cell_type": "markdown",
   "metadata": {
    "slideshow": {
     "slide_type": "fragment"
    }
   },
   "source": [
    "* 모든 연산 입장에서는 들어오는 오차에 대해서만 미분하면 연쇄적으로 전체를 미분하는 효과\n",
    "<center><img src='img/05_16.png' width=50% height=50%></center>\n",
    "\n",
    "* https://slideplayer.com/slide/14389002/ 예제를 포함한 설명"
   ]
  },
  {
   "cell_type": "markdown",
   "metadata": {
    "slideshow": {
     "slide_type": "fragment"
    }
   },
   "source": [
    "* 결과적으로 MLP의 연결은 다음과 같은 형태의 그래프로 표현 될 수 있음\n",
    "<center><img src='img/05_17.png' width=50% height=50%></center>"
   ]
  },
  {
   "cell_type": "markdown",
   "metadata": {
    "slideshow": {
     "slide_type": "fragment"
    }
   },
   "source": [
    "* 재귀적으로 미분을하여 뒤로 보냄 \n",
    "<center><img src='img/05_18.png' width=50% height=50%></center>"
   ]
  },
  {
   "cell_type": "markdown",
   "metadata": {
    "slideshow": {
     "slide_type": "slide"
    }
   },
   "source": [
    "# 그래도 AI의 봄은 찾아오지 않았다..\n",
    "\n",
    "* 왜?\n",
    " * XOR 같은 비선형 문제를 MLP로 학습 할 수 있고\n",
    " * MLP의 loss를 개선함이 어려운 것도 backprop과 computation graph를 이용하여 해결했는데?"
   ]
  },
  {
   "cell_type": "markdown",
   "metadata": {
    "slideshow": {
     "slide_type": "fragment"
    }
   },
   "source": [
    "## 여기에는 2가지 이유가 있음\n",
    " 1. 그당시 MLP가 복잡한 것에 비하여 모델의 성능이 SVM(support vector machine)에 비하여 많이 떨어졌음\n",
    " 2. Layer가 깊어지면 깊어질수록 제대로 backprop으로 학습이 되지 않았음\n",
    " 3. 깊지 않은 layer에서도 계수가 폭발하면서 학습이 제대로 되지 않는 경우가 발생"
   ]
  },
  {
   "cell_type": "markdown",
   "metadata": {
    "slideshow": {
     "slide_type": "fragment"
    }
   },
   "source": [
    "# exploding gradient와 vanishing gradient\n",
    "\n",
    " * 자꾸 문제만 나오는 MLP는 언제 빛을 볼 수 있을것인가..\n",
    " \n",
    " * exploding gradient는 gd를 수행 중 계수 값이 음수나 양수 방향으로 폭발하여 inf이나 nan을 떨어뜨리는 문제\n",
    " * vanishing gradient는 gd를 수행 할 때 backprop시 전달 되는 값이 너무 작아 오차가 수정이 안되는 문제"
   ]
  },
  {
   "cell_type": "markdown",
   "metadata": {
    "slideshow": {
     "slide_type": "subslide"
    }
   },
   "source": [
    "# vanishing gradient\n",
    "\n",
    "* MLP의 비선형성을 위해 퍼셉트론의 출력에 비선형 activation 함수를 부여함\n",
    "* 당시에는 보통 tanh와 sigmoid를 주로 씀\n",
    "* tanh와 sigmoid 그래프는 다음과 같음\n",
    "\n",
    "<center><img src='img/04_04.png' width=50% height=50%></center>"
   ]
  },
  {
   "cell_type": "markdown",
   "metadata": {
    "slideshow": {
     "slide_type": "slide"
    }
   },
   "source": [
    "# vanishing gradient\n",
    "\n",
    "* 해당 함수는 미분했을 때 문제가 발생하게 됨\n",
    "* sigmoid와 tanh의 도함수 그래프는 다음과 같음\n",
    "\n",
    "<center><img src='img/05_19.png' width=50% height=50%></center>"
   ]
  },
  {
   "cell_type": "code",
   "execution_count": 28,
   "metadata": {},
   "outputs": [
    {
     "data": {
      "text/plain": [
       "[171.4031982421875,\n",
       " 1.1729990243911743,\n",
       " 0.3026695251464844,\n",
       " 0.0780981034040451,\n",
       " 0.0201517753303051,\n",
       " 0.005199815612286329,\n",
       " 0.0013417209265753627,\n",
       " 0.0003461816522758454,\n",
       " 8.932749187806621e-05,\n",
       " 2.3057200451148674e-05]"
      ]
     },
     "execution_count": 28,
     "metadata": {},
     "output_type": "execute_result"
    }
   ],
   "source": [
    "import keras\n",
    "from keras.models import Sequential\n",
    "from keras.layers import Dense, Activation\n",
    "from keras.optimizers import SGD\n",
    "\n",
    "#activation이 선형인 모델\n",
    "model = Sequential()\n",
    "model.add(Dense(1, input_shape=(1,), activation='linear'))\n",
    "model.compile(loss='mse', optimizer=SGD(lr=0.01))\n",
    "\n",
    "X = np.array([1,2,3,4,5])\n",
    "Y = X * 3.6 + 6\n",
    "\n",
    "hist = model.fit(X, Y, epochs=2000, verbose=0)\n",
    "hist.history['loss'][::200]"
   ]
  },
  {
   "cell_type": "code",
   "execution_count": 27,
   "metadata": {},
   "outputs": [
    {
     "name": "stdout",
     "output_type": "stream",
     "text": [
      "_________________________________________________________________\n",
      "Layer (type)                 Output Shape              Param #   \n",
      "=================================================================\n",
      "dense_8 (Dense)              (None, 1)                 2         \n",
      "=================================================================\n",
      "Total params: 2\n",
      "Trainable params: 2\n",
      "Non-trainable params: 0\n",
      "_________________________________________________________________\n"
     ]
    }
   ],
   "source": [
    "#모델 구조에 대한 요약\n",
    "model.summary()"
   ]
  },
  {
   "cell_type": "code",
   "execution_count": 33,
   "metadata": {},
   "outputs": [
    {
     "name": "stdout",
     "output_type": "stream",
     "text": [
      "[[3.6015837]] [5.994282]\n"
     ]
    }
   ],
   "source": [
    "W, b = model.get_layer(index=0).get_weights()\n",
    "print(W, b)"
   ]
  },
  {
   "cell_type": "code",
   "execution_count": 62,
   "metadata": {},
   "outputs": [
    {
     "data": {
      "text/plain": [
       "[315.59112548828125,\n",
       " 25.31235122680664,\n",
       " 10.003190994262695,\n",
       " 3.4869384765625,\n",
       " 2.197185754776001,\n",
       " 1.7836532592773438,\n",
       " 1.5377938747406006,\n",
       " 1.3311073780059814,\n",
       " 1.1565889120101929,\n",
       " 1.012955904006958]"
      ]
     },
     "execution_count": 62,
     "metadata": {},
     "output_type": "execute_result"
    }
   ],
   "source": [
    "import keras\n",
    "from keras.models import Sequential\n",
    "from keras.layers import Dense, Activation\n",
    "from keras.optimizers import SGD\n",
    "\n",
    "X = np.array([1,2,3,4,5])\n",
    "Y = X * 3.6 + 6\n",
    "\n",
    "#깊이가 3인 모델\n",
    "model = Sequential()\n",
    "model.add(Dense(1, input_shape=(1,), activation='sigmoid'))\n",
    "model.add(Dense(1, activation='sigmoid'))\n",
    "model.add(Dense(1, activation='linear'))\n",
    "model.compile(loss='mse', optimizer=SGD(lr=0.01))\n",
    "\n",
    "hist = model.fit(X, Y, epochs=2000, verbose=0)\n",
    "hist.history['loss'][::200]"
   ]
  },
  {
   "cell_type": "code",
   "execution_count": 64,
   "metadata": {},
   "outputs": [
    {
     "name": "stdout",
     "output_type": "stream",
     "text": [
      "[[-1.0560945]] [2.8487778]\n"
     ]
    }
   ],
   "source": [
    "W, b = model.get_layer(index=0).get_weights()\n",
    "print(W, b)"
   ]
  },
  {
   "cell_type": "code",
   "execution_count": 63,
   "metadata": {},
   "outputs": [
    {
     "name": "stdout",
     "output_type": "stream",
     "text": [
      "_________________________________________________________________\n",
      "Layer (type)                 Output Shape              Param #   \n",
      "=================================================================\n",
      "dense_33 (Dense)             (None, 1)                 2         \n",
      "_________________________________________________________________\n",
      "dense_34 (Dense)             (None, 1)                 2         \n",
      "_________________________________________________________________\n",
      "dense_35 (Dense)             (None, 1)                 2         \n",
      "=================================================================\n",
      "Total params: 6\n",
      "Trainable params: 6\n",
      "Non-trainable params: 0\n",
      "_________________________________________________________________\n"
     ]
    }
   ],
   "source": [
    "#모델 구조에 대한 요약\n",
    "model.summary()"
   ]
  },
  {
   "cell_type": "code",
   "execution_count": 66,
   "metadata": {},
   "outputs": [
    {
     "data": {
      "text/plain": [
       "[324.3424987792969,\n",
       " 25.939754486083984,\n",
       " 25.93108558654785,\n",
       " 25.9239559173584,\n",
       " 25.91716957092285,\n",
       " 25.909704208374023,\n",
       " 25.900135040283203,\n",
       " 25.885562896728516,\n",
       " 25.858245849609375,\n",
       " 25.788105010986328]"
      ]
     },
     "execution_count": 66,
     "metadata": {},
     "output_type": "execute_result"
    }
   ],
   "source": [
    "import keras\n",
    "from keras.models import Sequential\n",
    "from keras.layers import Dense, Activation\n",
    "from keras.optimizers import SGD\n",
    "\n",
    "#깊이가 4인 모델\n",
    "model = Sequential()\n",
    "model.add(Dense(1, input_shape=(1,), activation='sigmoid'))\n",
    "model.add(Dense(1, activation='sigmoid'))\n",
    "model.add(Dense(1, activation='sigmoid'))\n",
    "model.add(Dense(1, activation='linear'))\n",
    "model.compile(loss='mse', optimizer=SGD(lr=0.01))\n",
    "\n",
    "X = np.array([1,2,3,4,5])\n",
    "Y = X * 3.6 + 6\n",
    "\n",
    "hist = model.fit(X, Y, epochs=2000, verbose=0)\n",
    "hist.history['loss'][::200]"
   ]
  },
  {
   "cell_type": "markdown",
   "metadata": {
    "slideshow": {
     "slide_type": "slide"
    }
   },
   "source": [
    "# 20년 동안의 딥러닝의 겨울\n",
    "\n",
    "* 해당 문제는 20년 동안 고쳐지지 않음\n",
    "* 문제가 어려운 것도 있었으나, 여러번의 위기를 맞아 많은 연구자들이 떠남\n",
    "* 그리나 2006년 힌톤 교수가 새로운 activation과 학습 방법을 가지고 다시 찾아옴"
   ]
  },
  {
   "cell_type": "markdown",
   "metadata": {
    "slideshow": {
     "slide_type": "slide"
    }
   },
   "source": [
    "# 힌톤 교수의 요약\n",
    "1. 우리는 학습셋을 너무 조금 써왔던 것이 아닐까?\n",
    "2. 우리의 컴퓨터가 너무 느렸던 것이 아닐까?\n",
    "3. 우리의 w초기화 방법이 잘못됐던 것이 아닐까?\n",
    "4. <b>우리는 잘못된 activation function을 써왔던 것이 아닐까?</b>"
   ]
  },
  {
   "cell_type": "markdown",
   "metadata": {
    "slideshow": {
     "slide_type": "subslide"
    }
   },
   "source": [
    "#  Rectified Linear Unit: ReLU의 등장\n",
    "\n",
    "* $relu(x) = max(0, x)$의 아주 단순한 함수\n",
    "* 0 > x의 구간은 기울기가 0, 0 < x 의 구간은 기울기가 1이기 때문에 선형이 아님"
   ]
  },
  {
   "cell_type": "code",
   "execution_count": 56,
   "metadata": {
    "slideshow": {
     "slide_type": "fragment"
    }
   },
   "outputs": [
    {
     "data": {
      "image/png": "[encoded data removed]",
      "text/plain": [
       "<Figure size 432x288 with 1 Axes>"
      ]
     },
     "metadata": {
      "needs_background": "light"
     },
     "output_type": "display_data"
    }
   ],
   "source": [
    "def relu(x):\n",
    "    return np.maximum(0, x)\n",
    "\n",
    "X = np.linspace(-10, 10, 100)\n",
    "plt.plot(X, relu(X))\n",
    "plt.show()"
   ]
  },
  {
   "cell_type": "code",
   "execution_count": 59,
   "metadata": {},
   "outputs": [
    {
     "name": "stdout",
     "output_type": "stream",
     "text": [
      "오차: 1.42637038230896\n",
      "오차: 0.07743463665246964\n",
      "오차: 0.011617137119174004\n",
      "오차: 0.0018648796249181032\n",
      "오차: 0.0002775207394734025\n",
      "오차: 3.9362617826554924e-05\n",
      "오차: 5.514316399057861e-06\n",
      "오차: 7.770465231260459e-07\n",
      "오차: 1.0769497293949826e-07\n",
      "오차: 1.5033709388490024e-08\n",
      "정확도: 1.0\n"
     ]
    }
   ],
   "source": [
    "#XOR 문제 by relu\n",
    "\n",
    "import keras\n",
    "from keras.layers import Dense\n",
    "from keras.models import Sequential\n",
    "import numpy as np\n",
    "\n",
    "model = Sequential()\n",
    "model.add(Dense(2, input_shape=(2,), activation='relu'))\n",
    "model.add(Dense(1))\n",
    "model.compile(optimizer='sgd', loss='mse')\n",
    "\n",
    "X = np.array([[0,0], [0,1], [1,0], [1,1]])\n",
    "Y = np.array([[0], [1], [1], [0]])\n",
    "hist = model.fit(X, Y, epochs=3000, verbose=0)\n",
    "\n",
    "H = (model.predict(X) > 0.5).astype(np.float32)\n",
    "for loss in hist.history['loss'][::300]:\n",
    "    print('오차:', loss)\n",
    "print('정확도:', np.mean(np.equal(H, Y)))"
   ]
  },
  {
   "cell_type": "code",
   "execution_count": 92,
   "metadata": {
    "slideshow": {
     "slide_type": "slide"
    }
   },
   "outputs": [
    {
     "data": {
      "text/plain": [
       "[308.1600036621094,\n",
       " 26.00730323791504,\n",
       " 25.920024871826172,\n",
       " 25.919998168945312,\n",
       " 25.919998168945312,\n",
       " 25.919998168945312,\n",
       " 25.919998168945312,\n",
       " 25.919998168945312,\n",
       " 25.919998168945312,\n",
       " 25.919998168945312]"
      ]
     },
     "execution_count": 92,
     "metadata": {},
     "output_type": "execute_result"
    }
   ],
   "source": [
    "import tensorflow as tf\n",
    "import keras\n",
    "from keras.models import Sequential\n",
    "from keras.layers import Dense, Activation\n",
    "from keras.optimizers import SGD\n",
    "\n",
    "#깊이가 4인 모델\n",
    "model = Sequential()\n",
    "model.add(Dense(1, input_shape=(1,), activation='relu'))\n",
    "model.add(Dense(1, activation='relu'))\n",
    "model.add(Dense(1, activation='relu'))\n",
    "model.add(Dense(1, activation='linear'))\n",
    "model.compile(loss='mse', optimizer=SGD(lr=0.01))\n",
    "\n",
    "X = np.array([1,2,3,4,5])\n",
    "Y = X * 3.6 + 6\n",
    "\n",
    "hist = model.fit(X, Y, epochs=2000, verbose=0)\n",
    "hist.history['loss'][::200]"
   ]
  },
  {
   "cell_type": "code",
   "execution_count": 94,
   "metadata": {},
   "outputs": [
    {
     "name": "stdout",
     "output_type": "stream",
     "text": [
      "[[0.89397156]] [0.]\n",
      "[[-1.1320183]] [0.]\n",
      "[[-1.3468701]] [0.]\n",
      "[[-0.17741084]] [16.799953]\n"
     ]
    }
   ],
   "source": [
    "W, b = model.get_layer(index=0).get_weights()\n",
    "print(W, b)\n",
    "W, b = model.get_layer(index=1).get_weights()\n",
    "print(W, b)\n",
    "W, b = model.get_layer(index=2).get_weights()\n",
    "print(W, b)\n",
    "W, b = model.get_layer(index=3).get_weights()\n",
    "print(W, b)"
   ]
  },
  {
   "cell_type": "markdown",
   "metadata": {
    "slideshow": {
     "slide_type": "slide"
    }
   },
   "source": [
    "# dying reLU problem!!!\n",
    "\n",
    "* relu는 입력값이 0 이하로 들어오면 activation 자체가 먹통이 됨\n",
    "* 출력을 0으로 주어로 비선형으로 동작하게 했지만 퍼셉트론이 많이 0이 되면 제대로 동작하지 않을 수 있음"
   ]
  },
  {
   "cell_type": "code",
   "execution_count": 95,
   "metadata": {},
   "outputs": [
    {
     "data": {
      "image/png": "[encoded data removed]",
      "text/plain": [
       "<Figure size 432x288 with 1 Axes>"
      ]
     },
     "metadata": {
      "needs_background": "light"
     },
     "output_type": "display_data"
    }
   ],
   "source": [
    "#아주 작은 기울기를 0 이하에 주어 죽지 않게 하자!\n",
    "def leaky_relu(x):\n",
    "    return np.where(x > 0, x, x * 0.01)\n",
    "\n",
    "X = np.linspace(-10, 10, 100)\n",
    "plt.plot(X, leaky_relu(X))\n",
    "plt.show()"
   ]
  },
  {
   "cell_type": "code",
   "execution_count": 98,
   "metadata": {},
   "outputs": [
    {
     "data": {
      "text/plain": [
       "[307.1714782714844,\n",
       " 1.3407058077063994e-06,\n",
       " 1.6007107098148232e-11,\n",
       " 1.6007107098148232e-11,\n",
       " 1.6007107098148232e-11,\n",
       " 1.6007107098148232e-11,\n",
       " 1.6007107098148232e-11,\n",
       " 1.6007107098148232e-11,\n",
       " 1.6007107098148232e-11,\n",
       " 1.6007107098148232e-11]"
      ]
     },
     "execution_count": 98,
     "metadata": {},
     "output_type": "execute_result"
    }
   ],
   "source": [
    "import tensorflow as tf\n",
    "import keras\n",
    "from keras.models import Sequential\n",
    "from keras.layers import Dense, Activation\n",
    "from keras.optimizers import SGD\n",
    "\n",
    "#깊이가 4인 모델\n",
    "model = Sequential()\n",
    "model.add(Dense(1, input_shape=(1,), activation=tf.nn.leaky_relu))\n",
    "model.add(Dense(1, activation=tf.nn.leaky_relu))\n",
    "model.add(Dense(1, activation=tf.nn.leaky_relu))\n",
    "model.add(Dense(1, activation='linear'))\n",
    "model.compile(loss='mse', optimizer=SGD(lr=0.01))\n",
    "\n",
    "X = np.array([1,2,3,4,5])\n",
    "Y = X * 3.6 + 6\n",
    "\n",
    "hist = model.fit(X, Y, epochs=2000, verbose=0)\n",
    "hist.history['loss'][::200]"
   ]
  },
  {
   "cell_type": "code",
   "execution_count": 99,
   "metadata": {},
   "outputs": [
    {
     "name": "stdout",
     "output_type": "stream",
     "text": [
      "[[-3.1125581]] [0.24710971]\n",
      "[[3.029983]] [0.09196756]\n",
      "[[-3.0472865]] [1.2211454]\n",
      "[[3.131636]] [2.6371586]\n"
     ]
    }
   ],
   "source": [
    "W, b = model.get_layer(index=0).get_weights()\n",
    "print(W, b)\n",
    "W, b = model.get_layer(index=1).get_weights()\n",
    "print(W, b)\n",
    "W, b = model.get_layer(index=2).get_weights()\n",
    "print(W, b)\n",
    "W, b = model.get_layer(index=3).get_weights()\n",
    "print(W, b)"
   ]
  },
  {
   "cell_type": "code",
   "execution_count": 82,
   "metadata": {},
   "outputs": [
    {
     "data": {
      "text/plain": [
       "[308.15997314453125,\n",
       " 296.9832763671875,\n",
       " 286.24920654296875,\n",
       " 275.94012451171875,\n",
       " 266.03936767578125,\n",
       " 256.5306396484375,\n",
       " 247.3984375,\n",
       " 238.62789916992188,\n",
       " 230.2046661376953,\n",
       " 222.114990234375,\n",
       " 214.3456573486328,\n",
       " 206.88400268554688,\n",
       " 199.7178497314453,\n",
       " 192.83544921875,\n",
       " 186.22561645507812,\n",
       " 179.8775177001953,\n",
       " 173.78079223632812,\n",
       " 167.9254913330078,\n",
       " 162.30206298828125,\n",
       " 156.90133666992188,\n",
       " 151.71446228027344,\n",
       " 146.7330322265625,\n",
       " 141.94882202148438,\n",
       " 137.35409545898438,\n",
       " 132.9412841796875,\n",
       " 128.7032470703125,\n",
       " 124.63304138183594,\n",
       " 120.7239990234375,\n",
       " 116.96977233886719,\n",
       " 113.36418151855469,\n",
       " 109.9013900756836,\n",
       " 106.57574462890625,\n",
       " 103.38175964355469,\n",
       " 100.31428527832031,\n",
       " 97.3682632446289,\n",
       " 94.53892517089844,\n",
       " 91.82160949707031,\n",
       " 89.21190643310547,\n",
       " 86.70555114746094,\n",
       " 84.29844665527344,\n",
       " 81.98664855957031,\n",
       " 79.76640319824219,\n",
       " 77.63410186767578,\n",
       " 75.58622741699219,\n",
       " 73.61944580078125,\n",
       " 71.73054504394531,\n",
       " 69.91645050048828,\n",
       " 68.17418670654297,\n",
       " 66.50091552734375,\n",
       " 64.89390563964844,\n",
       " 63.350547790527344,\n",
       " 61.8682975769043,\n",
       " 60.444740295410156,\n",
       " 59.07756423950195,\n",
       " 57.7645263671875,\n",
       " 56.50348663330078,\n",
       " 55.292381286621094,\n",
       " 54.129234313964844,\n",
       " 53.01214599609375,\n",
       " 51.939300537109375,\n",
       " 50.908935546875,\n",
       " 49.919376373291016,\n",
       " 48.96900177001953,\n",
       " 48.05625534057617,\n",
       " 47.179664611816406,\n",
       " 46.3377799987793,\n",
       " 45.52923583984375,\n",
       " 44.75270462036133,\n",
       " 44.006935119628906,\n",
       " 43.29069900512695,\n",
       " 42.602821350097656,\n",
       " 41.94218063354492,\n",
       " 41.307701110839844,\n",
       " 40.6983528137207,\n",
       " 40.11313247680664,\n",
       " 39.55107879638672,\n",
       " 39.01129913330078,\n",
       " 38.49287796020508,\n",
       " 37.9949951171875,\n",
       " 37.51682662963867,\n",
       " 37.057586669921875,\n",
       " 36.616539001464844,\n",
       " 36.192955017089844,\n",
       " 35.7861442565918,\n",
       " 35.39544677734375,\n",
       " 35.02022171020508,\n",
       " 34.65985107421875,\n",
       " 34.313751220703125,\n",
       " 33.98135757446289,\n",
       " 33.66212844848633,\n",
       " 33.35553741455078,\n",
       " 33.06108856201172,\n",
       " 32.77830123901367,\n",
       " 32.506710052490234,\n",
       " 32.24587631225586,\n",
       " 31.995372772216797,\n",
       " 31.75478744506836,\n",
       " 31.523731231689453,\n",
       " 31.30182456970215,\n",
       " 31.08870506286621,\n",
       " 30.8840274810791,\n",
       " 30.687448501586914,\n",
       " 30.498661041259766,\n",
       " 30.31734848022461,\n",
       " 30.143213272094727,\n",
       " 29.97597312927246,\n",
       " 29.815359115600586,\n",
       " 29.661102294921875,\n",
       " 29.512954711914062,\n",
       " 29.37067222595215,\n",
       " 29.234024047851562,\n",
       " 29.102787017822266,\n",
       " 28.97675132751465,\n",
       " 28.855701446533203,\n",
       " 28.739450454711914,\n",
       " 28.627796173095703,\n",
       " 28.52056884765625,\n",
       " 28.417587280273438,\n",
       " 28.318683624267578,\n",
       " 28.22369384765625,\n",
       " 28.132471084594727,\n",
       " 28.04485511779785,\n",
       " 27.960712432861328,\n",
       " 27.879894256591797,\n",
       " 27.80228614807129,\n",
       " 27.72774887084961,\n",
       " 27.656158447265625,\n",
       " 27.5874080657959,\n",
       " 27.521377563476562,\n",
       " 27.457965850830078,\n",
       " 27.397058486938477,\n",
       " 27.338565826416016,\n",
       " 27.282390594482422,\n",
       " 27.228443145751953,\n",
       " 27.1766300201416,\n",
       " 27.12686538696289,\n",
       " 27.07907485961914,\n",
       " 27.033172607421875,\n",
       " 26.989089965820312,\n",
       " 26.94675636291504,\n",
       " 26.906097412109375,\n",
       " 26.867046356201172,\n",
       " 26.829544067382812,\n",
       " 26.79352378845215,\n",
       " 26.75893211364746,\n",
       " 26.7257080078125,\n",
       " 26.693805694580078,\n",
       " 26.663158416748047,\n",
       " 26.633731842041016,\n",
       " 26.60546875,\n",
       " 26.578327178955078,\n",
       " 26.552255630493164,\n",
       " 26.5272159576416,\n",
       " 26.503170013427734,\n",
       " 26.480077743530273,\n",
       " 26.457897186279297,\n",
       " 26.436599731445312,\n",
       " 26.416141510009766,\n",
       " 26.3964900970459,\n",
       " 26.37762451171875,\n",
       " 26.3595027923584,\n",
       " 26.342098236083984,\n",
       " 26.325382232666016,\n",
       " 26.309329986572266,\n",
       " 26.29391098022461,\n",
       " 26.279104232788086,\n",
       " 26.264881134033203,\n",
       " 26.251224517822266,\n",
       " 26.238107681274414,\n",
       " 26.225513458251953,\n",
       " 26.21341323852539,\n",
       " 26.201791763305664,\n",
       " 26.19063377380371,\n",
       " 26.179916381835938,\n",
       " 26.16962242126465,\n",
       " 26.159740447998047,\n",
       " 26.150243759155273,\n",
       " 26.141128540039062,\n",
       " 26.132373809814453,\n",
       " 26.12396240234375,\n",
       " 26.11588478088379,\n",
       " 26.10812759399414,\n",
       " 26.100677490234375,\n",
       " 26.093524932861328,\n",
       " 26.086650848388672,\n",
       " 26.08005142211914,\n",
       " 26.073711395263672,\n",
       " 26.067626953125,\n",
       " 26.061779022216797,\n",
       " 26.056163787841797,\n",
       " 26.050771713256836,\n",
       " 26.04559326171875,\n",
       " 26.040618896484375,\n",
       " 26.035846710205078,\n",
       " 26.0312557220459,\n",
       " 26.0268497467041,\n",
       " 26.022619247436523,\n",
       " 26.0185546875,\n",
       " 26.014652252197266,\n",
       " 26.01090431213379,\n",
       " 26.007305145263672,\n",
       " 26.00384521484375,\n",
       " 26.000524520874023,\n",
       " 25.997339248657227,\n",
       " 25.994274139404297,\n",
       " 25.9913330078125,\n",
       " 25.988506317138672,\n",
       " 25.985794067382812,\n",
       " 25.98318862915039,\n",
       " 25.98068618774414,\n",
       " 25.978282928466797,\n",
       " 25.975976943969727,\n",
       " 25.973758697509766,\n",
       " 25.971630096435547,\n",
       " 25.969585418701172,\n",
       " 25.967620849609375,\n",
       " 25.965734481811523,\n",
       " 25.963924407958984,\n",
       " 25.962182998657227,\n",
       " 25.960514068603516,\n",
       " 25.958911895751953,\n",
       " 25.957366943359375,\n",
       " 25.955886840820312,\n",
       " 25.9544677734375,\n",
       " 25.95310401916504,\n",
       " 25.951791763305664,\n",
       " 25.950531005859375,\n",
       " 25.949321746826172,\n",
       " 25.948162078857422,\n",
       " 25.947046279907227,\n",
       " 25.945974349975586,\n",
       " 25.9449462890625,\n",
       " 25.943958282470703,\n",
       " 25.943008422851562,\n",
       " 25.94209861755371,\n",
       " 25.94122314453125,\n",
       " 25.940380096435547,\n",
       " 25.9395751953125,\n",
       " 25.938800811767578,\n",
       " 25.93805503845215,\n",
       " 25.937341690063477,\n",
       " 25.936655044555664,\n",
       " 25.935993194580078,\n",
       " 25.935359954833984,\n",
       " 25.93475341796875,\n",
       " 25.934167861938477,\n",
       " 25.933605194091797,\n",
       " 25.933069229125977,\n",
       " 25.93255043029785,\n",
       " 25.932052612304688,\n",
       " 25.931575775146484,\n",
       " 25.931116104125977,\n",
       " 25.930675506591797,\n",
       " 25.930255889892578,\n",
       " 25.929845809936523,\n",
       " 25.929458618164062,\n",
       " 25.9290828704834,\n",
       " 25.928722381591797,\n",
       " 25.92837905883789,\n",
       " 25.92804527282715,\n",
       " 25.9277286529541,\n",
       " 25.927419662475586,\n",
       " 25.927127838134766,\n",
       " 25.92684555053711,\n",
       " 25.92657470703125,\n",
       " 25.926311492919922,\n",
       " 25.926061630249023,\n",
       " 25.925823211669922,\n",
       " 25.92559242248535,\n",
       " 25.925373077392578,\n",
       " 25.925159454345703,\n",
       " 25.92495346069336,\n",
       " 25.924758911132812,\n",
       " 25.924571990966797,\n",
       " 25.924388885498047,\n",
       " 25.92421531677246,\n",
       " 25.924047470092773,\n",
       " 25.923885345458984,\n",
       " 25.92373275756836,\n",
       " 25.923583984375,\n",
       " 25.923442840576172,\n",
       " 25.923309326171875,\n",
       " 25.92317771911621,\n",
       " 25.923049926757812,\n",
       " 25.922931671142578,\n",
       " 25.92281150817871,\n",
       " 25.92270278930664,\n",
       " 25.922595977783203,\n",
       " 25.9224910736084,\n",
       " 25.922393798828125,\n",
       " 25.922298431396484,\n",
       " 25.92220687866211,\n",
       " 25.922122955322266,\n",
       " 25.92203712463379,\n",
       " 25.921955108642578,\n",
       " 25.921878814697266,\n",
       " 25.921804428100586,\n",
       " 25.921733856201172,\n",
       " 25.921661376953125,\n",
       " 25.92159652709961,\n",
       " 25.921533584594727,\n",
       " 25.921472549438477,\n",
       " 25.92141342163086,\n",
       " 25.921356201171875,\n",
       " 25.92130470275879,\n",
       " 25.921253204345703,\n",
       " 25.92120361328125,\n",
       " 25.921157836914062,\n",
       " 25.921112060546875,\n",
       " 25.921066284179688,\n",
       " 25.921024322509766,\n",
       " 25.920984268188477,\n",
       " 25.920944213867188,\n",
       " 25.9209041595459,\n",
       " 25.920873641967773,\n",
       " 25.92083740234375,\n",
       " 25.92080307006836,\n",
       " 25.920772552490234,\n",
       " 25.920740127563477,\n",
       " 25.920711517333984,\n",
       " 25.92068099975586,\n",
       " 25.920658111572266,\n",
       " 25.920629501342773,\n",
       " 25.920604705810547,\n",
       " 25.920581817626953,\n",
       " 25.92055892944336,\n",
       " 25.920536041259766,\n",
       " 25.920513153076172,\n",
       " 25.920495986938477,\n",
       " 25.920475006103516,\n",
       " 25.920455932617188,\n",
       " 25.92043685913086,\n",
       " 25.920419692993164,\n",
       " 25.9204044342041,\n",
       " 25.920385360717773,\n",
       " 25.92037010192871,\n",
       " 25.920358657836914,\n",
       " 25.92034339904785,\n",
       " 25.920330047607422,\n",
       " 25.92031478881836,\n",
       " 25.920303344726562,\n",
       " 25.920291900634766,\n",
       " 25.920278549194336,\n",
       " 25.920269012451172,\n",
       " 25.920257568359375,\n",
       " 25.92024803161621,\n",
       " 25.920236587524414,\n",
       " 25.92022705078125,\n",
       " 25.920217514038086,\n",
       " 25.920211791992188,\n",
       " 25.920202255249023,\n",
       " 25.920196533203125,\n",
       " 25.920185089111328,\n",
       " 25.920177459716797,\n",
       " 25.9201717376709,\n",
       " 25.920166015625,\n",
       " 25.920156478881836,\n",
       " 25.920150756835938,\n",
       " 25.920146942138672,\n",
       " 25.920141220092773,\n",
       " 25.920135498046875,\n",
       " 25.920129776000977,\n",
       " 25.920124053955078,\n",
       " 25.920116424560547,\n",
       " 25.920114517211914,\n",
       " 25.920108795166016,\n",
       " 25.92010498046875,\n",
       " 25.92009925842285,\n",
       " 25.920095443725586,\n",
       " 25.920093536376953,\n",
       " 25.920089721679688,\n",
       " 25.920085906982422,\n",
       " 25.920080184936523,\n",
       " 25.92007827758789,\n",
       " 25.920074462890625,\n",
       " 25.920074462890625,\n",
       " 25.920068740844727,\n",
       " 25.920068740844727,\n",
       " 25.920063018798828,\n",
       " 25.920063018798828,\n",
       " 25.920059204101562,\n",
       " 25.920055389404297,\n",
       " 25.920055389404297,\n",
       " 25.920055389404297,\n",
       " 25.9200496673584,\n",
       " 25.920047760009766,\n",
       " 25.920047760009766,\n",
       " 25.9200439453125,\n",
       " 25.9200439453125,\n",
       " 25.920040130615234,\n",
       " 25.9200382232666,\n",
       " 25.9200382232666,\n",
       " 25.920034408569336,\n",
       " 25.920032501220703,\n",
       " 25.920032501220703,\n",
       " 25.920032501220703,\n",
       " 25.920032501220703,\n",
       " 25.920028686523438,\n",
       " 25.920028686523438,\n",
       " 25.920024871826172,\n",
       " 25.920024871826172,\n",
       " 25.920024871826172,\n",
       " 25.92002296447754,\n",
       " 25.92002296447754,\n",
       " 25.92002296447754,\n",
       " 25.920019149780273,\n",
       " 25.920019149780273,\n",
       " 25.92001724243164,\n",
       " 25.920019149780273,\n",
       " 25.92001724243164,\n",
       " 25.92001724243164,\n",
       " 25.92001724243164,\n",
       " 25.920013427734375,\n",
       " 25.920013427734375,\n",
       " 25.920013427734375,\n",
       " 25.920013427734375,\n",
       " 25.920013427734375,\n",
       " 25.920013427734375,\n",
       " 25.920013427734375,\n",
       " 25.920013427734375,\n",
       " 25.920013427734375,\n",
       " 25.92000961303711,\n",
       " 25.92000961303711,\n",
       " 25.920007705688477,\n",
       " 25.92000961303711,\n",
       " 25.920007705688477,\n",
       " 25.920007705688477,\n",
       " 25.92000961303711,\n",
       " 25.920007705688477,\n",
       " 25.920007705688477,\n",
       " 25.920007705688477,\n",
       " 25.920007705688477,\n",
       " 25.92000389099121,\n",
       " 25.920007705688477,\n",
       " 25.92000389099121,\n",
       " 25.92000389099121,\n",
       " 25.920007705688477,\n",
       " 25.92000389099121,\n",
       " 25.92000389099121,\n",
       " 25.92000389099121,\n",
       " 25.92000389099121,\n",
       " 25.92000389099121,\n",
       " 25.92000389099121,\n",
       " 25.92000389099121,\n",
       " 25.920001983642578,\n",
       " 25.92000389099121,\n",
       " 25.920001983642578,\n",
       " 25.920001983642578,\n",
       " 25.920001983642578,\n",
       " 25.920001983642578,\n",
       " 25.920001983642578,\n",
       " 25.920001983642578,\n",
       " 25.920001983642578,\n",
       " 25.920001983642578,\n",
       " 25.920001983642578,\n",
       " 25.920001983642578,\n",
       " 25.920001983642578,\n",
       " 25.920001983642578,\n",
       " 25.920001983642578,\n",
       " 25.920001983642578,\n",
       " 25.920001983642578,\n",
       " 25.920001983642578,\n",
       " 25.920001983642578,\n",
       " 25.920001983642578,\n",
       " 25.920001983642578,\n",
       " 25.920001983642578,\n",
       " 25.920001983642578,\n",
       " 25.920001983642578,\n",
       " 25.919998168945312,\n",
       " 25.920001983642578,\n",
       " 25.920001983642578,\n",
       " 25.919998168945312,\n",
       " 25.920001983642578,\n",
       " 25.920001983642578,\n",
       " 25.919998168945312,\n",
       " 25.919998168945312,\n",
       " 25.920001983642578,\n",
       " 25.920001983642578,\n",
       " 25.920001983642578,\n",
       " 25.920001983642578,\n",
       " 25.919998168945312,\n",
       " 25.919998168945312,\n",
       " 25.919998168945312,\n",
       " 25.919998168945312,\n",
       " 25.919998168945312,\n",
       " 25.919998168945312,\n",
       " 25.919998168945312,\n",
       " 25.920001983642578,\n",
       " 25.920001983642578,\n",
       " 25.919998168945312,\n",
       " 25.919998168945312,\n",
       " 25.919998168945312,\n",
       " 25.919998168945312,\n",
       " 25.919998168945312,\n",
       " 25.920001983642578,\n",
       " 25.919998168945312,\n",
       " 25.919998168945312,\n",
       " 25.919998168945312,\n",
       " 25.920001983642578,\n",
       " 25.920001983642578,\n",
       " 25.920001983642578,\n",
       " 25.920001983642578,\n",
       " 25.919998168945312,\n",
       " 25.919998168945312,\n",
       " 25.919998168945312,\n",
       " 25.919998168945312,\n",
       " 25.919998168945312,\n",
       " 25.920001983642578,\n",
       " 25.919998168945312,\n",
       " 25.919998168945312,\n",
       " 25.919998168945312,\n",
       " 25.919998168945312,\n",
       " 25.920001983642578,\n",
       " 25.919998168945312,\n",
       " 25.920001983642578,\n",
       " 25.919998168945312,\n",
       " 25.919998168945312,\n",
       " 25.919998168945312,\n",
       " 25.919998168945312,\n",
       " 25.919998168945312,\n",
       " 25.919998168945312,\n",
       " 25.919998168945312,\n",
       " 25.919998168945312,\n",
       " 25.919998168945312,\n",
       " 25.919998168945312,\n",
       " 25.919998168945312,\n",
       " 25.919998168945312,\n",
       " 25.919998168945312,\n",
       " 25.919998168945312,\n",
       " 25.919998168945312,\n",
       " 25.919998168945312,\n",
       " 25.919998168945312,\n",
       " 25.919998168945312,\n",
       " 25.919998168945312,\n",
       " 25.919998168945312,\n",
       " 25.919998168945312,\n",
       " 25.919998168945312,\n",
       " 25.919998168945312,\n",
       " 25.919998168945312,\n",
       " 25.919998168945312,\n",
       " 25.919998168945312,\n",
       " 25.919998168945312,\n",
       " 25.919998168945312,\n",
       " 25.919998168945312,\n",
       " 25.919998168945312,\n",
       " 25.919998168945312,\n",
       " 25.919998168945312,\n",
       " 25.920001983642578,\n",
       " 25.919998168945312,\n",
       " 25.919998168945312,\n",
       " 25.919998168945312,\n",
       " 25.919998168945312,\n",
       " 25.919998168945312,\n",
       " 25.919998168945312,\n",
       " 25.920001983642578,\n",
       " 25.919998168945312,\n",
       " 25.919998168945312,\n",
       " 25.919998168945312,\n",
       " 25.919998168945312,\n",
       " 25.919998168945312,\n",
       " 25.919998168945312,\n",
       " 25.919998168945312,\n",
       " 25.919998168945312,\n",
       " 25.919998168945312,\n",
       " 25.919998168945312,\n",
       " 25.919998168945312,\n",
       " 25.919998168945312,\n",
       " 25.919998168945312,\n",
       " 25.919998168945312,\n",
       " 25.920001983642578,\n",
       " 25.919998168945312,\n",
       " 25.919998168945312,\n",
       " 25.920001983642578,\n",
       " 25.919998168945312,\n",
       " 25.920001983642578,\n",
       " 25.919998168945312,\n",
       " 25.919998168945312,\n",
       " 25.919998168945312,\n",
       " 25.919998168945312,\n",
       " 25.919998168945312,\n",
       " 25.919998168945312,\n",
       " 25.919998168945312,\n",
       " 25.920001983642578,\n",
       " 25.919998168945312,\n",
       " 25.919998168945312,\n",
       " 25.919998168945312,\n",
       " 25.919998168945312,\n",
       " 25.919998168945312,\n",
       " 25.919998168945312,\n",
       " 25.919998168945312,\n",
       " 25.919998168945312,\n",
       " 25.919998168945312,\n",
       " 25.919998168945312,\n",
       " 25.919998168945312,\n",
       " 25.919998168945312,\n",
       " 25.919998168945312,\n",
       " 25.919998168945312,\n",
       " 25.919998168945312,\n",
       " 25.919998168945312,\n",
       " 25.919998168945312,\n",
       " 25.919998168945312,\n",
       " 25.920001983642578,\n",
       " 25.919998168945312,\n",
       " 25.919998168945312,\n",
       " 25.919998168945312,\n",
       " 25.919998168945312,\n",
       " 25.919998168945312,\n",
       " 25.920001983642578,\n",
       " 25.919998168945312,\n",
       " 25.919998168945312,\n",
       " 25.919998168945312,\n",
       " 25.919998168945312,\n",
       " 25.919998168945312,\n",
       " 25.919998168945312,\n",
       " 25.919998168945312,\n",
       " 25.919998168945312,\n",
       " 25.920001983642578,\n",
       " 25.920001983642578,\n",
       " 25.919998168945312,\n",
       " 25.919998168945312,\n",
       " 25.919998168945312,\n",
       " 25.919998168945312,\n",
       " 25.920001983642578,\n",
       " 25.919998168945312,\n",
       " 25.919998168945312,\n",
       " 25.919998168945312,\n",
       " 25.919998168945312,\n",
       " 25.919998168945312,\n",
       " 25.919998168945312,\n",
       " 25.919998168945312,\n",
       " 25.919998168945312,\n",
       " 25.919998168945312,\n",
       " 25.919998168945312,\n",
       " 25.920001983642578,\n",
       " 25.919998168945312,\n",
       " 25.919998168945312,\n",
       " 25.919998168945312,\n",
       " 25.919998168945312,\n",
       " 25.920001983642578,\n",
       " 25.919998168945312,\n",
       " 25.919998168945312,\n",
       " 25.919998168945312,\n",
       " 25.919998168945312,\n",
       " 25.920001983642578,\n",
       " 25.919998168945312,\n",
       " 25.919998168945312,\n",
       " 25.920001983642578,\n",
       " 25.919998168945312,\n",
       " 25.919998168945312,\n",
       " 25.919998168945312,\n",
       " 25.919998168945312,\n",
       " 25.919998168945312,\n",
       " 25.919998168945312,\n",
       " 25.919998168945312,\n",
       " 25.920001983642578,\n",
       " 25.919998168945312,\n",
       " 25.919998168945312,\n",
       " 25.919998168945312,\n",
       " 25.919998168945312,\n",
       " 25.919998168945312,\n",
       " 25.919998168945312,\n",
       " 25.919998168945312,\n",
       " 25.919998168945312,\n",
       " 25.920001983642578,\n",
       " 25.920001983642578,\n",
       " 25.920001983642578,\n",
       " 25.920001983642578,\n",
       " 25.919998168945312,\n",
       " 25.919998168945312,\n",
       " 25.920001983642578,\n",
       " 25.920001983642578,\n",
       " 25.919998168945312,\n",
       " 25.920001983642578,\n",
       " 25.919998168945312,\n",
       " 25.919998168945312,\n",
       " 25.919998168945312,\n",
       " 25.919998168945312,\n",
       " 25.919998168945312,\n",
       " 25.919998168945312,\n",
       " 25.920001983642578,\n",
       " 25.919998168945312,\n",
       " 25.919998168945312,\n",
       " 25.919998168945312,\n",
       " 25.919998168945312,\n",
       " 25.919998168945312,\n",
       " 25.919998168945312,\n",
       " 25.920001983642578,\n",
       " 25.919998168945312,\n",
       " 25.920001983642578,\n",
       " 25.919998168945312,\n",
       " 25.920001983642578,\n",
       " 25.920001983642578,\n",
       " 25.920001983642578,\n",
       " 25.919998168945312,\n",
       " 25.919998168945312,\n",
       " 25.919998168945312,\n",
       " 25.919998168945312,\n",
       " 25.919998168945312,\n",
       " 25.919998168945312,\n",
       " 25.919998168945312,\n",
       " 25.919998168945312,\n",
       " 25.920001983642578,\n",
       " 25.919998168945312,\n",
       " 25.919998168945312,\n",
       " 25.920001983642578,\n",
       " 25.919998168945312,\n",
       " 25.919998168945312,\n",
       " 25.919998168945312,\n",
       " 25.920001983642578,\n",
       " 25.919998168945312,\n",
       " 25.920001983642578,\n",
       " 25.919998168945312,\n",
       " 25.920001983642578,\n",
       " 25.919998168945312,\n",
       " 25.919998168945312,\n",
       " 25.920001983642578,\n",
       " 25.920001983642578,\n",
       " 25.920001983642578,\n",
       " 25.919998168945312,\n",
       " 25.919998168945312,\n",
       " 25.919998168945312,\n",
       " 25.919998168945312,\n",
       " 25.919998168945312,\n",
       " 25.919998168945312,\n",
       " 25.919998168945312,\n",
       " 25.920001983642578,\n",
       " 25.919998168945312,\n",
       " 25.919998168945312,\n",
       " 25.919998168945312,\n",
       " 25.919998168945312,\n",
       " 25.919998168945312,\n",
       " 25.920001983642578,\n",
       " 25.919998168945312,\n",
       " 25.919998168945312,\n",
       " 25.920001983642578,\n",
       " 25.919998168945312,\n",
       " 25.919998168945312,\n",
       " 25.919998168945312,\n",
       " 25.919998168945312,\n",
       " 25.919998168945312,\n",
       " 25.919998168945312,\n",
       " 25.919998168945312,\n",
       " 25.919998168945312,\n",
       " 25.919998168945312,\n",
       " 25.919998168945312,\n",
       " 25.919998168945312,\n",
       " 25.919998168945312,\n",
       " 25.919998168945312,\n",
       " 25.919998168945312,\n",
       " 25.919998168945312,\n",
       " 25.920001983642578,\n",
       " 25.919998168945312,\n",
       " 25.920001983642578,\n",
       " 25.920001983642578,\n",
       " 25.920001983642578,\n",
       " 25.919998168945312,\n",
       " 25.919998168945312,\n",
       " 25.919998168945312,\n",
       " 25.919998168945312,\n",
       " 25.919998168945312,\n",
       " 25.919998168945312,\n",
       " 25.919998168945312,\n",
       " 25.920001983642578,\n",
       " 25.920001983642578,\n",
       " 25.919998168945312,\n",
       " 25.919998168945312,\n",
       " 25.919998168945312,\n",
       " 25.920001983642578,\n",
       " 25.919998168945312,\n",
       " 25.920001983642578,\n",
       " 25.919998168945312,\n",
       " 25.920001983642578,\n",
       " 25.919998168945312,\n",
       " 25.919998168945312,\n",
       " 25.919998168945312,\n",
       " 25.919998168945312,\n",
       " 25.919998168945312,\n",
       " 25.919998168945312,\n",
       " 25.919998168945312,\n",
       " 25.919998168945312,\n",
       " 25.919998168945312,\n",
       " 25.920001983642578,\n",
       " 25.919998168945312,\n",
       " 25.919998168945312,\n",
       " 25.920001983642578,\n",
       " 25.920001983642578,\n",
       " 25.919998168945312,\n",
       " 25.919998168945312,\n",
       " 25.919998168945312,\n",
       " 25.920001983642578,\n",
       " 25.920001983642578,\n",
       " 25.920001983642578,\n",
       " 25.919998168945312,\n",
       " 25.919998168945312,\n",
       " 25.919998168945312,\n",
       " 25.919998168945312,\n",
       " 25.919998168945312,\n",
       " 25.919998168945312,\n",
       " 25.919998168945312,\n",
       " 25.919998168945312,\n",
       " 25.920001983642578,\n",
       " 25.919998168945312,\n",
       " 25.919998168945312,\n",
       " 25.919998168945312,\n",
       " 25.919998168945312,\n",
       " 25.919998168945312,\n",
       " 25.919998168945312,\n",
       " 25.919998168945312,\n",
       " 25.919998168945312,\n",
       " 25.919998168945312,\n",
       " 25.919998168945312,\n",
       " 25.919998168945312,\n",
       " 25.919998168945312,\n",
       " 25.919998168945312,\n",
       " 25.920001983642578,\n",
       " 25.920001983642578,\n",
       " 25.919998168945312,\n",
       " 25.920001983642578,\n",
       " 25.919998168945312,\n",
       " 25.919998168945312,\n",
       " 25.919998168945312,\n",
       " 25.919998168945312,\n",
       " 25.920001983642578,\n",
       " 25.919998168945312,\n",
       " 25.919998168945312,\n",
       " 25.920001983642578,\n",
       " 25.919998168945312,\n",
       " 25.919998168945312,\n",
       " 25.919998168945312,\n",
       " 25.919998168945312,\n",
       " 25.919998168945312,\n",
       " 25.919998168945312,\n",
       " 25.919998168945312,\n",
       " 25.920001983642578,\n",
       " 25.919998168945312,\n",
       " 25.920001983642578,\n",
       " 25.919998168945312,\n",
       " 25.919998168945312,\n",
       " 25.919998168945312,\n",
       " 25.919998168945312,\n",
       " 25.919998168945312,\n",
       " 25.919998168945312,\n",
       " 25.919998168945312,\n",
       " 25.920001983642578,\n",
       " 25.919998168945312,\n",
       " 25.920001983642578,\n",
       " 25.919998168945312,\n",
       " 25.919998168945312,\n",
       " 25.919998168945312,\n",
       " 25.919998168945312,\n",
       " 25.919998168945312,\n",
       " 25.919998168945312,\n",
       " 25.919998168945312,\n",
       " 25.920001983642578,\n",
       " 25.919998168945312,\n",
       " 25.919998168945312,\n",
       " 25.920001983642578,\n",
       " 25.919998168945312,\n",
       " 25.919998168945312,\n",
       " 25.920001983642578,\n",
       " 25.919998168945312,\n",
       " 25.920001983642578,\n",
       " 25.919998168945312,\n",
       " 25.919998168945312,\n",
       " 25.920001983642578,\n",
       " 25.920001983642578,\n",
       " 25.919998168945312,\n",
       " 25.920001983642578,\n",
       " 25.919998168945312,\n",
       " 25.919998168945312,\n",
       " 25.919998168945312,\n",
       " 25.919998168945312,\n",
       " 25.919998168945312,\n",
       " 25.920001983642578,\n",
       " 25.919998168945312,\n",
       " 25.920001983642578,\n",
       " 25.919998168945312,\n",
       " 25.920001983642578,\n",
       " 25.919998168945312,\n",
       " 25.920001983642578,\n",
       " 25.919998168945312,\n",
       " 25.919998168945312,\n",
       " 25.919998168945312,\n",
       " 25.920001983642578,\n",
       " 25.920001983642578,\n",
       " 25.919998168945312,\n",
       " 25.919998168945312,\n",
       " 25.919998168945312,\n",
       " 25.919998168945312,\n",
       " 25.919998168945312,\n",
       " 25.920001983642578,\n",
       " 25.919998168945312,\n",
       " 25.919998168945312,\n",
       " 25.919998168945312,\n",
       " 25.919998168945312,\n",
       " 25.919998168945312,\n",
       " 25.920001983642578,\n",
       " 25.919998168945312,\n",
       " 25.919998168945312,\n",
       " 25.919998168945312,\n",
       " 25.919998168945312,\n",
       " 25.919998168945312,\n",
       " 25.919998168945312,\n",
       " 25.920001983642578,\n",
       " 25.919998168945312,\n",
       " 25.919998168945312,\n",
       " 25.919998168945312,\n",
       " 25.919998168945312,\n",
       " 25.919998168945312,\n",
       " 25.919998168945312,\n",
       " 25.919998168945312,\n",
       " 25.919998168945312,\n",
       " 25.920001983642578,\n",
       " 25.920001983642578,\n",
       " 25.920001983642578,\n",
       " 25.919998168945312,\n",
       " 25.919998168945312,\n",
       " 25.920001983642578,\n",
       " 25.919998168945312,\n",
       " 25.919998168945312,\n",
       " 25.919998168945312,\n",
       " 25.919998168945312,\n",
       " 25.919998168945312,\n",
       " 25.919998168945312,\n",
       " 25.919998168945312,\n",
       " 25.919998168945312,\n",
       " 25.919998168945312,\n",
       " 25.919998168945312,\n",
       " 25.919998168945312,\n",
       " 25.920001983642578,\n",
       " 25.919998168945312,\n",
       " 25.919998168945312,\n",
       " 25.920001983642578,\n",
       " 25.920001983642578,\n",
       " 25.919998168945312,\n",
       " 25.919998168945312,\n",
       " 25.920001983642578,\n",
       " 25.919998168945312,\n",
       " 25.920001983642578,\n",
       " 25.919998168945312,\n",
       " 25.920001983642578,\n",
       " 25.919998168945312,\n",
       " 25.919998168945312,\n",
       " 25.919998168945312,\n",
       " 25.919998168945312,\n",
       " 25.919998168945312,\n",
       " 25.920001983642578,\n",
       " 25.919998168945312,\n",
       " 25.919998168945312,\n",
       " 25.919998168945312,\n",
       " 25.919998168945312,\n",
       " 25.919998168945312,\n",
       " 25.919998168945312,\n",
       " 25.919998168945312,\n",
       " 25.919998168945312,\n",
       " 25.919998168945312,\n",
       " 25.919998168945312,\n",
       " 25.919998168945312,\n",
       " 25.920001983642578,\n",
       " 25.920001983642578,\n",
       " 25.919998168945312,\n",
       " 25.919998168945312,\n",
       " 25.920001983642578,\n",
       " 25.919998168945312,\n",
       " 25.919998168945312,\n",
       " 25.919998168945312,\n",
       " 25.920001983642578,\n",
       " 25.919998168945312,\n",
       " 25.920001983642578,\n",
       " 25.919998168945312,\n",
       " 25.919998168945312,\n",
       " 25.919998168945312,\n",
       " 25.920001983642578,\n",
       " 25.919998168945312,\n",
       " 25.920001983642578,\n",
       " 25.919998168945312,\n",
       " 25.920001983642578,\n",
       " 25.919998168945312,\n",
       " 25.919998168945312,\n",
       " 25.919998168945312,\n",
       " 25.919998168945312,\n",
       " 25.919998168945312,\n",
       " 25.919998168945312,\n",
       " 25.920001983642578,\n",
       " 25.919998168945312,\n",
       " 25.920001983642578,\n",
       " 25.920001983642578,\n",
       " 25.920001983642578,\n",
       " 25.920001983642578,\n",
       " 25.919998168945312,\n",
       " 25.919998168945312,\n",
       " 25.919998168945312,\n",
       " 25.919998168945312,\n",
       " 25.919998168945312,\n",
       " 25.919998168945312,\n",
       " 25.919998168945312,\n",
       " 25.919998168945312,\n",
       " 25.919998168945312,\n",
       " 25.919998168945312,\n",
       " 25.920001983642578,\n",
       " ...]"
      ]
     },
     "execution_count": 82,
     "metadata": {},
     "output_type": "execute_result"
    }
   ],
   "source": [
    "hist.history['loss']"
   ]
  },
  {
   "cell_type": "markdown",
   "metadata": {
    "slideshow": {
     "slide_type": "subslide"
    }
   },
   "source": [
    "$$ f(x, y) = mse(xW + b, y) $$\n",
    "<center><img src='img/05_05.png' width=50% height=50%></center>"
   ]
  },
  {
   "cell_type": "markdown",
   "metadata": {
    "slideshow": {
     "slide_type": "subslide"
    }
   },
   "source": [
    "$$ mse(x, y) = ((xW + b) - y)^2 $$\n",
    "\n",
    "<center><img src='img/05_06.png' width=50% height=50%></center>"
   ]
  },
  {
   "cell_type": "code",
   "execution_count": 3036,
   "metadata": {
    "slideshow": {
     "slide_type": "subslide"
    }
   },
   "outputs": [],
   "source": [
    "import numpy as np\n",
    "import matplotlib.pylab as plt\n",
    "\n",
    "def h(x, params):\n",
    "    w1 = params[0]\n",
    "    b = params[1]\n",
    "    return w1 * x + b\n",
    "\n",
    "def j(y_, y):\n",
    "    return sum((y_-y)**2)/len(y_)"
   ]
  },
  {
   "cell_type": "code",
   "execution_count": 3041,
   "metadata": {
    "slideshow": {
     "slide_type": "fragment"
    }
   },
   "outputs": [],
   "source": [
    "x = np.array([3, 5])\n",
    "y = np.array([303, 503])\n",
    "params = np.array([3.5, 1])"
   ]
  },
  {
   "cell_type": "code",
   "execution_count": 3042,
   "metadata": {
    "slideshow": {
     "slide_type": "fragment"
    }
   },
   "outputs": [
    {
     "data": {
      "image/png": "[encoded data removed]",
      "text/plain": [
       "<Figure size 432x288 with 1 Axes>"
      ]
     },
     "metadata": {
      "needs_background": "light"
     },
     "output_type": "display_data"
    }
   ],
   "source": [
    "y_ = h(x, params)\n",
    "\n",
    "plt.plot(np.array([0,1,2,3,4,5]), 100 * np.array([0,1,2,3,4,5]) + 3)\n",
    "plt.scatter(x[0], y_[0], color='red', label='y1: {:.2f}'.format(y_[0]))\n",
    "plt.scatter(x[1], y_[1], color='blue', label='y2: {:.2f}'.format(y_[1]))\n",
    "plt.legend(loc='upper left', fontsize='x-large')\n",
    "plt.show()"
   ]
  },
  {
   "cell_type": "code",
   "execution_count": 3043,
   "metadata": {},
   "outputs": [
    {
     "name": "stdout",
     "output_type": "stream",
     "text": [
      "319712.5 1 [323.2125   1.001 ]\n"
     ]
    },
    {
     "data": {
      "image/png": "[encoded data removed]",
      "text/plain": [
       "<Figure size 432x288 with 1 Axes>"
      ]
     },
     "metadata": {
      "needs_background": "light"
     },
     "output_type": "display_data"
    }
   ],
   "source": [
    "def derivative_w(x):\n",
    "    return -200 * ()\n",
    "\n",
    "def derivative_b(x):\n",
    "    return 1\n",
    "\n",
    "alpha = 0.001\n",
    "\n",
    "y_ = h(x, params)\n",
    "delta_w = derivative_w(j(y_, y))\n",
    "delta_b = derivative_b(j(y_, y))\n",
    "\n",
    "params[0] += delta_w * alpha\n",
    "params[1] += delta_b * alpha\n",
    "print(delta_w, delta_b, params)\n",
    "\n",
    "plt.plot(np.array([0,1,2,3,4,5]), 100 * np.array([0,1,2,3,4,5]) + 3)\n",
    "plt.scatter(x[0], y_[0], color='red', label='y_: {:.2f}'.format(y_[0]))\n",
    "plt.scatter(x[1], y_[1], color='blue', label='y_: {:.2f}'.format(y_[1]))\n",
    "plt.legend()\n",
    "plt.show()"
   ]
  },
  {
   "cell_type": "code",
   "execution_count": 3008,
   "metadata": {},
   "outputs": [
    {
     "name": "stdout",
     "output_type": "stream",
     "text": [
      "[ inf 1.14]\n"
     ]
    },
    {
     "data": {
      "text/plain": [
       "\"\\nplt.plot(np.array([0,1,2,3,4,5]), 100 * np.array([0,1,2,3,4,5]) + 3)\\nplt.scatter(x[0], y_[0], color='red', label='y_: {:.2f}'.format(y_[0]))\\nplt.scatter(x[1], y_[1], color='blue', label='y_: {:.2f}'.format(y_[1]))\\nplt.legend()\\nplt.show()\\n\""
      ]
     },
     "execution_count": 3008,
     "metadata": {},
     "output_type": "execute_result"
    }
   ],
   "source": [
    "y_ = h(x, params)\n",
    "delta_w = derivative_w(j(y_, y))\n",
    "delta_b = derivative_b(j(y_, y))\n",
    "\n",
    "params[0] += delta_w * alpha\n",
    "params[1] += delta_b * alpha\n",
    "print(params)\n",
    "\n",
    "'''\n",
    "plt.plot(np.array([0,1,2,3,4,5]), 100 * np.array([0,1,2,3,4,5]) + 3)\n",
    "plt.scatter(x[0], y_[0], color='red', label='y_: {:.2f}'.format(y_[0]))\n",
    "plt.scatter(x[1], y_[1], color='blue', label='y_: {:.2f}'.format(y_[1]))\n",
    "plt.legend()\n",
    "plt.show()\n",
    "'''"
   ]
  },
  {
   "cell_type": "markdown",
   "metadata": {
    "slideshow": {
     "slide_type": "subslide"
    }
   },
   "source": [
    "# Backprop의 concept\n",
    "\n",
    "## Chain-rule\n",
    "\n",
    "* $model = \\sigma(f(x)), f(x) = w_1x + b, \\sigma(x) = \\frac{1}{1+e^{-x}}$이라는 함수가 있다고 가정\n",
    "* 우리에게 주어진 x, y 정보는 다음과 같다고 가정\n",
    " * $x = 3, y = 0.2$\n",
    "* 우리는 $w_1 = ?, b = ?$을 알아내고 싶음\n",
    "* 초기 $w_1 = 1.1, b = 0.5, \\alpha = 0.01$로 세팅되었다고 가정함\n",
    " * $h(x) = \\sigma(w_1x + b), w_1 = 1.1, b = 0.5$\n",
    "* loss function은 $(h(x)-y)^2$라고 가정"
   ]
  },
  {
   "cell_type": "markdown",
   "metadata": {
    "slideshow": {
     "slide_type": "fragment"
    }
   },
   "source": [
    "* $y = f(g(x))$의 꼴은 다음과 같이 미분된다.\n",
    " * $y' = f'(g(x)) *g'(x)$\n",
    "\n",
    "* 즉, $model = \\sigma(f(x))$는 다음과 같이 미분됨.\n",
    " * $model' = \\sigma'(f(x)) * f'(x)$\n",
    " * $\\sigma' = \\frac{e^{-x}}{(1+e^{-x})^2}$\n",
    " * $f' = w_1$\n",
    " \n",
    " * $model' = \\sigma'(f(x)) * f'(x)$"
   ]
  },
  {
   "cell_type": "code",
   "execution_count": 74,
   "metadata": {},
   "outputs": [],
   "source": [
    "def sigmoid(x):\n",
    "    return 1/(1+np.exp(-x))\n",
    "\n",
    "def f(x, params):\n",
    "    w1 = params[0]\n",
    "    b = params[1]\n",
    "    return w1 * x + b\n",
    "\n",
    "def dsigmoid(x):\n",
    "    return np.exp(-x)/((1+np.exp(-x))**2)\n",
    "\n",
    "def df(x, parmas):\n",
    "    return parmas[0]\n",
    "\n",
    "def h(x, params):\n",
    "    return sigmoid(f(x, params))\n",
    "    \n",
    "def dh(x, params):\n",
    "    return dsigmoid(f(x, params)) * df(x, params)\n",
    "    \n",
    "def j(y_, y):\n",
    "    return (y_-y)**2"
   ]
  },
  {
   "cell_type": "code",
   "execution_count": 28,
   "metadata": {},
   "outputs": [],
   "source": [
    "y = 0.2\n",
    "params = [1.1, 0.5]"
   ]
  },
  {
   "cell_type": "code",
   "execution_count": 29,
   "metadata": {},
   "outputs": [
    {
     "data": {
      "image/png": "[encoded data removed]",
      "text/plain": [
       "<Figure size 432x288 with 1 Axes>"
      ]
     },
     "metadata": {
      "needs_background": "light"
     },
     "output_type": "display_data"
    }
   ],
   "source": [
    "y_ = h(3, params)\n",
    "\n",
    "x = np.linspace(2.5, 3.5)\n",
    "plt.plot(x, h(x, params))\n",
    "plt.scatter(3, y_, color='red', label='y_: {:.2f}, loss: {:.2f}'.format(y_, j(y_, y)))\n",
    "plt.legend(loc='upper left', fontsize='x-large')\n",
    "plt.show()"
   ]
  },
  {
   "cell_type": "code",
   "execution_count": 20,
   "metadata": {},
   "outputs": [
    {
     "data": {
      "image/png": "[encoded data removed]",
      "text/plain": [
       "<Figure size 432x288 with 1 Axes>"
      ]
     },
     "metadata": {
      "needs_background": "light"
     },
     "output_type": "display_data"
    }
   ],
   "source": [
    "x = np.linspace(-6, 6)\n",
    "plt.plot(x, sigmoid(x))\n",
    "plt.scatter(3, y_, color='red', label='y_: {:.2f}, loss: {:.2f}'.format(y_, j(y_, y)))\n",
    "plt.legend(loc='upper left', fontsize='x-large')\n",
    "plt.show()"
   ]
  },
  {
   "cell_type": "code",
   "execution_count": 15,
   "metadata": {},
   "outputs": [
    {
     "data": {
      "text/plain": [
       "array([2.5       , 2.52040816, 2.54081633, 2.56122449, 2.58163265,\n",
       "       2.60204082, 2.62244898, 2.64285714, 2.66326531, 2.68367347,\n",
       "       2.70408163, 2.7244898 , 2.74489796, 2.76530612, 2.78571429,\n",
       "       2.80612245, 2.82653061, 2.84693878, 2.86734694, 2.8877551 ,\n",
       "       2.90816327, 2.92857143, 2.94897959, 2.96938776, 2.98979592,\n",
       "       3.01020408, 3.03061224, 3.05102041, 3.07142857, 3.09183673,\n",
       "       3.1122449 , 3.13265306, 3.15306122, 3.17346939, 3.19387755,\n",
       "       3.21428571, 3.23469388, 3.25510204, 3.2755102 , 3.29591837,\n",
       "       3.31632653, 3.33673469, 3.35714286, 3.37755102, 3.39795918,\n",
       "       3.41836735, 3.43877551, 3.45918367, 3.47959184, 3.5       ])"
      ]
     },
     "execution_count": 15,
     "metadata": {},
     "output_type": "execute_result"
    }
   ],
   "source": [
    "np.linspace(2.5, 3.5)"
   ]
  },
  {
   "cell_type": "code",
   "execution_count": 4,
   "metadata": {},
   "outputs": [
    {
     "data": {
      "image/svg+xml": [
       "<svg height=\"211pt\" viewBox=\"0.00 0.00 239.00 211.00\" width=\"239pt\" xmlns=\"http://www.w3.org/2000/svg\" xmlns:xlink=\"http://www.w3.org/1999/xlink\">\n",
       "<g class=\"graph\" id=\"graph0\" transform=\"scale(1 1) rotate(0) translate(4 207)\">\n",
       "<title>G</title>\n",
       "<polygon fill=\"#ffffff\" points=\"-4,4 -4,-207 235,-207 235,4 -4,4\" stroke=\"transparent\"/>\n",
       "<!-- 140613073477872 -->\n",
       "<g class=\"node\" id=\"node1\">\n",
       "<title>140613073477872</title>\n",
       "<polygon fill=\"none\" points=\"0,-83.5 0,-129.5 231,-129.5 231,-83.5 0,-83.5\" stroke=\"#000000\"/>\n",
       "<text fill=\"#000000\" font-family=\"Times,serif\" font-size=\"14.00\" text-anchor=\"middle\" x=\"52.5\" y=\"-102.8\">dense_1: Dense</text>\n",
       "<polyline fill=\"none\" points=\"105,-83.5 105,-129.5 \" stroke=\"#000000\"/>\n",
       "<text fill=\"#000000\" font-family=\"Times,serif\" font-size=\"14.00\" text-anchor=\"middle\" x=\"133\" y=\"-114.3\">input:</text>\n",
       "<polyline fill=\"none\" points=\"105,-106.5 161,-106.5 \" stroke=\"#000000\"/>\n",
       "<text fill=\"#000000\" font-family=\"Times,serif\" font-size=\"14.00\" text-anchor=\"middle\" x=\"133\" y=\"-91.3\">output:</text>\n",
       "<polyline fill=\"none\" points=\"161,-83.5 161,-129.5 \" stroke=\"#000000\"/>\n",
       "<text fill=\"#000000\" font-family=\"Times,serif\" font-size=\"14.00\" text-anchor=\"middle\" x=\"196\" y=\"-114.3\">(None, 2)</text>\n",
       "<polyline fill=\"none\" points=\"161,-106.5 231,-106.5 \" stroke=\"#000000\"/>\n",
       "<text fill=\"#000000\" font-family=\"Times,serif\" font-size=\"14.00\" text-anchor=\"middle\" x=\"196\" y=\"-91.3\">(None, 2)</text>\n",
       "</g>\n",
       "<!-- 140614720669288 -->\n",
       "<g class=\"node\" id=\"node2\">\n",
       "<title>140614720669288</title>\n",
       "<polygon fill=\"none\" points=\"0,-.5 0,-46.5 231,-46.5 231,-.5 0,-.5\" stroke=\"#000000\"/>\n",
       "<text fill=\"#000000\" font-family=\"Times,serif\" font-size=\"14.00\" text-anchor=\"middle\" x=\"52.5\" y=\"-19.8\">dense_2: Dense</text>\n",
       "<polyline fill=\"none\" points=\"105,-.5 105,-46.5 \" stroke=\"#000000\"/>\n",
       "<text fill=\"#000000\" font-family=\"Times,serif\" font-size=\"14.00\" text-anchor=\"middle\" x=\"133\" y=\"-31.3\">input:</text>\n",
       "<polyline fill=\"none\" points=\"105,-23.5 161,-23.5 \" stroke=\"#000000\"/>\n",
       "<text fill=\"#000000\" font-family=\"Times,serif\" font-size=\"14.00\" text-anchor=\"middle\" x=\"133\" y=\"-8.3\">output:</text>\n",
       "<polyline fill=\"none\" points=\"161,-.5 161,-46.5 \" stroke=\"#000000\"/>\n",
       "<text fill=\"#000000\" font-family=\"Times,serif\" font-size=\"14.00\" text-anchor=\"middle\" x=\"196\" y=\"-31.3\">(None, 2)</text>\n",
       "<polyline fill=\"none\" points=\"161,-23.5 231,-23.5 \" stroke=\"#000000\"/>\n",
       "<text fill=\"#000000\" font-family=\"Times,serif\" font-size=\"14.00\" text-anchor=\"middle\" x=\"196\" y=\"-8.3\">(None, 1)</text>\n",
       "</g>\n",
       "<!-- 140613073477872&#45;&gt;140614720669288 -->\n",
       "<g class=\"edge\" id=\"edge2\">\n",
       "<title>140613073477872-&gt;140614720669288</title>\n",
       "<path d=\"M115.5,-83.3799C115.5,-75.1745 115.5,-65.7679 115.5,-56.8786\" fill=\"none\" stroke=\"#000000\"/>\n",
       "<polygon fill=\"#000000\" points=\"119.0001,-56.784 115.5,-46.784 112.0001,-56.784 119.0001,-56.784\" stroke=\"#000000\"/>\n",
       "</g>\n",
       "<!-- 140614722045376 -->\n",
       "<g class=\"node\" id=\"node3\">\n",
       "<title>140614722045376</title>\n",
       "<polygon fill=\"none\" points=\"54.5,-166.5 54.5,-202.5 176.5,-202.5 176.5,-166.5 54.5,-166.5\" stroke=\"#000000\"/>\n",
       "<text fill=\"#000000\" font-family=\"Times,serif\" font-size=\"14.00\" text-anchor=\"middle\" x=\"115.5\" y=\"-180.8\">140614722045376</text>\n",
       "</g>\n",
       "<!-- 140614722045376&#45;&gt;140613073477872 -->\n",
       "<g class=\"edge\" id=\"edge1\">\n",
       "<title>140614722045376-&gt;140613073477872</title>\n",
       "<path d=\"M115.5,-166.4092C115.5,-158.4308 115.5,-148.795 115.5,-139.606\" fill=\"none\" stroke=\"#000000\"/>\n",
       "<polygon fill=\"#000000\" points=\"119.0001,-139.5333 115.5,-129.5333 112.0001,-139.5334 119.0001,-139.5333\" stroke=\"#000000\"/>\n",
       "</g>\n",
       "</g>\n",
       "</svg>"
      ],
      "text/plain": [
       "<IPython.core.display.SVG object>"
      ]
     },
     "execution_count": 4,
     "metadata": {},
     "output_type": "execute_result"
    }
   ],
   "source": [
    "from IPython.display import SVG\n",
    "from keras.utils.vis_utils import model_to_dot\n",
    "\n",
    "SVG(model_to_dot(model, True).create(prog='dot', format='svg'))"
   ]
  },
  {
   "cell_type": "code",
   "execution_count": null,
   "metadata": {},
   "outputs": [],
   "source": [
    "y = 303\n",
    "params = [3.5, 1]"
   ]
  },
  {
   "cell_type": "code",
   "execution_count": 1,
   "metadata": {},
   "outputs": [],
   "source": [
    "import tensorflow as tf"
   ]
  },
  {
   "cell_type": "code",
   "execution_count": 1460,
   "metadata": {},
   "outputs": [],
   "source": [
    "w = tf.Variable([3.5])\n",
    "b = tf.Variable([1.])\n",
    "x = tf.constant([3., 5.])\n",
    "y_ = tf.constant([303., 503.])\n",
    "\n",
    "y = x * w + b\n",
    "cost = tf.reduce_mean(tf.square(y_ - y))\n",
    "optimizer = tf.train.GradientDescentOptimizer(0.05)\n",
    "train = optimizer.minimize(cost)"
   ]
  },
  {
   "cell_type": "code",
   "execution_count": 1461,
   "metadata": {},
   "outputs": [],
   "source": [
    "init = tf.initialize_all_variables()\n",
    "sess = tf.Session()\n",
    "sess.run(init)"
   ]
  },
  {
   "cell_type": "code",
   "execution_count": 2432,
   "metadata": {},
   "outputs": [
    {
     "name": "stdout",
     "output_type": "stream",
     "text": [
      "[99.97955] [3.0865886] 0.00044102687\n"
     ]
    }
   ],
   "source": [
    "sess.run(train)\n",
    "[W,B, C] = sess.run([w,b,cost])\n",
    "print(W,B,C)"
   ]
  }
 ],
 "metadata": {
  "celltoolbar": "Slideshow",
  "kernelspec": {
   "display_name": "Python py3",
   "language": "python",
   "name": "py3"
  },
  "language_info": {
   "codemirror_mode": {
    "name": "ipython",
    "version": 3
   },
   "file_extension": ".py",
   "mimetype": "text/x-python",
   "name": "python",
   "nbconvert_exporter": "python",
   "pygments_lexer": "ipython3",
   "version": "3.7.3"
  },
  "latex_envs": {
   "LaTeX_envs_menu_present": true,
   "autoclose": false,
   "autocomplete": true,
   "bibliofile": "biblio.bib",
   "cite_by": "apalike",
   "current_citInitial": 1,
   "eqLabelWithNumbers": true,
   "eqNumInitial": 1,
   "hotkeys": {
    "equation": "Ctrl-E",
    "itemize": "Ctrl-I"
   },
   "labels_anchors": false,
   "latex_user_defs": false,
   "report_style_numbering": false,
   "user_envs_cfg": false
  },
  "toc": {
   "base_numbering": 1,
   "nav_menu": {},
   "number_sections": false,
   "sideBar": true,
   "skip_h1_title": false,
   "title_cell": "Table of Contents",
   "title_sidebar": "Contents",
   "toc_cell": false,
   "toc_position": {},
   "toc_section_display": true,
   "toc_window_display": false
  },
  "varInspector": {
   "cols": {
    "lenName": 16,
    "lenType": 16,
    "lenVar": 40
   },
   "kernels_config": {
    "python": {
     "delete_cmd_postfix": "",
     "delete_cmd_prefix": "del ",
     "library": "var_list.py",
     "varRefreshCmd": "print(var_dic_list())"
    },
    "r": {
     "delete_cmd_postfix": ") ",
     "delete_cmd_prefix": "rm(",
     "library": "var_list.r",
     "varRefreshCmd": "cat(var_dic_list()) "
    }
   },
   "types_to_exclude": [
    "module",
    "function",
    "builtin_function_or_method",
    "instance",
    "_Feature"
   ],
   "window_display": false
  }
 },
 "nbformat": 4,
 "nbformat_minor": 2
}
