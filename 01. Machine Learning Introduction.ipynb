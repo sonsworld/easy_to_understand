{
 "cells": [
  {
   "cell_type": "markdown",
   "metadata": {
    "slideshow": {
     "slide_type": "slide"
    }
   },
   "source": [
    "<img src='img/fastcamp_h.png'>\n",
    "\n",
    "# 1. Machine Learning Introduction\n",
    "\n",
    "저는 머신러닝(딥러닝을 포함한)을 하나도 모르는데요..."
   ]
  },
  {
   "cell_type": "markdown",
   "metadata": {
    "slideshow": {
     "slide_type": "slide"
    }
   },
   "source": [
    "<img src='img/chapter01_01.jpg'>\n",
    "\n",
    "<font size=\"5\">**CHAPTER 1:**</font><br><br>\n",
    "<font size=\"10\">**Introduction**</font>"
   ]
  },
  {
   "cell_type": "markdown",
   "metadata": {
    "slideshow": {
     "slide_type": "slide"
    }
   },
   "source": [
    "# <center>**What is Machine Learning(ML)?**</center>\n",
    "\n",
    "<center><img src='img/chapter01_02.jpg'></center>"
   ]
  },
  {
   "cell_type": "markdown",
   "metadata": {
    "slideshow": {
     "slide_type": "slide"
    }
   },
   "source": [
    "# <center>**What is Machine Learning(ML)?**</center>\n",
    "<center><img src='img/chapter01_03.jpg'></center>"
   ]
  },
  {
   "cell_type": "markdown",
   "metadata": {
    "slideshow": {
     "slide_type": "slide"
    }
   },
   "source": [
    "# <center>**What is Machine Learning(ML)?**</center>\n",
    "<center><img src='img/chapter01_04.png'></center>"
   ]
  },
  {
   "cell_type": "markdown",
   "metadata": {
    "slideshow": {
     "slide_type": "slide"
    }
   },
   "source": [
    "# <center>**What is Deep Learning(DL)?**</center>\n",
    "\n",
    "* DL은 인공지능이라는 거대한 학문의 일부\n",
    "* DL은 ML의 여러 기법 중 하나\n",
    "<center><img src='img/03_02.png'></center>"
   ]
  },
  {
   "cell_type": "markdown",
   "metadata": {
    "slideshow": {
     "slide_type": "slide"
    }
   },
   "source": [
    "# <center>**What society thinks ML/DL does?**</center>\n",
    "<center><img src='img/chapter01_05.png'></center>"
   ]
  },
  {
   "cell_type": "markdown",
   "metadata": {
    "slideshow": {
     "slide_type": "slide"
    }
   },
   "source": [
    "# <center>**What my parents think I do?**</center>\n",
    "<center><img src='img/chapter01_06.png'></center>"
   ]
  },
  {
   "cell_type": "markdown",
   "metadata": {
    "slideshow": {
     "slide_type": "slide"
    }
   },
   "source": [
    "# <center>**What other co-workers think I do?**</center>\n",
    "<center><img src='img/chapter01_07.png'></center>"
   ]
  },
  {
   "cell_type": "markdown",
   "metadata": {
    "slideshow": {
     "slide_type": "slide"
    }
   },
   "source": [
    "# <center>**What my friends think I do?**</center>\n",
    "<center><img src='img/chapter01_08.png'></center>"
   ]
  },
  {
   "cell_type": "markdown",
   "metadata": {
    "slideshow": {
     "slide_type": "slide"
    }
   },
   "source": [
    "# <center>**What is Machine Learning?**</center>\n",
    "\n",
    "* 주어진 데이터나 과거 용례를 통하여 문제에 대한 해결 성능을 최대화 시키는 것\n",
    "<br><br>\n",
    "* Role of Statistics:\n",
    " * Inference from a sample\n",
    "<br><br>\n",
    "* Role of Computer Science:\n",
    " * 최적화 문제 해결\n",
    " * 추론을 위한 모델을 구성하고 평가"
   ]
  },
  {
   "cell_type": "markdown",
   "metadata": {
    "slideshow": {
     "slide_type": "slide"
    }
   },
   "source": [
    "# <center>**다시 말하면**</center>\n",
    "<center><img src='img/chapter01_09.png'></center>"
   ]
  },
  {
   "cell_type": "markdown",
   "metadata": {
    "slideshow": {
     "slide_type": "slide"
    }
   },
   "source": [
    "# <center>**프로그래밍의 경우**</center>\n",
    "<center><img src='img/chapter01_11.png'></center>"
   ]
  },
  {
   "cell_type": "markdown",
   "metadata": {
    "slideshow": {
     "slide_type": "slide"
    }
   },
   "source": [
    "# <center>**프로그래밍의 경우**</center>\n",
    "<center><img src='img/chapter01_11.png'></center>\n",
    "<center><img src='img/chapter01_10.png'></center>"
   ]
  },
  {
   "cell_type": "markdown",
   "metadata": {
    "slideshow": {
     "slide_type": "slide"
    }
   },
   "source": [
    "# <center>**머신러닝의 경우**</center>\n",
    "<center><img src='img/chapter01_12.png'></center>"
   ]
  },
  {
   "cell_type": "markdown",
   "metadata": {
    "slideshow": {
     "slide_type": "slide"
    }
   },
   "source": [
    "# <center>**머신러닝의 경우**</center>\n",
    "<center><img src='img/chapter01_12.png'></center>\n",
    "<center><img src='img/chapter01_13.png'  width='150%' height='150%'></center>"
   ]
  },
  {
   "cell_type": "markdown",
   "metadata": {
    "slideshow": {
     "slide_type": "slide"
    }
   },
   "source": [
    "# <center>**머신러닝의 경우**</center>\n",
    "<center><img src='img/chapter01_12.png'></center>\n",
    "<center><img src='img/chapter01_14.png'></center>"
   ]
  },
  {
   "cell_type": "markdown",
   "metadata": {
    "slideshow": {
     "slide_type": "slide"
    }
   },
   "source": [
    "<img src='img/chapter02_01.png'>\n",
    "\n",
    "<font size=\"5\">**CHAPTER 2:**</font><br><br>\n",
    "<font size=\"10\">**Applications**</font>"
   ]
  },
  {
   "cell_type": "markdown",
   "metadata": {
    "slideshow": {
     "slide_type": "slide"
    }
   },
   "source": [
    "# <center>**응용 분야**</center>\n",
    "* Association Rule Mining\n",
    "<br><br>\n",
    "* <b><u>Supervised Learning</u></b>\n",
    " * Classification\n",
    " * Regression\n",
    "<br><br>\n",
    "* Unsupervised learning\n",
    " * Clustering\n",
    " * Feature Extraction\n",
    " * Dimensionality Reduction\n",
    "<br><br>\n",
    "* Reinforcement learning"
   ]
  },
  {
   "cell_type": "markdown",
   "metadata": {
    "slideshow": {
     "slide_type": "slide"
    }
   },
   "source": [
    "# <center>**Supervised Learning**</center>\n",
    "* 학습셋(Training set)이 주어짐\n",
    "* 학습셋은 정답이 Labelled되어 있음\n",
    "<br><br>\n",
    "* 주어진 학습셋을 근거로 학습하여\n",
    "* 새로운 데이터에 대하여 정답을 예측함\n",
    "<center><img src='img/chapter02_03.png'></center>\n"
   ]
  },
  {
   "cell_type": "markdown",
   "metadata": {
    "slideshow": {
     "slide_type": "slide"
    }
   },
   "source": [
    "# <center>**Unsupervised Learning**</center>\n",
    "* 데이터들이 주어짐\n",
    " * Unlabelled일 수도, labelled 일 수도 있지만 상관 없음\n",
    "<br><br>\n",
    "* 주어진 데이터들의 정보를 이용하여<br>데이터들의 패턴을 알아내거나, 관계를 구성하거나 함\n",
    "* 명확하게 정해진 정답은 없음\n",
    "<center><img src='img/chapter02_06.png'></center>\n"
   ]
  },
  {
   "cell_type": "markdown",
   "metadata": {
    "slideshow": {
     "slide_type": "slide"
    }
   },
   "source": [
    "# <center>**Supervised Learning vs unsupervised Learning**</center>\n",
    "\n",
    "<center><img src='img/chapter02_07.png'></center>"
   ]
  },
  {
   "cell_type": "markdown",
   "metadata": {
    "slideshow": {
     "slide_type": "slide"
    }
   },
   "source": [
    "# <center>**Reinforcement Learning**</center>\n",
    "* Unsupervised Learning의 일종\n",
    "* 그러나 정해진 데이터에 의해 학습되어지는 것은 아님\n",
    "<br><br>\n",
    "* 보상, 벌점과 같은 개념을 모델링\n",
    "* 그 후 입력되는 데이터의 경험에 의한 학습\n",
    "<center><img src='img/chapter02_05.png'></center>"
   ]
  },
  {
   "cell_type": "markdown",
   "metadata": {
    "slideshow": {
     "slide_type": "slide"
    }
   },
   "source": [
    "<img src='img/chapter03_01.png'>\n",
    "\n",
    "<font size=\"5\">**CHAPTER 3:**</font><br><br>\n",
    "<font size=\"10\">**Supervised Learning 설명**</font>"
   ]
  },
  {
   "cell_type": "markdown",
   "metadata": {
    "slideshow": {
     "slide_type": "slide"
    }
   },
   "source": [
    "# <center>**다시 Supervised Learning**</center>\n",
    "* 궁극적 목표\n",
    " * $h(x)$ 함수(hypothesis)를 잘 정의/튜닝 하는 것\n",
    " * $h:x \\rightarrow y$\n",
    "<br><br>\n",
    "* $x$는 무엇?\n",
    " * 일반적으로 vector, matrix\n",
    " * $\\vec{x}=\\begin{bmatrix}x_1 & x_2 & ... & x_m\\end{bmatrix}$\n",
    "<br><br>\n",
    "* $y$는 무엇?\n",
    " * domain에 따라 다름 (scalar, vector, matrix)"
   ]
  },
  {
   "cell_type": "markdown",
   "metadata": {
    "slideshow": {
     "slide_type": "slide"
    }
   },
   "source": [
    "# <center>**다시 Supervised Learning**</center>\n",
    "* $y$의 domain에 따라\n",
    " * if $y = ℝ$\n",
    "   * Regression\n",
    "<br><br>\n",
    " * if $y$ is a finite discrete set (ex $y = \\{0,1,2\\}$)\n",
    "   * Classification\n",
    "<br><br>\n",
    " * if $y$ has only 2 elements (ex $y = \\{0,1\\}$)\n",
    "   * Binary Classification"
   ]
  },
  {
   "cell_type": "markdown",
   "metadata": {
    "slideshow": {
     "slide_type": "slide"
    }
   },
   "source": [
    "# <center>**정의**</center>\n",
    "* $h(x)$의 꼴\n",
    " * vector가 하나의 dimension을 가질 때\n",
    " * 즉, $\\vec{x}=[x]$ 일 때, 다음과 같은 꼴을 갖는다.\n",
    "$$h(x) = \\theta_0 + \\theta_1 x$$\n",
    "<br><br>\n",
    " * 여기서 $\\theta_0$와 $\\theta_1$은 상수가 된다.\n",
    "<br><br>\n",
    " * 쉽게 말해 1차 함수와 같은 꼴이다.\n",
    "$$h(x) = ax + b$$"
   ]
  },
  {
   "cell_type": "markdown",
   "metadata": {
    "slideshow": {
     "slide_type": "slide"
    }
   },
   "source": [
    "# <center>**정의**</center>\n",
    "* $h(x)$의 꼴\n",
    " * vector가 다수의 dimension을 가질 때\n",
    " * 즉, $\\vec{x}=[x_1, x_2, ..., x_m]$ 일 때, 다음과 같은 꼴을 갖는다.\n",
    "$$h(x) = \\theta_0x + \\theta_1x_1 + \\theta_2x_2 + ... + \\theta_mx_m$$\n",
    "<br><br>\n",
    " * 이때 x의 차수를 1, $x_0 = 1$이라고 하면\n",
    "$$h(x) = \\theta^Tx$$\n",
    "$$h(x) = \n",
    "\\begin{bmatrix}\\theta_0 & \\theta_1 & \\theta_2 & ... & \\theta_m \\end{bmatrix} \\times \\begin{bmatrix}\n",
    "1 \\\\\n",
    "x_1 \\\\\n",
    "x_2 \\\\\n",
    "... \\\\\n",
    "x_m\n",
    "\\end{bmatrix}\n",
    "$$"
   ]
  },
  {
   "cell_type": "markdown",
   "metadata": {
    "slideshow": {
     "slide_type": "slide"
    }
   },
   "source": [
    "# <center>**정의**</center>\n",
    "* 함수\n",
    " * $h(x) = \\theta^Tx$\n",
    "<br><br>\n",
    "* 입력\n",
    " * $\\vec{x}=\\begin{bmatrix}x_1 & x_2 & ... & x_m\\end{bmatrix}$\n",
    "<br><br>\n",
    "* 계수\n",
    " * $ \\theta_0, \\theta_1, ..., \\theta_m $\n",
    "<br><br>\n",
    "* 즉\n",
    " * Supervised Learning은 주어진 입력 $x$에 대해 계수 $\\theta$를 잘 정의하는 것"
   ]
  },
  {
   "cell_type": "markdown",
   "metadata": {
    "slideshow": {
     "slide_type": "slide"
    }
   },
   "source": [
    "# <center>**어떻게?**</center>\n",
    "<center><img src='img/chapter03_03.png'></center>"
   ]
  },
  {
   "cell_type": "markdown",
   "metadata": {
    "slideshow": {
     "slide_type": "slide"
    }
   },
   "source": [
    "# <center>**$x$에 대하여**</center>\n",
    "* $x$는 일반적으로 다수의 차원을 가진다.\n",
    "<br><br>\n",
    "* \"집 가격\"을 $\\vec{x}$로 표현해보자.\n",
    " * 위치\n",
    " * 면적(평수)\n",
    " * 집 타입 (아파트, 혹은 빌라. 단독 주택 여부)\n",
    " * 소유 타입 (전세, 매매 여부)\n",
    " * 방 개수\n",
    " * 화장실 개수"
   ]
  },
  {
   "cell_type": "markdown",
   "metadata": {
    "slideshow": {
     "slide_type": "subslide"
    }
   },
   "source": [
    "* Vectorize (Representation)\n",
    " * $\\vec{x}=\\begin{bmatrix}위치 & 면적 & 집타입 & 소유타입 & 방 개수 & 화장길 개수\\end{bmatrix}$\n",
    " * 간한히 하기 위해서 '면적'만 고려하기로 하자\n",
    "$$x = [면적]$$\n",
    " "
   ]
  },
  {
   "cell_type": "markdown",
   "metadata": {
    "slideshow": {
     "slide_type": "slide"
    }
   },
   "source": [
    "# <center>**$y$(학습셋)에 대하여**</center>\n",
    "* Supervised Learning\n",
    " * Labelled 학습셋이 주어짐\n",
    "<br><br>\n",
    "* 학습셋\n",
    " * $x = [면적], y = 집값$ 이라고 할 때,\n",
    "\n",
    "<center><img src='img/chapter03_04.png' width='50%' height='50%'></center>"
   ]
  },
  {
   "cell_type": "markdown",
   "metadata": {
    "slideshow": {
     "slide_type": "slide"
    }
   },
   "source": [
    "# <center>**모델링**</center>\n",
    "* $h(x) = \\theta_0 + \\theta_1x$\n",
    "<br><br>\n",
    "* 즉\n",
    " * $h(면적) = \\theta_0 + \\theta_1면적 = 집값$\n",
    "<br><br>\n",
    "* 좋은 모델\n",
    " * 학습셋에 labelled된 $y$를 주어진 $x$로<br>가장 잘 나타내는 $h(x)!!$\n",
    "<br><br>\n",
    "* 우리가 할 일\n",
    " * 그러기 위한 $\\theta_0,\\theta_1$의 결정\n"
   ]
  },
  {
   "cell_type": "markdown",
   "metadata": {
    "slideshow": {
     "slide_type": "slide"
    }
   },
   "source": [
    "# <center>**어떻게?**</center>\n",
    "<center><img src='img/chapter03_03.png'></center>"
   ]
  },
  {
   "cell_type": "markdown",
   "metadata": {
    "slideshow": {
     "slide_type": "slide"
    }
   },
   "source": [
    "# <center>**때려 맞추기**</center>\n",
    "* 1차 시도\n",
    " * $\\theta_0 = 3, \\theta_1 = 5 $\n",
    "<br><br>\n",
    "<center><img src='img/chapter03_05.png'></center>\n",
    "$$h(x) = 3+5x$$"
   ]
  },
  {
   "cell_type": "markdown",
   "metadata": {
    "slideshow": {
     "slide_type": "slide"
    }
   },
   "source": [
    "# <center>**때려 맞추기**</center>\n",
    "* 2차 시도\n",
    " * $\\theta_0 = 6, \\theta_1 = 100 $\n",
    "<br><br>\n",
    "<center><img src='img/chapter03_06.png'></center>\n",
    "$$h(x) = 6+100x$$"
   ]
  },
  {
   "cell_type": "markdown",
   "metadata": {
    "slideshow": {
     "slide_type": "slide"
    }
   },
   "source": [
    "# <center>**때려 맞추기**</center>\n",
    "* 3차 시도\n",
    " * $\\theta_0 = 60, \\theta_1 = 1000 $\n",
    "<br><br>\n",
    "<center><img src='img/chapter03_07.png'></center>\n",
    "$$h(x) = 60+1000x$$"
   ]
  },
  {
   "cell_type": "markdown",
   "metadata": {
    "slideshow": {
     "slide_type": "slide"
    }
   },
   "source": [
    "# <center>**때려 맞추기**</center>\n",
    "* 4차 시도\n",
    " * $\\theta_0 = 30, \\theta_1 = 800 $\n",
    "<br><br>\n",
    "<center><img src='img/chapter03_08.png'></center>\n",
    "$$h(x) = 30+800x$$"
   ]
  },
  {
   "cell_type": "markdown",
   "metadata": {
    "slideshow": {
     "slide_type": "slide"
    }
   },
   "source": [
    "# <center>**때려 맞추기**</center>\n",
    "<center><img src='img/chapter03_09.png'></center>"
   ]
  },
  {
   "cell_type": "markdown",
   "metadata": {
    "slideshow": {
     "slide_type": "slide"
    }
   },
   "source": [
    "<img src='img/chapter04_01.png'>\n",
    "\n",
    "<font size=\"5\">**CHAPTER 4:**</font><br><br>\n",
    "<font size=\"10\">**Cost function**</font>"
   ]
  },
  {
   "cell_type": "markdown",
   "metadata": {
    "slideshow": {
     "slide_type": "slide"
    }
   },
   "source": [
    "# <center>**노가다 언제 끝나요?**</center>\n",
    "* 언제까지?\n",
    " * 대체 언제 끝낼 수 있는 건데?\n",
    " * 무엇이 더 좋은 $h(x)$인가?\n",
    "<br><br>\n",
    "* Idea?\n",
    " * 나쁨(wrongness)을 정의\n",
    " * wrongness를 minimize시키는 전략\n",
    " * <b>cost function(or loss function)을 통하여<br>$h(x)$의 예측 $y'$와 주어진 학습셋의 $y$의 차이를 최소화</b>"
   ]
  },
  {
   "cell_type": "markdown",
   "metadata": {
    "slideshow": {
     "slide_type": "slide"
    }
   },
   "source": [
    "# <center>**Cost function**</center>\n",
    "* $J(\\theta)$ - cost function\n",
    " * $\\theta = \\begin{bmatrix}\\theta_0 & \\theta_1\\end{bmatrix}$\n",
    "<br><br>\n",
    "* 즉, $J(\\theta_0, \\theta_1)$\n",
    "<br><br>\n",
    "$$ J(\\theta_0, \\theta_1) = \\cfrac{1}{2n} \\sum_{i=1}^{n} (h(x^{(i)})-y^{(i)})^2  $$"
   ]
  },
  {
   "cell_type": "markdown",
   "metadata": {
    "slideshow": {
     "slide_type": "slide"
    }
   },
   "source": [
    "# <center>**Cost function**</center>\n",
    "$$ J(\\theta_0, \\theta_1) = \\cfrac{1}{2n} \\sum_{i=1}^{n} (h(x^{(i)})-y^{(i)})^2  $$\n",
    "<center><img src='img/chapter04_02.png'></center>"
   ]
  },
  {
   "cell_type": "markdown",
   "metadata": {
    "slideshow": {
     "slide_type": "slide"
    }
   },
   "source": [
    "# <center>**Cost function**</center>\n",
    "* 일반화 (using Monte Carlo Method)\n",
    "<br><br>\n",
    "<center><img src='img/chapter04_03.png'></center> "
   ]
  },
  {
   "cell_type": "markdown",
   "metadata": {
    "slideshow": {
     "slide_type": "slide"
    }
   },
   "source": [
    "# <center>**아니다!**</center>\n",
    "* 우리가 구한 시행에서는 최소!\n",
    "* 그러나! global인 최소인지 아닌지, 알 수 없다!\n",
    "<br><br>\n",
    "<center><img src='img/chapter04_04.png'></center> "
   ]
  },
  {
   "cell_type": "markdown",
   "metadata": {
    "slideshow": {
     "slide_type": "slide"
    }
   },
   "source": [
    "# <center>**아니다!**</center>\n",
    "* best로 보이는 공간을 확대해서 보면?\n",
    "<br><br>\n",
    "<center><img src='img/chapter04_05.png'></center> "
   ]
  },
  {
   "cell_type": "markdown",
   "metadata": {
    "slideshow": {
     "slide_type": "slide"
    }
   },
   "source": [
    "# <center>**Cost function 결과 비교**</center>\n",
    "* 노가다 보다 나은 길\n",
    "<br><br>\n",
    "<center><img src='img/chapter04_06.png'></center> "
   ]
  },
  {
   "cell_type": "markdown",
   "metadata": {
    "slideshow": {
     "slide_type": "slide"
    }
   },
   "source": [
    "# <center>**다시 최적화 문제**</center>\n",
    "* 우리는 $J(\\theta_0,\\theta_1)$이 최소화가 되는 $\\theta_0,\\theta_1$를 쉽게 알 수 없음\n",
    " * 이것을 안다는 것은 이미 문제를 풀었다는 것\n",
    " * 함수의 꼴과 차수에 따라, $\\theta$의 개수에 따라 문제는 어려워 짐\n",
    "<center><img src='img/chapter04_07.png'></center> "
   ]
  },
  {
   "cell_type": "markdown",
   "metadata": {
    "slideshow": {
     "slide_type": "slide"
    }
   },
   "source": [
    "<img src='img/chapter05_01.png'>\n",
    "\n",
    "<font size=\"5\">**CHAPTER 5:**</font><br><br>\n",
    "<font size=\"10\">**Mathematical Optimization**</font>"
   ]
  },
  {
   "cell_type": "markdown",
   "metadata": {
    "slideshow": {
     "slide_type": "slide"
    }
   },
   "source": [
    "# <center>**미분으로 접근**</center>\n",
    "* Idea\n",
    " * 어떤 공간의 임의의 위치에서 주어진 축에 대해 더 작은 위치로 내려가기 위해서는?"
   ]
  },
  {
   "cell_type": "markdown",
   "metadata": {
    "slideshow": {
     "slide_type": "slide"
    }
   },
   "source": [
    "# <center>**Gradient Descent(GD) method**</center>\n",
    "* 정의\n",
    "$$ Repeat\\ until\\ covergence \\{ \\\\\n",
    "\\theta_j := \\theta_j - \\alpha \\cfrac {\\partial}{\\partial \\theta_j}J(\\theta)\n",
    "\\} $$\n",
    " * $\\alpha$로 수렴 속도를 결정"
   ]
  },
  {
   "cell_type": "markdown",
   "metadata": {
    "slideshow": {
     "slide_type": "slide"
    }
   },
   "source": [
    " # <center>**MCM vs GDM**</center>\n",
    "* 1차\n",
    "<img src='img/chapter05_02.png'>"
   ]
  },
  {
   "cell_type": "markdown",
   "metadata": {
    "slideshow": {
     "slide_type": "slide"
    }
   },
   "source": [
    " # <center>**MCM vs GDM**</center>\n",
    "* 2차\n",
    "<img src='img/chapter05_03.png'>"
   ]
  },
  {
   "cell_type": "markdown",
   "metadata": {
    "slideshow": {
     "slide_type": "slide"
    }
   },
   "source": [
    " # <center>**MCM vs GDM**</center>\n",
    "* 3차\n",
    "<img src='img/chapter05_04.png'>"
   ]
  },
  {
   "cell_type": "markdown",
   "metadata": {
    "slideshow": {
     "slide_type": "slide"
    }
   },
   "source": [
    " # <center>**MCM vs GDM**</center>\n",
    "* 4차\n",
    "<img src='img/chapter05_05.png'>"
   ]
  },
  {
   "cell_type": "markdown",
   "metadata": {
    "slideshow": {
     "slide_type": "slide"
    }
   },
   "source": [
    " # <center>**MCM vs GDM**</center>\n",
    "* 5차\n",
    "<img src='img/chapter05_06.png'>"
   ]
  },
  {
   "cell_type": "markdown",
   "metadata": {
    "slideshow": {
     "slide_type": "slide"
    }
   },
   "source": [
    " # <center>**MCM vs GDM**</center>\n",
    "* 6차\n",
    "<img src='img/chapter05_07.png'>"
   ]
  },
  {
   "cell_type": "markdown",
   "metadata": {
    "slideshow": {
     "slide_type": "slide"
    }
   },
   "source": [
    "# <center>**정리**</center>\n",
    "* 머신러닝(딥러닝도!!)은 주어진 데이터 $x$에 대하여 정해진 모델로 $y$를 잘 설명할 수 있게 하는 것\n",
    "* 그러기 위하여 최적화된 $\\theta$를 찾아야 함\n",
    " * $\\theta$ 공간에서 주어진 $J(\\theta)$의 가장 작은 값을 찾는 것이 목표\n",
    "<br><br>\n",
    "<center><img src='img/chapter04_08.png' width='30%', height='30%'></center> "
   ]
  },
  {
   "cell_type": "code",
   "execution_count": null,
   "metadata": {},
   "outputs": [],
   "source": []
  }
 ],
 "metadata": {
  "celltoolbar": "Slideshow",
  "kernelspec": {
   "display_name": "Python py3",
   "language": "python",
   "name": "py3"
  },
  "language_info": {
   "codemirror_mode": {
    "name": "ipython",
    "version": 3
   },
   "file_extension": ".py",
   "mimetype": "text/x-python",
   "name": "python",
   "nbconvert_exporter": "python",
   "pygments_lexer": "ipython3",
   "version": "3.7.3"
  },
  "latex_envs": {
   "LaTeX_envs_menu_present": true,
   "autoclose": false,
   "autocomplete": true,
   "bibliofile": "biblio.bib",
   "cite_by": "apalike",
   "current_citInitial": 1,
   "eqLabelWithNumbers": true,
   "eqNumInitial": 1,
   "hotkeys": {
    "equation": "Ctrl-E",
    "itemize": "Ctrl-I"
   },
   "labels_anchors": false,
   "latex_user_defs": false,
   "report_style_numbering": false,
   "user_envs_cfg": false
  },
  "toc": {
   "base_numbering": "1",
   "nav_menu": {},
   "number_sections": false,
   "sideBar": false,
   "skip_h1_title": false,
   "title_cell": "Table of Contents",
   "title_sidebar": "Contents",
   "toc_cell": false,
   "toc_position": {
    "height": "47px",
    "left": "1761px",
    "top": "802px",
    "width": "159px"
   },
   "toc_section_display": false,
   "toc_window_display": false
  },
  "varInspector": {
   "cols": {
    "lenName": 16,
    "lenType": 16,
    "lenVar": 40
   },
   "kernels_config": {
    "python": {
     "delete_cmd_postfix": "",
     "delete_cmd_prefix": "del ",
     "library": "var_list.py",
     "varRefreshCmd": "print(var_dic_list())"
    },
    "r": {
     "delete_cmd_postfix": ") ",
     "delete_cmd_prefix": "rm(",
     "library": "var_list.r",
     "varRefreshCmd": "cat(var_dic_list()) "
    }
   },
   "types_to_exclude": [
    "module",
    "function",
    "builtin_function_or_method",
    "instance",
    "_Feature"
   ],
   "window_display": false
  }
 },
 "nbformat": 4,
 "nbformat_minor": 2
}
