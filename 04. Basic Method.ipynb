{
 "cells": [
  {
   "cell_type": "code",
   "execution_count": 4,
   "metadata": {
    "slideshow": {
     "slide_type": "notes"
    }
   },
   "outputs": [
    {
     "data": {
      "text/html": [
       "<style>\n",
       "table, th, td {\n",
       "    max-width: none;\n",
       "    white-space: normal;\n",
       "    line-height: normal;\n",
       "    padding: 0.5em 0.5em;\n",
       "    width: 30%;\n",
       "    height: 30%;\n",
       "    font-size: 20px;\n",
       "  }\n",
       "</style>\n"
      ],
      "text/plain": [
       "<IPython.core.display.HTML object>"
      ]
     },
     "metadata": {},
     "output_type": "display_data"
    }
   ],
   "source": [
    "%%html\n",
    "<style>\n",
    "table, th, td {\n",
    "    max-width: none;\n",
    "    white-space: normal;\n",
    "    line-height: normal;\n",
    "    padding: 0.5em 0.5em;\n",
    "    width: 30%;\n",
    "    height: 30%;\n",
    "    font-size: 20px;\n",
    "  }\n",
    "</style>"
   ]
  },
  {
   "cell_type": "markdown",
   "metadata": {
    "slideshow": {
     "slide_type": "slide"
    }
   },
   "source": [
    "<img src='img/fastcamp_h.png'>\n",
    "\n",
    "# 4. Deep Learning from Basic Method"
   ]
  },
  {
   "cell_type": "markdown",
   "metadata": {
    "slideshow": {
     "slide_type": "slide"
    }
   },
   "source": [
    "# Short History; Deep Learning\n",
    "\n",
    "<img src='img/03_00.png'>"
   ]
  },
  {
   "cell_type": "markdown",
   "metadata": {
    "slideshow": {
     "slide_type": "slide"
    }
   },
   "source": [
    "# Perceptron\n",
    "\n",
    "* 인간의 뉴런을 본따 1957년 코넬 항공 연구소에서 고안됨\n",
    "* 선형 분류기의 일종\n",
    "* 각 입력에서 각 가중치를 곱한 합의 크기로 결과를 활성화할지 비활성화할지 선택\n",
    "<center><img src='img/03_03.png'></center>"
   ]
  },
  {
   "cell_type": "markdown",
   "metadata": {
    "slideshow": {
     "slide_type": "slide"
    }
   },
   "source": [
    "# Perceptron의 구조\n",
    "\n",
    "<center><img src='img/03_01.png'></center>\n",
    "\n",
    "* input($x_n$): 외부에서 들어오는 입력, 보통 vector, matrix\n",
    "* weight($w_n$): x와 곱해지는 가중치, DL에서 구해야하는 값\n",
    "* bias($1$): 바이어스, 절편 값\n",
    "* sigma: x와w의 곱 + bias의 합을 출력\n",
    "* step function: 해당 출력의 활성 여부를 결정\n",
    "\n",
    "* $y = f(w^Tx+b)$"
   ]
  },
  {
   "cell_type": "markdown",
   "metadata": {
    "slideshow": {
     "slide_type": "slide"
    }
   },
   "source": [
    "# 선형 분류기란?\n",
    "\n",
    "* $y$를 $x$의 차수가 2를 초과하지 않는 방정식으로 분리 할 수 있는 경우\n",
    "\n",
    "<center><img src='img/04_01.png'></center>\n"
   ]
  },
  {
   "cell_type": "markdown",
   "metadata": {
    "slideshow": {
     "slide_type": "slide"
    }
   },
   "source": [
    "# AND Gate\n",
    "\n",
    "<table>\n",
    "<tr>\n",
    "<td>\n",
    "    \n",
    "| $x_1$ | $x_2$ | $y$ |\n",
    "|:--------|:--------|:--------|\n",
    "| 0 | 0 | 0 |\n",
    "| 0 | 1 | 0 |\n",
    "| 1 | 0 | 0 |\n",
    "| 1 | 1 | 1 |\n",
    "\n",
    "</td><td>\n",
    "    \n",
    " <img src='img/04_02.png'>\n",
    " \n",
    "</td>\n",
    "</tr>\n",
    "</table>\n",
    "\n",
    "* 모든 x 입력이 1일 때 y는 1을 출력하는 게이트"
   ]
  },
  {
   "cell_type": "markdown",
   "metadata": {
    "slideshow": {
     "slide_type": "slide"
    }
   },
   "source": [
    "# AND Gate 선형 분류 방정식\n",
    "\n",
    "$$ w_1 = 1 $$\n",
    "$$ w_2 = 1 $$\n",
    "\n",
    "\\begin{align}\n",
    "f(x_1, x_2) &= w_1x_1 + w_2x_2 + b &>= 0 \\nonumber \\\\\n",
    "&= x_1 + x_2 &>= -b \\nonumber \\\\\n",
    "&= 1 + 1 &>= -b \\nonumber \\\\\n",
    "&= 2 &>= -b \\nonumber \\\\\n",
    "\\end{align}\n",
    "\n",
    "$$ b = -2 $$\n",
    "\n",
    "$$ f(x_1, x_2) = x_1 + x_2 - 2 >= 0 $$"
   ]
  },
  {
   "cell_type": "markdown",
   "metadata": {
    "slideshow": {
     "slide_type": "slide"
    }
   },
   "source": [
    "# OR Gate\n",
    "\n",
    "<table>\n",
    "<tr>\n",
    "<td>\n",
    "    \n",
    "| $x_1$ | $x_2$ | $y$ |\n",
    "|:--------|:--------|:--------|\n",
    "| 0 | 0 | 0 |\n",
    "| 0 | 1 | 1 |\n",
    "| 1 | 0 | 1 |\n",
    "| 1 | 1 | 1 |\n",
    "\n",
    "</td><td>\n",
    "    \n",
    " <center><img src='img/04_03.png'></center> \n",
    " \n",
    "</td>\n",
    "</tr>\n",
    "</table>\n",
    "\n",
    "* 어떤 x 입력이 1일 때 y는 1을 출력하는 게이트"
   ]
  },
  {
   "cell_type": "markdown",
   "metadata": {
    "slideshow": {
     "slide_type": "slide"
    }
   },
   "source": [
    "# OR Gate 선형 분류 방정식\n",
    "\n",
    "$$ w_1 = 1 $$\n",
    "$$ w_2 = 1 $$\n",
    "\n",
    "\\begin{align}\n",
    "f(x_1, x_2) &= w_1x_1 + w_2x_2 + b &>= 0 \\nonumber \\\\\n",
    "&= x_1 + x_2 &>= -b \\nonumber \\\\\n",
    "&= 1 + 0 &>= -b \\nonumber \\\\\n",
    "&= 1 &>= -b \\nonumber \\\\\n",
    "\\end{align}\n",
    "\n",
    "$$ b = -1 $$\n",
    "\n",
    "$$ f(x_1, x_2) = x_1 + x_2 - 1 >= 0 $$"
   ]
  },
  {
   "cell_type": "code",
   "execution_count": null,
   "metadata": {},
   "outputs": [],
   "source": []
  }
 ],
 "metadata": {
  "celltoolbar": "Slideshow",
  "kernelspec": {
   "display_name": "Python py3",
   "language": "python",
   "name": "py3"
  },
  "language_info": {
   "codemirror_mode": {
    "name": "ipython",
    "version": 3
   },
   "file_extension": ".py",
   "mimetype": "text/x-python",
   "name": "python",
   "nbconvert_exporter": "python",
   "pygments_lexer": "ipython3",
   "version": "3.7.3"
  },
  "toc": {
   "base_numbering": 1,
   "nav_menu": {},
   "number_sections": false,
   "sideBar": true,
   "skip_h1_title": false,
   "title_cell": "Table of Contents",
   "title_sidebar": "Contents",
   "toc_cell": false,
   "toc_position": {
    "height": "calc(100% - 180px)",
    "left": "10px",
    "top": "150px",
    "width": "294.594px"
   },
   "toc_section_display": true,
   "toc_window_display": false
  },
  "varInspector": {
   "cols": {
    "lenName": 16,
    "lenType": 16,
    "lenVar": 40
   },
   "kernels_config": {
    "python": {
     "delete_cmd_postfix": "",
     "delete_cmd_prefix": "del ",
     "library": "var_list.py",
     "varRefreshCmd": "print(var_dic_list())"
    },
    "r": {
     "delete_cmd_postfix": ") ",
     "delete_cmd_prefix": "rm(",
     "library": "var_list.r",
     "varRefreshCmd": "cat(var_dic_list()) "
    }
   },
   "types_to_exclude": [
    "module",
    "function",
    "builtin_function_or_method",
    "instance",
    "_Feature"
   ],
   "window_display": false
  }
 },
 "nbformat": 4,
 "nbformat_minor": 2
}
