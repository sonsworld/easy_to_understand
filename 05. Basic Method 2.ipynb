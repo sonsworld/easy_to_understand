{
 "cells": [
  {
   "cell_type": "markdown",
   "metadata": {
    "slideshow": {
     "slide_type": "slide"
    }
   },
   "source": [
    "<img src='img/fastcamp_h.png'>\n",
    "\n",
    "# 5강. Deep Learning from Basic Method 2 with Keras"
   ]
  },
  {
   "cell_type": "markdown",
   "metadata": {
    "slideshow": {
     "slide_type": "slide"
    }
   },
   "source": [
    "# AI의 겨울\n",
    "\n",
    "* perceptron이 이렇게 강력했지만 이후 ai는 20년에 가까운 시간 동안 \"AI Winter\"라는 시기를 겪음\n",
    "* 왜 그럴까?"
   ]
  },
  {
   "cell_type": "markdown",
   "metadata": {
    "slideshow": {
     "slide_type": "fragment"
    }
   },
   "source": [
    "# XOR PROBLEM; 비선형 문제\n",
    "\n",
    "<img src='img/05_01.png' width=30% height=30%>\n",
    "\n",
    "* 기존의 AND 문제, OR 문제는 방정식 1개로 (선형으로) 문제를 해결 할 수 있었음\n",
    "* 그러나 XOR는 1개의 방정식으로 해결 할 수 없음\n",
    "  * 이 문제를 perceptron은 절대 해결 할 수 없기 때문에 AI winter가 찾아옴\n",
    "  * 1969년 Marvin Minsky와 Seymour Papert의 “Perceptrons: an introduction to computational geometry”"
   ]
  },
  {
   "cell_type": "markdown",
   "metadata": {
    "slideshow": {
     "slide_type": "subslide"
    }
   },
   "source": [
    "# Multi-Layer Perceptron(MLP) 의 등장\n",
    "\n",
    "* 1986년 McClelland, James L., David E. Rumelhart, and **Geoffrey E. Hinton**이 MLP를 발표\n",
    "* 이전 perceptron의 출력을 또다른 perceptron의 입력으로 사용하고 현재 출력에 비선형 step function을 사용하여 MLP가 비선형으로 동작하게 함"
   ]
  },
  {
   "cell_type": "markdown",
   "metadata": {
    "slideshow": {
     "slide_type": "fragment"
    }
   },
   "source": [
    "# 선형 분류와 비선형 분류의 차이\n",
    "\n",
    "<center><img src='img/05_03.png'></center>"
   ]
  },
  {
   "cell_type": "markdown",
   "metadata": {
    "slideshow": {
     "slide_type": "subslide"
    }
   },
   "source": [
    "# 다시보는 Perceptron의 구조\n",
    "\n",
    "<center><img src='img/03_01.png'></center>\n",
    "\n",
    "* input($x_n$): 외부에서 들어오는 입력, 보통 vector, matrix\n",
    "* weight($w_n$): x와 곱해지는 가중치, DL에서 구해야하는 값\n",
    "* bias($1$): 바이어스, 절편 값\n",
    "* sigma: x와 w의 곱 + bias의 합을 출력\n",
    "* step function: 해당 출력의 활성 여부를 결정"
   ]
  },
  {
   "cell_type": "markdown",
   "metadata": {
    "slideshow": {
     "slide_type": "subslide"
    }
   },
   "source": [
    "# Multi-Layer Perceptron의 구조\n",
    "\n",
    "<center><img src='img/05_02.png' height=50% width=50%></center>\n",
    "\n",
    "* input layer: 외부에서 들어오는 입력, 보통 vector, matrix\n",
    "* hidden layer:\n",
    " 1. 각 노드는 이전 layer의 출력을 입력으로 받음\n",
    " 2. hidden layer의 각 노드는 step funtion을 가짐\n"
   ]
  },
  {
   "cell_type": "markdown",
   "metadata": {
    "slideshow": {
     "slide_type": "subslide"
    }
   },
   "source": [
    "# Multi-Layer Perceptron의 구조\n",
    "\n",
    "<center><img src='img/05_02.png' height=50% width=50%></center>\n",
    "\n",
    "* hidden layer의 각 노드\n",
    " * weight($w_n$): 이전 입력과 곱해지는 가중치, DL에서 구해야하는 값\n",
    " * bias($1$): 바이어스, 절편 값\n",
    " * sigma: 입력과 w의 곱 + bias의 합을 출력\n",
    " * activation/step function: 해당 출력의 활성 여부를 결정"
   ]
  },
  {
   "cell_type": "markdown",
   "metadata": {
    "slideshow": {
     "slide_type": "subslide"
    }
   },
   "source": [
    "# XOR GATE model의 구조\n",
    "<br><br>\n",
    "<center><img src='img/05_04.png' width=70% height=70%></center>"
   ]
  },
  {
   "cell_type": "code",
   "execution_count": 19,
   "metadata": {
    "slideshow": {
     "slide_type": "slide"
    }
   },
   "outputs": [
    {
     "name": "stdout",
     "output_type": "stream",
     "text": [
      "오차: 1.1934709548950195\n",
      "오차: 0.1989368498325348\n",
      "오차: 0.15673863887786865\n",
      "오차: 0.12096760421991348\n",
      "오차: 0.0845719426870346\n",
      "오차: 0.05304841324687004\n",
      "오차: 0.02948678657412529\n",
      "오차: 0.014505070634186268\n",
      "오차: 0.0064311884343624115\n",
      "오차: 0.002637288300320506\n",
      "정확도: 1.0\n"
     ]
    }
   ],
   "source": [
    "#XOR 문제를 풀어보자\n",
    "import keras\n",
    "from keras.layers import Dense\n",
    "from keras.models import Sequential\n",
    "import numpy as np\n",
    "\n",
    "model = Sequential()\n",
    "model.add(Dense(2, input_shape=(2,), activation='tanh'))\n",
    "model.add(Dense(1))\n",
    "model.compile(optimizer='sgd', loss='mse')\n",
    "\n",
    "X = np.array([[0,0], [0,1], [1,0], [1,1]])\n",
    "Y = np.array([[0], [1], [1], [0]])\n",
    "hist = model.fit(X, Y, epochs=3000, verbose=0)\n",
    "\n",
    "H = (model.predict(X) > 0.5).astype(np.float32)\n",
    "for loss in hist.history['loss'][::300]:\n",
    "    print('오차:', loss)\n",
    "print('정확도:', np.mean(np.equal(H, Y)))"
   ]
  },
  {
   "cell_type": "markdown",
   "metadata": {
    "slideshow": {
     "slide_type": "slide"
    }
   },
   "source": [
    "# Activation을 선형으로 바꾸면 어떻게 될까?"
   ]
  },
  {
   "cell_type": "code",
   "execution_count": 20,
   "metadata": {
    "slideshow": {
     "slide_type": "fragment"
    }
   },
   "outputs": [
    {
     "name": "stdout",
     "output_type": "stream",
     "text": [
      "오차: 1.3322943449020386\n",
      "오차: 0.25137215852737427\n",
      "오차: 0.2500744163990021\n",
      "오차: 0.25000476837158203\n",
      "오차: 0.2500002980232239\n",
      "오차: 0.2500000298023224\n",
      "오차: 0.25\n",
      "오차: 0.25\n",
      "오차: 0.2499999701976776\n",
      "오차: 0.25\n",
      "정확도: 0.75\n"
     ]
    }
   ],
   "source": [
    "import keras\n",
    "from keras.layers import Dense\n",
    "from keras.models import Sequential\n",
    "import numpy as np\n",
    "\n",
    "model = Sequential()\n",
    "model.add(Dense(2, input_shape=(2,), activation='linear'))\n",
    "model.add(Dense(1))\n",
    "model.compile(optimizer='sgd', loss='mse')\n",
    "\n",
    "X = np.array([[0,0], [0,1], [1,0], [1,1]])\n",
    "Y = np.array([[0], [1], [1], [0]])\n",
    "hist = model.fit(X, Y, epochs=3000, verbose=0)\n",
    "\n",
    "H = (model.predict(X) > 0.5).astype(np.float32)\n",
    "for loss in hist.history['loss'][::300]:\n",
    "    print('오차:', loss)\n",
    "print('정확도:', np.mean(np.equal(H, Y)))"
   ]
  },
  {
   "cell_type": "code",
   "execution_count": 22,
   "metadata": {
    "slideshow": {
     "slide_type": "subslide"
    }
   },
   "outputs": [
    {
     "name": "stdout",
     "output_type": "stream",
     "text": [
      "오차: 0.9149474501609802\n",
      "오차: 0.25\n",
      "오차: 0.25\n",
      "오차: 0.25\n",
      "오차: 0.25\n",
      "오차: 0.25\n",
      "오차: 0.25\n",
      "오차: 0.25\n",
      "오차: 0.25\n",
      "오차: 0.25\n",
      "정확도: 0.25\n"
     ]
    }
   ],
   "source": [
    "import keras\n",
    "from keras.layers import Dense\n",
    "from keras.models import Sequential\n",
    "import numpy as np\n",
    "\n",
    "model = Sequential()\n",
    "model.add(Dense(2, input_shape=(2,), activation='linear'))\n",
    "model.add(Dense(1))\n",
    "model.compile(optimizer='sgd', loss='mse')\n",
    "\n",
    "X = np.array([[0,0], [0,1], [1,0], [1,1]])\n",
    "Y = np.array([[0], [1], [1], [0]])\n",
    "hist = model.fit(X, Y, epochs=30000, verbose=0)           #epochs가 부족해서 그런건 아닐까? 3만번 돌려보\n",
    "\n",
    "H = (model.predict(X) > 0.5).astype(np.float32)\n",
    "for loss in hist.history['loss'][::3000]:\n",
    "    print('오차:', loss)\n",
    "print('정확도:', np.mean(np.equal(H, Y)))"
   ]
  },
  {
   "cell_type": "markdown",
   "metadata": {
    "slideshow": {
     "slide_type": "slide"
    }
   },
   "source": [
    "# 선형은 아무리 겹쳐도 선형\n",
    "\n",
    "* XOR MLP의 수식을 다음과 같다고 가정\n",
    "\n",
    "\\begin{align}\n",
    "g(f(x)) = y \\nonumber\n",
    "\\end{align}\n",
    "\n",
    "\\begin{align}\n",
    "f(x) = ax + b \\nonumber \\\\\n",
    "g(x) = cx + d \\nonumber \\\\\n",
    "z(x) = mx + n \\nonumber\n",
    "\\end{align}\n",
    "\n",
    "\\begin{align}\n",
    "g(f(x)) &= y \\nonumber \\\\\n",
    "&= c(ax + b) + d \\nonumber \\\\\n",
    "&= cax + cb + d \\nonumber \\\\\n",
    "&= (ca)x + (cb + d), ca \\rightarrow m, cb + d \\rightarrow n  \\nonumber \\\\\n",
    "&= mx + n \\nonumber \\\\\n",
    "&= z(x) \\nonumber\n",
    "\\end{align}"
   ]
  },
  {
   "cell_type": "markdown",
   "metadata": {
    "slideshow": {
     "slide_type": "slide"
    }
   },
   "source": [
    "# 왜 이렇게 오래걸렸나?\n",
    "\n",
    "* 우리가 보기에 바뀐게 거의 없을 정도\n",
    "* 그런데 왜 20여년 정도 AI winter였을까?"
   ]
  },
  {
   "cell_type": "markdown",
   "metadata": {
    "slideshow": {
     "slide_type": "slide"
    }
   },
   "source": [
    "# Loss Function의 어려움\n",
    "\n",
    "* Marvin Minsky 교수는 MLP와 같은 개념으로 XOR를 풀 수 있다는 것은 알고 있었음\n",
    "* 그러나 MLP 같은 방식의 모델에서 loss/cost function을 수행하는 것이 불가능하다고 단정\n",
    "\n",
    "<center><img src='img/03_05.png' width=50% height=50%></center>"
   ]
  },
  {
   "cell_type": "markdown",
   "metadata": {
    "slideshow": {
     "slide_type": "subslide"
    }
   },
   "source": [
    "* 5~6년 뒤 MIT 박사과정의 Paul werbos가 backpropagation를 통한 학습이 가능함을 연구하였지만 당시 분위기상 무시됨\n",
    "* 그것을 박사과정 중이던 르쿤 교수가 다시 찾아내고(1984), 2년 뒤 힌튼 교수가 백프로퍼게이션을 재정립(1986) 시키면서 MLP가 부활함\n",
    "\n",
    "<center><img src='img/05_04.png' width=100% height=100%></center>"
   ]
  },
  {
   "cell_type": "markdown",
   "metadata": {
    "slideshow": {
     "slide_type": "subslide"
    }
   },
   "source": [
    "# Backpropagation (역전파)\n",
    "\n",
    "* chain-rule을 이용하는 그라디언트 디센트 방식\n",
    "* ANN을 효율적으로 학습하기 위하여 가중치 업데이트를 반복/재귀적으로 역순 수행함\n",
    "* activation의 결과를 어떻게 미분할지 설정해야함\n",
    " * 최근 많은 라이브러리에서 Automatic differentiation를 제공하여 사용자가 function에 대한 미분을 정의할 필요는 없음\n",
    "* 일반적으로 그라디언트 디센트를 통하여 loss function의 기울기를 계산하여 가중치를 조절함"
   ]
  },
  {
   "cell_type": "markdown",
   "metadata": {
    "slideshow": {
     "slide_type": "subslide"
    }
   },
   "source": [
    "# Backprop의 concept\n",
    "\n",
    "## Gradient Descent\n",
    "\n",
    "* 함수를 미분하여 오차가 감소하는 방향으로 $\\alpha$만큼 기울기를 조절\n",
    "\n",
    "## Chain-rule을 이용한 computation graph\n",
    "\n",
    "* 계산 연산을 그래프 구조 형태로 변환하여 복잡한 미분을 쉽게 분해하여 단계별로 하는 기법\n",
    "* 즉, computation graph를 이용하여 복잡한 수식을 미분 입장에서 쉽게 변경한 뒤 각각을 미분하여 GD방법으로 오차를 줄임"
   ]
  },
  {
   "cell_type": "markdown",
   "metadata": {
    "slideshow": {
     "slide_type": "subslide"
    }
   },
   "source": [
    "$$ f(x,y,z) = (x+y)z \\nonumber $$\n",
    "\n",
    "$$ x = -2 \\nonumber $$\n",
    "$$ y = 5 \\nonumber $$\n",
    "$$ z = -4 \\nonumber $$\n",
    "\n",
    "<center><img src='img/05_08.png' width=25% height=25%></center>"
   ]
  },
  {
   "cell_type": "markdown",
   "metadata": {
    "slideshow": {
     "slide_type": "subslide"
    }
   },
   "source": [
    "* chain-rule을 적용하기 위해 다음과 같이 치환 가능\n",
    "\n",
    "$$ f(x,y,z) = g(h(x,y),z) \\nonumber $$\n",
    "$$ h(x,y) = x + y, g(a,b) = a * b \\nonumber $$\n",
    "\n",
    "$$ \\frac{df}{dx} =  \\frac{dg}{dh}\\frac{dh}{dx} \\nonumber $$\n",
    "\n",
    "$$ \\frac{df}{dy} =  \\frac{dg}{dh}\\frac{dh}{dy} \\nonumber $$\n",
    "\n",
    "$$ q = x + y, \\frac{dq}{dx} = 1,  \\frac{dq}{dy} = 1 \\nonumber $$\n",
    "\n",
    "$$ f = qz, \\frac{df}{dq} = z, \\frac{df}{dz} = q \\nonumber $$\n",
    "\n",
    "\n",
    "\n"
   ]
  },
  {
   "cell_type": "markdown",
   "metadata": {
    "slideshow": {
     "slide_type": "subslide"
    }
   },
   "source": [
    "<center><img src='img/05_09.png' width=25% height=25%></center>"
   ]
  },
  {
   "cell_type": "markdown",
   "metadata": {
    "slideshow": {
     "slide_type": "fragment"
    }
   },
   "source": [
    "<center><img src='img/05_10.png' width=25% height=25%></center>"
   ]
  },
  {
   "cell_type": "markdown",
   "metadata": {
    "slideshow": {
     "slide_type": "subslide"
    }
   },
   "source": [
    "<center><img src='img/05_11.png' width=25% height=25%></center>"
   ]
  },
  {
   "cell_type": "markdown",
   "metadata": {
    "slideshow": {
     "slide_type": "fragment"
    }
   },
   "source": [
    "<center><img src='img/05_12.png' width=25% height=25%></center>"
   ]
  },
  {
   "cell_type": "markdown",
   "metadata": {
    "slideshow": {
     "slide_type": "subslide"
    }
   },
   "source": [
    "<center><img src='img/05_13.png' width=20% height=20%></center>"
   ]
  },
  {
   "cell_type": "markdown",
   "metadata": {
    "slideshow": {
     "slide_type": "fragment"
    }
   },
   "source": [
    "<center><img src='img/05_14.png' width=20% height=20%></center>"
   ]
  },
  {
   "cell_type": "markdown",
   "metadata": {
    "slideshow": {
     "slide_type": "subslide"
    }
   },
   "source": [
    "# computation graph의 핵심\n",
    "\n",
    "* 전역적 미분을 연산당 국소적 미분으로 변경함\n",
    "\n",
    "<center><img src='img/05_15.png' width=50% height=50%></center>"
   ]
  },
  {
   "cell_type": "markdown",
   "metadata": {
    "slideshow": {
     "slide_type": "subslide"
    }
   },
   "source": [
    "* 모든 연산 입장에서는 들어오는 오차에 대해서만 미분하면 연쇄적으로 전체를 미분하는 효과\n",
    "<center><img src='img/05_16.png' width=50% height=50%></center>\n",
    "\n",
    "* https://slideplayer.com/slide/14389002/ 예제를 포함한 설명"
   ]
  },
  {
   "cell_type": "markdown",
   "metadata": {
    "slideshow": {
     "slide_type": "slide"
    }
   },
   "source": [
    "* 결과적으로 MLP의 연결은 다음과 같은 형태의 그래프로 표현 될 수 있음\n",
    "<center><img src='img/05_17.png' width=100% height=100%></center>"
   ]
  },
  {
   "cell_type": "markdown",
   "metadata": {
    "slideshow": {
     "slide_type": "slide"
    }
   },
   "source": [
    "* 재귀적으로 미분을하여 뒤로 보냄 \n",
    "<center><img src='img/05_18.png' width=100% height=100%></center>"
   ]
  },
  {
   "cell_type": "markdown",
   "metadata": {
    "slideshow": {
     "slide_type": "slide"
    }
   },
   "source": [
    "# 그래도 AI의 봄은 찾아오지 않았다..\n",
    "\n",
    "* 왜?\n",
    " * XOR 같은 비선형 문제를 MLP로 학습 할 수 있고\n",
    " * MLP의 loss를 개선함이 어려운 것도 backprop과 computation graph를 이용하여 해결했는데?"
   ]
  },
  {
   "cell_type": "markdown",
   "metadata": {
    "slideshow": {
     "slide_type": "fragment"
    }
   },
   "source": [
    "## 여기에는 2가지 이유가 있음\n",
    " 1. 그당시 MLP가 복잡한 것에 비하여 모델의 성능이 SVM(support vector machine)에 비하여 많이 떨어졌음\n",
    " 2. Layer가 깊어지면 깊어질수록 제대로 backprop으로 학습이 되지 않았음\n",
    " 3. 깊지 않은 layer에서도 계수가 폭발하면서 학습이 제대로 되지 않는 경우가 발생"
   ]
  },
  {
   "cell_type": "markdown",
   "metadata": {
    "slideshow": {
     "slide_type": "subslide"
    }
   },
   "source": [
    "# exploding gradient와 vanishing gradient\n",
    "\n",
    " * 자꾸 문제만 나오는 MLP는 언제 빛을 볼 수 있을것인가..\n",
    " \n",
    " * exploding gradient는 gd를 수행 중 계수 값이 음수나 양수 방향으로 폭발하여 inf이나 nan을 떨어뜨리는 문제\n",
    " * vanishing gradient는 gd를 수행 할 때 backprop시 전달 되는 값이 너무 작아 오차가 수정이 안되는 문제"
   ]
  },
  {
   "cell_type": "markdown",
   "metadata": {
    "slideshow": {
     "slide_type": "subslide"
    }
   },
   "source": [
    "# vanishing gradient\n",
    "\n",
    "* MLP의 비선형성을 위해 퍼셉트론의 출력에 비선형 activation 함수를 부여함\n",
    "* 당시에는 보통 tanh와 sigmoid를 주로 씀\n",
    "* tanh와 sigmoid 그래프는 다음과 같음\n",
    "\n",
    "<center><img src='img/04_04.png' width=50% height=50%></center>"
   ]
  },
  {
   "cell_type": "markdown",
   "metadata": {
    "slideshow": {
     "slide_type": "slide"
    }
   },
   "source": [
    "# vanishing gradient\n",
    "\n",
    "* 해당 함수는 미분했을 때 문제가 발생하게 됨\n",
    "* sigmoid와 tanh의 도함수 그래프는 다음과 같음\n",
    "\n",
    "<center><img src='img/05_19.png' width=50% height=50%></center>"
   ]
  },
  {
   "cell_type": "code",
   "execution_count": 28,
   "metadata": {
    "slideshow": {
     "slide_type": "subslide"
    }
   },
   "outputs": [
    {
     "data": {
      "text/plain": [
       "[171.4031982421875,\n",
       " 1.1729990243911743,\n",
       " 0.3026695251464844,\n",
       " 0.0780981034040451,\n",
       " 0.0201517753303051,\n",
       " 0.005199815612286329,\n",
       " 0.0013417209265753627,\n",
       " 0.0003461816522758454,\n",
       " 8.932749187806621e-05,\n",
       " 2.3057200451148674e-05]"
      ]
     },
     "execution_count": 28,
     "metadata": {},
     "output_type": "execute_result"
    }
   ],
   "source": [
    "import keras\n",
    "from keras.models import Sequential\n",
    "from keras.layers import Dense, Activation\n",
    "from keras.optimizers import SGD\n",
    "\n",
    "model = Sequential([Dense(1, input_shape=(1,), activation='linear')]) #activation이 선형인 모델\n",
    "model.compile(loss='mse', optimizer=SGD(lr=0.01))\n",
    "\n",
    "X = np.array([1,2,3,4,5])\n",
    "Y = X * 3.6 + 6\n",
    "\n",
    "hist = model.fit(X, Y, epochs=2000, verbose=0)\n",
    "hist.history['loss'][::200]"
   ]
  },
  {
   "cell_type": "code",
   "execution_count": 27,
   "metadata": {
    "slideshow": {
     "slide_type": "fragment"
    }
   },
   "outputs": [
    {
     "name": "stdout",
     "output_type": "stream",
     "text": [
      "_________________________________________________________________\n",
      "Layer (type)                 Output Shape              Param #   \n",
      "=================================================================\n",
      "dense_8 (Dense)              (None, 1)                 2         \n",
      "=================================================================\n",
      "Total params: 2\n",
      "Trainable params: 2\n",
      "Non-trainable params: 0\n",
      "_________________________________________________________________\n"
     ]
    }
   ],
   "source": [
    "model.summary() #모델 구조에 대한 요약"
   ]
  },
  {
   "cell_type": "code",
   "execution_count": 33,
   "metadata": {
    "slideshow": {
     "slide_type": "fragment"
    }
   },
   "outputs": [
    {
     "name": "stdout",
     "output_type": "stream",
     "text": [
      "[[3.6015837]] [5.994282]\n"
     ]
    }
   ],
   "source": [
    "W, b = model.get_layer(index=0).get_weights()\n",
    "print(W, b)"
   ]
  },
  {
   "cell_type": "code",
   "execution_count": 62,
   "metadata": {
    "slideshow": {
     "slide_type": "subslide"
    }
   },
   "outputs": [
    {
     "data": {
      "text/plain": [
       "[315.59112548828125,\n",
       " 25.31235122680664,\n",
       " 10.003190994262695,\n",
       " 3.4869384765625,\n",
       " 2.197185754776001,\n",
       " 1.7836532592773438,\n",
       " 1.5377938747406006,\n",
       " 1.3311073780059814,\n",
       " 1.1565889120101929,\n",
       " 1.012955904006958]"
      ]
     },
     "execution_count": 62,
     "metadata": {},
     "output_type": "execute_result"
    }
   ],
   "source": [
    "X = np.array([1,2,3,4,5])\n",
    "Y = X * 3.6 + 6\n",
    "\n",
    "#깊이가 3인 모델\n",
    "model = Sequential([Dense(1, input_shape=(1,), activation='sigmoid'), Dense(1, activation='sigmoid'), Dense(1, activation='linear')])\n",
    "model.compile(loss='mse', optimizer=SGD(lr=0.01))\n",
    "\n",
    "hist = model.fit(X, Y, epochs=2000, verbose=0)\n",
    "hist.history['loss'][::200]"
   ]
  },
  {
   "cell_type": "code",
   "execution_count": 64,
   "metadata": {
    "slideshow": {
     "slide_type": "fragment"
    }
   },
   "outputs": [
    {
     "name": "stdout",
     "output_type": "stream",
     "text": [
      "[[-1.0560945]] [2.8487778]\n"
     ]
    }
   ],
   "source": [
    "W, b = model.get_layer(index=0).get_weights()\n",
    "print(W, b)"
   ]
  },
  {
   "cell_type": "code",
   "execution_count": 63,
   "metadata": {
    "slideshow": {
     "slide_type": "fragment"
    }
   },
   "outputs": [
    {
     "name": "stdout",
     "output_type": "stream",
     "text": [
      "_________________________________________________________________\n",
      "Layer (type)                 Output Shape              Param #   \n",
      "=================================================================\n",
      "dense_33 (Dense)             (None, 1)                 2         \n",
      "_________________________________________________________________\n",
      "dense_34 (Dense)             (None, 1)                 2         \n",
      "_________________________________________________________________\n",
      "dense_35 (Dense)             (None, 1)                 2         \n",
      "=================================================================\n",
      "Total params: 6\n",
      "Trainable params: 6\n",
      "Non-trainable params: 0\n",
      "_________________________________________________________________\n"
     ]
    }
   ],
   "source": [
    "#모델 구조에 대한 요약\n",
    "model.summary()"
   ]
  },
  {
   "cell_type": "code",
   "execution_count": 66,
   "metadata": {
    "slideshow": {
     "slide_type": "subslide"
    }
   },
   "outputs": [
    {
     "data": {
      "text/plain": [
       "[324.3424987792969,\n",
       " 25.939754486083984,\n",
       " 25.93108558654785,\n",
       " 25.9239559173584,\n",
       " 25.91716957092285,\n",
       " 25.909704208374023,\n",
       " 25.900135040283203,\n",
       " 25.885562896728516,\n",
       " 25.858245849609375,\n",
       " 25.788105010986328]"
      ]
     },
     "execution_count": 66,
     "metadata": {},
     "output_type": "execute_result"
    }
   ],
   "source": [
    "import keras\n",
    "from keras.models import Sequential\n",
    "from keras.layers import Dense, Activation\n",
    "from keras.optimizers import SGD\n",
    "\n",
    "#깊이가 4인 모델\n",
    "model = Sequential()\n",
    "model.add(Dense(1, input_shape=(1,), activation='sigmoid'))\n",
    "model.add(Dense(1, activation='sigmoid'))\n",
    "model.add(Dense(1, activation='sigmoid'))\n",
    "model.add(Dense(1, activation='linear'))\n",
    "model.compile(loss='mse', optimizer=SGD(lr=0.01))\n",
    "\n",
    "X = np.array([1,2,3,4,5])\n",
    "Y = X * 3.6 + 6\n",
    "\n",
    "hist = model.fit(X, Y, epochs=2000, verbose=0)\n",
    "hist.history['loss'][::200]"
   ]
  },
  {
   "cell_type": "markdown",
   "metadata": {
    "slideshow": {
     "slide_type": "slide"
    }
   },
   "source": [
    "# 20년 동안의 딥러닝의 겨울\n",
    "\n",
    "* 해당 문제는 20년 동안 고쳐지지 않음\n",
    "* 문제가 어려운 것도 있었으나, 여러번의 위기를 맞아 많은 연구자들이 떠남\n",
    "* 그리나 2006년 힌톤 교수가 새로운 activation과 학습 방법을 가지고 다시 찾아옴"
   ]
  },
  {
   "cell_type": "markdown",
   "metadata": {
    "slideshow": {
     "slide_type": "subslide"
    }
   },
   "source": [
    "# 힌톤 교수의 요약\n",
    "1. 우리는 학습셋을 너무 조금 써왔던 것이 아닐까?\n",
    "2. 우리의 컴퓨터가 너무 느렸던 것이 아닐까?\n",
    "3. 우리의 w초기화 방법이 잘못됐던 것이 아닐까?\n",
    "4. <b>우리는 잘못된 activation function을 써왔던 것이 아닐까?</b>"
   ]
  },
  {
   "cell_type": "markdown",
   "metadata": {
    "slideshow": {
     "slide_type": "subslide"
    }
   },
   "source": [
    "#  Rectified Linear Unit: ReLU의 등장\n",
    "\n",
    "* $relu(x) = max(0, x)$의 아주 단순한 함수\n",
    "* 0 > x의 구간은 기울기가 0, 0 < x 의 구간은 기울기가 1이기 때문에 선형이 아님"
   ]
  },
  {
   "cell_type": "code",
   "execution_count": 56,
   "metadata": {
    "slideshow": {
     "slide_type": "fragment"
    }
   },
   "outputs": [
    {
     "data": {
      "image/png": "[encoded data removed]",
      "text/plain": [
       "<Figure size 432x288 with 1 Axes>"
      ]
     },
     "metadata": {
      "needs_background": "light"
     },
     "output_type": "display_data"
    }
   ],
   "source": [
    "def relu(x):\n",
    "    return np.maximum(0, x)\n",
    "\n",
    "X = np.linspace(-10, 10, 100)\n",
    "plt.plot(X, relu(X))\n",
    "plt.show()"
   ]
  },
  {
   "cell_type": "code",
   "execution_count": 59,
   "metadata": {
    "slideshow": {
     "slide_type": "subslide"
    }
   },
   "outputs": [
    {
     "name": "stdout",
     "output_type": "stream",
     "text": [
      "오차: 1.42637038230896\n",
      "오차: 0.07743463665246964\n",
      "오차: 0.011617137119174004\n",
      "오차: 0.0018648796249181032\n",
      "오차: 0.0002775207394734025\n",
      "오차: 3.9362617826554924e-05\n",
      "오차: 5.514316399057861e-06\n",
      "오차: 7.770465231260459e-07\n",
      "오차: 1.0769497293949826e-07\n",
      "오차: 1.5033709388490024e-08\n",
      "정확도: 1.0\n"
     ]
    }
   ],
   "source": [
    "#XOR 문제 by relu\n",
    "\n",
    "import keras\n",
    "from keras.layers import Dense\n",
    "from keras.models import Sequential\n",
    "import numpy as np\n",
    "\n",
    "model = Sequential()\n",
    "model.add(Dense(2, input_shape=(2,), activation='relu'))\n",
    "model.add(Dense(1))\n",
    "model.compile(optimizer='sgd', loss='mse')\n",
    "\n",
    "X = np.array([[0,0], [0,1], [1,0], [1,1]])\n",
    "Y = np.array([[0], [1], [1], [0]])\n",
    "hist = model.fit(X, Y, epochs=3000, verbose=0)\n",
    "\n",
    "H = (model.predict(X) > 0.5).astype(np.float32)\n",
    "for loss in hist.history['loss'][::300]:\n",
    "    print('오차:', loss)\n",
    "print('정확도:', np.mean(np.equal(H, Y)))"
   ]
  },
  {
   "cell_type": "code",
   "execution_count": 92,
   "metadata": {
    "slideshow": {
     "slide_type": "subslide"
    }
   },
   "outputs": [
    {
     "data": {
      "text/plain": [
       "[308.1600036621094,\n",
       " 26.00730323791504,\n",
       " 25.920024871826172,\n",
       " 25.919998168945312,\n",
       " 25.919998168945312,\n",
       " 25.919998168945312,\n",
       " 25.919998168945312,\n",
       " 25.919998168945312,\n",
       " 25.919998168945312,\n",
       " 25.919998168945312]"
      ]
     },
     "execution_count": 92,
     "metadata": {},
     "output_type": "execute_result"
    }
   ],
   "source": [
    "import tensorflow as tf\n",
    "import keras\n",
    "from keras.models import Sequential\n",
    "from keras.layers import Dense, Activation\n",
    "from keras.optimizers import SGD\n",
    "\n",
    "#깊이가 4인 모델\n",
    "model = Sequential()\n",
    "model.add(Dense(1, input_shape=(1,), activation='relu'))\n",
    "model.add(Dense(1, activation='relu'))\n",
    "model.add(Dense(1, activation='relu'))\n",
    "model.add(Dense(1, activation='linear'))\n",
    "model.compile(loss='mse', optimizer=SGD(lr=0.01))\n",
    "\n",
    "X = np.array([1,2,3,4,5])\n",
    "Y = X * 3.6 + 6\n",
    "\n",
    "hist = model.fit(X, Y, epochs=2000, verbose=0)\n",
    "hist.history['loss'][::200]"
   ]
  },
  {
   "cell_type": "code",
   "execution_count": 94,
   "metadata": {
    "slideshow": {
     "slide_type": "subslide"
    }
   },
   "outputs": [
    {
     "name": "stdout",
     "output_type": "stream",
     "text": [
      "[[0.89397156]] [0.]\n",
      "[[-1.1320183]] [0.]\n",
      "[[-1.3468701]] [0.]\n",
      "[[-0.17741084]] [16.799953]\n"
     ]
    }
   ],
   "source": [
    "W, b = model.get_layer(index=0).get_weights()\n",
    "print(W, b)\n",
    "W, b = model.get_layer(index=1).get_weights()\n",
    "print(W, b)\n",
    "W, b = model.get_layer(index=2).get_weights()\n",
    "print(W, b)\n",
    "W, b = model.get_layer(index=3).get_weights()\n",
    "print(W, b)"
   ]
  },
  {
   "cell_type": "markdown",
   "metadata": {
    "slideshow": {
     "slide_type": "fragment"
    }
   },
   "source": [
    "# dying reLU problem!!!\n",
    "\n",
    "* relu는 입력값이 0 이하로 들어오면 activation 자체가 먹통이 됨\n",
    "* 출력을 0으로 주어로 비선형으로 동작하게 했지만 퍼셉트론이 많이 0이 되면 제대로 동작하지 않을 수 있음"
   ]
  },
  {
   "cell_type": "code",
   "execution_count": 95,
   "metadata": {
    "slideshow": {
     "slide_type": "subslide"
    }
   },
   "outputs": [
    {
     "data": {
      "image/png": "[encoded data removed]",
      "text/plain": [
       "<Figure size 432x288 with 1 Axes>"
      ]
     },
     "metadata": {
      "needs_background": "light"
     },
     "output_type": "display_data"
    }
   ],
   "source": [
    "#아주 작은 기울기를 0 이하에 주어 죽지 않게 하자!\n",
    "def leaky_relu(x):\n",
    "    return np.where(x > 0, x, x * 0.01)\n",
    "\n",
    "X = np.linspace(-10, 10, 100)\n",
    "plt.plot(X, leaky_relu(X))\n",
    "plt.show()"
   ]
  },
  {
   "cell_type": "code",
   "execution_count": 98,
   "metadata": {
    "slideshow": {
     "slide_type": "subslide"
    }
   },
   "outputs": [
    {
     "data": {
      "text/plain": [
       "[307.1714782714844,\n",
       " 1.3407058077063994e-06,\n",
       " 1.6007107098148232e-11,\n",
       " 1.6007107098148232e-11,\n",
       " 1.6007107098148232e-11,\n",
       " 1.6007107098148232e-11,\n",
       " 1.6007107098148232e-11,\n",
       " 1.6007107098148232e-11,\n",
       " 1.6007107098148232e-11,\n",
       " 1.6007107098148232e-11]"
      ]
     },
     "execution_count": 98,
     "metadata": {},
     "output_type": "execute_result"
    }
   ],
   "source": [
    "import tensorflow as tf\n",
    "import keras\n",
    "from keras.models import Sequential\n",
    "from keras.layers import Dense, Activation\n",
    "from keras.optimizers import SGD\n",
    "\n",
    "#깊이가 4인 모델\n",
    "model = Sequential()\n",
    "model.add(Dense(1, input_shape=(1,), activation=tf.nn.leaky_relu)) #텐서플로우에 있는  leaky relu 이\n",
    "model.add(Dense(1, activation=tf.nn.leaky_relu))\n",
    "model.add(Dense(1, activation=tf.nn.leaky_relu))\n",
    "model.add(Dense(1, activation='linear'))\n",
    "model.compile(loss='mse', optimizer=SGD(lr=0.01))\n",
    "\n",
    "X = np.array([1,2,3,4,5])\n",
    "Y = X * 3.6 + 6\n",
    "\n",
    "hist = model.fit(X, Y, epochs=2000, verbose=0)\n",
    "hist.history['loss'][::200]"
   ]
  },
  {
   "cell_type": "code",
   "execution_count": 99,
   "metadata": {
    "slideshow": {
     "slide_type": "subslide"
    }
   },
   "outputs": [
    {
     "name": "stdout",
     "output_type": "stream",
     "text": [
      "[[-3.1125581]] [0.24710971]\n",
      "[[3.029983]] [0.09196756]\n",
      "[[-3.0472865]] [1.2211454]\n",
      "[[3.131636]] [2.6371586]\n"
     ]
    }
   ],
   "source": [
    "W, b = model.get_layer(index=0).get_weights()\n",
    "print(W, b)\n",
    "W, b = model.get_layer(index=1).get_weights()\n",
    "print(W, b)\n",
    "W, b = model.get_layer(index=2).get_weights()\n",
    "print(W, b)\n",
    "W, b = model.get_layer(index=3).get_weights()\n",
    "print(W, b)"
   ]
  }
 ],
 "metadata": {
  "celltoolbar": "Slideshow",
  "kernelspec": {
   "display_name": "Python py3",
   "language": "python",
   "name": "py3"
  },
  "language_info": {
   "codemirror_mode": {
    "name": "ipython",
    "version": 3
   },
   "file_extension": ".py",
   "mimetype": "text/x-python",
   "name": "python",
   "nbconvert_exporter": "python",
   "pygments_lexer": "ipython3",
   "version": "3.7.3"
  },
  "latex_envs": {
   "LaTeX_envs_menu_present": true,
   "autoclose": false,
   "autocomplete": true,
   "bibliofile": "biblio.bib",
   "cite_by": "apalike",
   "current_citInitial": 1,
   "eqLabelWithNumbers": true,
   "eqNumInitial": 1,
   "hotkeys": {
    "equation": "Ctrl-E",
    "itemize": "Ctrl-I"
   },
   "labels_anchors": false,
   "latex_user_defs": false,
   "report_style_numbering": false,
   "user_envs_cfg": false
  },
  "toc": {
   "base_numbering": 1,
   "nav_menu": {},
   "number_sections": false,
   "sideBar": true,
   "skip_h1_title": false,
   "title_cell": "Table of Contents",
   "title_sidebar": "Contents",
   "toc_cell": false,
   "toc_position": {},
   "toc_section_display": true,
   "toc_window_display": false
  },
  "varInspector": {
   "cols": {
    "lenName": 16,
    "lenType": 16,
    "lenVar": 40
   },
   "kernels_config": {
    "python": {
     "delete_cmd_postfix": "",
     "delete_cmd_prefix": "del ",
     "library": "var_list.py",
     "varRefreshCmd": "print(var_dic_list())"
    },
    "r": {
     "delete_cmd_postfix": ") ",
     "delete_cmd_prefix": "rm(",
     "library": "var_list.r",
     "varRefreshCmd": "cat(var_dic_list()) "
    }
   },
   "types_to_exclude": [
    "module",
    "function",
    "builtin_function_or_method",
    "instance",
    "_Feature"
   ],
   "window_display": false
  }
 },
 "nbformat": 4,
 "nbformat_minor": 2
}
