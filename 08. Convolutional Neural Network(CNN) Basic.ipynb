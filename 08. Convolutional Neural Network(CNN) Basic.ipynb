{
 "cells": [
  {
   "cell_type": "markdown",
   "metadata": {},
   "source": [
    "<img src='img/fastcamp_h.png'>\n",
    "\n",
    "# 8강. CNN Motivation Basic"
   ]
  },
  {
   "cell_type": "markdown",
   "metadata": {
    "slideshow": {
     "slide_type": "fragment"
    }
   },
   "source": [
    "# 이번장에서 배우는 것들\n",
    "* Convolutional neural network의 개념과 용어\n",
    "* Image classification with CNN\n",
    "* Data augmentation\n",
    "* 유명 CNN Model의 몇가지 종류와 특징\n",
    " * Alexnet\n",
    " * VGG16\n",
    " * Resnet"
   ]
  },
  {
   "cell_type": "markdown",
   "metadata": {
    "slideshow": {
     "slide_type": "subslide"
    }
   },
   "source": [
    "# 왜 데이터의 변화에 약할까?\n",
    "\n",
    "* 1차원으로 데이터를 vectorize하면서 위치 정보를 잃어버림\n",
    "* 학습데이터에서 주어진 모든 픽셀의 값에 대한 통계적 계산을 하면서 y를 예측할 뿐임\n",
    "<img src='img/08_03.png' height=30% width=30%>"
   ]
  },
  {
   "cell_type": "markdown",
   "metadata": {},
   "source": [
    "# Receptive field; 사람에게서 배움\n",
    "\n",
    "* 사람은 사진을 볼때 전체적으로, 작은 영역을 집중해서, 주변 그림을 조합하여 인식함\n",
    "* 또한 사람이 사물을 볼때, 뉴런 중 일부분만 활성화 됨을 발견\n",
    "* 위의 사항을 고려하여 모델을 만들면 어떨까? 하는 관점에서 등장한 것이 CNN\n",
    "\n",
    "<img src='img/08_04.png' height=50% width=50%>"
   ]
  },
  {
   "cell_type": "markdown",
   "metadata": {
    "slideshow": {
     "slide_type": "slide"
    }
   },
   "source": [
    "# CNN의 구조\n",
    "\n",
    "<img src='img/08_05.png' height=80% width=80%>\n",
    "\n",
    "## 입력 데이터 $X$\n",
    " * $x \\in X$는 더 이상 1차원 벡터가 아님\n",
    " * 흑백 이미지라면 height x width 크기의 matrix\n",
    " * 칼라 이미지라면 height x width x channel 크기의 tensor\n",
    "\n"
   ]
  },
  {
   "cell_type": "markdown",
   "metadata": {
    "slideshow": {
     "slide_type": "slide"
    }
   },
   "source": [
    "# CNN의 구조\n",
    "\n",
    "<img src='img/08_05.png' height=80% width=80%>\n",
    "\n",
    "## Kernel\n",
    " * 각 레이어 마다 존재 하는 작은 사이즈의 사각형\n",
    " * 임의의 h,w를 정하여 그 영역에서 perceptron 연산을 함 (CNN에서 학습 대상이 되는 weight)\n",
    "\n",
    "## Conv Layer 혹은 Conv Block\n",
    " * 중간 중간 사각기둥 같은 모양들이 conv layer/block가 됨"
   ]
  },
  {
   "cell_type": "markdown",
   "metadata": {
    "slideshow": {
     "slide_type": "slide"
    }
   },
   "source": [
    "# CNN 용어 및 동작\n",
    "\n",
    "* 다음과 같은 동작으로 Kernel을 통하여 conv가 쌓여져감\n",
    "* 파란색 부분: 이전 레이어에서 넘어온 출력값\n",
    "* 회색 부분: 이번 레이어에서의 출력값\n",
    "\n",
    "## Conv & Stride\n",
    "* kernel과 해당하는 인풋의 percetron 연산을 conv 라고 부름\n",
    "* 3x3 kernel이 옆으로, 밑으로 1칸씩 이동하고 있음\n",
    "* 이러한 이동 동작을 stride라고 함, 예제에서 stride는 1x1, output channel은 1임\n",
    "\n",
    "<center><img src='img/08_01.gif' height=30% width=30%></center>\n"
   ]
  },
  {
   "cell_type": "markdown",
   "metadata": {
    "slideshow": {
     "slide_type": "subslide"
    }
   },
   "source": [
    "## Conv & Stride\n",
    "\n",
    "$$ k = \\begin{bmatrix}\n",
    " 0 & 1 & 2 \\\\\n",
    " 2 & 2 & 0 \\\\\n",
    " 0 & 1 & 2 \\\\\n",
    "\\end{bmatrix} \\nonumber $$\n",
    "\n",
    "<center><img src='img/08_02.gif' height=20% width=20%></center>\n",
    "\n",
    "* 임의의 커널이 다음과 같다고 가정하고 stride =1, 입력 이미지 5 x 5라고 가정\n",
    "* 파란색이 입력 이미지, 초록색이 출력 결과가 됨\n",
    "* stride의 값에 따라 출력 이미지는 입력이미지보다 작아지게 됨\n",
    "\n",
    "$$ \\sum_{j=0}\\sum_{i=0} x_{ij} * k_{ij} = value \\nonumber $$"
   ]
  },
  {
   "cell_type": "markdown",
   "metadata": {
    "slideshow": {
     "slide_type": "slide"
    }
   },
   "source": [
    "## padding\n",
    "\n",
    "<center><img src='img/08_03.gif' height=50% width=50%></center>\n",
    "\n",
    "* stride의 이동 개수에 비례하여 출력이 작아지게 되므로 크기를 유지하기 위하여 가장자리에 0을 채워 넣는 방법\n",
    "* 위의 경우는 padding이 1x1, stride가 2x2인 경우임"
   ]
  },
  {
   "cell_type": "markdown",
   "metadata": {
    "slideshow": {
     "slide_type": "slide"
    }
   },
   "source": [
    "# Kernel이 여러개인 경우\n",
    "\n",
    "* kernel이 여러개 일 수 있음\n",
    "* 각 kernel은 순차적으로 conv 동작을 하여 output channel을 쌓아나감\n",
    "* $kernel_1$의 conv 동작 후 kernel_2가 conv 동작을 하면 같은 크기의 아웃풋이 2겹으로 쌓이게 됨\n",
    "* 아래의 예제라면 다음과 같음 (kernel size는 3x3, padding이 적용되어 있지 않다고 가정)\n",
    "* image shape = ($h_1$,$w_1$,1), kernel shape = (3,3,5)\n",
    "* output channel shape = ($h_2$, $w_2$, $5$)\n",
    "<center><img src='img/08_09.png' height=50% width=50%></center>"
   ]
  },
  {
   "cell_type": "markdown",
   "metadata": {
    "slideshow": {
     "slide_type": "slide"
    }
   },
   "source": [
    "# pooling\n",
    "\n",
    "* kernel이 커지면 커질 수록 이미지를 전체적으로 볼 수 있으나 연산이 비쌈\n",
    "* stride를 크게 주면 출력은 작아지네 디테일을 놓치게 됨\n",
    "* 적절히 output에서 특별한 특징을 추출하기 위한 기법으로 pooling이 등장\n",
    "\n",
    "## Max pooling & Average pooling\n",
    "\n",
    "* stride = 2x2, pooling size = 2x2 인 경우\n",
    "<center><img src='img/08_06.png' height=50% width=50%></center>"
   ]
  },
  {
   "cell_type": "markdown",
   "metadata": {
    "slideshow": {
     "slide_type": "subslide"
    }
   },
   "source": [
    "# pooling의 의미\n",
    "\n",
    "* conv 동작은 이미지 출력을 kernel에 따라 변형 시키지만\n",
    "* pooling은 이미지의 특징을 유지한채 사이즈를 줄임\n",
    "* 이미지 사이즈를 적절히 줄이면 계산양을 감소 시킬 수 있음\n",
    "\n",
    "<center><img src='img/08_07.png' height=70% width=70%></center>"
   ]
  },
  {
   "cell_type": "markdown",
   "metadata": {
    "slideshow": {
     "slide_type": "slide"
    }
   },
   "source": [
    "# 왜 CNN 인가?\n",
    "\n",
    "* 현재 영상처리에 관한 딥러닝에서는 CNN을 빼놓고 이야기할 수 가 없음\n",
    "* receptive field로 인한 영역에 상관없이 높은 검출율을 보임\n",
    "* alexnet이 출현하며 이전 sota를 약 10% 차이로 누름\n",
    "* 그후 CNN모델들이 2년마다 sota를 50%씩 성능 개선 시킴\n",
    "\n",
    "<center><img src='img/08_08.png' height=50% width=50%></center>"
   ]
  },
  {
   "cell_type": "markdown",
   "metadata": {
    "slideshow": {
     "slide_type": "slide"
    }
   },
   "source": [
    "# MNIST CNN으로 구현하기\n",
    "\n",
    "<center><img src='img/08_10.png' height=100% width=100%></center>"
   ]
  },
  {
   "cell_type": "code",
   "execution_count": 17,
   "metadata": {},
   "outputs": [
    {
     "name": "stdout",
     "output_type": "stream",
     "text": [
      "WARNING:tensorflow:From C:\\Users\\sons\\Anaconda3\\envs\\py3\\lib\\site-packages\\tensorflow\\python\\framework\\op_def_library.py:263: colocate_with (from tensorflow.python.framework.ops) is deprecated and will be removed in a future version.\n",
      "Instructions for updating:\n",
      "Colocations handled automatically by placer.\n",
      "_________________________________________________________________\n",
      "Layer (type)                 Output Shape              Param #   \n",
      "=================================================================\n",
      "conv2d_1 (Conv2D)            (None, 26, 26, 32)        320       \n",
      "_________________________________________________________________\n",
      "max_pooling2d_1 (MaxPooling2 (None, 13, 13, 32)        0         \n",
      "_________________________________________________________________\n",
      "conv2d_2 (Conv2D)            (None, 11, 11, 64)        18496     \n",
      "_________________________________________________________________\n",
      "max_pooling2d_2 (MaxPooling2 (None, 5, 5, 64)          0         \n",
      "_________________________________________________________________\n",
      "conv2d_3 (Conv2D)            (None, 3, 3, 64)          36928     \n",
      "_________________________________________________________________\n",
      "flatten_1 (Flatten)          (None, 576)               0         \n",
      "_________________________________________________________________\n",
      "dense_1 (Dense)              (None, 64)                36928     \n",
      "_________________________________________________________________\n",
      "dense_2 (Dense)              (None, 10)                650       \n",
      "=================================================================\n",
      "Total params: 93,322\n",
      "Trainable params: 93,322\n",
      "Non-trainable params: 0\n",
      "_________________________________________________________________\n"
     ]
    }
   ],
   "source": [
    "from keras.models import Sequential\n",
    "from keras.layers import Conv2D, MaxPooling2D, Flatten, Dense\n",
    "\n",
    "model = Sequential()\n",
    "model.add(Conv2D(32, (3, 3), activation='relu', input_shape=(28, 28, 1)))\n",
    "model.add(MaxPooling2D((2, 2)))\n",
    "model.add(Conv2D(64, (3, 3), activation='relu'))\n",
    "model.add(MaxPooling2D((2, 2)))\n",
    "model.add(Conv2D(64, (3, 3), activation='relu'))\n",
    "\n",
    "model.add(Flatten())\n",
    "model.add(Dense(64, activation='relu'))\n",
    "model.add(Dense(10, activation='softmax'))\n",
    "model.summary()"
   ]
  },
  {
   "cell_type": "code",
   "execution_count": 23,
   "metadata": {},
   "outputs": [],
   "source": [
    "model.compile(optimizer='adam', loss='categorical_crossentropy', metrics=['accuracy'])\n",
    "\n",
    "from keras.datasets import mnist\n",
    "from keras.utils import to_categorical\n",
    "(x_train, y_train), (x_test, y_test) = mnist.load_data()\n",
    "\n",
    "x_train = x_train.reshape((-1, 28, 28, 1)) /255.\n",
    "x_test = x_test/255.\n",
    "\n",
    "y_train = to_categorical(y_train, 10)\n",
    "y_test = to_categorical(y_test, 10)\n",
    "hist = model.fit(x_train, y_train, epochs=20, verbose=0)"
   ]
  },
  {
   "cell_type": "code",
   "execution_count": 24,
   "metadata": {},
   "outputs": [
    {
     "name": "stdout",
     "output_type": "stream",
     "text": [
      "10000/10000 [==============================] - 1s 64us/step\n"
     ]
    },
    {
     "data": {
      "text/plain": [
       "[0.0572505596982686, 0.9915]"
      ]
     },
     "execution_count": 24,
     "metadata": {},
     "output_type": "execute_result"
    }
   ],
   "source": [
    "model.evaluate(x_test.reshape((-1, 28, 28, 1)), y_test)"
   ]
  },
  {
   "cell_type": "code",
   "execution_count": 31,
   "metadata": {},
   "outputs": [],
   "source": [
    "import matplotlib.pylab as plt\n",
    "def predictor(img, model):\n",
    "    x = np.abs(img.reshape(1, 28, 28, 1) - 255) / 255.\n",
    "    Y = model.predict(x)\n",
    "    return Y\n"
   ]
  },
  {
   "cell_type": "code",
   "execution_count": 32,
   "metadata": {},
   "outputs": [
    {
     "name": "stdout",
     "output_type": "stream",
     "text": [
      "Y shape: (1, 10)\n"
     ]
    },
    {
     "data": {
      "image/png": "[encoded data removed]",
      "text/plain": [
       "<Figure size 432x288 with 1 Axes>"
      ]
     },
     "metadata": {
      "needs_background": "light"
     },
     "output_type": "display_data"
    },
    {
     "name": "stdout",
     "output_type": "stream",
     "text": [
      "Y argmax: 2\n"
     ]
    }
   ],
   "source": [
    "import imageio\n",
    "my_image_2 = imageio.imread('data/mnist_draw/2.png', as_gray=True)\n",
    "Y = predictor(my_image_2, model)\n",
    "print('Y shape:', Y.shape)\n",
    "\n",
    "plt.plot(Y[0])\n",
    "plt.show()\n",
    "print('Y argmax:', np.argmax(Y[0]))"
   ]
  },
  {
   "cell_type": "code",
   "execution_count": 37,
   "metadata": {
    "scrolled": true
   },
   "outputs": [
    {
     "data": {
      "image/png": "[encoded data removed]",
      "text/plain": [
       "<Figure size 432x288 with 1 Axes>"
      ]
     },
     "metadata": {
      "needs_background": "light"
     },
     "output_type": "display_data"
    },
    {
     "name": "stdout",
     "output_type": "stream",
     "text": [
      "Y argmax: 4\n"
     ]
    }
   ],
   "source": [
    "my_image_4 = imageio.imread('data/mnist_draw/4_corner.png', as_gray=True)\n",
    "Y = predictor(my_image_4, model)\n",
    "plt.plot(Y[0])\n",
    "plt.show()\n",
    "print('Y argmax:', np.argmax(Y[0]))"
   ]
  },
  {
   "cell_type": "code",
   "execution_count": 39,
   "metadata": {},
   "outputs": [
    {
     "data": {
      "image/png": "[encoded data removed]",
      "text/plain": [
       "<Figure size 432x288 with 1 Axes>"
      ]
     },
     "metadata": {
      "needs_background": "light"
     },
     "output_type": "display_data"
    },
    {
     "name": "stdout",
     "output_type": "stream",
     "text": [
      "Y argmax: 8\n"
     ]
    }
   ],
   "source": [
    "#흑백을 바꾼 경우\n",
    "Y = predictor(np.abs(my_image_2 - 255), model)\n",
    "plt.plot(Y[0])\n",
    "plt.show()\n",
    "print('Y argmax:', np.argmax(Y[0]))"
   ]
  },
  {
   "cell_type": "markdown",
   "metadata": {
    "slideshow": {
     "slide_type": "slide"
    }
   },
   "source": [
    "# Data Augmentation\n",
    "\n",
    "* Deep Learning에 절대적으로 영향을 끼치는 것은 학습셋\n",
    "* 더 어려운 문제를 학습시키기 위해서는 샘플이 부족함\n",
    "* 모델의 입장에서는 데이터를 약간 회전시키거나 크기를 변경시키거나 색을 변경하는 방법으로 새로운 학습셋인 척 할 수 있음\n",
    "* 원본 데이터를 너무 심하게 훼손하지 않는 선에서 변경을 시키는 것을 오그멘티에션이라고 함\n",
    "\n",
    "<center><img src='img/08_11.png' height=50% width=50%></center>"
   ]
  },
  {
   "cell_type": "markdown",
   "metadata": {
    "slideshow": {
     "slide_type": "slide"
    }
   },
   "source": [
    "# Data Augmentation의 종류\n",
    "\n",
    "* flip (세로 플립, 가로 플립)\n",
    "<center><img src='img/08_12.png' height=50% width=50%></center>"
   ]
  },
  {
   "cell_type": "markdown",
   "metadata": {
    "slideshow": {
     "slide_type": "fragment"
    }
   },
   "source": [
    "* rotation\n",
    "<center><img src='img/08_13.png' height=70% width=70%></center>"
   ]
  },
  {
   "cell_type": "markdown",
   "metadata": {
    "slideshow": {
     "slide_type": "subslide"
    }
   },
   "source": [
    "* zoom in/out\n",
    "<center><img src='img/08_14.png' height=50% width=50%></center>"
   ]
  },
  {
   "cell_type": "markdown",
   "metadata": {
    "slideshow": {
     "slide_type": "fragment"
    }
   },
   "source": [
    "* crop\n",
    "<center><img src='img/08_15.png' height=50% width=50%></center>"
   ]
  },
  {
   "cell_type": "markdown",
   "metadata": {
    "slideshow": {
     "slide_type": "fragment"
    }
   },
   "source": [
    "* add noise\n",
    "<center><img src='img/08_16.png' height=50% width=50%></center>"
   ]
  },
  {
   "cell_type": "code",
   "execution_count": null,
   "metadata": {
    "slideshow": {
     "slide_type": "subslide"
    }
   },
   "outputs": [],
   "source": [
    "# keras augmentation \n",
    "\n",
    "ImageDataGenerator(\n",
    "    featurewise_center=False,\n",
    "    samplewise_center=False,\n",
    "    featurewise_std_normalization=False,\n",
    "    samplewise_std_normalization=False,\n",
    "    zca_whitening=False,\n",
    "    zca_epsilon=1e-06,\n",
    "    rotation_range=0,\n",
    "    width_shift_range=0.0,\n",
    "    height_shift_range=0.0,\n",
    "    brightness_range=None,\n",
    "    shear_range=0.0,\n",
    "    zoom_range=0.0,\n",
    "    channel_shift_range=0.0,\n",
    "    fill_mode='nearest',\n",
    "    cval=0.0,\n",
    "    horizontal_flip=False,\n",
    "    vertical_flip=False,\n",
    "    rescale=None,\n",
    "    preprocessing_function=None,\n",
    "    data_format=None,\n",
    "    validation_split=0.0,\n",
    "    dtype=None,\n",
    ")"
   ]
  },
  {
   "cell_type": "code",
   "execution_count": 42,
   "metadata": {
    "slideshow": {
     "slide_type": "slide"
    }
   },
   "outputs": [],
   "source": [
    "# keras augmentation \n",
    "\n",
    "from keras.datasets import mnist\n",
    "from keras.preprocessing.image import ImageDataGenerator\n",
    "\n",
    "(X_train, y_train), (X_test, y_test) = mnist.load_data()\n",
    "\n",
    "# augmantation 전 이미지를 flaot으로 변환\n",
    "X_train = X_train.astype('float32')\n",
    "X_test = X_test.astype('float32')\n",
    "datagen = ImageDataGenerator(samplewise_center=True, rotation_range=45, zoom_range=0.3)"
   ]
  },
  {
   "cell_type": "code",
   "execution_count": 52,
   "metadata": {},
   "outputs": [
    {
     "data": {
      "image/png": "[encoded data removed]",
      "text/plain": [
       "<Figure size 432x288 with 1 Axes>"
      ]
     },
     "metadata": {
      "needs_background": "light"
     },
     "output_type": "display_data"
    }
   ],
   "source": [
    "import numpy as np\n",
    "augmented = next(datagen.flow(X_train[0].reshape((1, 28, 28, 1))))\n",
    "plt.imshow(np.hstack([augmented.reshape((28,28)), X_train[0]]), cmap='gray')\n",
    "plt.show()"
   ]
  },
  {
   "cell_type": "markdown",
   "metadata": {
    "slideshow": {
     "slide_type": "slide"
    }
   },
   "source": [
    "# 유명 CNN 모델\n",
    "\n",
    "## alexnet\n",
    "* 현재의 CNN 돌풍이 있게 한 기념비적 모델\n",
    "* 힌튼 교수팀이 2012년 ILSVRC(ImageNet Large-Scale Visual Recognition Challenge)에서 1d위(15.4%), 2위와 10% 차이의 정확도를 벌림\n",
    "* 기념비적 CNN 모델, pooling 개념 도입, dropout 도입\n",
    "\n",
    "<center><img src='img/08_17.png' height=40% width=40%></center>"
   ]
  },
  {
   "cell_type": "markdown",
   "metadata": {
    "slideshow": {
     "slide_type": "subslide"
    }
   },
   "source": [
    "## googlenet\n",
    "* 구글에서 만든 2014년 ILSVRC 1위의 모델, 오차율 (6.7%)\n",
    "* depthwise conv에 대한 개념 정립\n",
    "\n",
    "<center><img src='img/08_18.png' height=40% width=40%></center>\n",
    "<center><img src='img/08_19.png' height=20% width=20%></center>"
   ]
  },
  {
   "cell_type": "markdown",
   "metadata": {},
   "source": [
    "## vgg16\n",
    "* 2014년 ILSVRC에서 구글에 밀려 2위를 한 모델\n",
    "* 2위지만 구조적 간편함, 아름다움때문에 현재도 많이 쓰임, 모델 사이즈가 아주 큼 (500mb)\n",
    "* 오직 Conv, Maxpooling으로만 이루어짐\n",
    "<center><img src='img/08_20.png' height=80% width=80%></center>"
   ]
  },
  {
   "cell_type": "markdown",
   "metadata": {
    "slideshow": {
     "slide_type": "slide"
    }
   },
   "source": [
    "## resnet\n",
    "* 2014 ILSVRC에서 오차율 (3.6%)으로 1등으로 사람의 오차 (5%)를 넘어선 모델\n",
    "* vanishing gradient문제를 skip connection (residual block)이라는 새로운 기법으로 해소함\n",
    "<center><img src='img/08_21.png' height=100% width=100%></center>"
   ]
  },
  {
   "cell_type": "markdown",
   "metadata": {
    "slideshow": {
     "slide_type": "subslide"
    }
   },
   "source": [
    "# skip connection (residual block)\n",
    "\n",
    "* block과 block이 이어지는 부분에서 과거의 입력을 연결하는 기법\n",
    "* 현재의 모델들은 어떤식으로든 skip connection을 이용하여 vanishing gradient를 해소함\n",
    "\n",
    "<center><img src='img/08_22.png' height=40% width=40%></center>"
   ]
  },
  {
   "cell_type": "markdown",
   "metadata": {
    "slideshow": {
     "slide_type": "subslide"
    }
   },
   "source": [
    "# Batch Normalization\n",
    "\n",
    "* mini batch 단위로 입력의 데이터를 노말라이즈해주는 기법\n",
    "* z score와 유사한 방식으로 동작함\n",
    "* 해당 모듈을 사용함으로써 모델 수렴이 훨씬 더 빠르고 안정적으로 동작함이 확인됨\n",
    "* Dropout과 마찬가지로 layers.BatchNormalization 의 형태로 사용가능\n",
    "* activation 전이나 뒤에 바로 껴 넣는 방식으로 많이 활용됨\n",
    "\n",
    "<center><img src='img/08_23.png' height=20% width=20%></center>"
   ]
  },
  {
   "cell_type": "markdown",
   "metadata": {},
   "source": [
    "# Color 이미지의 구조\n",
    "\n",
    "* gray 이미지는 Height x Width로 구성된 2차원 배열 0~255로 흑색, 회색, 백색을 표현\n",
    "* color 이미지는 Height x Width x Channel의 3차원 배열의 구조로 Channel은 각각 Red, Green, Blue의 색을 0~255로 표현함\n",
    "* RGB 색상이 가장 일반적인 표현일뿐 다른 표현 방법도 존재함\n",
    "\n",
    "<center><img src='img/08_24.png' height=50% width=50%></center>"
   ]
  },
  {
   "cell_type": "markdown",
   "metadata": {
    "slideshow": {
     "slide_type": "subslide"
    }
   },
   "source": [
    "# Color 이미지에서의 Conv 동작\n",
    "\n",
    "* 기존 kernel의 사이즈가 3x3의 영역에서 Conv 연산을 하여 출력 1칸을 만들었다면\n",
    "* 입체영역에서는 3x3x Channel의 영역에서 Conv 연산을 하여 출력 1칸을 만들어냄\n",
    "<center><img src='img/08_25.png' height=50% width=50%></center>"
   ]
  },
  {
   "cell_type": "markdown",
   "metadata": {
    "slideshow": {
     "slide_type": "slide"
    }
   },
   "source": [
    "# Cifar10 데이터를 이용한 color Image classification\n",
    "\n",
    "* 6만개의 32x32의 칼라 이미지로 10개의 class를 가지고 있음\n",
    "* 6000개의 이미지당 1개의 클래스\n",
    "* 50000개의 학습셋, 10000개의 테스트셋으로 구성됨\n",
    "\n",
    "<center><img src='img/08_26.png' height=50% width=50%></center>"
   ]
  },
  {
   "cell_type": "code",
   "execution_count": 67,
   "metadata": {},
   "outputs": [
    {
     "name": "stdout",
     "output_type": "stream",
     "text": [
      "(50000, 32, 32, 3) (50000, 1)\n",
      "(10000, 32, 32, 3) (10000, 1)\n",
      "[[6]\n",
      " [9]\n",
      " [9]\n",
      " [4]\n",
      " [1]] 9 0\n"
     ]
    }
   ],
   "source": [
    "from keras.datasets import cifar10\n",
    "\n",
    "(x_train, y_train), (x_test, y_test) = cifar10.load_data()\n",
    "print(x_train.shape, y_train.shape)\n",
    "print(x_test.shape, y_test.shape)\n",
    "print(y_train[:5], np.max(y_train), np.min(y_train))"
   ]
  },
  {
   "cell_type": "code",
   "execution_count": 62,
   "metadata": {},
   "outputs": [
    {
     "data": {
      "image/png": "[encoded data removed]",
      "text/plain": [
       "<Figure size 432x288 with 1 Axes>"
      ]
     },
     "metadata": {
      "needs_background": "light"
     },
     "output_type": "display_data"
    }
   ],
   "source": [
    "plt.imshow(np.hstack(x_train[:10]))\n",
    "plt.show()"
   ]
  },
  {
   "cell_type": "code",
   "execution_count": 68,
   "metadata": {},
   "outputs": [
    {
     "name": "stdout",
     "output_type": "stream",
     "text": [
      "(10000, 10) [[0. 0. 0. 1. 0. 0. 0. 0. 0. 0.]\n",
      " [0. 0. 0. 0. 0. 0. 0. 0. 1. 0.]\n",
      " [0. 0. 0. 0. 0. 0. 0. 0. 1. 0.]\n",
      " [1. 0. 0. 0. 0. 0. 0. 0. 0. 0.]\n",
      " [0. 0. 0. 0. 0. 0. 1. 0. 0. 0.]]\n"
     ]
    }
   ],
   "source": [
    "from keras.utils import to_categorical\n",
    "\n",
    "x_train = x_train/255.0\n",
    "x_test = x_test/255.0\n",
    "y_train = to_categorical(y_train.reshape(-1), 10)\n",
    "y_test = to_categorical(y_test.reshape(-1), 10)\n",
    "print(y_test.shape, y_test[:5])"
   ]
  },
  {
   "cell_type": "code",
   "execution_count": 72,
   "metadata": {},
   "outputs": [],
   "source": [
    "from keras.models import Sequential\n",
    "from keras.layers import Conv2D, MaxPooling2D, Flatten, Dense, Dropout, BatchNormalization\n",
    "\n",
    "model = Sequential()\n",
    "model.add(Conv2D(64, (3, 3), activation='relu', input_shape=(32, 32, 3), padding='same'))\n",
    "model.add(BatchNormalization())\n",
    "model.add(Conv2D(64, (3, 3), activation='relu', padding='same'))\n",
    "model.add(BatchNormalization())\n",
    "model.add(MaxPooling2D())\n",
    "model.add(Dropout(0.3))\n",
    "\n",
    "model.add(Conv2D(64, (3, 3), activation='relu', padding='same'))\n",
    "model.add(BatchNormalization())\n",
    "model.add(Conv2D(64, (3, 3), activation='relu', padding='same'))\n",
    "model.add(BatchNormalization())\n",
    "model.add(MaxPooling2D())\n",
    "model.add(Dropout(0.3))\n",
    "\n",
    "model.add(Conv2D(64, (3, 3), activation='relu', padding='same'))\n",
    "model.add(BatchNormalization())\n",
    "model.add(Conv2D(64, (3, 3), activation='relu', padding='same'))\n",
    "model.add(BatchNormalization())\n",
    "model.add(MaxPooling2D())\n",
    "model.add(Dropout(0.3))\n",
    "\n",
    "model.add(Conv2D(64, (3, 3), activation='relu', padding='same'))\n",
    "model.add(Conv2D(64, (3, 3), activation='relu', padding='same'))\n",
    "model.add(MaxPooling2D())\n",
    "model.add(Dropout(0.3))\n",
    "\n",
    "model.add(Flatten())\n",
    "model.add(Dense(128, activation='relu'))\n",
    "model.add(BatchNormalization())\n",
    "model.add(Dropout(0.5))\n",
    "model.add(Dense(10, activation='softmax'))\n",
    "model.compile(loss='categorical_crossentropy', optimizer='adam', metrics=['accuracy'])"
   ]
  },
  {
   "cell_type": "code",
   "execution_count": 71,
   "metadata": {
    "slideshow": {
     "slide_type": "-"
    }
   },
   "outputs": [
    {
     "name": "stdout",
     "output_type": "stream",
     "text": [
      "_________________________________________________________________\n",
      "Layer (type)                 Output Shape              Param #   \n",
      "=================================================================\n",
      "conv2d_4 (Conv2D)            (None, 32, 32, 64)        1792      \n",
      "_________________________________________________________________\n",
      "batch_normalization_1 (Batch (None, 32, 32, 64)        256       \n",
      "_________________________________________________________________\n",
      "conv2d_5 (Conv2D)            (None, 32, 32, 64)        36928     \n",
      "_________________________________________________________________\n",
      "batch_normalization_2 (Batch (None, 32, 32, 64)        256       \n",
      "_________________________________________________________________\n",
      "max_pooling2d_3 (MaxPooling2 (None, 16, 16, 64)        0         \n",
      "_________________________________________________________________\n",
      "dropout_1 (Dropout)          (None, 16, 16, 64)        0         \n",
      "_________________________________________________________________\n",
      "conv2d_6 (Conv2D)            (None, 16, 16, 64)        36928     \n",
      "_________________________________________________________________\n",
      "batch_normalization_3 (Batch (None, 16, 16, 64)        256       \n",
      "_________________________________________________________________\n",
      "conv2d_7 (Conv2D)            (None, 16, 16, 64)        36928     \n",
      "_________________________________________________________________\n",
      "batch_normalization_4 (Batch (None, 16, 16, 64)        256       \n",
      "_________________________________________________________________\n",
      "max_pooling2d_4 (MaxPooling2 (None, 8, 8, 64)          0         \n",
      "_________________________________________________________________\n",
      "dropout_2 (Dropout)          (None, 8, 8, 64)          0         \n",
      "_________________________________________________________________\n",
      "conv2d_8 (Conv2D)            (None, 8, 8, 64)          36928     \n",
      "_________________________________________________________________\n",
      "batch_normalization_5 (Batch (None, 8, 8, 64)          256       \n",
      "_________________________________________________________________\n",
      "conv2d_9 (Conv2D)            (None, 8, 8, 64)          36928     \n",
      "_________________________________________________________________\n",
      "batch_normalization_6 (Batch (None, 8, 8, 64)          256       \n",
      "_________________________________________________________________\n",
      "max_pooling2d_5 (MaxPooling2 (None, 4, 4, 64)          0         \n",
      "_________________________________________________________________\n",
      "dropout_3 (Dropout)          (None, 4, 4, 64)          0         \n",
      "_________________________________________________________________\n",
      "conv2d_10 (Conv2D)           (None, 4, 4, 64)          36928     \n",
      "_________________________________________________________________\n",
      "conv2d_11 (Conv2D)           (None, 4, 4, 64)          36928     \n",
      "_________________________________________________________________\n",
      "max_pooling2d_6 (MaxPooling2 (None, 2, 2, 64)          0         \n",
      "_________________________________________________________________\n",
      "dropout_4 (Dropout)          (None, 2, 2, 64)          0         \n",
      "_________________________________________________________________\n",
      "flatten_2 (Flatten)          (None, 256)               0         \n",
      "_________________________________________________________________\n",
      "dense_3 (Dense)              (None, 128)               32896     \n",
      "_________________________________________________________________\n",
      "batch_normalization_7 (Batch (None, 128)               512       \n",
      "_________________________________________________________________\n",
      "dropout_5 (Dropout)          (None, 128)               0         \n",
      "_________________________________________________________________\n",
      "dense_4 (Dense)              (None, 10)                1290      \n",
      "=================================================================\n",
      "Total params: 296,522\n",
      "Trainable params: 295,498\n",
      "Non-trainable params: 1,024\n",
      "_________________________________________________________________\n"
     ]
    }
   ],
   "source": [
    "model.summary()"
   ]
  },
  {
   "cell_type": "code",
   "execution_count": 73,
   "metadata": {},
   "outputs": [],
   "source": [
    "hist = model.fit(x_train, y_train, epochs=50, batch_size=50, validation_data=(x_test, y_test), verbose=0)"
   ]
  },
  {
   "cell_type": "code",
   "execution_count": 76,
   "metadata": {},
   "outputs": [
    {
     "data": {
      "image/png": "[encoded data removed]",
      "text/plain": [
       "<Figure size 432x288 with 1 Axes>"
      ]
     },
     "metadata": {
      "needs_background": "light"
     },
     "output_type": "display_data"
    }
   ],
   "source": [
    "plt.plot(hist.history[\"acc\"], label='acc')\n",
    "plt.plot(hist.history[\"val_acc\"], label='val_acc')\n",
    "plt.legend()\n",
    "plt.show()"
   ]
  },
  {
   "cell_type": "code",
   "execution_count": 77,
   "metadata": {},
   "outputs": [],
   "source": [
    "model.save_weights('./cifar.h5')"
   ]
  },
  {
   "cell_type": "code",
   "execution_count": 81,
   "metadata": {},
   "outputs": [],
   "source": [
    "model = Sequential()\n",
    "model.add(Conv2D(64, (3, 3), activation='relu', input_shape=(32, 32, 3), padding='same'))\n",
    "model.add(BatchNormalization())\n",
    "model.add(Conv2D(64, (3, 3), activation='relu', padding='same'))\n",
    "model.add(BatchNormalization())\n",
    "model.add(MaxPooling2D())\n",
    "model.add(Dropout(0.3))\n",
    "\n",
    "model.add(Conv2D(64, (3, 3), activation='relu', padding='same'))\n",
    "model.add(BatchNormalization())\n",
    "model.add(Conv2D(64, (3, 3), activation='relu', padding='same'))\n",
    "model.add(BatchNormalization())\n",
    "model.add(MaxPooling2D())\n",
    "model.add(Dropout(0.3))\n",
    "\n",
    "model.add(Conv2D(64, (3, 3), activation='relu', padding='same'))\n",
    "model.add(BatchNormalization())\n",
    "model.add(Conv2D(64, (3, 3), activation='relu', padding='same'))\n",
    "model.add(BatchNormalization())\n",
    "model.add(MaxPooling2D())\n",
    "model.add(Dropout(0.3))\n",
    "\n",
    "model.add(Conv2D(64, (3, 3), activation='relu', padding='same'))\n",
    "model.add(Conv2D(64, (3, 3), activation='relu', padding='same'))\n",
    "model.add(MaxPooling2D())\n",
    "model.add(Dropout(0.3))\n",
    "\n",
    "model.add(Flatten())\n",
    "model.add(Dense(128, activation='relu'))\n",
    "model.add(BatchNormalization())\n",
    "model.add(Dropout(0.5))\n",
    "model.add(Dense(10, activation='softmax'))\n",
    "model.compile(loss='categorical_crossentropy', optimizer='adam', metrics=['accuracy'])"
   ]
  },
  {
   "cell_type": "code",
   "execution_count": 82,
   "metadata": {},
   "outputs": [
    {
     "name": "stdout",
     "output_type": "stream",
     "text": [
      "10000/10000 [==============================] - 2s 232us/step\n"
     ]
    },
    {
     "data": {
      "text/plain": [
       "[0.4327749836206436, 0.8729]"
      ]
     },
     "execution_count": 82,
     "metadata": {},
     "output_type": "execute_result"
    }
   ],
   "source": [
    "model.load_weights('./cifar.h5')\n",
    "model.evaluate(x=x_test, y=y_test)"
   ]
  },
  {
   "cell_type": "code",
   "execution_count": 87,
   "metadata": {},
   "outputs": [
    {
     "name": "stdout",
     "output_type": "stream",
     "text": [
      "3 3\n",
      "8 8\n"
     ]
    }
   ],
   "source": [
    "print ( np.argmax(model.predict(np.expand_dims(x_test[0], axis=0))), np.argmax(y_test[0]) )\n",
    "print ( np.argmax(model.predict(np.expand_dims(x_test[1], axis=0))), np.argmax(y_test[1]) )"
   ]
  },
  {
   "cell_type": "code",
   "execution_count": null,
   "metadata": {},
   "outputs": [],
   "source": []
  }
 ],
 "metadata": {
  "celltoolbar": "Slideshow",
  "kernelspec": {
   "display_name": "Python py3",
   "language": "python",
   "name": "py3"
  },
  "language_info": {
   "codemirror_mode": {
    "name": "ipython",
    "version": 3
   },
   "file_extension": ".py",
   "mimetype": "text/x-python",
   "name": "python",
   "nbconvert_exporter": "python",
   "pygments_lexer": "ipython3",
   "version": "3.7.3"
  },
  "latex_envs": {
   "LaTeX_envs_menu_present": true,
   "autoclose": false,
   "autocomplete": true,
   "bibliofile": "biblio.bib",
   "cite_by": "apalike",
   "current_citInitial": 1,
   "eqLabelWithNumbers": true,
   "eqNumInitial": 1,
   "hotkeys": {
    "equation": "Ctrl-E",
    "itemize": "Ctrl-I"
   },
   "labels_anchors": false,
   "latex_user_defs": false,
   "report_style_numbering": false,
   "user_envs_cfg": false
  },
  "toc": {
   "base_numbering": 1,
   "nav_menu": {},
   "number_sections": false,
   "sideBar": true,
   "skip_h1_title": false,
   "title_cell": "Table of Contents",
   "title_sidebar": "Contents",
   "toc_cell": false,
   "toc_position": {},
   "toc_section_display": true,
   "toc_window_display": false
  },
  "varInspector": {
   "cols": {
    "lenName": 16,
    "lenType": 16,
    "lenVar": 40
   },
   "kernels_config": {
    "python": {
     "delete_cmd_postfix": "",
     "delete_cmd_prefix": "del ",
     "library": "var_list.py",
     "varRefreshCmd": "print(var_dic_list())"
    },
    "r": {
     "delete_cmd_postfix": ") ",
     "delete_cmd_prefix": "rm(",
     "library": "var_list.r",
     "varRefreshCmd": "cat(var_dic_list()) "
    }
   },
   "types_to_exclude": [
    "module",
    "function",
    "builtin_function_or_method",
    "instance",
    "_Feature"
   ],
   "window_display": false
  }
 },
 "nbformat": 4,
 "nbformat_minor": 2
}
