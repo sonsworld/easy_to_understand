{
 "cells": [
  {
   "cell_type": "markdown",
   "metadata": {},
   "source": [
    "<img src='img/fastcamp_h.png'>\n",
    "\n",
    "# 9강. Dimensionality reduction"
   ]
  },
  {
   "cell_type": "markdown",
   "metadata": {},
   "source": [
    "# 이번장에서 배우는 것들\n",
    "* 차원 축소의 개념\n",
    "* PCA\n",
    "* autoncoder\n",
    "* convolutional autoencoder\n",
    "* variational autoencoder"
   ]
  },
  {
   "cell_type": "markdown",
   "metadata": {
    "slideshow": {
     "slide_type": "slide"
    }
   },
   "source": [
    "# 적절한 차원과 성능\n",
    "\n",
    "<center><img src='img/09_02.png'></center>\n",
    "\n",
    "* 1차원 feature"
   ]
  },
  {
   "cell_type": "markdown",
   "metadata": {
    "slideshow": {
     "slide_type": "fragment"
    }
   },
   "source": [
    "<center><img src='img/09_03.png'></center>\n",
    "\n",
    "* 2차원 feature"
   ]
  },
  {
   "cell_type": "markdown",
   "metadata": {
    "slideshow": {
     "slide_type": "fragment"
    }
   },
   "source": [
    "<center><img src='img/09_04.png'></center>\n",
    "\n",
    "* overfitting 의 예"
   ]
  },
  {
   "cell_type": "markdown",
   "metadata": {
    "slideshow": {
     "slide_type": "slide"
    }
   },
   "source": [
    "<center><img src='img/09_05.png'></center>\n",
    "\n",
    "* 좀 더 나은 분류의 예"
   ]
  },
  {
   "cell_type": "markdown",
   "metadata": {
    "slideshow": {
     "slide_type": "slide"
    }
   },
   "source": [
    "<center><img src='img/09_06.png'></center>\n",
    "\n",
    "* 3차원 feature"
   ]
  },
  {
   "cell_type": "markdown",
   "metadata": {
    "slideshow": {
     "slide_type": "slide"
    }
   },
   "source": [
    "<center><img src='img/09_07.png'></center>\n",
    "\n",
    "* 완벽한 분류가 가능"
   ]
  },
  {
   "cell_type": "markdown",
   "metadata": {
    "slideshow": {
     "slide_type": "subslide"
    }
   },
   "source": [
    "# 차원의 저주\n",
    "\n",
    "* 고차원은 언제나 올바른 방법인가?"
   ]
  },
  {
   "cell_type": "markdown",
   "metadata": {
    "slideshow": {
     "slide_type": "fragment"
    }
   },
   "source": [
    "<center><img src='img/09_08.png'></center>\n",
    "\n",
    "* 각 차원의 데이터를 유니크하게 구분하기 위해서는 차원이 늘어날 수록 훨씬 더 많은 데이터가 필요하게 됨\n",
    "* 차원이 증가하면 각 알고리즘의 컴퓨팅 파워도 급격히 증가하게 됨\n",
    "* 데이터가 커지면 필요 메모리와 용량도 증가하게 됨"
   ]
  },
  {
   "cell_type": "markdown",
   "metadata": {
    "slideshow": {
     "slide_type": "fragment"
    }
   },
   "source": [
    "<center><img src='img/09_01.png'></center>\n",
    "\n",
    "* 결과적으로 차원이 적당하게 늘어나면 성능이 증가하지만 그 후로는 급격히 감소함 (크게 데이터 부족)"
   ]
  },
  {
   "cell_type": "markdown",
   "metadata": {},
   "source": [
    "# Dimensionality reduction\n",
    "\n",
    "* 주어진 데이터를 효과적으로 나타내는 차원을 남기고 다른 차원을 줄이거나 합치는 것\n",
    "\n",
    "### 얻어지는 효과\n",
    "* 같은 규모의 데이터셋의 용량을 축소 할 수 있음\n",
    "* 컴퓨팅 파워 감소\n",
    "* 가시적으로 데이터를 파악하기 용이해짐"
   ]
  },
  {
   "cell_type": "markdown",
   "metadata": {
    "slideshow": {
     "slide_type": "slide"
    }
   },
   "source": [
    "# PCA (principal component analysis)\n",
    "\n",
    "* LDA (Linear Discriminant Analysis) 와 함께 가장 대표적인 차원축소 알고리즘\n",
    "* 원하는 개수의 축소된 차원으로 현재 차원을 줄일 수 있음\n",
    "\n",
    "<center><img src='img/09_09.png' height=50% width=50%></center>"
   ]
  },
  {
   "cell_type": "markdown",
   "metadata": {
    "slideshow": {
     "slide_type": "slide"
    }
   },
   "source": [
    "# PCA 알고리즘\n",
    "\n",
    "* 주어진 데이터 셋을 z-score로 변환\n",
    "* 데이터셋에서 분산이 최대인 축을 mse로 탐색 (pc1)\n",
    "* 분산이 최대인 축(pc1)을 찾으면 pc1과 직교하는 다른 차원의 분산이 최대인 축을 찾음(pc2)\n",
    "* pc1과 pc2에 직교하는 3번째 pc3을 찾음 .. (반복)\n",
    "\n",
    "<center><img src='img/09_10.png' height=50% width=50%></center>\n",
    "<center><img src='img/09_01.gif' height=50% width=50%></center>"
   ]
  },
  {
   "cell_type": "code",
   "execution_count": 7,
   "metadata": {},
   "outputs": [
    {
     "data": {
      "text/plain": [
       "PCA(copy=True, iterated_power='auto', n_components=None, random_state=None,\n",
       "  svd_solver='auto', tol=0.0, whiten=False)"
      ]
     },
     "execution_count": 7,
     "metadata": {},
     "output_type": "execute_result"
    }
   ],
   "source": [
    "#pca 구하기\n",
    "\n",
    "from keras.datasets import mnist\n",
    "from keras.utils import to_categorical\n",
    "(x_train, y_train), (x_test, y_test) = mnist.load_data()\n",
    "x_train = x_train.reshape((-1, 28 * 28)) /255.\n",
    "\n",
    "from sklearn.decomposition import PCA\n",
    "\n",
    "pca = PCA()\n",
    "# 28 * 28 dimension을 가진 mnist를 2차원으로 투영\n",
    "pca.fit(x_train)"
   ]
  },
  {
   "cell_type": "code",
   "execution_count": 9,
   "metadata": {
    "slideshow": {
     "slide_type": "slide"
    }
   },
   "outputs": [
    {
     "name": "stdout",
     "output_type": "stream",
     "text": [
      "[9.70466436e-02 7.09592406e-02 6.16908876e-02 5.38941949e-02\n",
      " 4.86879702e-02 4.31223132e-02 3.27192995e-02 2.88389545e-02\n",
      " 2.76202940e-02 2.35700055e-02 2.10918962e-02 2.02299108e-02\n",
      " 1.71581820e-02 1.69211143e-02 1.57864128e-02 1.48295261e-02\n",
      " 1.32456095e-02 1.27689737e-02 1.18726294e-02 1.15268370e-02\n",
      " 1.06616621e-02 1.00671337e-02 9.53573327e-03 9.12543746e-03\n",
      " 8.83404692e-03 8.39319141e-03 8.12578809e-03 7.86366084e-03\n",
      " 7.44733102e-03 6.90859128e-03 6.58093773e-03 6.48147870e-03\n",
      " 6.02615030e-03 5.86582188e-03 5.70021474e-03 5.43627771e-03\n",
      " 5.05786416e-03 4.87858604e-03 4.81429342e-03 4.72266326e-03\n",
      " 4.56746921e-03 4.44836012e-03 4.18501329e-03 3.98215339e-03\n",
      " 3.84974607e-03 3.75103387e-03 3.62008852e-03 3.51591277e-03\n",
      " 3.40058205e-03 3.21874467e-03 3.19017051e-03 3.12804939e-03\n",
      " 2.95982668e-03 2.88954600e-03 2.84130398e-03 2.71435811e-03\n",
      " 2.69521453e-03 2.58472546e-03 2.53770594e-03 2.44780960e-03\n",
      " 2.40506133e-03 2.39262901e-03 2.30408489e-03 2.21532131e-03\n",
      " 2.13720816e-03 2.07225240e-03 2.03042671e-03 1.96782616e-03\n",
      " 1.92852594e-03 1.88632479e-03 1.86977066e-03 1.81082983e-03\n",
      " 1.77562102e-03 1.74898073e-03 1.65758220e-03 1.63893922e-03\n",
      " 1.61462114e-03 1.55116423e-03 1.47612974e-03 1.43176066e-03\n",
      " 1.42094228e-03 1.41153189e-03 1.40174414e-03 1.35736343e-03\n",
      " 1.33847142e-03 1.32396333e-03 1.30157250e-03 1.25873090e-03\n",
      " 1.22828160e-03 1.21584486e-03 1.17034462e-03 1.14873591e-03\n",
      " 1.13244183e-03 1.10885640e-03 1.09001809e-03 1.06923234e-03\n",
      " 1.04195974e-03 1.04006816e-03 1.01256280e-03 1.00527256e-03\n",
      " 9.84017292e-04 9.49686225e-04 9.41340853e-04 9.16166389e-04\n",
      " 9.07850679e-04 8.96872248e-04 8.65391297e-04 8.55172121e-04\n",
      " 8.45619941e-04 8.22495629e-04 7.91584254e-04 7.85938694e-04\n",
      " 7.84606705e-04 7.68831553e-04 7.64015495e-04 7.53088360e-04\n",
      " 7.36782927e-04 7.27131928e-04 7.19651644e-04 7.06816284e-04\n",
      " 6.95424441e-04 6.92161115e-04 6.83303352e-04 6.74060551e-04\n",
      " 6.66876813e-04 6.45265738e-04 6.35594148e-04 6.31646280e-04\n",
      " 6.22933684e-04 6.05290244e-04 6.03588668e-04 5.94480972e-04\n",
      " 5.88307737e-04 5.86520057e-04 5.81340892e-04 5.76831332e-04\n",
      " 5.65369113e-04 5.54764478e-04 5.35170320e-04 5.25925367e-04\n",
      " 5.25093213e-04 5.10256933e-04 5.02970791e-04 5.01077862e-04\n",
      " 4.98712828e-04 4.91069894e-04 4.85537580e-04 4.82846335e-04\n",
      " 4.74013821e-04 4.68351298e-04 4.66598957e-04 4.63327885e-04\n",
      " 4.59293726e-04 4.50379880e-04 4.48807397e-04 4.42709926e-04\n",
      " 4.36674335e-04 4.27448506e-04 4.24979220e-04 4.22012400e-04\n",
      " 4.15513534e-04 4.09637061e-04 4.00823776e-04 3.97882283e-04\n",
      " 3.94080737e-04 3.90493569e-04 3.85852581e-04 3.79776550e-04\n",
      " 3.78899163e-04 3.73939344e-04 3.69414567e-04 3.65150688e-04\n",
      " 3.63813269e-04 3.59874612e-04 3.54642228e-04 3.52897969e-04\n",
      " 3.47288448e-04 3.45957243e-04 3.41447060e-04 3.37645698e-04\n",
      " 3.37094006e-04 3.30227027e-04 3.28354858e-04 3.25907348e-04\n",
      " 3.22944525e-04 3.21269131e-04 3.17299289e-04 3.16174998e-04\n",
      " 3.10942546e-04 3.09536878e-04 3.05966364e-04 3.03274764e-04\n",
      " 3.02410301e-04 3.01568730e-04 2.96707208e-04 2.95746569e-04\n",
      " 2.93471733e-04 2.92672507e-04 2.87752279e-04 2.84345214e-04\n",
      " 2.81966256e-04 2.79070256e-04 2.75734563e-04 2.72474610e-04\n",
      " 2.69435264e-04 2.67707341e-04 2.65120089e-04 2.64327139e-04\n",
      " 2.61882893e-04 2.59450915e-04 2.58556918e-04 2.56922803e-04\n",
      " 2.54736986e-04 2.52811988e-04 2.52289830e-04 2.49562926e-04\n",
      " 2.48516635e-04 2.46074950e-04 2.43954927e-04 2.41863092e-04\n",
      " 2.40968147e-04 2.40443925e-04 2.38269816e-04 2.36853390e-04\n",
      " 2.32578089e-04 2.31308927e-04 2.30128065e-04 2.28086747e-04\n",
      " 2.27583342e-04 2.22776216e-04 2.21863012e-04 2.20442345e-04\n",
      " 2.17866578e-04 2.16656444e-04 2.15163934e-04 2.14194871e-04\n",
      " 2.12855131e-04 2.10372485e-04 2.09755026e-04 2.06961451e-04\n",
      " 2.04723959e-04 2.04271260e-04 2.01314252e-04 2.00984824e-04\n",
      " 1.98996556e-04 1.97630643e-04 1.95827447e-04 1.93728239e-04\n",
      " 1.92858401e-04 1.91772657e-04 1.91541926e-04 1.89077710e-04\n",
      " 1.88012568e-04 1.86392293e-04 1.85847516e-04 1.84618051e-04\n",
      " 1.83695841e-04 1.83146181e-04 1.81880619e-04 1.79866333e-04\n",
      " 1.77555751e-04 1.76688735e-04 1.75962144e-04 1.73882869e-04\n",
      " 1.73428592e-04 1.72645369e-04 1.71385636e-04 1.70036471e-04\n",
      " 1.69300514e-04 1.68005468e-04 1.66921752e-04 1.66452293e-04\n",
      " 1.64205616e-04 1.63481673e-04 1.62658054e-04 1.61890496e-04\n",
      " 1.60891270e-04 1.59843844e-04 1.58832869e-04 1.57351800e-04\n",
      " 1.56737737e-04 1.54897135e-04 1.53808995e-04 1.53067939e-04\n",
      " 1.52038813e-04 1.50010664e-04 1.49664931e-04 1.48229235e-04\n",
      " 1.47673931e-04 1.46127382e-04 1.44652367e-04 1.43233806e-04\n",
      " 1.42722982e-04 1.42069479e-04 1.41748998e-04 1.40492178e-04\n",
      " 1.38237632e-04 1.37972244e-04 1.36841265e-04 1.35975386e-04\n",
      " 1.35795219e-04 1.34509178e-04 1.33617221e-04 1.32342804e-04\n",
      " 1.30701809e-04 1.30189545e-04 1.29162788e-04 1.28111630e-04\n",
      " 1.27515622e-04 1.27217857e-04 1.26338688e-04 1.25860075e-04\n",
      " 1.24730732e-04 1.23562308e-04 1.22621744e-04 1.21567236e-04\n",
      " 1.21027070e-04 1.19967460e-04 1.19422153e-04 1.18948773e-04\n",
      " 1.17872139e-04 1.17059968e-04 1.16494914e-04 1.16099041e-04\n",
      " 1.14530554e-04 1.14216964e-04 1.12406549e-04 1.11275336e-04\n",
      " 1.10540088e-04 1.10430755e-04 1.10058802e-04 1.08974833e-04\n",
      " 1.08323067e-04 1.07595699e-04 1.07004371e-04 1.06204964e-04\n",
      " 1.05929000e-04 1.05049823e-04 1.03420556e-04 1.02250232e-04\n",
      " 1.02045846e-04 1.00845765e-04 1.00264707e-04 9.95977605e-05\n",
      " 9.93729336e-05 9.81249726e-05 9.75951411e-05 9.68311922e-05\n",
      " 9.55244181e-05 9.45448376e-05 9.37982205e-05 9.37227397e-05\n",
      " 9.24930550e-05 9.15874487e-05 9.13967681e-05 9.06741875e-05\n",
      " 9.00751392e-05 8.93704762e-05 8.91559603e-05 8.82613901e-05\n",
      " 8.73279152e-05 8.63095938e-05 8.55753930e-05 8.51577509e-05\n",
      " 8.46020703e-05 8.33128198e-05 8.29779716e-05 8.24987018e-05\n",
      " 8.19115141e-05 8.10903695e-05 8.09031492e-05 7.96086382e-05\n",
      " 7.94683254e-05 7.86261248e-05 7.80611365e-05 7.74252223e-05\n",
      " 7.65902473e-05 7.58039165e-05 7.46096438e-05 7.38457624e-05\n",
      " 7.35691255e-05 7.28156159e-05 7.27140152e-05 7.20667117e-05\n",
      " 7.14164029e-05 7.08057862e-05 6.96516583e-05 6.92450253e-05\n",
      " 6.82996212e-05 6.79383934e-05 6.70585954e-05 6.62344532e-05\n",
      " 6.52426254e-05 6.42024934e-05 6.37103953e-05 6.34535846e-05\n",
      " 6.20327598e-05 6.12865889e-05 6.03190242e-05 5.99282849e-05\n",
      " 5.93680428e-05 5.87299046e-05 5.86206850e-05 5.73862150e-05\n",
      " 5.67253974e-05 5.63738152e-05 5.56164907e-05 5.49012889e-05\n",
      " 5.47388158e-05 5.44730018e-05 5.33301511e-05 5.27555986e-05\n",
      " 5.25476883e-05 5.21982374e-05 5.18520830e-05 5.10148872e-05\n",
      " 5.03810394e-05 4.97554267e-05 4.90673847e-05 4.87008240e-05\n",
      " 4.79421696e-05 4.72082305e-05 4.66606937e-05 4.64426143e-05\n",
      " 4.56015927e-05 4.49094253e-05 4.37134777e-05 4.29265351e-05\n",
      " 4.26090033e-05 4.23856134e-05 4.21742379e-05 4.17847347e-05\n",
      " 4.13870352e-05 4.08461816e-05 4.02868464e-05 3.85887427e-05\n",
      " 3.82519973e-05 3.81418940e-05 3.78838376e-05 3.73238173e-05\n",
      " 3.70742452e-05 3.65901716e-05 3.57648817e-05 3.53579530e-05\n",
      " 3.52531035e-05 3.48699976e-05 3.45505624e-05 3.43835708e-05\n",
      " 3.34025597e-05 3.29991797e-05 3.21984785e-05 3.19393529e-05\n",
      " 3.16408099e-05 3.10130586e-05 3.04092309e-05 3.01560244e-05\n",
      " 2.99062221e-05 2.92128492e-05 2.88664671e-05 2.85184511e-05\n",
      " 2.80650709e-05 2.79074006e-05 2.75173214e-05 2.69453276e-05\n",
      " 2.57726430e-05 2.52920635e-05 2.51629710e-05 2.48282597e-05\n",
      " 2.46875635e-05 2.43564637e-05 2.43141230e-05 2.42490170e-05\n",
      " 2.37258154e-05 2.33513419e-05 2.32170821e-05 2.25184055e-05\n",
      " 2.23652234e-05 2.21184484e-05 2.14323856e-05 2.12954548e-05\n",
      " 2.10673717e-05 2.08562653e-05 2.03771092e-05 2.00897381e-05\n",
      " 1.98644931e-05 1.96245262e-05 1.95146780e-05 1.89596250e-05\n",
      " 1.84494831e-05 1.81866082e-05 1.81024894e-05 1.79573312e-05\n",
      " 1.75884221e-05 1.74099542e-05 1.63583601e-05 1.61730953e-05\n",
      " 1.61083699e-05 1.59039392e-05 1.55391050e-05 1.52059429e-05\n",
      " 1.51670398e-05 1.49795143e-05 1.47584710e-05 1.45782846e-05\n",
      " 1.43546720e-05 1.41770774e-05 1.39621442e-05 1.37897203e-05\n",
      " 1.36745723e-05 1.33331346e-05 1.31039439e-05 1.25487316e-05\n",
      " 1.23813543e-05 1.21852824e-05 1.20015454e-05 1.19125571e-05\n",
      " 1.17766171e-05 1.17307444e-05 1.13788115e-05 1.13168482e-05\n",
      " 1.12463625e-05 1.10026093e-05 1.09370277e-05 1.05700730e-05\n",
      " 1.05384042e-05 1.02320303e-05 1.00219171e-05 9.57486478e-06\n",
      " 9.37248288e-06 9.26034546e-06 9.22225544e-06 8.87165402e-06\n",
      " 8.80979910e-06 8.59229313e-06 8.16018534e-06 7.96991273e-06\n",
      " 7.86719136e-06 7.73393838e-06 7.64388821e-06 7.57753356e-06\n",
      " 7.53194476e-06 7.36860975e-06 7.26920880e-06 7.14866366e-06\n",
      " 6.96162486e-06 6.88111732e-06 6.71536305e-06 6.65581596e-06\n",
      " 6.53801172e-06 6.47011389e-06 6.13990338e-06 5.92738988e-06\n",
      " 5.72723565e-06 5.67724390e-06 5.55498087e-06 5.34937972e-06\n",
      " 5.27072988e-06 5.18255272e-06 5.03922367e-06 4.99553423e-06\n",
      " 4.93269115e-06 4.90087635e-06 4.81064307e-06 4.69601479e-06\n",
      " 4.62328837e-06 4.55458565e-06 4.19828463e-06 4.18489825e-06\n",
      " 4.01272873e-06 4.00155559e-06 3.94513313e-06 3.79975408e-06\n",
      " 3.78085481e-06 3.31217786e-06 3.23787690e-06 3.21258771e-06\n",
      " 3.17519283e-06 3.11957944e-06 3.08216368e-06 3.02581820e-06\n",
      " 3.01214170e-06 2.97070334e-06 2.95593377e-06 2.92458383e-06\n",
      " 2.80376962e-06 2.62845546e-06 2.54993592e-06 2.36170379e-06\n",
      " 2.31546867e-06 2.26296354e-06 2.24474766e-06 2.20769129e-06\n",
      " 2.15115435e-06 2.14663843e-06 2.10203952e-06 2.04177083e-06\n",
      " 1.87914891e-06 1.86506271e-06 1.85219840e-06 1.84445913e-06\n",
      " 1.80037033e-06 1.75433067e-06 1.61843679e-06 1.60540711e-06\n",
      " 1.50347255e-06 1.46105778e-06 1.41330259e-06 1.38834867e-06\n",
      " 1.31820430e-06 1.30323938e-06 1.28464610e-06 1.24683888e-06\n",
      " 1.11920325e-06 1.07840610e-06 1.04794936e-06 1.04158261e-06\n",
      " 1.03574809e-06 9.81224309e-07 9.66405113e-07 9.34492710e-07\n",
      " 9.15745557e-07 9.09785238e-07 8.99058997e-07 8.75386886e-07\n",
      " 8.33145790e-07 7.76131320e-07 7.44965020e-07 7.21840007e-07\n",
      " 6.66633877e-07 6.59729865e-07 6.36906952e-07 6.25560617e-07\n",
      " 6.25377870e-07 5.90925753e-07 5.82886091e-07 5.66883164e-07\n",
      " 5.60965347e-07 5.28215209e-07 5.22247837e-07 4.77481341e-07\n",
      " 4.71665542e-07 4.66136305e-07 4.32275403e-07 4.20436879e-07\n",
      " 4.06474129e-07 3.83887717e-07 3.62130016e-07 3.56661921e-07\n",
      " 3.12316550e-07 2.96830796e-07 2.78415077e-07 2.72680754e-07\n",
      " 2.57484964e-07 2.55549537e-07 2.41288092e-07 2.35705750e-07\n",
      " 2.29940877e-07 2.25352225e-07 2.14995493e-07 2.02536197e-07\n",
      " 2.01439948e-07 1.96168276e-07 1.76740352e-07 1.71228701e-07\n",
      " 1.50993460e-07 1.49718287e-07 1.36601233e-07 1.35304595e-07\n",
      " 1.28053838e-07 1.07049722e-07 9.44896396e-08 8.78391852e-08\n",
      " 8.32650491e-08 8.16810203e-08 6.84887549e-08 6.72368773e-08\n",
      " 6.42105724e-08 5.95888733e-08 5.54025899e-08 4.66118024e-08\n",
      " 4.59353843e-08 4.06522658e-08 3.93584037e-08 3.60455630e-08\n",
      " 3.56938164e-08 3.24021678e-08 3.08761304e-08 3.00483077e-08\n",
      " 2.89071625e-08 2.40250554e-08 1.88466245e-08 1.77257929e-08\n",
      " 1.66299011e-08 1.62047448e-08 1.11501446e-08 1.03068085e-08\n",
      " 1.00984193e-08 8.64471220e-09 7.95800335e-09 6.91637185e-09\n",
      " 6.88523861e-09 5.43217033e-09 4.96586188e-09 3.69822162e-09\n",
      " 3.02034593e-09 1.94007789e-09 8.67383731e-10 7.08189189e-10\n",
      " 6.92261257e-10 2.53506429e-10 2.36219381e-10 1.53059748e-11\n",
      " 1.91521067e-32 4.44166764e-33 3.75944960e-33 2.27021851e-33\n",
      " 2.13837797e-33 1.28297381e-33 1.14605593e-33 9.76115355e-34\n",
      " 5.82189714e-34 5.69981786e-34 3.69421519e-34 3.49747693e-34\n",
      " 3.49747693e-34 3.49747693e-34 3.49747693e-34 3.49747693e-34\n",
      " 3.49747693e-34 3.49747693e-34 3.49747693e-34 3.49747693e-34\n",
      " 3.49747693e-34 3.49747693e-34 3.49747693e-34 3.49747693e-34\n",
      " 3.49747693e-34 3.49747693e-34 3.49747693e-34 3.49747693e-34\n",
      " 3.49747693e-34 3.49747693e-34 3.49747693e-34 3.49747693e-34\n",
      " 3.49747693e-34 3.49747693e-34 3.49747693e-34 3.49747693e-34\n",
      " 3.49747693e-34 3.49747693e-34 3.49747693e-34 3.49747693e-34\n",
      " 3.49747693e-34 3.49747693e-34 3.49747693e-34 3.49747693e-34\n",
      " 3.49747693e-34 3.49747693e-34 3.49747693e-34 3.49747693e-34\n",
      " 3.49747693e-34 3.49747693e-34 3.49747693e-34 3.49747693e-34\n",
      " 3.49747693e-34 3.49747693e-34 3.49747693e-34 3.49747693e-34\n",
      " 3.49747693e-34 3.49747693e-34 3.49747693e-34 3.49747693e-34\n",
      " 3.49747693e-34 3.49747693e-34 3.49747693e-34 3.49747693e-34\n",
      " 3.49747693e-34 3.49747693e-34 3.49747693e-34 3.43595599e-34\n",
      " 2.26808716e-34 1.25316591e-34 6.06678440e-35 3.27850838e-35]\n"
     ]
    }
   ],
   "source": [
    "#pc별 분산 비율을 획득\n",
    "print(pca.explained_variance_ratio_)"
   ]
  },
  {
   "cell_type": "code",
   "execution_count": 20,
   "metadata": {},
   "outputs": [
    {
     "name": "stdout",
     "output_type": "stream",
     "text": [
      "0.25679449048057473\n"
     ]
    }
   ],
   "source": [
    "#pc 2까지의 pc로 64%의 정보를 복원 가능함\n",
    "print(sum(pca.explained_variance_ratio_ [:2])/ sum(pca.explained_variance_ratio_))"
   ]
  },
  {
   "cell_type": "code",
   "execution_count": 25,
   "metadata": {},
   "outputs": [
    {
     "name": "stdout",
     "output_type": "stream",
     "text": [
      "2\n"
     ]
    }
   ],
   "source": [
    "pca = PCA(n_components = 0.1)\n",
    "# 28 * 28 dimension을 가진 mnist를 2차원으로 투영\n",
    "pca.fit(x_train)\n",
    "print(pca.n_components_)"
   ]
  },
  {
   "cell_type": "code",
   "execution_count": 29,
   "metadata": {},
   "outputs": [
    {
     "name": "stdout",
     "output_type": "stream",
     "text": [
      "(60000, 2) (60000, 784) (60000,)\n"
     ]
    }
   ],
   "source": [
    "# 28 * 28 차원을 2차원으로 축소\n",
    "encoded = pca.transform(x_train)\n",
    "print(encoded.shape, x_train.shape, y_train.shape)"
   ]
  },
  {
   "cell_type": "code",
   "execution_count": 48,
   "metadata": {
    "scrolled": true
   },
   "outputs": [
    {
     "name": "stdout",
     "output_type": "stream",
     "text": [
      "3.0.3\n"
     ]
    },
    {
     "ename": "AttributeError",
     "evalue": "'PathCollection' object has no attribute 'legend_elements'",
     "output_type": "error",
     "traceback": [
      "\u001b[1;31m---------------------------------------------------------------------------\u001b[0m",
      "\u001b[1;31mAttributeError\u001b[0m                            Traceback (most recent call last)",
      "\u001b[1;32m<ipython-input-48-6128ad8a5b02>\u001b[0m in \u001b[0;36m<module>\u001b[1;34m\u001b[0m\n\u001b[0;32m      4\u001b[0m \u001b[1;33m\u001b[0m\u001b[0m\n\u001b[0;32m      5\u001b[0m \u001b[0mscatter\u001b[0m \u001b[1;33m=\u001b[0m \u001b[0mplt\u001b[0m\u001b[1;33m.\u001b[0m\u001b[0mscatter\u001b[0m\u001b[1;33m(\u001b[0m\u001b[0mx\u001b[0m\u001b[1;33m=\u001b[0m\u001b[0mencoded\u001b[0m\u001b[1;33m[\u001b[0m\u001b[1;33m:\u001b[0m\u001b[1;36m100\u001b[0m\u001b[1;33m,\u001b[0m\u001b[1;36m0\u001b[0m\u001b[1;33m]\u001b[0m\u001b[1;33m,\u001b[0m \u001b[0my\u001b[0m\u001b[1;33m=\u001b[0m\u001b[0mencoded\u001b[0m\u001b[1;33m[\u001b[0m\u001b[1;33m:\u001b[0m\u001b[1;36m100\u001b[0m\u001b[1;33m,\u001b[0m\u001b[1;36m1\u001b[0m\u001b[1;33m]\u001b[0m\u001b[1;33m,\u001b[0m \u001b[0mc\u001b[0m\u001b[1;33m=\u001b[0m\u001b[0my_train\u001b[0m\u001b[1;33m[\u001b[0m\u001b[1;33m:\u001b[0m\u001b[1;36m100\u001b[0m\u001b[1;33m]\u001b[0m\u001b[1;33m)\u001b[0m\u001b[1;33m\u001b[0m\u001b[1;33m\u001b[0m\u001b[0m\n\u001b[1;32m----> 6\u001b[1;33m \u001b[0mhandles\u001b[0m\u001b[1;33m,\u001b[0m \u001b[0mlabels\u001b[0m \u001b[1;33m=\u001b[0m \u001b[0mscatter\u001b[0m\u001b[1;33m.\u001b[0m\u001b[0mlegend_elements\u001b[0m\u001b[1;33m(\u001b[0m\u001b[0mprop\u001b[0m\u001b[1;33m=\u001b[0m\u001b[1;34m\"sizes\"\u001b[0m\u001b[1;33m,\u001b[0m \u001b[0malpha\u001b[0m\u001b[1;33m=\u001b[0m\u001b[1;36m0.6\u001b[0m\u001b[1;33m)\u001b[0m\u001b[1;33m\u001b[0m\u001b[1;33m\u001b[0m\u001b[0m\n\u001b[0m\u001b[0;32m      7\u001b[0m \u001b[0mlegend2\u001b[0m \u001b[1;33m=\u001b[0m \u001b[0max\u001b[0m\u001b[1;33m.\u001b[0m\u001b[0mlegend\u001b[0m\u001b[1;33m(\u001b[0m\u001b[0mhandles\u001b[0m\u001b[1;33m,\u001b[0m \u001b[0mlabels\u001b[0m\u001b[1;33m,\u001b[0m \u001b[0mloc\u001b[0m\u001b[1;33m=\u001b[0m\u001b[1;34m\"upper right\"\u001b[0m\u001b[1;33m,\u001b[0m \u001b[0mtitle\u001b[0m\u001b[1;33m=\u001b[0m\u001b[1;34m\"Sizes\"\u001b[0m\u001b[1;33m)\u001b[0m\u001b[1;33m\u001b[0m\u001b[1;33m\u001b[0m\u001b[0m\n\u001b[0;32m      8\u001b[0m \u001b[1;33m\u001b[0m\u001b[0m\n",
      "\u001b[1;31mAttributeError\u001b[0m: 'PathCollection' object has no attribute 'legend_elements'"
     ]
    },
    {
     "data": {
      "image/png": "[encoded data removed]",
      "text/plain": [
       "<Figure size 432x288 with 1 Axes>"
      ]
     },
     "metadata": {
      "needs_background": "light"
     },
     "output_type": "display_data"
    }
   ],
   "source": [
    "import matplotlib.pylab as plt\n",
    "import matplotlib\n",
    "print(matplotlib.__version__)\n",
    "\n",
    "scatter = plt.scatter(x=encoded[:100,0], y=encoded[:100,1], c=y_train[:100])\n",
    "handles, labels = scatter.legend_elements(prop=\"sizes\", alpha=0.6)\n",
    "legend2 = ax.legend(handles, labels, loc=\"upper right\", title=\"Sizes\")\n",
    "\n",
    "\n",
    "\n",
    "plt.legend(handles=[scatter])\n",
    "plt.show()"
   ]
  },
  {
   "cell_type": "code",
   "execution_count": null,
   "metadata": {},
   "outputs": [],
   "source": []
  }
 ],
 "metadata": {
  "celltoolbar": "Slideshow",
  "kernelspec": {
   "display_name": "Python py3",
   "language": "python",
   "name": "py3"
  },
  "language_info": {
   "codemirror_mode": {
    "name": "ipython",
    "version": 3
   },
   "file_extension": ".py",
   "mimetype": "text/x-python",
   "name": "python",
   "nbconvert_exporter": "python",
   "pygments_lexer": "ipython3",
   "version": "3.7.3"
  },
  "latex_envs": {
   "LaTeX_envs_menu_present": true,
   "autoclose": false,
   "autocomplete": true,
   "bibliofile": "biblio.bib",
   "cite_by": "apalike",
   "current_citInitial": 1,
   "eqLabelWithNumbers": true,
   "eqNumInitial": 1,
   "hotkeys": {
    "equation": "Ctrl-E",
    "itemize": "Ctrl-I"
   },
   "labels_anchors": false,
   "latex_user_defs": false,
   "report_style_numbering": false,
   "user_envs_cfg": false
  },
  "toc": {
   "base_numbering": 1,
   "nav_menu": {},
   "number_sections": false,
   "sideBar": true,
   "skip_h1_title": false,
   "title_cell": "Table of Contents",
   "title_sidebar": "Contents",
   "toc_cell": false,
   "toc_position": {
    "height": "calc(100% - 180px)",
    "left": "10px",
    "top": "150px",
    "width": "304.797px"
   },
   "toc_section_display": true,
   "toc_window_display": true
  },
  "varInspector": {
   "cols": {
    "lenName": 16,
    "lenType": 16,
    "lenVar": 40
   },
   "kernels_config": {
    "python": {
     "delete_cmd_postfix": "",
     "delete_cmd_prefix": "del ",
     "library": "var_list.py",
     "varRefreshCmd": "print(var_dic_list())"
    },
    "r": {
     "delete_cmd_postfix": ") ",
     "delete_cmd_prefix": "rm(",
     "library": "var_list.r",
     "varRefreshCmd": "cat(var_dic_list()) "
    }
   },
   "types_to_exclude": [
    "module",
    "function",
    "builtin_function_or_method",
    "instance",
    "_Feature"
   ],
   "window_display": false
  }
 },
 "nbformat": 4,
 "nbformat_minor": 2
}
