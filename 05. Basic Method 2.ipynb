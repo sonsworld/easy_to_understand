{
 "cells": [
  {
   "cell_type": "markdown",
   "metadata": {
    "slideshow": {
     "slide_type": "slide"
    }
   },
   "source": [
    "<!-- <img src='img/fastcamp_h.png'> -->\n",
    "\n",
    "# 5. Deep Learning from Basic Method 2 with Keras"
   ]
  },
  {
   "cell_type": "markdown",
   "metadata": {
    "slideshow": {
     "slide_type": "slide"
    }
   },
   "source": [
    "# AI의 겨울\n",
    "\n",
    "* perceptron이 이렇게 강력했지만 이후 ai는 20년에 가까운 시간 동안 \"AI Winter\"라는 시기를 겪음\n",
    "* 왜 그럴까?"
   ]
  },
  {
   "cell_type": "markdown",
   "metadata": {
    "slideshow": {
     "slide_type": "fragment"
    }
   },
   "source": [
    "# XOR PROBLEM; 비선형 문제\n",
    "\n",
    "<img src='img/05_01.png' width=50% height=50%>\n",
    "\n",
    "* 기존의 AND 문제, OR 문제는 방정식 1개로 (선형으로) 문제를 해결 할 수 있었음\n",
    "* 그러나 XOR는 1개의 방정식으로 해결 할 수 없음\n",
    "  * 이 문제를 perceptron은 절대 해결 할 수 없기 때문에 AI winter가 찾아옴\n",
    "  * 1969년 Marvin Minsky와 Seymour Papert의 “Perceptrons: an introduction to computational geometry”"
   ]
  },
  {
   "cell_type": "markdown",
   "metadata": {
    "slideshow": {
     "slide_type": "subslide"
    }
   },
   "source": [
    "# Multi-Layer Perceptron(MLP) 의 등장\n",
    "\n",
    "* 1986년 McClelland, James L., David E. Rumelhart, and **Geoffrey E. Hinton**이 MLP를 발표\n",
    "* 이전 perceptron의 출력을 또다른 perceptron의 입력으로 사용하고 현재 출력에 비선형 step function을 사용하여 MLP가 비선형으로 동작하게 함"
   ]
  },
  {
   "cell_type": "markdown",
   "metadata": {
    "slideshow": {
     "slide_type": "fragment"
    }
   },
   "source": [
    "# 선형 분류와 비선형 분류의 차이\n",
    "\n",
    "<center><img src='img/05_03.png'></center>"
   ]
  },
  {
   "cell_type": "markdown",
   "metadata": {
    "slideshow": {
     "slide_type": "subslide"
    }
   },
   "source": [
    "# 다시보는 Perceptron의 구조\n",
    "\n",
    "<center><img src='img/03_01.png'></center>\n",
    "\n",
    "* input($x_n$): 외부에서 들어오는 입력, 보통 vector, matrix\n",
    "* weight($w_n$): x와 곱해지는 가중치, DL에서 구해야하는 값\n",
    "* bias($1$): 바이어스, 절편 값\n",
    "* sigma: x와 w의 곱 + bias의 합을 출력\n",
    "* step function: 해당 출력의 활성 여부를 결정"
   ]
  },
  {
   "cell_type": "markdown",
   "metadata": {
    "slideshow": {
     "slide_type": "subslide"
    }
   },
   "source": [
    "# Multi-Layer Perceptron의 구조\n",
    "\n",
    "<center><img src='img/05_02.png'></center>\n",
    "\n",
    "* input layer: 외부에서 들어오는 입력, 보통 vector, matrix\n",
    "* hidden layer:\n",
    " 1. 각 노드는 이전 layer의 출력을 입력으로 받음\n",
    " 2. hidden layer의 각 노드는 step funtion을 가짐\n",
    " 3. hidden layer는 여러장 올 수 있음\n",
    "<br><br>\n",
    "* hidden layer의 각 노드\n",
    " * weight($w_n$): 이전 입력과 곱해지는 가중치, DL에서 구해야하는 값\n",
    " * bias($1$): 바이어스, 절편 값\n",
    " * sigma: 입력과 w의 곱 + bias의 합을 출력\n",
    " * activation/step function: 해당 출력의 활성 여부를 결정"
   ]
  },
  {
   "cell_type": "code",
   "execution_count": 19,
   "metadata": {
    "slideshow": {
     "slide_type": "slide"
    }
   },
   "outputs": [
    {
     "name": "stdout",
     "output_type": "stream",
     "text": [
      "오차: 1.1934709548950195\n",
      "오차: 0.1989368498325348\n",
      "오차: 0.15673863887786865\n",
      "오차: 0.12096760421991348\n",
      "오차: 0.0845719426870346\n",
      "오차: 0.05304841324687004\n",
      "오차: 0.02948678657412529\n",
      "오차: 0.014505070634186268\n",
      "오차: 0.0064311884343624115\n",
      "오차: 0.002637288300320506\n",
      "정확도: 1.0\n"
     ]
    }
   ],
   "source": [
    "import keras\n",
    "from keras.layers import Dense\n",
    "from keras.models import Sequential\n",
    "import numpy as np\n",
    "\n",
    "model = Sequential()\n",
    "model.add(Dense(2, input_shape=(2,), activation='tanh'))\n",
    "model.add(Dense(1))\n",
    "model.compile(optimizer='sgd', loss='mse')\n",
    "\n",
    "X = np.array([[0,0], [0,1], [1,0], [1,1]])\n",
    "Y = np.array([[0], [1], [1], [0]])\n",
    "hist = model.fit(X, Y, epochs=3000, verbose=0)\n",
    "\n",
    "H = (model.predict(X) > 0.5).astype(np.float32)\n",
    "for loss in hist.history['loss'][::300]:\n",
    "    print('오차:', loss)\n",
    "print('정확도:', np.mean(np.equal(H, Y)))"
   ]
  },
  {
   "cell_type": "markdown",
   "metadata": {
    "slideshow": {
     "slide_type": "fragment"
    }
   },
   "source": [
    "<center><img src='img/05_04.png' width=30% height=30%></center>"
   ]
  },
  {
   "cell_type": "markdown",
   "metadata": {
    "slideshow": {
     "slide_type": "slide"
    }
   },
   "source": [
    "# Activation을 선형으로 바꾸면 어떻게 될까?"
   ]
  },
  {
   "cell_type": "code",
   "execution_count": 20,
   "metadata": {
    "slideshow": {
     "slide_type": "fragment"
    }
   },
   "outputs": [
    {
     "name": "stdout",
     "output_type": "stream",
     "text": [
      "오차: 1.3322943449020386\n",
      "오차: 0.25137215852737427\n",
      "오차: 0.2500744163990021\n",
      "오차: 0.25000476837158203\n",
      "오차: 0.2500002980232239\n",
      "오차: 0.2500000298023224\n",
      "오차: 0.25\n",
      "오차: 0.25\n",
      "오차: 0.2499999701976776\n",
      "오차: 0.25\n",
      "정확도: 0.75\n"
     ]
    }
   ],
   "source": [
    "import keras\n",
    "from keras.layers import Dense\n",
    "from keras.models import Sequential\n",
    "import numpy as np\n",
    "\n",
    "model = Sequential()\n",
    "model.add(Dense(2, input_shape=(2,), activation='linear'))\n",
    "model.add(Dense(1))\n",
    "model.compile(optimizer='sgd', loss='mse')\n",
    "\n",
    "X = np.array([[0,0], [0,1], [1,0], [1,1]])\n",
    "Y = np.array([[0], [1], [1], [0]])\n",
    "hist = model.fit(X, Y, epochs=3000, verbose=0)\n",
    "\n",
    "H = (model.predict(X) > 0.5).astype(np.float32)\n",
    "for loss in hist.history['loss'][::300]:\n",
    "    print('오차:', loss)\n",
    "print('정확도:', np.mean(np.equal(H, Y)))"
   ]
  },
  {
   "cell_type": "code",
   "execution_count": 22,
   "metadata": {
    "slideshow": {
     "slide_type": "subslide"
    }
   },
   "outputs": [
    {
     "name": "stdout",
     "output_type": "stream",
     "text": [
      "오차: 0.9149474501609802\n",
      "오차: 0.25\n",
      "오차: 0.25\n",
      "오차: 0.25\n",
      "오차: 0.25\n",
      "오차: 0.25\n",
      "오차: 0.25\n",
      "오차: 0.25\n",
      "오차: 0.25\n",
      "오차: 0.25\n",
      "정확도: 0.25\n"
     ]
    }
   ],
   "source": [
    "import keras\n",
    "from keras.layers import Dense\n",
    "from keras.models import Sequential\n",
    "import numpy as np\n",
    "\n",
    "model = Sequential()\n",
    "model.add(Dense(2, input_shape=(2,), activation='linear'))\n",
    "model.add(Dense(1))\n",
    "model.compile(optimizer='sgd', loss='mse')\n",
    "\n",
    "X = np.array([[0,0], [0,1], [1,0], [1,1]])\n",
    "Y = np.array([[0], [1], [1], [0]])\n",
    "hist = model.fit(X, Y, epochs=30000, verbose=0)\n",
    "\n",
    "H = (model.predict(X) > 0.5).astype(np.float32)\n",
    "for loss in hist.history['loss'][::3000]:\n",
    "    print('오차:', loss)\n",
    "print('정확도:', np.mean(np.equal(H, Y)))"
   ]
  },
  {
   "cell_type": "markdown",
   "metadata": {
    "slideshow": {
     "slide_type": "slide"
    }
   },
   "source": [
    "# 선형은 아무리 겹쳐도 선형\n",
    "\n",
    "* XOR MLP의 수식을 다음과 같다고 가정\n",
    "\n",
    "\\begin{align}\n",
    "g(f(x)) = y\n",
    "\\end{align}\n",
    "\n",
    "\\begin{align}\n",
    "f(x) = ax + b \\\\\n",
    "g(x) = cx + d \\\\\n",
    "z(x) = mx + n\n",
    "\\end{align}\n",
    "\n",
    "\\begin{align}\n",
    "g(f(x)) &= y \\\\\n",
    "&= c(ax + b) + d \\\\\n",
    "&= cax + cb + d \\\\\n",
    "&= (ca)x + (cb + d), ca \\rightarrow m, cb + d \\rightarrow n  \\\\\n",
    "&= mx + n \\\\\n",
    "&= z(x)\n",
    "\\end{align}"
   ]
  },
  {
   "cell_type": "markdown",
   "metadata": {
    "slideshow": {
     "slide_type": "slide"
    }
   },
   "source": [
    "# 왜 이렇게 오래걸렸나?\n",
    "\n",
    "* 우리가 보기에 바뀐게 거의 없을 정도\n",
    "* 그런데 왜 20여년 정도 AI winter였을까?"
   ]
  },
  {
   "cell_type": "markdown",
   "metadata": {
    "slideshow": {
     "slide_type": "slide"
    }
   },
   "source": [
    "# Loss Funtion의 어려움\n",
    "\n",
    "* Marvin Minsky 교수는 MLP와 같은 개념으로 XOR를 풀 수 있다는 것은 알고 있었음\n",
    "* 그러나 MLP 같은 방식의 모델에서 loss/cost function을 수행하는 것이 불가능하다고 단정\n",
    "* 5~6년 뒤 MIT 박사과정의 Paul werbos가 propagation를 통한 학습이 가능함을 알았지만 당시 분위기상 무시됨\n",
    "* 그것을 박사과정 중이던 르쿤 교수가 다시 찾아내고(1984), 2년 뒤 힌튼 교수가 백프로퍼게이션 재정립(1986) 시키면서 MLP가 부활함\n",
    "\n",
    "<center><img src='img/05_04.png' width=100% height=100%></center>"
   ]
  },
  {
   "cell_type": "markdown",
   "metadata": {
    "slideshow": {
     "slide_type": "slide"
    }
   },
   "source": [
    "# Backpropagation (역전파)\n",
    "\n",
    "* chain-rule을 이용하는 그라디언트 디센트 방식\n",
    "* ANN을 효율적으로 학습하기 위하여 가중치 업데이트를 반복/재귀적으로 역순 수행함\n",
    "* activation의 결과를 어떻게 미분할지 설정해야함\n",
    " * 최근 많은 라이브러리에서 Automatic differentiation를 제공하여 사용자가 function에 대한 미분을 정의할 필요는 없음\n",
    "* 일반적으로 그라디언트 디센트를 통하여 loss function의 기울기를 계산하여 가중치를 조절함"
   ]
  },
  {
   "cell_type": "markdown",
   "metadata": {
    "slideshow": {
     "slide_type": "subslide"
    }
   },
   "source": [
    "# Backprop의 concept\n",
    "\n",
    "## Gradient Descent\n",
    "\n",
    "* $f(x) = 100x + 3$이라는 함수가 있다고 가정\n",
    "* 우리에게 주어진 x, y 정보는 다음과 같다고 가정\n",
    " * $x = 3, y = 303$\n",
    " * $x = 5, y = 503$\n",
    "* 우리는 $w_1 = 100, b = 3$을 알아내고 싶음\n",
    "* 초기 $w_1 = 3.5, b = 1, \\alpha = 0.01$로 세팅되었다고 가정함\n",
    " * $h(x) = w_1x + b, w_1 = 3.5, b = 1$\n",
    "* loss function은 $(h(x)-y)^2$라고 가정"
   ]
  },
  {
   "cell_type": "markdown",
   "metadata": {
    "slideshow": {
     "slide_type": "subslide"
    }
   },
   "source": [
    "<center><img src='img/05_05.png' width=50% height=50%></center>"
   ]
  },
  {
   "cell_type": "markdown",
   "metadata": {
    "slideshow": {
     "slide_type": "subslide"
    }
   },
   "source": [
    "<center><img src='img/05_06.png' width=50% height=50%></center>"
   ]
  },
  {
   "cell_type": "code",
   "execution_count": 3036,
   "metadata": {
    "slideshow": {
     "slide_type": "subslide"
    }
   },
   "outputs": [],
   "source": [
    "import numpy as np\n",
    "import matplotlib.pylab as plt\n",
    "\n",
    "def h(x, params):\n",
    "    w1 = params[0]\n",
    "    b = params[1]\n",
    "    return w1 * x + b\n",
    "\n",
    "def j(y_, y):\n",
    "    return sum((y_-y)**2)/len(y_)"
   ]
  },
  {
   "cell_type": "code",
   "execution_count": 3041,
   "metadata": {
    "slideshow": {
     "slide_type": "fragment"
    }
   },
   "outputs": [],
   "source": [
    "x = np.array([3, 5])\n",
    "y = np.array([303, 503])\n",
    "params = np.array([3.5, 1])"
   ]
  },
  {
   "cell_type": "code",
   "execution_count": 3042,
   "metadata": {
    "slideshow": {
     "slide_type": "fragment"
    }
   },
   "outputs": [
    {
     "data": {
      "image/png": "[encoded data removed]",
      "text/plain": [
       "<Figure size 432x288 with 1 Axes>"
      ]
     },
     "metadata": {
      "needs_background": "light"
     },
     "output_type": "display_data"
    }
   ],
   "source": [
    "y_ = h(x, params)\n",
    "\n",
    "plt.plot(np.array([0,1,2,3,4,5]), 100 * np.array([0,1,2,3,4,5]) + 3)\n",
    "plt.scatter(x[0], y_[0], color='red', label='y1: {:.2f}'.format(y_[0]))\n",
    "plt.scatter(x[1], y_[1], color='blue', label='y2: {:.2f}'.format(y_[1]))\n",
    "plt.legend(loc='upper left', fontsize='x-large')\n",
    "plt.show()"
   ]
  },
  {
   "cell_type": "code",
   "execution_count": 3043,
   "metadata": {},
   "outputs": [
    {
     "name": "stdout",
     "output_type": "stream",
     "text": [
      "319712.5 1 [323.2125   1.001 ]\n"
     ]
    },
    {
     "data": {
      "image/png": "[encoded data removed]",
      "text/plain": [
       "<Figure size 432x288 with 1 Axes>"
      ]
     },
     "metadata": {
      "needs_background": "light"
     },
     "output_type": "display_data"
    }
   ],
   "source": [
    "def derivative_w(x):\n",
    "    return -200 * ()\n",
    "\n",
    "def derivative_b(x):\n",
    "    return 1\n",
    "\n",
    "alpha = 0.001\n",
    "\n",
    "y_ = h(x, params)\n",
    "delta_w = derivative_w(j(y_, y))\n",
    "delta_b = derivative_b(j(y_, y))\n",
    "\n",
    "params[0] += delta_w * alpha\n",
    "params[1] += delta_b * alpha\n",
    "print(delta_w, delta_b, params)\n",
    "\n",
    "plt.plot(np.array([0,1,2,3,4,5]), 100 * np.array([0,1,2,3,4,5]) + 3)\n",
    "plt.scatter(x[0], y_[0], color='red', label='y_: {:.2f}'.format(y_[0]))\n",
    "plt.scatter(x[1], y_[1], color='blue', label='y_: {:.2f}'.format(y_[1]))\n",
    "plt.legend()\n",
    "plt.show()"
   ]
  },
  {
   "cell_type": "code",
   "execution_count": 3008,
   "metadata": {},
   "outputs": [
    {
     "name": "stdout",
     "output_type": "stream",
     "text": [
      "[ inf 1.14]\n"
     ]
    },
    {
     "data": {
      "text/plain": [
       "\"\\nplt.plot(np.array([0,1,2,3,4,5]), 100 * np.array([0,1,2,3,4,5]) + 3)\\nplt.scatter(x[0], y_[0], color='red', label='y_: {:.2f}'.format(y_[0]))\\nplt.scatter(x[1], y_[1], color='blue', label='y_: {:.2f}'.format(y_[1]))\\nplt.legend()\\nplt.show()\\n\""
      ]
     },
     "execution_count": 3008,
     "metadata": {},
     "output_type": "execute_result"
    }
   ],
   "source": [
    "y_ = h(x, params)\n",
    "delta_w = derivative_w(j(y_, y))\n",
    "delta_b = derivative_b(j(y_, y))\n",
    "\n",
    "params[0] += delta_w * alpha\n",
    "params[1] += delta_b * alpha\n",
    "print(params)\n",
    "\n",
    "'''\n",
    "plt.plot(np.array([0,1,2,3,4,5]), 100 * np.array([0,1,2,3,4,5]) + 3)\n",
    "plt.scatter(x[0], y_[0], color='red', label='y_: {:.2f}'.format(y_[0]))\n",
    "plt.scatter(x[1], y_[1], color='blue', label='y_: {:.2f}'.format(y_[1]))\n",
    "plt.legend()\n",
    "plt.show()\n",
    "'''"
   ]
  },
  {
   "cell_type": "markdown",
   "metadata": {
    "slideshow": {
     "slide_type": "subslide"
    }
   },
   "source": [
    "# Backprop의 concept\n",
    "\n",
    "## Chain-rule\n",
    "\n",
    "* $model = \\sigma(f(x)), f(x) = w_1x + b, \\sigma(x) = \\frac{1}{1+e^{-x}}$이라는 함수가 있다고 가정\n",
    "* 우리에게 주어진 x, y 정보는 다음과 같다고 가정\n",
    " * $x = 3, y = 0.2$\n",
    "* 우리는 $w_1 = ?, b = ?$을 알아내고 싶음\n",
    "* 초기 $w_1 = 1.1, b = 0.5, \\alpha = 0.01$로 세팅되었다고 가정함\n",
    " * $h(x) = \\sigma(w_1x + b), w_1 = 1.1, b = 0.5$\n",
    "* loss function은 $(h(x)-y)^2$라고 가정"
   ]
  },
  {
   "cell_type": "markdown",
   "metadata": {
    "slideshow": {
     "slide_type": "fragment"
    }
   },
   "source": [
    "* $y = f(g(x))$의 꼴은 다음과 같이 미분된다.\n",
    " * $y' = f'(g(x)) *g'(x)$\n",
    "\n",
    "* 즉, $model = \\sigma(f(x))$는 다음과 같이 미분됨.\n",
    " * $model' = \\sigma'(f(x)) * f'(x)$\n",
    " * $\\sigma' = \\frac{e^{-x}}{(1+e^{-x})^2}$\n",
    " * $f' = w_1$\n",
    " \n",
    " * $model' = \\sigma'(f(x)) * f'(x)$"
   ]
  },
  {
   "cell_type": "code",
   "execution_count": 74,
   "metadata": {},
   "outputs": [],
   "source": [
    "def sigmoid(x):\n",
    "    return 1/(1+np.exp(-x))\n",
    "\n",
    "def f(x, params):\n",
    "    w1 = params[0]\n",
    "    b = params[1]\n",
    "    return w1 * x + b\n",
    "\n",
    "def dsigmoid(x):\n",
    "    return np.exp(-x)/((1+np.exp(-x))**2)\n",
    "\n",
    "def df(x, parmas):\n",
    "    return parmas[0]\n",
    "\n",
    "def h(x, params):\n",
    "    return sigmoid(f(x, params))\n",
    "    \n",
    "def dh(x, params):\n",
    "    return dsigmoid(f(x, params)) * df(x, params)\n",
    "    \n",
    "def j(y_, y):\n",
    "    return (y_-y)**2"
   ]
  },
  {
   "cell_type": "code",
   "execution_count": 28,
   "metadata": {},
   "outputs": [],
   "source": [
    "y = 0.2\n",
    "params = [1.1, 0.5]"
   ]
  },
  {
   "cell_type": "code",
   "execution_count": 29,
   "metadata": {},
   "outputs": [
    {
     "data": {
      "image/png": "[encoded data removed]",
      "text/plain": [
       "<Figure size 432x288 with 1 Axes>"
      ]
     },
     "metadata": {
      "needs_background": "light"
     },
     "output_type": "display_data"
    }
   ],
   "source": [
    "y_ = h(3, params)\n",
    "\n",
    "x = np.linspace(2.5, 3.5)\n",
    "plt.plot(x, h(x, params))\n",
    "plt.scatter(3, y_, color='red', label='y_: {:.2f}, loss: {:.2f}'.format(y_, j(y_, y)))\n",
    "plt.legend(loc='upper left', fontsize='x-large')\n",
    "plt.show()"
   ]
  },
  {
   "cell_type": "code",
   "execution_count": 20,
   "metadata": {},
   "outputs": [
    {
     "data": {
      "image/png": "[encoded data removed]",
      "text/plain": [
       "<Figure size 432x288 with 1 Axes>"
      ]
     },
     "metadata": {
      "needs_background": "light"
     },
     "output_type": "display_data"
    }
   ],
   "source": [
    "x = np.linspace(-6, 6)\n",
    "plt.plot(x, sigmoid(x))\n",
    "plt.scatter(3, y_, color='red', label='y_: {:.2f}, loss: {:.2f}'.format(y_, j(y_, y)))\n",
    "plt.legend(loc='upper left', fontsize='x-large')\n",
    "plt.show()"
   ]
  },
  {
   "cell_type": "code",
   "execution_count": 15,
   "metadata": {},
   "outputs": [
    {
     "data": {
      "text/plain": [
       "array([2.5       , 2.52040816, 2.54081633, 2.56122449, 2.58163265,\n",
       "       2.60204082, 2.62244898, 2.64285714, 2.66326531, 2.68367347,\n",
       "       2.70408163, 2.7244898 , 2.74489796, 2.76530612, 2.78571429,\n",
       "       2.80612245, 2.82653061, 2.84693878, 2.86734694, 2.8877551 ,\n",
       "       2.90816327, 2.92857143, 2.94897959, 2.96938776, 2.98979592,\n",
       "       3.01020408, 3.03061224, 3.05102041, 3.07142857, 3.09183673,\n",
       "       3.1122449 , 3.13265306, 3.15306122, 3.17346939, 3.19387755,\n",
       "       3.21428571, 3.23469388, 3.25510204, 3.2755102 , 3.29591837,\n",
       "       3.31632653, 3.33673469, 3.35714286, 3.37755102, 3.39795918,\n",
       "       3.41836735, 3.43877551, 3.45918367, 3.47959184, 3.5       ])"
      ]
     },
     "execution_count": 15,
     "metadata": {},
     "output_type": "execute_result"
    }
   ],
   "source": [
    "np.linspace(2.5, 3.5)"
   ]
  },
  {
   "cell_type": "code",
   "execution_count": 4,
   "metadata": {},
   "outputs": [
    {
     "data": {
      "image/svg+xml": [
       "<svg height=\"211pt\" viewBox=\"0.00 0.00 239.00 211.00\" width=\"239pt\" xmlns=\"http://www.w3.org/2000/svg\" xmlns:xlink=\"http://www.w3.org/1999/xlink\">\n",
       "<g class=\"graph\" id=\"graph0\" transform=\"scale(1 1) rotate(0) translate(4 207)\">\n",
       "<title>G</title>\n",
       "<polygon fill=\"#ffffff\" points=\"-4,4 -4,-207 235,-207 235,4 -4,4\" stroke=\"transparent\"/>\n",
       "<!-- 140613073477872 -->\n",
       "<g class=\"node\" id=\"node1\">\n",
       "<title>140613073477872</title>\n",
       "<polygon fill=\"none\" points=\"0,-83.5 0,-129.5 231,-129.5 231,-83.5 0,-83.5\" stroke=\"#000000\"/>\n",
       "<text fill=\"#000000\" font-family=\"Times,serif\" font-size=\"14.00\" text-anchor=\"middle\" x=\"52.5\" y=\"-102.8\">dense_1: Dense</text>\n",
       "<polyline fill=\"none\" points=\"105,-83.5 105,-129.5 \" stroke=\"#000000\"/>\n",
       "<text fill=\"#000000\" font-family=\"Times,serif\" font-size=\"14.00\" text-anchor=\"middle\" x=\"133\" y=\"-114.3\">input:</text>\n",
       "<polyline fill=\"none\" points=\"105,-106.5 161,-106.5 \" stroke=\"#000000\"/>\n",
       "<text fill=\"#000000\" font-family=\"Times,serif\" font-size=\"14.00\" text-anchor=\"middle\" x=\"133\" y=\"-91.3\">output:</text>\n",
       "<polyline fill=\"none\" points=\"161,-83.5 161,-129.5 \" stroke=\"#000000\"/>\n",
       "<text fill=\"#000000\" font-family=\"Times,serif\" font-size=\"14.00\" text-anchor=\"middle\" x=\"196\" y=\"-114.3\">(None, 2)</text>\n",
       "<polyline fill=\"none\" points=\"161,-106.5 231,-106.5 \" stroke=\"#000000\"/>\n",
       "<text fill=\"#000000\" font-family=\"Times,serif\" font-size=\"14.00\" text-anchor=\"middle\" x=\"196\" y=\"-91.3\">(None, 2)</text>\n",
       "</g>\n",
       "<!-- 140614720669288 -->\n",
       "<g class=\"node\" id=\"node2\">\n",
       "<title>140614720669288</title>\n",
       "<polygon fill=\"none\" points=\"0,-.5 0,-46.5 231,-46.5 231,-.5 0,-.5\" stroke=\"#000000\"/>\n",
       "<text fill=\"#000000\" font-family=\"Times,serif\" font-size=\"14.00\" text-anchor=\"middle\" x=\"52.5\" y=\"-19.8\">dense_2: Dense</text>\n",
       "<polyline fill=\"none\" points=\"105,-.5 105,-46.5 \" stroke=\"#000000\"/>\n",
       "<text fill=\"#000000\" font-family=\"Times,serif\" font-size=\"14.00\" text-anchor=\"middle\" x=\"133\" y=\"-31.3\">input:</text>\n",
       "<polyline fill=\"none\" points=\"105,-23.5 161,-23.5 \" stroke=\"#000000\"/>\n",
       "<text fill=\"#000000\" font-family=\"Times,serif\" font-size=\"14.00\" text-anchor=\"middle\" x=\"133\" y=\"-8.3\">output:</text>\n",
       "<polyline fill=\"none\" points=\"161,-.5 161,-46.5 \" stroke=\"#000000\"/>\n",
       "<text fill=\"#000000\" font-family=\"Times,serif\" font-size=\"14.00\" text-anchor=\"middle\" x=\"196\" y=\"-31.3\">(None, 2)</text>\n",
       "<polyline fill=\"none\" points=\"161,-23.5 231,-23.5 \" stroke=\"#000000\"/>\n",
       "<text fill=\"#000000\" font-family=\"Times,serif\" font-size=\"14.00\" text-anchor=\"middle\" x=\"196\" y=\"-8.3\">(None, 1)</text>\n",
       "</g>\n",
       "<!-- 140613073477872&#45;&gt;140614720669288 -->\n",
       "<g class=\"edge\" id=\"edge2\">\n",
       "<title>140613073477872-&gt;140614720669288</title>\n",
       "<path d=\"M115.5,-83.3799C115.5,-75.1745 115.5,-65.7679 115.5,-56.8786\" fill=\"none\" stroke=\"#000000\"/>\n",
       "<polygon fill=\"#000000\" points=\"119.0001,-56.784 115.5,-46.784 112.0001,-56.784 119.0001,-56.784\" stroke=\"#000000\"/>\n",
       "</g>\n",
       "<!-- 140614722045376 -->\n",
       "<g class=\"node\" id=\"node3\">\n",
       "<title>140614722045376</title>\n",
       "<polygon fill=\"none\" points=\"54.5,-166.5 54.5,-202.5 176.5,-202.5 176.5,-166.5 54.5,-166.5\" stroke=\"#000000\"/>\n",
       "<text fill=\"#000000\" font-family=\"Times,serif\" font-size=\"14.00\" text-anchor=\"middle\" x=\"115.5\" y=\"-180.8\">140614722045376</text>\n",
       "</g>\n",
       "<!-- 140614722045376&#45;&gt;140613073477872 -->\n",
       "<g class=\"edge\" id=\"edge1\">\n",
       "<title>140614722045376-&gt;140613073477872</title>\n",
       "<path d=\"M115.5,-166.4092C115.5,-158.4308 115.5,-148.795 115.5,-139.606\" fill=\"none\" stroke=\"#000000\"/>\n",
       "<polygon fill=\"#000000\" points=\"119.0001,-139.5333 115.5,-129.5333 112.0001,-139.5334 119.0001,-139.5333\" stroke=\"#000000\"/>\n",
       "</g>\n",
       "</g>\n",
       "</svg>"
      ],
      "text/plain": [
       "<IPython.core.display.SVG object>"
      ]
     },
     "execution_count": 4,
     "metadata": {},
     "output_type": "execute_result"
    }
   ],
   "source": [
    "from IPython.display import SVG\n",
    "from keras.utils.vis_utils import model_to_dot\n",
    "\n",
    "SVG(model_to_dot(model, True).create(prog='dot', format='svg'))"
   ]
  },
  {
   "cell_type": "code",
   "execution_count": null,
   "metadata": {},
   "outputs": [],
   "source": [
    "y = 303\n",
    "params = [3.5, 1]"
   ]
  },
  {
   "cell_type": "code",
   "execution_count": 1,
   "metadata": {},
   "outputs": [],
   "source": [
    "import tensorflow as tf"
   ]
  },
  {
   "cell_type": "code",
   "execution_count": 1460,
   "metadata": {},
   "outputs": [],
   "source": [
    "w = tf.Variable([3.5])\n",
    "b = tf.Variable([1.])\n",
    "x = tf.constant([3., 5.])\n",
    "y_ = tf.constant([303., 503.])\n",
    "\n",
    "y = x * w + b\n",
    "cost = tf.reduce_mean(tf.square(y_ - y))\n",
    "optimizer = tf.train.GradientDescentOptimizer(0.05)\n",
    "train = optimizer.minimize(cost)"
   ]
  },
  {
   "cell_type": "code",
   "execution_count": 1461,
   "metadata": {},
   "outputs": [],
   "source": [
    "init = tf.initialize_all_variables()\n",
    "sess = tf.Session()\n",
    "sess.run(init)"
   ]
  },
  {
   "cell_type": "code",
   "execution_count": 2432,
   "metadata": {},
   "outputs": [
    {
     "name": "stdout",
     "output_type": "stream",
     "text": [
      "[99.97955] [3.0865886] 0.00044102687\n"
     ]
    }
   ],
   "source": [
    "sess.run(train)\n",
    "[W,B, C] = sess.run([w,b,cost])\n",
    "print(W,B,C)"
   ]
  }
 ],
 "metadata": {
  "celltoolbar": "Slideshow",
  "kernelspec": {
   "display_name": "Python py3",
   "language": "python",
   "name": "py3"
  },
  "language_info": {
   "codemirror_mode": {
    "name": "ipython",
    "version": 3
   },
   "file_extension": ".py",
   "mimetype": "text/x-python",
   "name": "python",
   "nbconvert_exporter": "python",
   "pygments_lexer": "ipython3",
   "version": "3.7.3"
  },
  "latex_envs": {
   "LaTeX_envs_menu_present": true,
   "autoclose": false,
   "autocomplete": true,
   "bibliofile": "biblio.bib",
   "cite_by": "apalike",
   "current_citInitial": 1,
   "eqLabelWithNumbers": true,
   "eqNumInitial": 1,
   "hotkeys": {
    "equation": "Ctrl-E",
    "itemize": "Ctrl-I"
   },
   "labels_anchors": false,
   "latex_user_defs": false,
   "report_style_numbering": false,
   "user_envs_cfg": false
  },
  "toc": {
   "base_numbering": 1,
   "nav_menu": {},
   "number_sections": false,
   "sideBar": true,
   "skip_h1_title": false,
   "title_cell": "Table of Contents",
   "title_sidebar": "Contents",
   "toc_cell": false,
   "toc_position": {},
   "toc_section_display": true,
   "toc_window_display": false
  },
  "varInspector": {
   "cols": {
    "lenName": 16,
    "lenType": 16,
    "lenVar": 40
   },
   "kernels_config": {
    "python": {
     "delete_cmd_postfix": "",
     "delete_cmd_prefix": "del ",
     "library": "var_list.py",
     "varRefreshCmd": "print(var_dic_list())"
    },
    "r": {
     "delete_cmd_postfix": ") ",
     "delete_cmd_prefix": "rm(",
     "library": "var_list.r",
     "varRefreshCmd": "cat(var_dic_list()) "
    }
   },
   "types_to_exclude": [
    "module",
    "function",
    "builtin_function_or_method",
    "instance",
    "_Feature"
   ],
   "window_display": false
  }
 },
 "nbformat": 4,
 "nbformat_minor": 2
}
