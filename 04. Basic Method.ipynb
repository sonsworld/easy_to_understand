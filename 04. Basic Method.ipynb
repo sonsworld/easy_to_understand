{
 "cells": [
  {
   "cell_type": "markdown",
   "metadata": {
    "slideshow": {
     "slide_type": "slide"
    }
   },
   "source": [
    "<img src='img/fastcamp_h.png'>\n",
    "\n",
    "# 4강. Deep Learning from Basic Method with Keras"
   ]
  },
  {
   "cell_type": "markdown",
   "metadata": {
    "slideshow": {
     "slide_type": "slide"
    }
   },
   "source": [
    "# Short History; Deep Learning\n",
    "\n",
    "<img src='img/03_00.png'>"
   ]
  },
  {
   "cell_type": "markdown",
   "metadata": {
    "slideshow": {
     "slide_type": "slide"
    }
   },
   "source": [
    "# Perceptron\n",
    "\n",
    "* 인간의 뉴런을 본따 1957년 코넬 항공 연구소에서 고안됨\n",
    "* 선형 분류기의 일종\n",
    "* 각 입력에서 각 가중치를 곱한 합의 크기로 결과를 활성화할지 비활성화할지 선택\n",
    "<center><img src='img/03_03.png'></center>"
   ]
  },
  {
   "cell_type": "markdown",
   "metadata": {
    "slideshow": {
     "slide_type": "subslide"
    }
   },
   "source": [
    "# Perceptron의 구조\n",
    "\n",
    "<center><img src='img/03_01.png'></center>\n",
    "\n",
    "* input($x_n$): 외부에서 들어오는 입력, 보통 vector, matrix\n",
    "* weight($w_n$): x와 곱해지는 가중치, DL에서 구해야하는 값\n",
    "* bias($1$): 바이어스, 절편 값\n",
    "* sigma: x와w의 곱 + bias의 합을 출력\n",
    "* activation/step function: 해당 출력의 활성 여부를 결정\n",
    "\n",
    "* $y = f(w^Tx+b)$"
   ]
  },
  {
   "cell_type": "markdown",
   "metadata": {
    "slideshow": {
     "slide_type": "slide"
    }
   },
   "source": [
    "# 당시 대표적 Activation funtion\n",
    "<br><br>\n",
    "\n",
    "<center><img src='img/04_04.png'></center>"
   ]
  },
  {
   "cell_type": "code",
   "execution_count": 1,
   "metadata": {
    "slideshow": {
     "slide_type": "subslide"
    }
   },
   "outputs": [],
   "source": [
    "import numpy as np\n",
    "import matplotlib.pylab as plt\n",
    "def sigmoid(x):\n",
    "    return 1./(1.+ np.exp(-x))"
   ]
  },
  {
   "cell_type": "code",
   "execution_count": 2,
   "metadata": {
    "slideshow": {
     "slide_type": "fragment"
    }
   },
   "outputs": [
    {
     "name": "stdout",
     "output_type": "stream",
     "text": [
      "0.5\n"
     ]
    }
   ],
   "source": [
    "print(sigmoid(0))"
   ]
  },
  {
   "cell_type": "code",
   "execution_count": 3,
   "metadata": {
    "slideshow": {
     "slide_type": "fragment"
    }
   },
   "outputs": [
    {
     "name": "stdout",
     "output_type": "stream",
     "text": [
      "0.0024726231566347743\n"
     ]
    }
   ],
   "source": [
    "print(sigmoid(-6))"
   ]
  },
  {
   "cell_type": "code",
   "execution_count": 4,
   "metadata": {
    "slideshow": {
     "slide_type": "fragment"
    }
   },
   "outputs": [
    {
     "name": "stdout",
     "output_type": "stream",
     "text": [
      "0.9975273768433653\n"
     ]
    }
   ],
   "source": [
    "print(sigmoid(6))"
   ]
  },
  {
   "cell_type": "code",
   "execution_count": 5,
   "metadata": {
    "slideshow": {
     "slide_type": "fragment"
    }
   },
   "outputs": [
    {
     "data": {
      "image/png": "[encoded data removed]",
      "text/plain": [
       "<Figure size 432x288 with 1 Axes>"
      ]
     },
     "metadata": {
      "needs_background": "light"
     },
     "output_type": "display_data"
    }
   ],
   "source": [
    "plt.plot(sigmoid(np.linspace(-6, 6, 10)), label='sigmoid')\n",
    "plt.legend(fontsize='x-large')\n",
    "plt.show()"
   ]
  },
  {
   "cell_type": "code",
   "execution_count": 6,
   "metadata": {
    "slideshow": {
     "slide_type": "subslide"
    }
   },
   "outputs": [],
   "source": [
    "def tanh(x):\n",
    "    return np.tanh(x)"
   ]
  },
  {
   "cell_type": "code",
   "execution_count": 7,
   "metadata": {
    "slideshow": {
     "slide_type": "fragment"
    }
   },
   "outputs": [
    {
     "name": "stdout",
     "output_type": "stream",
     "text": [
      "0.0\n"
     ]
    }
   ],
   "source": [
    "print(tanh(0))"
   ]
  },
  {
   "cell_type": "code",
   "execution_count": 8,
   "metadata": {
    "slideshow": {
     "slide_type": "fragment"
    }
   },
   "outputs": [
    {
     "name": "stdout",
     "output_type": "stream",
     "text": [
      "-0.9999877116507956\n"
     ]
    }
   ],
   "source": [
    "print(tanh(-6))"
   ]
  },
  {
   "cell_type": "code",
   "execution_count": 9,
   "metadata": {
    "slideshow": {
     "slide_type": "fragment"
    }
   },
   "outputs": [
    {
     "name": "stdout",
     "output_type": "stream",
     "text": [
      "0.9999877116507956\n"
     ]
    }
   ],
   "source": [
    "print(tanh(6))"
   ]
  },
  {
   "cell_type": "code",
   "execution_count": 10,
   "metadata": {
    "slideshow": {
     "slide_type": "fragment"
    }
   },
   "outputs": [
    {
     "data": {
      "image/png": "[encoded data removed]",
      "text/plain": [
       "<Figure size 432x288 with 1 Axes>"
      ]
     },
     "metadata": {
      "needs_background": "light"
     },
     "output_type": "display_data"
    }
   ],
   "source": [
    "plt.plot(tanh(np.linspace(-6, 6, 10)), label='sigmoid')\n",
    "plt.legend(fontsize='x-large')\n",
    "plt.show()"
   ]
  },
  {
   "cell_type": "code",
   "execution_count": 11,
   "metadata": {
    "slideshow": {
     "slide_type": "slide"
    }
   },
   "outputs": [],
   "source": [
    "def perceptron(X, W, b, activation):\n",
    "    v = 0\n",
    "    for x, w in zip(X, W):\n",
    "        v += x*w\n",
    "    v += b\n",
    "    \n",
    "    return activation(v)"
   ]
  },
  {
   "cell_type": "code",
   "execution_count": 12,
   "metadata": {
    "slideshow": {
     "slide_type": "fragment"
    }
   },
   "outputs": [
    {
     "name": "stdout",
     "output_type": "stream",
     "text": [
      "by X0: 0.995929862284104\n"
     ]
    }
   ],
   "source": [
    "X0 = [1, 1, 1]\n",
    "W0 = [0, 0.5, 2]\n",
    "B0 = 3\n",
    "print('by X0:', perceptron(X0, W0, B0, sigmoid))"
   ]
  },
  {
   "cell_type": "code",
   "execution_count": 13,
   "metadata": {
    "slideshow": {
     "slide_type": "fragment"
    }
   },
   "outputs": [
    {
     "name": "stdout",
     "output_type": "stream",
     "text": [
      "by X1: -0.9999996642345503\n"
     ]
    }
   ],
   "source": [
    "X1= [2, 5, 2]\n",
    "W1= [-2, -1.2, 0.5]\n",
    "B1= 1.2\n",
    "print('by X1:',perceptron(X1, W1, B1, tanh))"
   ]
  },
  {
   "cell_type": "code",
   "execution_count": 14,
   "metadata": {
    "slideshow": {
     "slide_type": "fragment"
    }
   },
   "outputs": [
    {
     "name": "stdout",
     "output_type": "stream",
     "text": [
      "by X3: -3.2\n"
     ]
    }
   ],
   "source": [
    "X2= [-2, 3, 1]\n",
    "W2= [1.1, 0, 2]\n",
    "B2= -3\n",
    "print('by X3:',perceptron(X2, W2, B2, lambda x:x))"
   ]
  },
  {
   "cell_type": "markdown",
   "metadata": {
    "slideshow": {
     "slide_type": "slide"
    }
   },
   "source": [
    "# 선형 분류기란?\n",
    "\n",
    "* $y$를 $x$의 차수가 2를 초과하지 않는 방정식으로 분리 할 수 있는 경우\n",
    "\n",
    "<center><img src='img/04_01.png'></center>\n"
   ]
  },
  {
   "cell_type": "markdown",
   "metadata": {
    "slideshow": {
     "slide_type": "slide"
    }
   },
   "source": [
    "# AND Gate\n",
    "\n",
    "<table>\n",
    "<tr>\n",
    "<td>\n",
    "    \n",
    "| $x_1$ | $x_2$ | $y$ |\n",
    "|:--------|:--------|:--------|\n",
    "| 0 | 0 | 0 |\n",
    "| 0 | 1 | 0 |\n",
    "| 1 | 0 | 0 |\n",
    "| 1 | 1 | 1 |\n",
    "\n",
    "</td><td>\n",
    "    \n",
    " <img src='img/04_02.png'>\n",
    " \n",
    "</td>\n",
    "</tr>\n",
    "</table>\n",
    "\n",
    "* 모든 x 입력이 1일 때 y는 1을 출력하는 게이트 "
   ]
  },
  {
   "cell_type": "markdown",
   "metadata": {
    "slideshow": {
     "slide_type": "slide"
    }
   },
   "source": [
    "# AND Gate 선형 분류 방정식 by 고등교육적 방식\n",
    "\n",
    "$$ w_1 = 1 \\nonumber $$\n",
    "$$ w_2 = 1 \\nonumber $$\n",
    "\n",
    "\\begin{align}\n",
    "f(x_1, x_2) &= w_1x_1 + w_2x_2 + b &>= 0 \\nonumber \\\\\n",
    "&= x_1 + x_2 &>= -b \\nonumber\n",
    "\\end{align}"
   ]
  },
  {
   "cell_type": "markdown",
   "metadata": {
    "slideshow": {
     "slide_type": "fragment"
    }
   },
   "source": [
    "\\begin{align}\n",
    "&= 1 + 1 &>= -b \\nonumber \\\\\n",
    "&= 2 &>= -b \\nonumber \\\\\n",
    "\\end{align}"
   ]
  },
  {
   "cell_type": "markdown",
   "metadata": {
    "slideshow": {
     "slide_type": "fragment"
    }
   },
   "source": [
    "$$ b = -2 \\nonumber $$\n",
    "$$ f(x_1, x_2) = x_1 + x_2 - 2 >= 0 \\nonumber $$"
   ]
  },
  {
   "cell_type": "code",
   "execution_count": 15,
   "metadata": {
    "slideshow": {
     "slide_type": "subslide"
    }
   },
   "outputs": [
    {
     "name": "stdout",
     "output_type": "stream",
     "text": [
      "False\n",
      "False\n",
      "False\n",
      "True\n"
     ]
    }
   ],
   "source": [
    "print(perceptron([0, 0], [1,1], -2, lambda x:x>=0)) #0, 0\n",
    "print(perceptron([0, 1], [1,1], -2, lambda x:x>=0)) #0, 1\n",
    "print(perceptron([1, 0], [1,1], -2, lambda x:x>=0)) #1, 0\n",
    "print(perceptron([1, 1], [1,1], -2, lambda x:x>=0)) #1, 1"
   ]
  },
  {
   "cell_type": "markdown",
   "metadata": {
    "slideshow": {
     "slide_type": "slide"
    }
   },
   "source": [
    "# OR Gate\n",
    "\n",
    "<table>\n",
    "<tr style=\"text-align:center;\">\n",
    "<td style=\"text-align:center;\">\n",
    "    \n",
    "| $x_1$ | $x_2$ | $y$ |\n",
    "|:--------|:--------|:--------|\n",
    "| 0 | 0 | 0 |\n",
    "| 0 | 1 | 1 |\n",
    "| 1 | 0 | 1 |\n",
    "| 1 | 1 | 1 |\n",
    "\n",
    "</td><td>\n",
    "    \n",
    " <center><img src='img/04_03.png'></center> \n",
    " \n",
    "</td>\n",
    "</tr>\n",
    "</table>\n",
    "\n",
    "* 어떤 x 입력이 1일 때 y는 1을 출력하는 게이트"
   ]
  },
  {
   "cell_type": "markdown",
   "metadata": {
    "slideshow": {
     "slide_type": "slide"
    }
   },
   "source": [
    "# OR Gate 선형 분류 방정식 by 고등교육적 방식\n",
    "\n",
    "$$ w_1 = 1 \\nonumber $$\n",
    "$$ w_2 = 1 \\nonumber $$\n",
    "\n",
    "\\begin{align}\n",
    "f(x_1, x_2) &= w_1x_1 + w_2x_2 + b &>= 0 \\nonumber \\\\\n",
    "&= x_1 + x_2 &>= -b \\nonumber\n",
    "\\end{align}"
   ]
  },
  {
   "cell_type": "markdown",
   "metadata": {
    "slideshow": {
     "slide_type": "fragment"
    }
   },
   "source": [
    "\\begin{align}\n",
    "&= 1 + 0 &>= -b \\nonumber \\\\\n",
    "&= 1 &>= -b \\nonumber \\\\\n",
    "\\end{align}"
   ]
  },
  {
   "cell_type": "markdown",
   "metadata": {
    "slideshow": {
     "slide_type": "fragment"
    }
   },
   "source": [
    "$$ b = -1 \\nonumber $$\n",
    "$$ f(x_1, x_2) = x_1 + x_2 - 1 >= 0 \\nonumber $$"
   ]
  },
  {
   "cell_type": "code",
   "execution_count": 16,
   "metadata": {
    "slideshow": {
     "slide_type": "subslide"
    }
   },
   "outputs": [
    {
     "name": "stdout",
     "output_type": "stream",
     "text": [
      "False\n",
      "True\n",
      "True\n",
      "True\n"
     ]
    }
   ],
   "source": [
    "print(perceptron([0, 0], [1,1], -1, lambda x:x>=0)) #0, 0\n",
    "print(perceptron([0, 1], [1,1], -1, lambda x:x>=0)) #0, 1\n",
    "print(perceptron([1, 0], [1,1], -1, lambda x:x>=0)) #1, 0\n",
    "print(perceptron([1, 1], [1,1], -1, lambda x:x>=0)) #1, 1"
   ]
  },
  {
   "cell_type": "markdown",
   "metadata": {
    "slideshow": {
     "slide_type": "slide"
    }
   },
   "source": [
    "# ML스러운 AND gate 정의\n",
    "\n",
    "* 문제정의 \n",
    "\n",
    "\\begin{equation}\n",
    "X = \\begin{bmatrix}x^{(0)} \\rightarrow (0 & 0) \\\\ x^{(1)} \\rightarrow (0 & 1) \\\\ x^{(2)} \\rightarrow (1 & 0) \\\\ x^{(3)} \\rightarrow (1 & 1)\\end{bmatrix}\n",
    "Y = \\begin{bmatrix}y^{(0)} \\rightarrow 0 \\\\ y^{(1)} \\rightarrow 0 \\\\ y^{(2)} \\rightarrow 0 \\\\ y^{(3)} \\rightarrow 1\\end{bmatrix} \\nonumber\n",
    "\\end{equation}\n",
    "<br>\n",
    "\\begin{align}\n",
    "h(x^{(n)}) &\\simeq y^{(n)} \\nonumber\n",
    "\\end{align}"
   ]
  },
  {
   "cell_type": "markdown",
   "metadata": {
    "slideshow": {
     "slide_type": "subslide"
    }
   },
   "source": [
    "* 목적함수 \n",
    "\n",
    "\\begin{align}\n",
    "h(x^{(n)}) &\\simeq y^{(n)} \\nonumber \\\\\n",
    "&= \\sigma(w_1x_1 + w_2x_2 + w_0) \\simeq y \\nonumber\n",
    "\\end{align}"
   ]
  },
  {
   "cell_type": "markdown",
   "metadata": {
    "slideshow": {
     "slide_type": "fragment"
    }
   },
   "source": [
    "* 비용함수 \n",
    "\n",
    "\\begin{align}\n",
    "J(\\theta) = h(x^{(n)})와 y^{(n)}의 차이를 최소화 \\nonumber \\\\\n",
    "\\end{align}"
   ]
  },
  {
   "cell_type": "markdown",
   "metadata": {
    "slideshow": {
     "slide_type": "fragment"
    }
   },
   "source": [
    "\\begin{align}\n",
    "MSE = J(\\theta) = \\sum_{i=1}^{n}\\frac{(\\hat{Y} - Y)^2}{n} \\nonumber\n",
    "\\end{align}"
   ]
  },
  {
   "cell_type": "markdown",
   "metadata": {
    "slideshow": {
     "slide_type": "slide"
    }
   },
   "source": [
    "# 몬테카를로 방법(MCM)\n",
    "\n",
    "* 정말 확률은 맞아 떨어지는가?\n",
    " * 주사위에서 숫자 6이 나올 확률은 얼마일까?\n",
    "   * 우리는 직관적으로 $P(X=6) = \\frac{1}{6}$라는 사실을 알고 있음\n",
    "   * 이미 배웠기 때문, 각 면이 나올 확률은 서로 독립으로 각 출현확률이 $\\frac{1}{6} = 0.16666....$임을 알고 있음\n"
   ]
  },
  {
   "cell_type": "markdown",
   "metadata": {
    "slideshow": {
     "slide_type": "fragment"
    }
   },
   "source": [
    "<br><br>\n",
    "* 그러나 진짜 그러한가?\n",
    " * 정말 6번 던지면 6이 한번만 나올것인가?"
   ]
  },
  {
   "cell_type": "code",
   "execution_count": 17,
   "metadata": {
    "slideshow": {
     "slide_type": "slide"
    }
   },
   "outputs": [],
   "source": [
    "def dice():\n",
    "    return np.random.randint(1, 7)"
   ]
  },
  {
   "cell_type": "code",
   "execution_count": 18,
   "metadata": {
    "slideshow": {
     "slide_type": "fragment"
    }
   },
   "outputs": [
    {
     "name": "stdout",
     "output_type": "stream",
     "text": [
      "3\n"
     ]
    }
   ],
   "source": [
    "print(dice()) # 1번시행"
   ]
  },
  {
   "cell_type": "code",
   "execution_count": 19,
   "metadata": {
    "slideshow": {
     "slide_type": "fragment"
    }
   },
   "outputs": [
    {
     "name": "stdout",
     "output_type": "stream",
     "text": [
      "3\n"
     ]
    }
   ],
   "source": [
    "print(dice()) # 2번시행"
   ]
  },
  {
   "cell_type": "code",
   "execution_count": 20,
   "metadata": {
    "slideshow": {
     "slide_type": "fragment"
    }
   },
   "outputs": [
    {
     "name": "stdout",
     "output_type": "stream",
     "text": [
      "1\n"
     ]
    }
   ],
   "source": [
    "print(dice()) # 3번시행"
   ]
  },
  {
   "cell_type": "code",
   "execution_count": 21,
   "metadata": {
    "slideshow": {
     "slide_type": "fragment"
    }
   },
   "outputs": [
    {
     "name": "stdout",
     "output_type": "stream",
     "text": [
      "6\n"
     ]
    }
   ],
   "source": [
    "print(dice()) # 4번시행"
   ]
  },
  {
   "cell_type": "code",
   "execution_count": 22,
   "metadata": {
    "slideshow": {
     "slide_type": "fragment"
    }
   },
   "outputs": [
    {
     "name": "stdout",
     "output_type": "stream",
     "text": [
      "5\n"
     ]
    }
   ],
   "source": [
    "print(dice()) # 5번시행"
   ]
  },
  {
   "cell_type": "code",
   "execution_count": 23,
   "metadata": {
    "slideshow": {
     "slide_type": "fragment"
    }
   },
   "outputs": [
    {
     "name": "stdout",
     "output_type": "stream",
     "text": [
      "6\n"
     ]
    }
   ],
   "source": [
    "print(dice()) # 6번시행"
   ]
  },
  {
   "cell_type": "markdown",
   "metadata": {
    "slideshow": {
     "slide_type": "slide"
    }
   },
   "source": [
    "# 몬테카를로 방법(MCM)\n",
    "\n",
    "* 위의 시행 방법은 틀렸는가?\n",
    " * 우리는 많이 던질 수록 시행이 uniform 분포로 근사될 것임을 알고 있음\n",
    " * 시행 숫자가 많아 질 수록 우리가 알고있는 분포로 근사될 것이다.\n",
    "<br><br>\n",
    "* 이것이 MCM의 핵심\n",
    " * \"많이/오래 수행하면 정답에 가까워진다\""
   ]
  },
  {
   "cell_type": "code",
   "execution_count": 24,
   "metadata": {
    "slideshow": {
     "slide_type": "slide"
    }
   },
   "outputs": [],
   "source": [
    "def do_dice(x):\n",
    "    total = {1:0, 2:0, 3:0, 4:0, 5:0, 6:0}\n",
    "    for i in range(1, x + 1):\n",
    "        total[dice()] += 1.0\n",
    "\n",
    "    distrib = {}\n",
    "    for key, count in total.items():\n",
    "        distrib[key] = total[key]/float(sum(total.values()))\n",
    "    return distrib"
   ]
  },
  {
   "cell_type": "code",
   "execution_count": 25,
   "metadata": {
    "slideshow": {
     "slide_type": "fragment"
    }
   },
   "outputs": [
    {
     "name": "stdout",
     "output_type": "stream",
     "text": [
      "0.0\n"
     ]
    }
   ],
   "source": [
    "print (do_dice(1)[6]) # 1번 시행"
   ]
  },
  {
   "cell_type": "code",
   "execution_count": 26,
   "metadata": {
    "slideshow": {
     "slide_type": "fragment"
    }
   },
   "outputs": [
    {
     "name": "stdout",
     "output_type": "stream",
     "text": [
      "0.0\n"
     ]
    }
   ],
   "source": [
    "print (do_dice(10)[6]) # 10번 시행"
   ]
  },
  {
   "cell_type": "code",
   "execution_count": 27,
   "metadata": {
    "slideshow": {
     "slide_type": "fragment"
    }
   },
   "outputs": [
    {
     "name": "stdout",
     "output_type": "stream",
     "text": [
      "0.19\n"
     ]
    }
   ],
   "source": [
    "print (do_dice(100)[6]) # 100번 시행"
   ]
  },
  {
   "cell_type": "code",
   "execution_count": 28,
   "metadata": {
    "slideshow": {
     "slide_type": "fragment"
    }
   },
   "outputs": [
    {
     "name": "stdout",
     "output_type": "stream",
     "text": [
      "0.171\n"
     ]
    }
   ],
   "source": [
    "print (do_dice(1000)[6]) # 1000번 시행"
   ]
  },
  {
   "cell_type": "code",
   "execution_count": 29,
   "metadata": {
    "slideshow": {
     "slide_type": "fragment"
    }
   },
   "outputs": [
    {
     "name": "stdout",
     "output_type": "stream",
     "text": [
      "0.1672\n"
     ]
    }
   ],
   "source": [
    "print (do_dice(10000)[6]) # 10000번 시행"
   ]
  },
  {
   "cell_type": "code",
   "execution_count": 30,
   "metadata": {
    "slideshow": {
     "slide_type": "fragment"
    }
   },
   "outputs": [
    {
     "name": "stdout",
     "output_type": "stream",
     "text": [
      "0.16656\n"
     ]
    }
   ],
   "source": [
    "print (do_dice(1000000)[6]) # 1000000번 시행"
   ]
  },
  {
   "cell_type": "code",
   "execution_count": 31,
   "metadata": {
    "slideshow": {
     "slide_type": "slide"
    }
   },
   "outputs": [],
   "source": [
    "# AND gate 문제 풀이 by MCM\n",
    "X = [[0,0], [0,1], [1,0], [1,1]] #준비된 X 데이터\n",
    "Y = [0, 0, 0, 1]                 #준비된 Y 데이터\n",
    "\n",
    "def do_mcm(X, Y, count):\n",
    "    W = [0, 0] #초기 weight는 기본값\n",
    "    b = [0]    #초기 bias도 기본값\n",
    "\n",
    "    loss = 1000000 #초기 loss도 나올 수 없는 큰값\n",
    "    for _ in range(count):\n",
    "        W_new = [np.random.uniform(-500, 500), np.random.uniform(-5, 5)] # W를 -500~500 범위에서 랜덤으로 2개 추출\n",
    "        b_new = [np.random.uniform(-500, 500)]                           # b를 -500~500 범위에서 랜덤으로 1개 추출\n",
    "        \n",
    "        Hx = [perceptron(x, W_new, b_new[0], lambda x:x>=0) for x, y in zip(X, Y)] #기존 perceptron 함수에 신규 W와 b를 모든 X에 대해 실행\n",
    "        loss_new = sum((hx - y)**2.0 for hx, y in zip(Hx, Y))/len(Y)               #모든 Y와 h(x)의 실제 loss를 얻어냄\n",
    "        \n",
    "        if loss > loss_new:                      #과거 loss보다 신규 loss가 더 작으면 더 우수해진 것\n",
    "            print('현재 오차:', loss_new)        # 신규 w, b, loss를 사용하게 교체\n",
    "            loss = loss_new\n",
    "            W = W_new\n",
    "            b = b_new\n",
    "            \n",
    "    return W, b"
   ]
  },
  {
   "cell_type": "code",
   "execution_count": 32,
   "metadata": {
    "slideshow": {
     "slide_type": "slide"
    }
   },
   "outputs": [
    {
     "name": "stdout",
     "output_type": "stream",
     "text": [
      "현재 오차: 0.25\n",
      "False\n",
      "False\n",
      "False\n",
      "False\n"
     ]
    }
   ],
   "source": [
    "W, b = do_mcm(X, Y, 1)\n",
    "print(perceptron([0, 0], W, b[0], lambda x:x>=0)) #0, 0\n",
    "print(perceptron([0, 1], W, b[0], lambda x:x>=0)) #0, 1\n",
    "print(perceptron([1, 0], W, b[0], lambda x:x>=0)) #1, 0\n",
    "print(perceptron([1, 1], W, b[0], lambda x:x>=0)) #1, 0\n"
   ]
  },
  {
   "cell_type": "code",
   "execution_count": 33,
   "metadata": {
    "slideshow": {
     "slide_type": "slide"
    }
   },
   "outputs": [
    {
     "name": "stdout",
     "output_type": "stream",
     "text": [
      "현재 오차: 0.75\n",
      "현재 오차: 0.25\n",
      "False\n",
      "False\n",
      "True\n",
      "True\n"
     ]
    }
   ],
   "source": [
    "W, b = do_mcm(X, Y, 10)\n",
    "print(perceptron([0, 0], W, b[0], lambda x:x>=0)) #0, 0\n",
    "print(perceptron([0, 1], W, b[0], lambda x:x>=0)) #0, 1\n",
    "print(perceptron([1, 0], W, b[0], lambda x:x>=0)) #1, 0\n",
    "print(perceptron([1, 1], W, b[0], lambda x:x>=0)) #1, 0"
   ]
  },
  {
   "cell_type": "code",
   "execution_count": 34,
   "metadata": {
    "slideshow": {
     "slide_type": "slide"
    }
   },
   "outputs": [
    {
     "name": "stdout",
     "output_type": "stream",
     "text": [
      "현재 오차: 0.75\n",
      "현재 오차: 0.25\n",
      "False\n",
      "False\n",
      "False\n",
      "False\n"
     ]
    }
   ],
   "source": [
    "W, b = do_mcm(X, Y, 100)\n",
    "print(perceptron([0, 0], W, b[0], lambda x:x>=0)) #0, 0\n",
    "print(perceptron([0, 1], W, b[0], lambda x:x>=0)) #0, 1\n",
    "print(perceptron([1, 0], W, b[0], lambda x:x>=0)) #1, 0\n",
    "print(perceptron([1, 1], W, b[0], lambda x:x>=0)) #1, 0"
   ]
  },
  {
   "cell_type": "code",
   "execution_count": 35,
   "metadata": {
    "slideshow": {
     "slide_type": "slide"
    }
   },
   "outputs": [
    {
     "name": "stdout",
     "output_type": "stream",
     "text": [
      "현재 오차: 0.75\n",
      "현재 오차: 0.25\n",
      "False\n",
      "False\n",
      "True\n",
      "True\n"
     ]
    }
   ],
   "source": [
    "W, b = do_mcm(X, Y, 1000)\n",
    "print(perceptron([0, 0], W, b[0], lambda x:x>=0)) #0, 0\n",
    "print(perceptron([0, 1], W, b[0], lambda x:x>=0)) #0, 1\n",
    "print(perceptron([1, 0], W, b[0], lambda x:x>=0)) #1, 0\n",
    "print(perceptron([1, 1], W, b[0], lambda x:x>=0)) #1, 0"
   ]
  },
  {
   "cell_type": "code",
   "execution_count": 36,
   "metadata": {
    "slideshow": {
     "slide_type": "slide"
    }
   },
   "outputs": [
    {
     "name": "stdout",
     "output_type": "stream",
     "text": [
      "현재 오차: 0.75\n",
      "현재 오차: 0.25\n",
      "현재 오차: 0.0\n",
      "False\n",
      "False\n",
      "False\n",
      "True\n"
     ]
    }
   ],
   "source": [
    "W, b = do_mcm(X, Y, 10000)\n",
    "print(perceptron([0, 0], W, b[0], lambda x:x>=0)) #0, 0\n",
    "print(perceptron([0, 1], W, b[0], lambda x:x>=0)) #0, 1\n",
    "print(perceptron([1, 0], W, b[0], lambda x:x>=0)) #1, 0\n",
    "print(perceptron([1, 1], W, b[0], lambda x:x>=0)) #1, 0"
   ]
  },
  {
   "cell_type": "markdown",
   "metadata": {
    "slideshow": {
     "slide_type": "slide"
    }
   },
   "source": [
    "# Gradient Decent Method\n",
    "\n",
    "* 우리는 언제까지고 이 짓(mcm)을 할 수는 없다.\n",
    "* 문제가 요구하는 $w$의 범위가 어디까지 인지 알 수 없다\n",
    "* 아무리 오래 돌려도 더 좋은 답이 있는지 없는지 알 수 없다\n",
    "* 더 똑똑하게 $w$를 찾을 수 없을까?\n",
    "\n"
   ]
  },
  {
   "cell_type": "markdown",
   "metadata": {
    "slideshow": {
     "slide_type": "subslide"
    }
   },
   "source": [
    "### 동기\n",
    "\n",
    "* 우리의 목적은 loss를 줄이는 방향으로 $w$를 효율적으로 찾아가는 것\n",
    "* 우리는 등산을 하고 정상에서 하산 할 때, 어떻게 할까?\n",
    "<br>\n",
    " 1. 높은 곳에서 낮은 곳으로 걸어간다<br>\n",
    " 2. 이때 우리는 10km 앞을 보고 내려가지는 않는다, 한 10m쯤 앞을 보고 내려간다.\n",
    " \n",
    "<center><img src='img/04_05.png' width=30% height=30%></center>"
   ]
  },
  {
   "cell_type": "markdown",
   "metadata": {
    "slideshow": {
     "slide_type": "slide"
    }
   },
   "source": [
    "# ML스러운 AND gate 풀이\n",
    "\n",
    "* 주어진 데이터 상황\n",
    "\n",
    "\\begin{equation}\n",
    "X = \n",
    "\\begin{bmatrix}x^{(0)} \\rightarrow (0 & 0) \\\\ x^{(1)} \\rightarrow (0 & 1) \\\\ x^{(2)} \\rightarrow (1 & 0) \\\\ x^{(3)} \\rightarrow (1 & 1)\\end{bmatrix}\n",
    "Y = \\begin{bmatrix}y^{(0)} \\rightarrow 0 \\\\ y^{(1)} \\rightarrow 0 \\\\ y^{(2)} \\rightarrow 0 \\\\ y^{(3)} \\rightarrow 1\\end{bmatrix}\n",
    "W^T = \\begin{bmatrix} w^{(0)} \\rightarrow ? \\\\ w^{(1)} \\rightarrow ?\\end{bmatrix}\n",
    "b = 0 \\nonumber\n",
    "\\end{equation}\n",
    "<br>\n"
   ]
  },
  {
   "cell_type": "markdown",
   "metadata": {
    "slideshow": {
     "slide_type": "subslide"
    }
   },
   "source": [
    "* 모델\n",
    "\\begin{equation}\n",
    "\\hat{Y} = \\sigma \\left( \\begin{bmatrix}0 & 0 \\\\ 0 & 1 \\\\ 1 & 0 \\\\ 1 & 1\\end{bmatrix} \\cdotp \\begin{bmatrix} ?  \\\\ ?\\end{bmatrix} + b \\right) \\nonumber\n",
    "\\end{equation}"
   ]
  },
  {
   "cell_type": "markdown",
   "metadata": {
    "slideshow": {
     "slide_type": "fragment"
    }
   },
   "source": [
    "* 비용 함수\n",
    "\n",
    "\\begin{equation}\n",
    "MSE = J(\\theta) = \\sum_{i=1}^{n}\\frac{(\\hat{Y} - Y)^2}{n} \\nonumber \\\\\n",
    "\\end{equation}"
   ]
  },
  {
   "cell_type": "markdown",
   "metadata": {
    "slideshow": {
     "slide_type": "fragment"
    }
   },
   "source": [
    "* Repeat until covergence ($\\alpha$로 수렴 속도를 결정)\n",
    "\n",
    "\\begin{equation}\n",
    "\\theta_j := \\theta_j - \\alpha \\cfrac {\\partial}{\\partial \\theta_j}J(\\theta) \\nonumber \\\\\n",
    "\\end{equation}"
   ]
  },
  {
   "cell_type": "code",
   "execution_count": 37,
   "metadata": {
    "slideshow": {
     "slide_type": "slide"
    }
   },
   "outputs": [],
   "source": [
    "#tensorflow를 이용한 and gate 풀이\n",
    "import tensorflow as tf\n",
    "import numpy as np\n",
    "\n",
    "X = np.array([[0.,0], [0,1], [1,0], [1,1]])\n",
    "Y = np.array([[0.], [0], [0], [1]])"
   ]
  },
  {
   "cell_type": "code",
   "execution_count": 38,
   "metadata": {
    "slideshow": {
     "slide_type": "fragment"
    }
   },
   "outputs": [
    {
     "name": "stdout",
     "output_type": "stream",
     "text": [
      "WARNING:tensorflow:From /Users/kakao/anaconda3/envs/py3/lib/python3.7/site-packages/tensorflow/python/framework/op_def_library.py:263: colocate_with (from tensorflow.python.framework.ops) is deprecated and will be removed in a future version.\n",
      "Instructions for updating:\n",
      "Colocations handled automatically by placer.\n"
     ]
    }
   ],
   "source": [
    "x = tf.placeholder(tf.float32, [None, 2])\n",
    "y = tf.placeholder(tf.float32, [None, 1])\n",
    "\n",
    "W = tf.Variable(tf.random.uniform([2, 1]))\n",
    "b = tf.Variable(tf.zeros([1]))\n",
    "h = tf.nn.sigmoid(tf.matmul(x, W) + b)"
   ]
  },
  {
   "cell_type": "code",
   "execution_count": 39,
   "metadata": {
    "slideshow": {
     "slide_type": "fragment"
    }
   },
   "outputs": [
    {
     "name": "stdout",
     "output_type": "stream",
     "text": [
      "WARNING:tensorflow:From /Users/kakao/anaconda3/envs/py3/lib/python3.7/site-packages/tensorflow/python/ops/losses/losses_impl.py:667: to_float (from tensorflow.python.ops.math_ops) is deprecated and will be removed in a future version.\n",
      "Instructions for updating:\n",
      "Use tf.cast instead.\n"
     ]
    }
   ],
   "source": [
    "#loss 및 gd 설정\n",
    "diff = tf.losses.mean_squared_error(y, h)\n",
    "a = 0.1\n",
    "train_step = tf.train.GradientDescentOptimizer(a).minimize(diff)"
   ]
  },
  {
   "cell_type": "code",
   "execution_count": 40,
   "metadata": {
    "slideshow": {
     "slide_type": "subslide"
    }
   },
   "outputs": [
    {
     "name": "stdout",
     "output_type": "stream",
     "text": [
      "1번 실행 후 오차:0.290535\n",
      "51번 실행 후 오차:0.174993\n",
      "101번 실행 후 오차:0.148094\n",
      "151번 실행 후 오차:0.134315\n",
      "201번 실행 후 오차:0.123649\n",
      "251번 실행 후 오차:0.114681\n",
      "301번 실행 후 오차:0.106979\n",
      "351번 실행 후 오차:0.100284\n",
      "401번 실행 후 오차:0.094400\n",
      "451번 실행 후 오차:0.089181\n",
      "정확도: 1.0\n"
     ]
    }
   ],
   "source": [
    "init = tf.global_variables_initializer()\n",
    "sess = tf.Session()\n",
    "sess.run(init)\n",
    "for i in range(500):\n",
    "    batch_xs, batch_ys = X, Y\n",
    "    _, loss = sess.run([train_step, diff], feed_dict={x: batch_xs, y: batch_ys})\n",
    "    if i % 50 == 0:\n",
    "        print('%d번 실행 후 오차:%f' % (i+1, np.sum(loss)))\n",
    "    \n",
    "\n",
    "accuracy = tf.reduce_mean(tf.cast(tf.equal(y, tf.cast(h > 0.5, tf.float32)), tf.float32))\n",
    "print('정확도:', sess.run(accuracy, feed_dict={x: X, y: Y}))"
   ]
  },
  {
   "cell_type": "code",
   "execution_count": 41,
   "metadata": {
    "slideshow": {
     "slide_type": "slide"
    }
   },
   "outputs": [
    {
     "name": "stdout",
     "output_type": "stream",
     "text": [
      "0,0 ->  [[0.1019216]]\n",
      "0,1 ->  [[0.3064987]]\n",
      "1,0 ->  [[0.2880563]]\n",
      "1,1 ->  [[0.61174923]]\n"
     ]
    }
   ],
   "source": [
    "print(\"0,0 -> \", sess.run(h, feed_dict={x: np.array([[0,0]])})) # 0, 0 입력\n",
    "print(\"0,1 -> \", sess.run(h, feed_dict={x: np.array([[0,1]])})) # 0, 1 입력\n",
    "print(\"1,0 -> \", sess.run(h, feed_dict={x: np.array([[1,0]])})) # 1, 0 입력\n",
    "print(\"1,1 -> \", sess.run(h, feed_dict={x: np.array([[1,1]])})) # 1, 1 입력"
   ]
  },
  {
   "cell_type": "code",
   "execution_count": 42,
   "metadata": {
    "slideshow": {
     "slide_type": "slide"
    }
   },
   "outputs": [
    {
     "name": "stdout",
     "output_type": "stream",
     "text": [
      "WARNING:tensorflow:From /Users/kakao/anaconda3/envs/py3/lib/python3.7/site-packages/tensorflow/python/ops/math_ops.py:3066: to_int32 (from tensorflow.python.ops.math_ops) is deprecated and will be removed in a future version.\n",
      "Instructions for updating:\n",
      "Use tf.cast instead.\n"
     ]
    },
    {
     "name": "stderr",
     "output_type": "stream",
     "text": [
      "Using TensorFlow backend.\n"
     ]
    },
    {
     "name": "stdout",
     "output_type": "stream",
     "text": [
      "오차: 0.26303964853286743\n",
      "오차: 0.21029116213321686\n",
      "오차: 0.18193870782852173\n",
      "오차: 0.16205835342407227\n",
      "오차: 0.14630083739757538\n",
      "오차: 0.1333567500114441\n",
      "오차: 0.1225832849740982\n",
      "오차: 0.11351056396961212\n",
      "오차: 0.10577191412448883\n",
      "오차: 0.09908625483512878\n",
      "정확도: 1.0\n"
     ]
    }
   ],
   "source": [
    "import keras\n",
    "from keras.models import Sequential\n",
    "from keras.layers import Dense, Activation\n",
    "from keras.optimizers import SGD\n",
    "\n",
    "model = Sequential()\n",
    "model.add(Dense(1, input_shape=(2,), activation='sigmoid'))\n",
    "model.compile(loss='mse', optimizer=SGD(lr=0.1))\n",
    "hist = model.fit(X,Y, epochs=500, verbose=0)\n",
    "\n",
    "H = (model.predict(X) > 0.5).astype(np.float32)\n",
    "for loss in hist.history['loss'][::50]:\n",
    "    print('오차:', loss)\n",
    "print('정확도:', np.mean(np.equal(H, Y)))\n"
   ]
  },
  {
   "cell_type": "code",
   "execution_count": 43,
   "metadata": {
    "slideshow": {
     "slide_type": "slide"
    }
   },
   "outputs": [
    {
     "name": "stdout",
     "output_type": "stream",
     "text": [
      "0,0 ->  [[0.12011021]]\n",
      "0,1 ->  [[0.3322654]]\n",
      "1,0 ->  [[0.28320768]]\n",
      "1,1 ->  [[0.5902079]]\n"
     ]
    }
   ],
   "source": [
    "print(\"0,0 -> \", model.predict(np.array([[0,0]]))) # 0, 0 입력\n",
    "print(\"0,1 -> \", model.predict(np.array([[0,1]]))) # 0, 1 입력\n",
    "print(\"1,0 -> \", model.predict(np.array([[1,0]]))) # 1, 0 입력\n",
    "print(\"1,1 -> \", model.predict(np.array([[1,1]]))) # 1, 1 입력"
   ]
  },
  {
   "cell_type": "markdown",
   "metadata": {
    "slideshow": {
     "slide_type": "slide"
    }
   },
   "source": [
    "# Keras의 세계로\n",
    "<br>\n",
    "<center><img src='img/04_06.png' width=50% height=50%></center>\n",
    "\n",
    "* You have just found Keras.\n",
    "* Keras는 python으로 작성된 고수준 딥러닝 API 및 라이브러리\n",
    "* Tensorflow, CNTK, Theano를 Keras의 문법으로 실행 할 수 있음\n",
    "* 쉽고 빠른 프로토타이핑 가능 (사용자 편의성, 모듈성 및 확장성)\n",
    "* CNN과 RNN은 물론, 둘의 조합도 지원\n",
    "* CPU 및 GPU 지원\n",
    "* tensorflow 2.0 공식 고수준 API"
   ]
  },
  {
   "cell_type": "markdown",
   "metadata": {
    "slideshow": {
     "slide_type": "slide"
    }
   },
   "source": [
    "# Keras에서 Model을 만들기 위한 5가지 필수 요소\n",
    "\n",
    "### 데이터 $X$\n",
    "---------------------------\n",
    "우리가 해결하고 싶은 문제군<br>\n",
    "과거 경험이나 용례<br>\n",
    "수학으로 치면 정의역에 해당 함\n",
    "\n",
    "### 정답 데이터 $Y$\n",
    "---------------------------\n",
    "문제군과 페어가 되는 정답군<br>\n",
    "수학으로 치면 치역에 해당 함\n"
   ]
  },
  {
   "cell_type": "markdown",
   "metadata": {
    "slideshow": {
     "slide_type": "subslide"
    }
   },
   "source": [
    "### 모델\n",
    "------------------------------\n",
    "데이터 $X$를 정답 데이터 $Y$로 예측하기 위한 딥러닝 수식<br>\n",
    "모델은 여러 layer로 구성되어 있으며 일반적으로 layer를 쌓는다고 표현\n",
    "\n",
    "### Loss 함수\n",
    "------------------------------\n",
    "모델이 예측한 $\\hat{Y}$와 실제 정답 $Y$의 차이를 통해 현재 모델이 얼마나 우수한지를 평가\n",
    "\n",
    "### Optimizer\n",
    "-----------------------------\n",
    "측정된 Loss를 어떤 방식의 GD로 줄여갈건지를 결정"
   ]
  },
  {
   "cell_type": "markdown",
   "metadata": {
    "slideshow": {
     "slide_type": "slide"
    }
   },
   "source": [
    "# Model의 핵심 2가지 필수 요소 + 1\n",
    "\n",
    "### model.Fit\n",
    "------------------------------\n",
    "위의 사항이 고려된 model에 데이터 $X$, $Y$를 입력하여 학습 시키는 함수\n",
    "\n",
    "### model.Predict\n",
    "-------------------------\n",
    "임의의 $X$ 데이터에 대하여 $\\hat{Y}$를 예측\n",
    "\n",
    "### model.Evaluate\n",
    "-----------------------------\n",
    "완성된 모델이 처음보는 데이터 $X$, $Y$에 대해서 어느정도 정확도를 가지는지 측정\n"
   ]
  },
  {
   "cell_type": "code",
   "execution_count": 44,
   "metadata": {
    "slideshow": {
     "slide_type": "subslide"
    }
   },
   "outputs": [],
   "source": [
    "import keras #keras import\n",
    "from keras.models import Sequential #모델을 사용할 수 있게 해주는 import\n",
    "from keras.layers import Dense, Activation #Dense와 step function을 사용할 수 있게 해주는 import\n",
    "from keras.optimizers import SGD # gd를 사용할 수 있게 해주는 import\n",
    "\n",
    "model = Sequential() #모델 선언"
   ]
  },
  {
   "cell_type": "code",
   "execution_count": 45,
   "metadata": {
    "slideshow": {
     "slide_type": "fragment"
    }
   },
   "outputs": [],
   "source": [
    "model.add(Dense(1, input_shape=(2,), activation='sigmoid')) #model에 perceptron 구조 설정\n",
    "                                                            #Dense layer를 1장 쌓음\n",
    "\n",
    "\n",
    "model.compile(loss='mse', optimizer=SGD(lr=0.1)) #model에 loss funtion은 MSE로\n",
    "                                                 #optimizer는 SGD ,alpha는 0.1로 설정\n",
    "\n",
    "    \n",
    "hist = model.fit(X,Y, epochs=500, verbose=0)   #X, Y에 대하여 해당 설정으로 500 epochs 수행"
   ]
  },
  {
   "cell_type": "code",
   "execution_count": 46,
   "metadata": {
    "slideshow": {
     "slide_type": "fragment"
    }
   },
   "outputs": [
    {
     "name": "stdout",
     "output_type": "stream",
     "text": [
      "정확도: 1.0\n"
     ]
    }
   ],
   "source": [
    "H = (model.predict(X) > 0.5).astype(np.float32) #X에 대하여 예측 Y'를 생성 한 뒤 실제 Y와 정확도 비교\n",
    "print('정확도:', np.mean(np.equal(H, Y)))"
   ]
  },
  {
   "cell_type": "markdown",
   "metadata": {
    "slideshow": {
     "slide_type": "subslide"
    }
   },
   "source": [
    "# Gate model\n",
    "<center><img src='img/04_07.png' width=50% height=50%></center>\n",
    "\n",
    "* 2개의 입력\n",
    "* 1개의 출력"
   ]
  },
  {
   "cell_type": "markdown",
   "metadata": {
    "slideshow": {
     "slide_type": "slide"
    }
   },
   "source": [
    "# 집값 예측\n",
    "\n",
    "* from kaggle https://www.kaggle.com/c/house-prices-advanced-regression-techniques\n",
    "* 집에 대한 80가지 컬럼과 가격을 나타내는 데이터\n",
    "* 1460개의 집에 대한 데이터와 가격이 주어짐\n",
    "* 최대한 정확하게 예측하는 문제\n",
    "* 완전 정확하게 예측할 수는 없으므로 평가는 loss가 적은 순위로 부여"
   ]
  },
  {
   "cell_type": "code",
   "execution_count": 47,
   "metadata": {
    "scrolled": true,
    "slideshow": {
     "slide_type": "slide"
    }
   },
   "outputs": [
    {
     "data": {
      "text/html": [
       "<div>\n",
       "<style scoped>\n",
       "    .dataframe tbody tr th:only-of-type {\n",
       "        vertical-align: middle;\n",
       "    }\n",
       "\n",
       "    .dataframe tbody tr th {\n",
       "        vertical-align: top;\n",
       "    }\n",
       "\n",
       "    .dataframe thead th {\n",
       "        text-align: right;\n",
       "    }\n",
       "</style>\n",
       "<table border=\"1\" class=\"dataframe\">\n",
       "  <thead>\n",
       "    <tr style=\"text-align: right;\">\n",
       "      <th></th>\n",
       "      <th>Id</th>\n",
       "      <th>MSSubClass</th>\n",
       "      <th>MSZoning</th>\n",
       "      <th>LotFrontage</th>\n",
       "      <th>LotArea</th>\n",
       "      <th>Street</th>\n",
       "      <th>Alley</th>\n",
       "      <th>LotShape</th>\n",
       "      <th>LandContour</th>\n",
       "      <th>Utilities</th>\n",
       "      <th>...</th>\n",
       "      <th>PoolArea</th>\n",
       "      <th>PoolQC</th>\n",
       "      <th>Fence</th>\n",
       "      <th>MiscFeature</th>\n",
       "      <th>MiscVal</th>\n",
       "      <th>MoSold</th>\n",
       "      <th>YrSold</th>\n",
       "      <th>SaleType</th>\n",
       "      <th>SaleCondition</th>\n",
       "      <th>SalePrice</th>\n",
       "    </tr>\n",
       "  </thead>\n",
       "  <tbody>\n",
       "    <tr>\n",
       "      <th>0</th>\n",
       "      <td>1</td>\n",
       "      <td>60</td>\n",
       "      <td>RL</td>\n",
       "      <td>65.0</td>\n",
       "      <td>8450</td>\n",
       "      <td>Pave</td>\n",
       "      <td>NaN</td>\n",
       "      <td>Reg</td>\n",
       "      <td>Lvl</td>\n",
       "      <td>AllPub</td>\n",
       "      <td>...</td>\n",
       "      <td>0</td>\n",
       "      <td>NaN</td>\n",
       "      <td>NaN</td>\n",
       "      <td>NaN</td>\n",
       "      <td>0</td>\n",
       "      <td>2</td>\n",
       "      <td>2008</td>\n",
       "      <td>WD</td>\n",
       "      <td>Normal</td>\n",
       "      <td>208500</td>\n",
       "    </tr>\n",
       "    <tr>\n",
       "      <th>1</th>\n",
       "      <td>2</td>\n",
       "      <td>20</td>\n",
       "      <td>RL</td>\n",
       "      <td>80.0</td>\n",
       "      <td>9600</td>\n",
       "      <td>Pave</td>\n",
       "      <td>NaN</td>\n",
       "      <td>Reg</td>\n",
       "      <td>Lvl</td>\n",
       "      <td>AllPub</td>\n",
       "      <td>...</td>\n",
       "      <td>0</td>\n",
       "      <td>NaN</td>\n",
       "      <td>NaN</td>\n",
       "      <td>NaN</td>\n",
       "      <td>0</td>\n",
       "      <td>5</td>\n",
       "      <td>2007</td>\n",
       "      <td>WD</td>\n",
       "      <td>Normal</td>\n",
       "      <td>181500</td>\n",
       "    </tr>\n",
       "    <tr>\n",
       "      <th>2</th>\n",
       "      <td>3</td>\n",
       "      <td>60</td>\n",
       "      <td>RL</td>\n",
       "      <td>68.0</td>\n",
       "      <td>11250</td>\n",
       "      <td>Pave</td>\n",
       "      <td>NaN</td>\n",
       "      <td>IR1</td>\n",
       "      <td>Lvl</td>\n",
       "      <td>AllPub</td>\n",
       "      <td>...</td>\n",
       "      <td>0</td>\n",
       "      <td>NaN</td>\n",
       "      <td>NaN</td>\n",
       "      <td>NaN</td>\n",
       "      <td>0</td>\n",
       "      <td>9</td>\n",
       "      <td>2008</td>\n",
       "      <td>WD</td>\n",
       "      <td>Normal</td>\n",
       "      <td>223500</td>\n",
       "    </tr>\n",
       "    <tr>\n",
       "      <th>3</th>\n",
       "      <td>4</td>\n",
       "      <td>70</td>\n",
       "      <td>RL</td>\n",
       "      <td>60.0</td>\n",
       "      <td>9550</td>\n",
       "      <td>Pave</td>\n",
       "      <td>NaN</td>\n",
       "      <td>IR1</td>\n",
       "      <td>Lvl</td>\n",
       "      <td>AllPub</td>\n",
       "      <td>...</td>\n",
       "      <td>0</td>\n",
       "      <td>NaN</td>\n",
       "      <td>NaN</td>\n",
       "      <td>NaN</td>\n",
       "      <td>0</td>\n",
       "      <td>2</td>\n",
       "      <td>2006</td>\n",
       "      <td>WD</td>\n",
       "      <td>Abnorml</td>\n",
       "      <td>140000</td>\n",
       "    </tr>\n",
       "    <tr>\n",
       "      <th>4</th>\n",
       "      <td>5</td>\n",
       "      <td>60</td>\n",
       "      <td>RL</td>\n",
       "      <td>84.0</td>\n",
       "      <td>14260</td>\n",
       "      <td>Pave</td>\n",
       "      <td>NaN</td>\n",
       "      <td>IR1</td>\n",
       "      <td>Lvl</td>\n",
       "      <td>AllPub</td>\n",
       "      <td>...</td>\n",
       "      <td>0</td>\n",
       "      <td>NaN</td>\n",
       "      <td>NaN</td>\n",
       "      <td>NaN</td>\n",
       "      <td>0</td>\n",
       "      <td>12</td>\n",
       "      <td>2008</td>\n",
       "      <td>WD</td>\n",
       "      <td>Normal</td>\n",
       "      <td>250000</td>\n",
       "    </tr>\n",
       "  </tbody>\n",
       "</table>\n",
       "<p>5 rows × 81 columns</p>\n",
       "</div>"
      ],
      "text/plain": [
       "   Id  MSSubClass MSZoning  LotFrontage  LotArea Street Alley LotShape  \\\n",
       "0   1          60       RL         65.0     8450   Pave   NaN      Reg   \n",
       "1   2          20       RL         80.0     9600   Pave   NaN      Reg   \n",
       "2   3          60       RL         68.0    11250   Pave   NaN      IR1   \n",
       "3   4          70       RL         60.0     9550   Pave   NaN      IR1   \n",
       "4   5          60       RL         84.0    14260   Pave   NaN      IR1   \n",
       "\n",
       "  LandContour Utilities  ... PoolArea PoolQC Fence MiscFeature MiscVal MoSold  \\\n",
       "0         Lvl    AllPub  ...        0    NaN   NaN         NaN       0      2   \n",
       "1         Lvl    AllPub  ...        0    NaN   NaN         NaN       0      5   \n",
       "2         Lvl    AllPub  ...        0    NaN   NaN         NaN       0      9   \n",
       "3         Lvl    AllPub  ...        0    NaN   NaN         NaN       0      2   \n",
       "4         Lvl    AllPub  ...        0    NaN   NaN         NaN       0     12   \n",
       "\n",
       "  YrSold  SaleType  SaleCondition  SalePrice  \n",
       "0   2008        WD         Normal     208500  \n",
       "1   2007        WD         Normal     181500  \n",
       "2   2008        WD         Normal     223500  \n",
       "3   2006        WD        Abnorml     140000  \n",
       "4   2008        WD         Normal     250000  \n",
       "\n",
       "[5 rows x 81 columns]"
      ]
     },
     "execution_count": 47,
     "metadata": {},
     "output_type": "execute_result"
    }
   ],
   "source": [
    "import pandas as pd\n",
    "data = pd.read_csv('data/house-prices/train.csv', sep=',')\n",
    "data.head(5)"
   ]
  },
  {
   "cell_type": "code",
   "execution_count": 48,
   "metadata": {
    "slideshow": {
     "slide_type": "fragment"
    }
   },
   "outputs": [
    {
     "data": {
      "text/html": [
       "<div>\n",
       "<style scoped>\n",
       "    .dataframe tbody tr th:only-of-type {\n",
       "        vertical-align: middle;\n",
       "    }\n",
       "\n",
       "    .dataframe tbody tr th {\n",
       "        vertical-align: top;\n",
       "    }\n",
       "\n",
       "    .dataframe thead th {\n",
       "        text-align: right;\n",
       "    }\n",
       "</style>\n",
       "<table border=\"1\" class=\"dataframe\">\n",
       "  <thead>\n",
       "    <tr style=\"text-align: right;\">\n",
       "      <th></th>\n",
       "      <th>Id</th>\n",
       "      <th>MSSubClass</th>\n",
       "      <th>LotFrontage</th>\n",
       "      <th>LotArea</th>\n",
       "      <th>OverallQual</th>\n",
       "      <th>OverallCond</th>\n",
       "      <th>YearBuilt</th>\n",
       "      <th>YearRemodAdd</th>\n",
       "      <th>MasVnrArea</th>\n",
       "      <th>BsmtFinSF1</th>\n",
       "      <th>...</th>\n",
       "      <th>WoodDeckSF</th>\n",
       "      <th>OpenPorchSF</th>\n",
       "      <th>EnclosedPorch</th>\n",
       "      <th>3SsnPorch</th>\n",
       "      <th>ScreenPorch</th>\n",
       "      <th>PoolArea</th>\n",
       "      <th>MiscVal</th>\n",
       "      <th>MoSold</th>\n",
       "      <th>YrSold</th>\n",
       "      <th>SalePrice</th>\n",
       "    </tr>\n",
       "  </thead>\n",
       "  <tbody>\n",
       "    <tr>\n",
       "      <th>count</th>\n",
       "      <td>1460.000000</td>\n",
       "      <td>1460.000000</td>\n",
       "      <td>1201.000000</td>\n",
       "      <td>1460.000000</td>\n",
       "      <td>1460.000000</td>\n",
       "      <td>1460.000000</td>\n",
       "      <td>1460.000000</td>\n",
       "      <td>1460.000000</td>\n",
       "      <td>1452.000000</td>\n",
       "      <td>1460.000000</td>\n",
       "      <td>...</td>\n",
       "      <td>1460.000000</td>\n",
       "      <td>1460.000000</td>\n",
       "      <td>1460.000000</td>\n",
       "      <td>1460.000000</td>\n",
       "      <td>1460.000000</td>\n",
       "      <td>1460.000000</td>\n",
       "      <td>1460.000000</td>\n",
       "      <td>1460.000000</td>\n",
       "      <td>1460.000000</td>\n",
       "      <td>1460.000000</td>\n",
       "    </tr>\n",
       "    <tr>\n",
       "      <th>mean</th>\n",
       "      <td>730.500000</td>\n",
       "      <td>56.897260</td>\n",
       "      <td>70.049958</td>\n",
       "      <td>10516.828082</td>\n",
       "      <td>6.099315</td>\n",
       "      <td>5.575342</td>\n",
       "      <td>1971.267808</td>\n",
       "      <td>1984.865753</td>\n",
       "      <td>103.685262</td>\n",
       "      <td>443.639726</td>\n",
       "      <td>...</td>\n",
       "      <td>94.244521</td>\n",
       "      <td>46.660274</td>\n",
       "      <td>21.954110</td>\n",
       "      <td>3.409589</td>\n",
       "      <td>15.060959</td>\n",
       "      <td>2.758904</td>\n",
       "      <td>43.489041</td>\n",
       "      <td>6.321918</td>\n",
       "      <td>2007.815753</td>\n",
       "      <td>180921.195890</td>\n",
       "    </tr>\n",
       "    <tr>\n",
       "      <th>std</th>\n",
       "      <td>421.610009</td>\n",
       "      <td>42.300571</td>\n",
       "      <td>24.284752</td>\n",
       "      <td>9981.264932</td>\n",
       "      <td>1.382997</td>\n",
       "      <td>1.112799</td>\n",
       "      <td>30.202904</td>\n",
       "      <td>20.645407</td>\n",
       "      <td>181.066207</td>\n",
       "      <td>456.098091</td>\n",
       "      <td>...</td>\n",
       "      <td>125.338794</td>\n",
       "      <td>66.256028</td>\n",
       "      <td>61.119149</td>\n",
       "      <td>29.317331</td>\n",
       "      <td>55.757415</td>\n",
       "      <td>40.177307</td>\n",
       "      <td>496.123024</td>\n",
       "      <td>2.703626</td>\n",
       "      <td>1.328095</td>\n",
       "      <td>79442.502883</td>\n",
       "    </tr>\n",
       "    <tr>\n",
       "      <th>min</th>\n",
       "      <td>1.000000</td>\n",
       "      <td>20.000000</td>\n",
       "      <td>21.000000</td>\n",
       "      <td>1300.000000</td>\n",
       "      <td>1.000000</td>\n",
       "      <td>1.000000</td>\n",
       "      <td>1872.000000</td>\n",
       "      <td>1950.000000</td>\n",
       "      <td>0.000000</td>\n",
       "      <td>0.000000</td>\n",
       "      <td>...</td>\n",
       "      <td>0.000000</td>\n",
       "      <td>0.000000</td>\n",
       "      <td>0.000000</td>\n",
       "      <td>0.000000</td>\n",
       "      <td>0.000000</td>\n",
       "      <td>0.000000</td>\n",
       "      <td>0.000000</td>\n",
       "      <td>1.000000</td>\n",
       "      <td>2006.000000</td>\n",
       "      <td>34900.000000</td>\n",
       "    </tr>\n",
       "    <tr>\n",
       "      <th>25%</th>\n",
       "      <td>365.750000</td>\n",
       "      <td>20.000000</td>\n",
       "      <td>59.000000</td>\n",
       "      <td>7553.500000</td>\n",
       "      <td>5.000000</td>\n",
       "      <td>5.000000</td>\n",
       "      <td>1954.000000</td>\n",
       "      <td>1967.000000</td>\n",
       "      <td>0.000000</td>\n",
       "      <td>0.000000</td>\n",
       "      <td>...</td>\n",
       "      <td>0.000000</td>\n",
       "      <td>0.000000</td>\n",
       "      <td>0.000000</td>\n",
       "      <td>0.000000</td>\n",
       "      <td>0.000000</td>\n",
       "      <td>0.000000</td>\n",
       "      <td>0.000000</td>\n",
       "      <td>5.000000</td>\n",
       "      <td>2007.000000</td>\n",
       "      <td>129975.000000</td>\n",
       "    </tr>\n",
       "    <tr>\n",
       "      <th>50%</th>\n",
       "      <td>730.500000</td>\n",
       "      <td>50.000000</td>\n",
       "      <td>69.000000</td>\n",
       "      <td>9478.500000</td>\n",
       "      <td>6.000000</td>\n",
       "      <td>5.000000</td>\n",
       "      <td>1973.000000</td>\n",
       "      <td>1994.000000</td>\n",
       "      <td>0.000000</td>\n",
       "      <td>383.500000</td>\n",
       "      <td>...</td>\n",
       "      <td>0.000000</td>\n",
       "      <td>25.000000</td>\n",
       "      <td>0.000000</td>\n",
       "      <td>0.000000</td>\n",
       "      <td>0.000000</td>\n",
       "      <td>0.000000</td>\n",
       "      <td>0.000000</td>\n",
       "      <td>6.000000</td>\n",
       "      <td>2008.000000</td>\n",
       "      <td>163000.000000</td>\n",
       "    </tr>\n",
       "    <tr>\n",
       "      <th>75%</th>\n",
       "      <td>1095.250000</td>\n",
       "      <td>70.000000</td>\n",
       "      <td>80.000000</td>\n",
       "      <td>11601.500000</td>\n",
       "      <td>7.000000</td>\n",
       "      <td>6.000000</td>\n",
       "      <td>2000.000000</td>\n",
       "      <td>2004.000000</td>\n",
       "      <td>166.000000</td>\n",
       "      <td>712.250000</td>\n",
       "      <td>...</td>\n",
       "      <td>168.000000</td>\n",
       "      <td>68.000000</td>\n",
       "      <td>0.000000</td>\n",
       "      <td>0.000000</td>\n",
       "      <td>0.000000</td>\n",
       "      <td>0.000000</td>\n",
       "      <td>0.000000</td>\n",
       "      <td>8.000000</td>\n",
       "      <td>2009.000000</td>\n",
       "      <td>214000.000000</td>\n",
       "    </tr>\n",
       "    <tr>\n",
       "      <th>max</th>\n",
       "      <td>1460.000000</td>\n",
       "      <td>190.000000</td>\n",
       "      <td>313.000000</td>\n",
       "      <td>215245.000000</td>\n",
       "      <td>10.000000</td>\n",
       "      <td>9.000000</td>\n",
       "      <td>2010.000000</td>\n",
       "      <td>2010.000000</td>\n",
       "      <td>1600.000000</td>\n",
       "      <td>5644.000000</td>\n",
       "      <td>...</td>\n",
       "      <td>857.000000</td>\n",
       "      <td>547.000000</td>\n",
       "      <td>552.000000</td>\n",
       "      <td>508.000000</td>\n",
       "      <td>480.000000</td>\n",
       "      <td>738.000000</td>\n",
       "      <td>15500.000000</td>\n",
       "      <td>12.000000</td>\n",
       "      <td>2010.000000</td>\n",
       "      <td>755000.000000</td>\n",
       "    </tr>\n",
       "  </tbody>\n",
       "</table>\n",
       "<p>8 rows × 38 columns</p>\n",
       "</div>"
      ],
      "text/plain": [
       "                Id   MSSubClass  LotFrontage        LotArea  OverallQual  \\\n",
       "count  1460.000000  1460.000000  1201.000000    1460.000000  1460.000000   \n",
       "mean    730.500000    56.897260    70.049958   10516.828082     6.099315   \n",
       "std     421.610009    42.300571    24.284752    9981.264932     1.382997   \n",
       "min       1.000000    20.000000    21.000000    1300.000000     1.000000   \n",
       "25%     365.750000    20.000000    59.000000    7553.500000     5.000000   \n",
       "50%     730.500000    50.000000    69.000000    9478.500000     6.000000   \n",
       "75%    1095.250000    70.000000    80.000000   11601.500000     7.000000   \n",
       "max    1460.000000   190.000000   313.000000  215245.000000    10.000000   \n",
       "\n",
       "       OverallCond    YearBuilt  YearRemodAdd   MasVnrArea   BsmtFinSF1  ...  \\\n",
       "count  1460.000000  1460.000000   1460.000000  1452.000000  1460.000000  ...   \n",
       "mean      5.575342  1971.267808   1984.865753   103.685262   443.639726  ...   \n",
       "std       1.112799    30.202904     20.645407   181.066207   456.098091  ...   \n",
       "min       1.000000  1872.000000   1950.000000     0.000000     0.000000  ...   \n",
       "25%       5.000000  1954.000000   1967.000000     0.000000     0.000000  ...   \n",
       "50%       5.000000  1973.000000   1994.000000     0.000000   383.500000  ...   \n",
       "75%       6.000000  2000.000000   2004.000000   166.000000   712.250000  ...   \n",
       "max       9.000000  2010.000000   2010.000000  1600.000000  5644.000000  ...   \n",
       "\n",
       "        WoodDeckSF  OpenPorchSF  EnclosedPorch    3SsnPorch  ScreenPorch  \\\n",
       "count  1460.000000  1460.000000    1460.000000  1460.000000  1460.000000   \n",
       "mean     94.244521    46.660274      21.954110     3.409589    15.060959   \n",
       "std     125.338794    66.256028      61.119149    29.317331    55.757415   \n",
       "min       0.000000     0.000000       0.000000     0.000000     0.000000   \n",
       "25%       0.000000     0.000000       0.000000     0.000000     0.000000   \n",
       "50%       0.000000    25.000000       0.000000     0.000000     0.000000   \n",
       "75%     168.000000    68.000000       0.000000     0.000000     0.000000   \n",
       "max     857.000000   547.000000     552.000000   508.000000   480.000000   \n",
       "\n",
       "          PoolArea       MiscVal       MoSold       YrSold      SalePrice  \n",
       "count  1460.000000   1460.000000  1460.000000  1460.000000    1460.000000  \n",
       "mean      2.758904     43.489041     6.321918  2007.815753  180921.195890  \n",
       "std      40.177307    496.123024     2.703626     1.328095   79442.502883  \n",
       "min       0.000000      0.000000     1.000000  2006.000000   34900.000000  \n",
       "25%       0.000000      0.000000     5.000000  2007.000000  129975.000000  \n",
       "50%       0.000000      0.000000     6.000000  2008.000000  163000.000000  \n",
       "75%       0.000000      0.000000     8.000000  2009.000000  214000.000000  \n",
       "max     738.000000  15500.000000    12.000000  2010.000000  755000.000000  \n",
       "\n",
       "[8 rows x 38 columns]"
      ]
     },
     "execution_count": 48,
     "metadata": {},
     "output_type": "execute_result"
    }
   ],
   "source": [
    "data.describe()"
   ]
  },
  {
   "cell_type": "markdown",
   "metadata": {
    "slideshow": {
     "slide_type": "slide"
    }
   },
   "source": [
    "# 데이터 정제\n",
    "\n",
    "* 데이터 컬럼이 너무 많고, 우리의 목적은 kaggle에 나가서 순위권에 드는 것이 아님!\n",
    "* 카테고리형 데이터를 최대한 지우고, 숫자형 데이터만을 축약해본다.\n",
    "* 단, saleType은 salePrice (Y)를 결정할 수도 있어보이는 변수니 컬럼형으로 변화 시킴\n",
    "* 컬럼 중 빈값을 포함하고 있는 row가 있다면 과감하게 제거\n",
    "* 상관분석을 고려하여 중요해보이는 컬럼 10개 정도만을 가지고 시도해보자"
   ]
  },
  {
   "cell_type": "code",
   "execution_count": 49,
   "metadata": {
    "slideshow": {
     "slide_type": "fragment"
    }
   },
   "outputs": [
    {
     "data": {
      "text/html": [
       "<div>\n",
       "<style scoped>\n",
       "    .dataframe tbody tr th:only-of-type {\n",
       "        vertical-align: middle;\n",
       "    }\n",
       "\n",
       "    .dataframe tbody tr th {\n",
       "        vertical-align: top;\n",
       "    }\n",
       "\n",
       "    .dataframe thead th {\n",
       "        text-align: right;\n",
       "    }\n",
       "</style>\n",
       "<table border=\"1\" class=\"dataframe\">\n",
       "  <thead>\n",
       "    <tr style=\"text-align: right;\">\n",
       "      <th></th>\n",
       "      <th>LotArea</th>\n",
       "      <th>OverallQual</th>\n",
       "      <th>OverallCond</th>\n",
       "      <th>YearBuilt</th>\n",
       "      <th>YearRemodAdd</th>\n",
       "      <th>BsmtFinSF1</th>\n",
       "      <th>BsmtFinSF2</th>\n",
       "      <th>BsmtUnfSF</th>\n",
       "      <th>TotalBsmtSF</th>\n",
       "      <th>1stFlrSF</th>\n",
       "      <th>...</th>\n",
       "      <th>OpenPorchSF</th>\n",
       "      <th>EnclosedPorch</th>\n",
       "      <th>3SsnPorch</th>\n",
       "      <th>ScreenPorch</th>\n",
       "      <th>PoolArea</th>\n",
       "      <th>MiscVal</th>\n",
       "      <th>MoSold</th>\n",
       "      <th>YrSold</th>\n",
       "      <th>SaleType</th>\n",
       "      <th>SalePrice</th>\n",
       "    </tr>\n",
       "  </thead>\n",
       "  <tbody>\n",
       "    <tr>\n",
       "      <th>0</th>\n",
       "      <td>8450</td>\n",
       "      <td>7</td>\n",
       "      <td>5</td>\n",
       "      <td>2003</td>\n",
       "      <td>2003</td>\n",
       "      <td>706</td>\n",
       "      <td>0</td>\n",
       "      <td>150</td>\n",
       "      <td>856</td>\n",
       "      <td>856</td>\n",
       "      <td>...</td>\n",
       "      <td>61</td>\n",
       "      <td>0</td>\n",
       "      <td>0</td>\n",
       "      <td>0</td>\n",
       "      <td>0</td>\n",
       "      <td>0</td>\n",
       "      <td>2</td>\n",
       "      <td>2008</td>\n",
       "      <td>WD</td>\n",
       "      <td>208500</td>\n",
       "    </tr>\n",
       "    <tr>\n",
       "      <th>1</th>\n",
       "      <td>9600</td>\n",
       "      <td>6</td>\n",
       "      <td>8</td>\n",
       "      <td>1976</td>\n",
       "      <td>1976</td>\n",
       "      <td>978</td>\n",
       "      <td>0</td>\n",
       "      <td>284</td>\n",
       "      <td>1262</td>\n",
       "      <td>1262</td>\n",
       "      <td>...</td>\n",
       "      <td>0</td>\n",
       "      <td>0</td>\n",
       "      <td>0</td>\n",
       "      <td>0</td>\n",
       "      <td>0</td>\n",
       "      <td>0</td>\n",
       "      <td>5</td>\n",
       "      <td>2007</td>\n",
       "      <td>WD</td>\n",
       "      <td>181500</td>\n",
       "    </tr>\n",
       "    <tr>\n",
       "      <th>2</th>\n",
       "      <td>11250</td>\n",
       "      <td>7</td>\n",
       "      <td>5</td>\n",
       "      <td>2001</td>\n",
       "      <td>2002</td>\n",
       "      <td>486</td>\n",
       "      <td>0</td>\n",
       "      <td>434</td>\n",
       "      <td>920</td>\n",
       "      <td>920</td>\n",
       "      <td>...</td>\n",
       "      <td>42</td>\n",
       "      <td>0</td>\n",
       "      <td>0</td>\n",
       "      <td>0</td>\n",
       "      <td>0</td>\n",
       "      <td>0</td>\n",
       "      <td>9</td>\n",
       "      <td>2008</td>\n",
       "      <td>WD</td>\n",
       "      <td>223500</td>\n",
       "    </tr>\n",
       "    <tr>\n",
       "      <th>3</th>\n",
       "      <td>9550</td>\n",
       "      <td>7</td>\n",
       "      <td>5</td>\n",
       "      <td>1915</td>\n",
       "      <td>1970</td>\n",
       "      <td>216</td>\n",
       "      <td>0</td>\n",
       "      <td>540</td>\n",
       "      <td>756</td>\n",
       "      <td>961</td>\n",
       "      <td>...</td>\n",
       "      <td>35</td>\n",
       "      <td>272</td>\n",
       "      <td>0</td>\n",
       "      <td>0</td>\n",
       "      <td>0</td>\n",
       "      <td>0</td>\n",
       "      <td>2</td>\n",
       "      <td>2006</td>\n",
       "      <td>WD</td>\n",
       "      <td>140000</td>\n",
       "    </tr>\n",
       "    <tr>\n",
       "      <th>4</th>\n",
       "      <td>14260</td>\n",
       "      <td>8</td>\n",
       "      <td>5</td>\n",
       "      <td>2000</td>\n",
       "      <td>2000</td>\n",
       "      <td>655</td>\n",
       "      <td>0</td>\n",
       "      <td>490</td>\n",
       "      <td>1145</td>\n",
       "      <td>1145</td>\n",
       "      <td>...</td>\n",
       "      <td>84</td>\n",
       "      <td>0</td>\n",
       "      <td>0</td>\n",
       "      <td>0</td>\n",
       "      <td>0</td>\n",
       "      <td>0</td>\n",
       "      <td>12</td>\n",
       "      <td>2008</td>\n",
       "      <td>WD</td>\n",
       "      <td>250000</td>\n",
       "    </tr>\n",
       "  </tbody>\n",
       "</table>\n",
       "<p>5 rows × 35 columns</p>\n",
       "</div>"
      ],
      "text/plain": [
       "   LotArea  OverallQual  OverallCond  YearBuilt  YearRemodAdd  BsmtFinSF1  \\\n",
       "0     8450            7            5       2003          2003         706   \n",
       "1     9600            6            8       1976          1976         978   \n",
       "2    11250            7            5       2001          2002         486   \n",
       "3     9550            7            5       1915          1970         216   \n",
       "4    14260            8            5       2000          2000         655   \n",
       "\n",
       "   BsmtFinSF2  BsmtUnfSF  TotalBsmtSF  1stFlrSF  ...  OpenPorchSF  \\\n",
       "0           0        150          856       856  ...           61   \n",
       "1           0        284         1262      1262  ...            0   \n",
       "2           0        434          920       920  ...           42   \n",
       "3           0        540          756       961  ...           35   \n",
       "4           0        490         1145      1145  ...           84   \n",
       "\n",
       "   EnclosedPorch  3SsnPorch  ScreenPorch  PoolArea  MiscVal  MoSold  YrSold  \\\n",
       "0              0          0            0         0        0       2    2008   \n",
       "1              0          0            0         0        0       5    2007   \n",
       "2              0          0            0         0        0       9    2008   \n",
       "3            272          0            0         0        0       2    2006   \n",
       "4              0          0            0         0        0      12    2008   \n",
       "\n",
       "   SaleType  SalePrice  \n",
       "0        WD     208500  \n",
       "1        WD     181500  \n",
       "2        WD     223500  \n",
       "3        WD     140000  \n",
       "4        WD     250000  \n",
       "\n",
       "[5 rows x 35 columns]"
      ]
     },
     "execution_count": 49,
     "metadata": {},
     "output_type": "execute_result"
    }
   ],
   "source": [
    "df = data[['LotArea', 'OverallQual', 'OverallCond', 'YearBuilt', 'YearRemodAdd',\n",
    "      'BsmtFinSF1', 'BsmtFinSF2', 'BsmtUnfSF', 'TotalBsmtSF', '1stFlrSF', '2ndFlrSF',\n",
    "      'LowQualFinSF', 'GrLivArea', 'BsmtFullBath', 'BsmtHalfBath', 'FullBath', 'HalfBath',\n",
    "      'BedroomAbvGr', 'KitchenAbvGr', 'TotRmsAbvGrd', 'Fireplaces', 'GarageYrBlt', 'GarageCars',\n",
    "      'GarageArea', 'WoodDeckSF', 'OpenPorchSF', 'EnclosedPorch', '3SsnPorch', 'ScreenPorch', 'PoolArea',\n",
    "      'MiscVal', 'MoSold', 'YrSold', 'SaleType', 'SalePrice']]\n",
    "df.head(5)"
   ]
  },
  {
   "cell_type": "code",
   "execution_count": 50,
   "metadata": {
    "slideshow": {
     "slide_type": "subslide"
    }
   },
   "outputs": [
    {
     "data": {
      "text/html": [
       "<div>\n",
       "<style scoped>\n",
       "    .dataframe tbody tr th:only-of-type {\n",
       "        vertical-align: middle;\n",
       "    }\n",
       "\n",
       "    .dataframe tbody tr th {\n",
       "        vertical-align: top;\n",
       "    }\n",
       "\n",
       "    .dataframe thead th {\n",
       "        text-align: right;\n",
       "    }\n",
       "</style>\n",
       "<table border=\"1\" class=\"dataframe\">\n",
       "  <thead>\n",
       "    <tr style=\"text-align: right;\">\n",
       "      <th></th>\n",
       "      <th>LotArea</th>\n",
       "      <th>OverallQual</th>\n",
       "      <th>OverallCond</th>\n",
       "      <th>YearBuilt</th>\n",
       "      <th>YearRemodAdd</th>\n",
       "      <th>BsmtFinSF1</th>\n",
       "      <th>BsmtFinSF2</th>\n",
       "      <th>BsmtUnfSF</th>\n",
       "      <th>TotalBsmtSF</th>\n",
       "      <th>1stFlrSF</th>\n",
       "      <th>...</th>\n",
       "      <th>COD</th>\n",
       "      <th>CWD</th>\n",
       "      <th>Con</th>\n",
       "      <th>ConLD</th>\n",
       "      <th>ConLI</th>\n",
       "      <th>ConLw</th>\n",
       "      <th>New</th>\n",
       "      <th>Oth</th>\n",
       "      <th>WD</th>\n",
       "      <th>SalePrice</th>\n",
       "    </tr>\n",
       "  </thead>\n",
       "  <tbody>\n",
       "    <tr>\n",
       "      <th>0</th>\n",
       "      <td>8450</td>\n",
       "      <td>7</td>\n",
       "      <td>5</td>\n",
       "      <td>2003</td>\n",
       "      <td>2003</td>\n",
       "      <td>706</td>\n",
       "      <td>0</td>\n",
       "      <td>150</td>\n",
       "      <td>856</td>\n",
       "      <td>856</td>\n",
       "      <td>...</td>\n",
       "      <td>0</td>\n",
       "      <td>0</td>\n",
       "      <td>0</td>\n",
       "      <td>0</td>\n",
       "      <td>0</td>\n",
       "      <td>0</td>\n",
       "      <td>0</td>\n",
       "      <td>0</td>\n",
       "      <td>1</td>\n",
       "      <td>208500</td>\n",
       "    </tr>\n",
       "    <tr>\n",
       "      <th>1</th>\n",
       "      <td>9600</td>\n",
       "      <td>6</td>\n",
       "      <td>8</td>\n",
       "      <td>1976</td>\n",
       "      <td>1976</td>\n",
       "      <td>978</td>\n",
       "      <td>0</td>\n",
       "      <td>284</td>\n",
       "      <td>1262</td>\n",
       "      <td>1262</td>\n",
       "      <td>...</td>\n",
       "      <td>0</td>\n",
       "      <td>0</td>\n",
       "      <td>0</td>\n",
       "      <td>0</td>\n",
       "      <td>0</td>\n",
       "      <td>0</td>\n",
       "      <td>0</td>\n",
       "      <td>0</td>\n",
       "      <td>1</td>\n",
       "      <td>181500</td>\n",
       "    </tr>\n",
       "    <tr>\n",
       "      <th>2</th>\n",
       "      <td>11250</td>\n",
       "      <td>7</td>\n",
       "      <td>5</td>\n",
       "      <td>2001</td>\n",
       "      <td>2002</td>\n",
       "      <td>486</td>\n",
       "      <td>0</td>\n",
       "      <td>434</td>\n",
       "      <td>920</td>\n",
       "      <td>920</td>\n",
       "      <td>...</td>\n",
       "      <td>0</td>\n",
       "      <td>0</td>\n",
       "      <td>0</td>\n",
       "      <td>0</td>\n",
       "      <td>0</td>\n",
       "      <td>0</td>\n",
       "      <td>0</td>\n",
       "      <td>0</td>\n",
       "      <td>1</td>\n",
       "      <td>223500</td>\n",
       "    </tr>\n",
       "    <tr>\n",
       "      <th>3</th>\n",
       "      <td>9550</td>\n",
       "      <td>7</td>\n",
       "      <td>5</td>\n",
       "      <td>1915</td>\n",
       "      <td>1970</td>\n",
       "      <td>216</td>\n",
       "      <td>0</td>\n",
       "      <td>540</td>\n",
       "      <td>756</td>\n",
       "      <td>961</td>\n",
       "      <td>...</td>\n",
       "      <td>0</td>\n",
       "      <td>0</td>\n",
       "      <td>0</td>\n",
       "      <td>0</td>\n",
       "      <td>0</td>\n",
       "      <td>0</td>\n",
       "      <td>0</td>\n",
       "      <td>0</td>\n",
       "      <td>1</td>\n",
       "      <td>140000</td>\n",
       "    </tr>\n",
       "    <tr>\n",
       "      <th>4</th>\n",
       "      <td>14260</td>\n",
       "      <td>8</td>\n",
       "      <td>5</td>\n",
       "      <td>2000</td>\n",
       "      <td>2000</td>\n",
       "      <td>655</td>\n",
       "      <td>0</td>\n",
       "      <td>490</td>\n",
       "      <td>1145</td>\n",
       "      <td>1145</td>\n",
       "      <td>...</td>\n",
       "      <td>0</td>\n",
       "      <td>0</td>\n",
       "      <td>0</td>\n",
       "      <td>0</td>\n",
       "      <td>0</td>\n",
       "      <td>0</td>\n",
       "      <td>0</td>\n",
       "      <td>0</td>\n",
       "      <td>1</td>\n",
       "      <td>250000</td>\n",
       "    </tr>\n",
       "  </tbody>\n",
       "</table>\n",
       "<p>5 rows × 43 columns</p>\n",
       "</div>"
      ],
      "text/plain": [
       "   LotArea  OverallQual  OverallCond  YearBuilt  YearRemodAdd  BsmtFinSF1  \\\n",
       "0     8450            7            5       2003          2003         706   \n",
       "1     9600            6            8       1976          1976         978   \n",
       "2    11250            7            5       2001          2002         486   \n",
       "3     9550            7            5       1915          1970         216   \n",
       "4    14260            8            5       2000          2000         655   \n",
       "\n",
       "   BsmtFinSF2  BsmtUnfSF  TotalBsmtSF  1stFlrSF  ...  COD  CWD  Con  ConLD  \\\n",
       "0           0        150          856       856  ...    0    0    0      0   \n",
       "1           0        284         1262      1262  ...    0    0    0      0   \n",
       "2           0        434          920       920  ...    0    0    0      0   \n",
       "3           0        540          756       961  ...    0    0    0      0   \n",
       "4           0        490         1145      1145  ...    0    0    0      0   \n",
       "\n",
       "   ConLI  ConLw  New  Oth  WD  SalePrice  \n",
       "0      0      0    0    0   1     208500  \n",
       "1      0      0    0    0   1     181500  \n",
       "2      0      0    0    0   1     223500  \n",
       "3      0      0    0    0   1     140000  \n",
       "4      0      0    0    0   1     250000  \n",
       "\n",
       "[5 rows x 43 columns]"
      ]
     },
     "execution_count": 50,
     "metadata": {},
     "output_type": "execute_result"
    }
   ],
   "source": [
    "#saleType 카테고리형 변수를 컬럼형 변수로 변경\n",
    "saleType_onehot = pd.get_dummies(df['SaleType'])\n",
    "df = df.drop('SaleType', axis = 1)\n",
    "df = df.join(saleType_onehot)\n",
    "df = df.join(df.pop('SalePrice'))\n",
    "df.head(5)"
   ]
  },
  {
   "cell_type": "code",
   "execution_count": 51,
   "metadata": {
    "slideshow": {
     "slide_type": "fragment"
    }
   },
   "outputs": [
    {
     "name": "stdout",
     "output_type": "stream",
     "text": [
      "원본 row수: 1460\n",
      "변경 row수: 1379\n"
     ]
    }
   ],
   "source": [
    "# row에 빈값이 있으면 제거\n",
    "print('원본 row수:', len(df))\n",
    "df = df.dropna()\n",
    "print('변경 row수:', len(df))"
   ]
  },
  {
   "cell_type": "markdown",
   "metadata": {
    "slideshow": {
     "slide_type": "fragment"
    }
   },
   "source": [
    "<center><img src='img/04_08.png' width=40% height=40%></center>"
   ]
  },
  {
   "cell_type": "markdown",
   "metadata": {
    "slideshow": {
     "slide_type": "slide"
    }
   },
   "source": [
    "# 상관분석이란 무엇인가?\n",
    "\n",
    "* $x_n$이 주어질 때, 지정한 변수간, 예를들어 $x_1$과 $x_2$이 증가나 감소 방향이<br> 어떤 선형적 관계를 가지고 있는지 분석하는 방법\n",
    "* 예를 들면, 집값, 평형, 화장실 개수의 경우 서로 선형적 증가 관계가 있을 것이라고 예측 할 수 있음\n",
    "\n",
    "<br>\n",
    "\n",
    "* -1 부터 1의 결과를 출력하며 다음과 같은 관계가 있음\n",
    " * 0에 가까울수록 서로 독립적\n",
    " * 1에 가까울수록 서로 양의 상관관계\n",
    " * -1에 가까울수록 서로 음의 상관관계\n"
   ]
  },
  {
   "cell_type": "code",
   "execution_count": 52,
   "metadata": {
    "slideshow": {
     "slide_type": "slide"
    }
   },
   "outputs": [
    {
     "data": {
      "text/plain": [
       "OverallQual     0.787228\n",
       "YearBuilt       0.507584\n",
       "YearRemodAdd    0.505434\n",
       "TotalBsmtSF     0.603583\n",
       "1stFlrSF        0.594935\n",
       "GrLivArea       0.708172\n",
       "FullBath        0.556550\n",
       "TotRmsAbvGrd    0.538309\n",
       "GarageCars      0.637095\n",
       "GarageArea      0.608405\n",
       "SalePrice       1.000000\n",
       "Name: SalePrice, dtype: float64"
      ]
     },
     "execution_count": 52,
     "metadata": {},
     "output_type": "execute_result"
    }
   ],
   "source": [
    "# 집 가격에 대하여 상관관계 분석을 한 뒤 음양의 상관관계에 관계 없이 0.5 이상의 상관을 가지고 있으면 추출\n",
    "cor = df.corr()\n",
    "cor_target = abs(cor[\"SalePrice\"])\n",
    "relevant_features = cor_target[cor_target>0.5]\n",
    "relevant_features"
   ]
  },
  {
   "cell_type": "code",
   "execution_count": 53,
   "metadata": {
    "slideshow": {
     "slide_type": "fragment"
    }
   },
   "outputs": [
    {
     "data": {
      "text/html": [
       "<div>\n",
       "<style scoped>\n",
       "    .dataframe tbody tr th:only-of-type {\n",
       "        vertical-align: middle;\n",
       "    }\n",
       "\n",
       "    .dataframe tbody tr th {\n",
       "        vertical-align: top;\n",
       "    }\n",
       "\n",
       "    .dataframe thead th {\n",
       "        text-align: right;\n",
       "    }\n",
       "</style>\n",
       "<table border=\"1\" class=\"dataframe\">\n",
       "  <thead>\n",
       "    <tr style=\"text-align: right;\">\n",
       "      <th></th>\n",
       "      <th>OverallQual</th>\n",
       "      <th>YearBuilt</th>\n",
       "      <th>YearRemodAdd</th>\n",
       "      <th>TotalBsmtSF</th>\n",
       "      <th>1stFlrSF</th>\n",
       "      <th>GrLivArea</th>\n",
       "      <th>FullBath</th>\n",
       "      <th>TotRmsAbvGrd</th>\n",
       "      <th>GarageCars</th>\n",
       "      <th>GarageArea</th>\n",
       "      <th>SalePrice</th>\n",
       "    </tr>\n",
       "  </thead>\n",
       "  <tbody>\n",
       "    <tr>\n",
       "      <th>0</th>\n",
       "      <td>7</td>\n",
       "      <td>2003</td>\n",
       "      <td>2003</td>\n",
       "      <td>856</td>\n",
       "      <td>856</td>\n",
       "      <td>1710</td>\n",
       "      <td>2</td>\n",
       "      <td>8</td>\n",
       "      <td>2</td>\n",
       "      <td>548</td>\n",
       "      <td>208500</td>\n",
       "    </tr>\n",
       "    <tr>\n",
       "      <th>1</th>\n",
       "      <td>6</td>\n",
       "      <td>1976</td>\n",
       "      <td>1976</td>\n",
       "      <td>1262</td>\n",
       "      <td>1262</td>\n",
       "      <td>1262</td>\n",
       "      <td>2</td>\n",
       "      <td>6</td>\n",
       "      <td>2</td>\n",
       "      <td>460</td>\n",
       "      <td>181500</td>\n",
       "    </tr>\n",
       "    <tr>\n",
       "      <th>2</th>\n",
       "      <td>7</td>\n",
       "      <td>2001</td>\n",
       "      <td>2002</td>\n",
       "      <td>920</td>\n",
       "      <td>920</td>\n",
       "      <td>1786</td>\n",
       "      <td>2</td>\n",
       "      <td>6</td>\n",
       "      <td>2</td>\n",
       "      <td>608</td>\n",
       "      <td>223500</td>\n",
       "    </tr>\n",
       "    <tr>\n",
       "      <th>3</th>\n",
       "      <td>7</td>\n",
       "      <td>1915</td>\n",
       "      <td>1970</td>\n",
       "      <td>756</td>\n",
       "      <td>961</td>\n",
       "      <td>1717</td>\n",
       "      <td>1</td>\n",
       "      <td>7</td>\n",
       "      <td>3</td>\n",
       "      <td>642</td>\n",
       "      <td>140000</td>\n",
       "    </tr>\n",
       "    <tr>\n",
       "      <th>4</th>\n",
       "      <td>8</td>\n",
       "      <td>2000</td>\n",
       "      <td>2000</td>\n",
       "      <td>1145</td>\n",
       "      <td>1145</td>\n",
       "      <td>2198</td>\n",
       "      <td>2</td>\n",
       "      <td>9</td>\n",
       "      <td>3</td>\n",
       "      <td>836</td>\n",
       "      <td>250000</td>\n",
       "    </tr>\n",
       "  </tbody>\n",
       "</table>\n",
       "</div>"
      ],
      "text/plain": [
       "   OverallQual  YearBuilt  YearRemodAdd  TotalBsmtSF  1stFlrSF  GrLivArea  \\\n",
       "0            7       2003          2003          856       856       1710   \n",
       "1            6       1976          1976         1262      1262       1262   \n",
       "2            7       2001          2002          920       920       1786   \n",
       "3            7       1915          1970          756       961       1717   \n",
       "4            8       2000          2000         1145      1145       2198   \n",
       "\n",
       "   FullBath  TotRmsAbvGrd  GarageCars  GarageArea  SalePrice  \n",
       "0         2             8           2         548     208500  \n",
       "1         2             6           2         460     181500  \n",
       "2         2             6           2         608     223500  \n",
       "3         1             7           3         642     140000  \n",
       "4         2             9           3         836     250000  "
      ]
     },
     "execution_count": 53,
     "metadata": {},
     "output_type": "execute_result"
    }
   ],
   "source": [
    "df = df[['OverallQual', 'YearBuilt', 'YearRemodAdd', 'TotalBsmtSF', '1stFlrSF',\n",
    "      'GrLivArea', 'FullBath', 'TotRmsAbvGrd', 'GarageCars', 'GarageArea', 'SalePrice']]\n",
    "df.head(5)"
   ]
  },
  {
   "cell_type": "code",
   "execution_count": 54,
   "metadata": {
    "slideshow": {
     "slide_type": "slide"
    }
   },
   "outputs": [
    {
     "name": "stdout",
     "output_type": "stream",
     "text": [
      "1379 965 414\n"
     ]
    }
   ],
   "source": [
    "# 학습셋을 구성하기 위하여 자료의 70%를 학습셋, 30%를 테스트셋으로 구분\n",
    "train = df.sample(frac=0.7)\n",
    "test = df.drop(train.index)\n",
    "print(len(df), len(train), len(test))"
   ]
  },
  {
   "cell_type": "code",
   "execution_count": 55,
   "metadata": {
    "slideshow": {
     "slide_type": "fragment"
    }
   },
   "outputs": [
    {
     "name": "stdout",
     "output_type": "stream",
     "text": [
      "(965, 10) (965, 1)\n"
     ]
    }
   ],
   "source": [
    "#각 데이터를 x와 y로 구분\n",
    "train_x, train_y = np.split(train, [-1], axis=1)\n",
    "test_x, test_y = np.split(test, [-1], axis=1)\n",
    "print(train_x.shape, train_y.shape)"
   ]
  },
  {
   "cell_type": "code",
   "execution_count": 56,
   "metadata": {
    "slideshow": {
     "slide_type": "fragment"
    }
   },
   "outputs": [
    {
     "name": "stdout",
     "output_type": "stream",
     "text": [
      "Epoch 1/500\n"
     ]
    },
    {
     "name": "stderr",
     "output_type": "stream",
     "text": [
      "/Users/kakao/anaconda3/envs/py3/lib/python3.7/site-packages/ipykernel_launcher.py:9: FutureWarning: Method .as_matrix will be removed in a future version. Use .values instead.\n",
      "  if __name__ == '__main__':\n"
     ]
    },
    {
     "name": "stdout",
     "output_type": "stream",
     "text": [
      "965/965 [==============================] - 0s 334us/step - loss: nan       \n",
      "Epoch 2/500\n",
      "965/965 [==============================] - 0s 23us/step - loss: nan\n",
      "Epoch 3/500\n",
      "965/965 [==============================] - 0s 21us/step - loss: nan\n",
      "Epoch 4/500\n",
      "965/965 [==============================] - 0s 21us/step - loss: nan\n",
      "Epoch 5/500\n",
      "965/965 [==============================] - 0s 20us/step - loss: nan\n",
      "Epoch 6/500\n",
      "965/965 [==============================] - 0s 19us/step - loss: nan\n",
      "Epoch 7/500\n",
      "965/965 [==============================] - 0s 19us/step - loss: nan\n",
      "Epoch 8/500\n",
      "965/965 [==============================] - 0s 28us/step - loss: nan\n",
      "Epoch 9/500\n",
      "965/965 [==============================] - 0s 34us/step - loss: nan\n",
      "Epoch 10/500\n",
      "965/965 [==============================] - 0s 27us/step - loss: nan\n",
      "Epoch 11/500\n",
      "965/965 [==============================] - 0s 25us/step - loss: nan\n",
      "Epoch 12/500\n",
      "965/965 [==============================] - 0s 23us/step - loss: nan\n",
      "Epoch 13/500\n",
      "965/965 [==============================] - 0s 26us/step - loss: nan\n",
      "Epoch 14/500\n",
      "965/965 [==============================] - 0s 28us/step - loss: nan\n",
      "Epoch 15/500\n",
      "965/965 [==============================] - 0s 24us/step - loss: nan\n",
      "Epoch 16/500\n",
      "965/965 [==============================] - 0s 24us/step - loss: nan\n",
      "Epoch 17/500\n",
      "965/965 [==============================] - 0s 28us/step - loss: nan\n",
      "Epoch 18/500\n",
      "965/965 [==============================] - 0s 25us/step - loss: nan\n",
      "Epoch 19/500\n",
      "965/965 [==============================] - 0s 21us/step - loss: nan\n",
      "Epoch 20/500\n",
      "965/965 [==============================] - 0s 21us/step - loss: nan\n",
      "Epoch 21/500\n",
      "965/965 [==============================] - 0s 20us/step - loss: nan\n",
      "Epoch 22/500\n",
      "965/965 [==============================] - 0s 20us/step - loss: nan\n",
      "Epoch 23/500\n",
      "965/965 [==============================] - 0s 20us/step - loss: nan\n",
      "Epoch 24/500\n",
      "965/965 [==============================] - 0s 21us/step - loss: nan\n",
      "Epoch 25/500\n",
      "965/965 [==============================] - 0s 20us/step - loss: nan\n",
      "Epoch 26/500\n",
      "965/965 [==============================] - 0s 19us/step - loss: nan\n",
      "Epoch 27/500\n",
      "965/965 [==============================] - 0s 25us/step - loss: nan\n",
      "Epoch 28/500\n",
      "965/965 [==============================] - 0s 25us/step - loss: nan\n",
      "Epoch 29/500\n",
      "965/965 [==============================] - 0s 25us/step - loss: nan\n",
      "Epoch 30/500\n",
      "965/965 [==============================] - 0s 23us/step - loss: nan\n",
      "Epoch 31/500\n",
      "965/965 [==============================] - 0s 19us/step - loss: nan\n",
      "Epoch 32/500\n",
      "965/965 [==============================] - 0s 19us/step - loss: nan\n",
      "Epoch 33/500\n",
      "965/965 [==============================] - 0s 20us/step - loss: nan\n",
      "Epoch 34/500\n",
      "965/965 [==============================] - 0s 19us/step - loss: nan\n",
      "Epoch 35/500\n",
      "965/965 [==============================] - 0s 20us/step - loss: nan\n",
      "Epoch 36/500\n",
      "965/965 [==============================] - 0s 19us/step - loss: nan\n",
      "Epoch 37/500\n",
      "965/965 [==============================] - 0s 20us/step - loss: nan\n",
      "Epoch 38/500\n",
      "965/965 [==============================] - 0s 20us/step - loss: nan\n",
      "Epoch 39/500\n",
      "965/965 [==============================] - 0s 30us/step - loss: nan\n",
      "Epoch 40/500\n",
      "965/965 [==============================] - 0s 27us/step - loss: nan\n",
      "Epoch 41/500\n",
      "965/965 [==============================] - 0s 24us/step - loss: nan\n",
      "Epoch 42/500\n",
      "965/965 [==============================] - 0s 22us/step - loss: nan\n",
      "Epoch 43/500\n",
      "965/965 [==============================] - 0s 23us/step - loss: nan\n",
      "Epoch 44/500\n",
      "965/965 [==============================] - 0s 29us/step - loss: nan\n",
      "Epoch 45/500\n",
      "965/965 [==============================] - 0s 24us/step - loss: nan\n",
      "Epoch 46/500\n",
      "965/965 [==============================] - 0s 27us/step - loss: nan\n",
      "Epoch 47/500\n",
      "965/965 [==============================] - 0s 25us/step - loss: nan\n",
      "Epoch 48/500\n",
      "965/965 [==============================] - 0s 27us/step - loss: nan\n",
      "Epoch 49/500\n",
      "965/965 [==============================] - 0s 24us/step - loss: nan\n",
      "Epoch 50/500\n",
      "965/965 [==============================] - 0s 26us/step - loss: nan\n",
      "Epoch 51/500\n",
      "965/965 [==============================] - 0s 25us/step - loss: nan\n",
      "Epoch 52/500\n",
      "965/965 [==============================] - 0s 26us/step - loss: nan\n",
      "Epoch 53/500\n",
      "965/965 [==============================] - 0s 23us/step - loss: nan\n",
      "Epoch 54/500\n",
      "965/965 [==============================] - 0s 27us/step - loss: nan\n",
      "Epoch 55/500\n",
      "965/965 [==============================] - 0s 28us/step - loss: nan\n",
      "Epoch 56/500\n",
      "965/965 [==============================] - 0s 28us/step - loss: nan\n",
      "Epoch 57/500\n",
      "965/965 [==============================] - 0s 23us/step - loss: nan\n",
      "Epoch 58/500\n",
      "965/965 [==============================] - 0s 24us/step - loss: nan\n",
      "Epoch 59/500\n",
      "965/965 [==============================] - 0s 19us/step - loss: nan\n",
      "Epoch 60/500\n",
      "965/965 [==============================] - 0s 20us/step - loss: nan\n",
      "Epoch 61/500\n",
      "965/965 [==============================] - 0s 19us/step - loss: nan\n",
      "Epoch 62/500\n",
      "965/965 [==============================] - 0s 26us/step - loss: nan\n",
      "Epoch 63/500\n",
      "965/965 [==============================] - 0s 27us/step - loss: nan\n",
      "Epoch 64/500\n",
      "965/965 [==============================] - 0s 24us/step - loss: nan\n",
      "Epoch 65/500\n",
      "965/965 [==============================] - 0s 23us/step - loss: nan\n",
      "Epoch 66/500\n",
      "965/965 [==============================] - 0s 30us/step - loss: nan\n",
      "Epoch 67/500\n",
      "965/965 [==============================] - 0s 23us/step - loss: nan\n",
      "Epoch 68/500\n",
      "965/965 [==============================] - 0s 21us/step - loss: nan\n",
      "Epoch 69/500\n",
      "965/965 [==============================] - 0s 20us/step - loss: nan\n",
      "Epoch 70/500\n",
      "965/965 [==============================] - 0s 19us/step - loss: nan\n",
      "Epoch 71/500\n",
      "965/965 [==============================] - 0s 22us/step - loss: nan\n",
      "Epoch 72/500\n",
      "965/965 [==============================] - 0s 25us/step - loss: nan\n",
      "Epoch 73/500\n",
      "965/965 [==============================] - 0s 19us/step - loss: nan\n",
      "Epoch 74/500\n",
      "965/965 [==============================] - 0s 20us/step - loss: nan\n",
      "Epoch 75/500\n",
      "965/965 [==============================] - 0s 21us/step - loss: nan\n",
      "Epoch 76/500\n",
      "965/965 [==============================] - 0s 22us/step - loss: nan\n",
      "Epoch 77/500\n",
      "965/965 [==============================] - 0s 23us/step - loss: nan\n",
      "Epoch 78/500\n",
      "965/965 [==============================] - 0s 34us/step - loss: nan\n",
      "Epoch 79/500\n",
      "965/965 [==============================] - 0s 24us/step - loss: nan\n",
      "Epoch 80/500\n",
      "965/965 [==============================] - 0s 21us/step - loss: nan\n",
      "Epoch 81/500\n",
      "965/965 [==============================] - 0s 19us/step - loss: nan\n",
      "Epoch 82/500\n",
      "965/965 [==============================] - 0s 25us/step - loss: nan\n",
      "Epoch 83/500\n",
      "965/965 [==============================] - 0s 19us/step - loss: nan\n",
      "Epoch 84/500\n",
      "965/965 [==============================] - 0s 19us/step - loss: nan\n",
      "Epoch 85/500\n",
      "965/965 [==============================] - 0s 19us/step - loss: nan\n",
      "Epoch 86/500\n",
      "965/965 [==============================] - 0s 19us/step - loss: nan\n",
      "Epoch 87/500\n",
      "965/965 [==============================] - 0s 19us/step - loss: nan\n",
      "Epoch 88/500\n",
      "965/965 [==============================] - 0s 20us/step - loss: nan\n",
      "Epoch 89/500\n",
      "965/965 [==============================] - 0s 29us/step - loss: nan\n",
      "Epoch 90/500\n",
      "965/965 [==============================] - 0s 25us/step - loss: nan\n",
      "Epoch 91/500\n",
      "965/965 [==============================] - 0s 23us/step - loss: nan\n",
      "Epoch 92/500\n",
      "965/965 [==============================] - 0s 23us/step - loss: nan\n",
      "Epoch 93/500\n",
      "965/965 [==============================] - 0s 27us/step - loss: nan\n",
      "Epoch 94/500\n",
      "965/965 [==============================] - 0s 25us/step - loss: nan\n",
      "Epoch 95/500\n",
      "965/965 [==============================] - 0s 25us/step - loss: nan\n",
      "Epoch 96/500\n",
      "965/965 [==============================] - 0s 25us/step - loss: nan\n",
      "Epoch 97/500\n",
      "965/965 [==============================] - 0s 27us/step - loss: nan\n",
      "Epoch 98/500\n",
      "965/965 [==============================] - 0s 26us/step - loss: nan\n",
      "Epoch 99/500\n",
      "965/965 [==============================] - 0s 25us/step - loss: nan\n",
      "Epoch 100/500\n",
      "965/965 [==============================] - 0s 25us/step - loss: nan\n",
      "Epoch 101/500\n",
      "965/965 [==============================] - 0s 25us/step - loss: nan\n",
      "Epoch 102/500\n",
      "965/965 [==============================] - 0s 22us/step - loss: nan\n",
      "Epoch 103/500\n",
      "965/965 [==============================] - 0s 19us/step - loss: nan\n",
      "Epoch 104/500\n",
      "965/965 [==============================] - 0s 19us/step - loss: nan\n",
      "Epoch 105/500\n",
      "965/965 [==============================] - 0s 19us/step - loss: nan\n",
      "Epoch 106/500\n",
      "965/965 [==============================] - 0s 19us/step - loss: nan\n",
      "Epoch 107/500\n",
      "965/965 [==============================] - 0s 19us/step - loss: nan\n",
      "Epoch 108/500\n",
      "965/965 [==============================] - 0s 25us/step - loss: nan\n",
      "Epoch 109/500\n",
      "965/965 [==============================] - 0s 26us/step - loss: nan\n",
      "Epoch 110/500\n",
      "965/965 [==============================] - 0s 24us/step - loss: nan\n",
      "Epoch 111/500\n",
      "965/965 [==============================] - 0s 24us/step - loss: nan\n",
      "Epoch 112/500\n",
      "965/965 [==============================] - 0s 28us/step - loss: nan\n",
      "Epoch 113/500\n",
      "965/965 [==============================] - 0s 24us/step - loss: nan\n",
      "Epoch 114/500\n",
      "965/965 [==============================] - 0s 19us/step - loss: nan\n",
      "Epoch 115/500\n",
      "965/965 [==============================] - 0s 19us/step - loss: nan\n",
      "Epoch 116/500\n",
      "965/965 [==============================] - 0s 21us/step - loss: nan\n",
      "Epoch 117/500\n",
      "965/965 [==============================] - 0s 26us/step - loss: nan\n",
      "Epoch 118/500\n",
      "965/965 [==============================] - 0s 22us/step - loss: nan\n",
      "Epoch 119/500\n",
      "965/965 [==============================] - 0s 22us/step - loss: nan\n",
      "Epoch 120/500\n",
      "965/965 [==============================] - 0s 21us/step - loss: nan\n",
      "Epoch 121/500\n",
      "965/965 [==============================] - 0s 23us/step - loss: nan\n",
      "Epoch 122/500\n",
      "965/965 [==============================] - 0s 25us/step - loss: nan\n",
      "Epoch 123/500\n",
      "965/965 [==============================] - 0s 26us/step - loss: nan\n",
      "Epoch 124/500\n",
      "965/965 [==============================] - 0s 22us/step - loss: nan\n",
      "Epoch 125/500\n",
      "965/965 [==============================] - 0s 20us/step - loss: nan\n",
      "Epoch 126/500\n",
      "965/965 [==============================] - 0s 19us/step - loss: nan\n",
      "Epoch 127/500\n",
      "965/965 [==============================] - 0s 19us/step - loss: nan\n",
      "Epoch 128/500\n",
      "965/965 [==============================] - 0s 19us/step - loss: nan\n",
      "Epoch 129/500\n",
      "965/965 [==============================] - 0s 20us/step - loss: nan\n",
      "Epoch 130/500\n",
      "965/965 [==============================] - 0s 20us/step - loss: nan\n",
      "Epoch 131/500\n",
      "965/965 [==============================] - 0s 19us/step - loss: nan\n",
      "Epoch 132/500\n",
      "965/965 [==============================] - 0s 26us/step - loss: nan\n",
      "Epoch 133/500\n",
      "965/965 [==============================] - 0s 28us/step - loss: nan\n",
      "Epoch 134/500\n",
      "965/965 [==============================] - 0s 25us/step - loss: nan\n",
      "Epoch 135/500\n",
      "965/965 [==============================] - 0s 24us/step - loss: nan\n",
      "Epoch 136/500\n",
      "965/965 [==============================] - 0s 26us/step - loss: nan\n",
      "Epoch 137/500\n",
      "965/965 [==============================] - 0s 27us/step - loss: nan\n",
      "Epoch 138/500\n",
      "965/965 [==============================] - 0s 28us/step - loss: nan\n",
      "Epoch 139/500\n",
      "965/965 [==============================] - 0s 28us/step - loss: nan\n",
      "Epoch 140/500\n",
      "965/965 [==============================] - 0s 27us/step - loss: nan\n",
      "Epoch 141/500\n",
      "965/965 [==============================] - 0s 28us/step - loss: nan\n",
      "Epoch 142/500\n",
      "965/965 [==============================] - 0s 26us/step - loss: nan\n",
      "Epoch 143/500\n",
      "965/965 [==============================] - 0s 27us/step - loss: nan\n",
      "Epoch 144/500\n",
      "965/965 [==============================] - 0s 26us/step - loss: nan\n",
      "Epoch 145/500\n",
      "965/965 [==============================] - 0s 24us/step - loss: nan\n",
      "Epoch 146/500\n",
      "965/965 [==============================] - 0s 23us/step - loss: nan\n",
      "Epoch 147/500\n",
      "965/965 [==============================] - 0s 21us/step - loss: nan\n",
      "Epoch 148/500\n",
      "965/965 [==============================] - 0s 21us/step - loss: nan\n",
      "Epoch 149/500\n",
      "965/965 [==============================] - 0s 20us/step - loss: nan\n",
      "Epoch 150/500\n",
      "965/965 [==============================] - 0s 19us/step - loss: nan\n",
      "Epoch 151/500\n",
      "965/965 [==============================] - 0s 19us/step - loss: nan\n",
      "Epoch 152/500\n",
      "965/965 [==============================] - 0s 21us/step - loss: nan\n",
      "Epoch 153/500\n",
      "965/965 [==============================] - 0s 27us/step - loss: nan\n",
      "Epoch 154/500\n",
      "965/965 [==============================] - 0s 24us/step - loss: nan\n",
      "Epoch 155/500\n",
      "965/965 [==============================] - 0s 23us/step - loss: nan\n",
      "Epoch 156/500\n",
      "965/965 [==============================] - 0s 25us/step - loss: nan\n",
      "Epoch 157/500\n",
      "965/965 [==============================] - 0s 26us/step - loss: nan\n",
      "Epoch 158/500\n",
      "965/965 [==============================] - 0s 20us/step - loss: nan\n",
      "Epoch 159/500\n",
      "965/965 [==============================] - 0s 19us/step - loss: nan\n",
      "Epoch 160/500\n",
      "965/965 [==============================] - 0s 20us/step - loss: nan\n",
      "Epoch 161/500\n",
      "965/965 [==============================] - 0s 24us/step - loss: nan\n",
      "Epoch 162/500\n",
      "965/965 [==============================] - 0s 23us/step - loss: nan\n",
      "Epoch 163/500\n",
      "965/965 [==============================] - 0s 22us/step - loss: nan\n",
      "Epoch 164/500\n",
      "965/965 [==============================] - 0s 20us/step - loss: nan\n",
      "Epoch 165/500\n",
      "965/965 [==============================] - 0s 19us/step - loss: nan\n",
      "Epoch 166/500\n",
      "965/965 [==============================] - 0s 19us/step - loss: nan\n",
      "Epoch 167/500\n",
      "965/965 [==============================] - 0s 22us/step - loss: nan\n",
      "Epoch 168/500\n",
      "965/965 [==============================] - 0s 24us/step - loss: nan\n",
      "Epoch 169/500\n",
      "965/965 [==============================] - 0s 25us/step - loss: nan\n",
      "Epoch 170/500\n",
      "965/965 [==============================] - 0s 22us/step - loss: nan\n",
      "Epoch 171/500\n",
      "965/965 [==============================] - 0s 19us/step - loss: nan\n",
      "Epoch 172/500\n",
      "965/965 [==============================] - 0s 19us/step - loss: nan\n",
      "Epoch 173/500\n",
      "965/965 [==============================] - 0s 19us/step - loss: nan\n",
      "Epoch 174/500\n",
      "965/965 [==============================] - 0s 20us/step - loss: nan\n",
      "Epoch 175/500\n",
      "965/965 [==============================] - 0s 19us/step - loss: nan\n",
      "Epoch 176/500\n",
      "965/965 [==============================] - 0s 19us/step - loss: nan\n",
      "Epoch 177/500\n",
      "965/965 [==============================] - 0s 19us/step - loss: nan\n",
      "Epoch 178/500\n",
      "965/965 [==============================] - 0s 24us/step - loss: nan\n",
      "Epoch 179/500\n",
      "965/965 [==============================] - 0s 26us/step - loss: nan\n",
      "Epoch 180/500\n",
      "965/965 [==============================] - 0s 24us/step - loss: nan\n",
      "Epoch 181/500\n",
      "965/965 [==============================] - 0s 23us/step - loss: nan\n",
      "Epoch 182/500\n",
      "965/965 [==============================] - 0s 27us/step - loss: nan\n",
      "Epoch 183/500\n",
      "965/965 [==============================] - 0s 29us/step - loss: nan\n",
      "Epoch 184/500\n",
      "965/965 [==============================] - 0s 27us/step - loss: nan\n",
      "Epoch 185/500\n",
      "965/965 [==============================] - 0s 26us/step - loss: nan\n",
      "Epoch 186/500\n",
      "965/965 [==============================] - 0s 26us/step - loss: nan\n",
      "Epoch 187/500\n",
      "965/965 [==============================] - 0s 25us/step - loss: nan\n",
      "Epoch 188/500\n",
      "965/965 [==============================] - 0s 24us/step - loss: nan\n",
      "Epoch 189/500\n",
      "965/965 [==============================] - 0s 25us/step - loss: nan\n",
      "Epoch 190/500\n",
      "965/965 [==============================] - 0s 23us/step - loss: nan\n",
      "Epoch 191/500\n",
      "965/965 [==============================] - 0s 23us/step - loss: nan\n",
      "Epoch 192/500\n",
      "965/965 [==============================] - 0s 20us/step - loss: nan\n",
      "Epoch 193/500\n",
      "965/965 [==============================] - 0s 19us/step - loss: nan\n",
      "Epoch 194/500\n",
      "965/965 [==============================] - 0s 19us/step - loss: nan\n",
      "Epoch 195/500\n",
      "965/965 [==============================] - 0s 20us/step - loss: nan\n",
      "Epoch 196/500\n",
      "965/965 [==============================] - 0s 20us/step - loss: nan\n",
      "Epoch 197/500\n",
      "965/965 [==============================] - 0s 27us/step - loss: nan\n",
      "Epoch 198/500\n",
      "965/965 [==============================] - 0s 26us/step - loss: nan\n",
      "Epoch 199/500\n",
      "965/965 [==============================] - 0s 23us/step - loss: nan\n",
      "Epoch 200/500\n",
      "965/965 [==============================] - 0s 24us/step - loss: nan\n",
      "Epoch 201/500\n",
      "965/965 [==============================] - 0s 27us/step - loss: nan\n",
      "Epoch 202/500\n"
     ]
    },
    {
     "name": "stdout",
     "output_type": "stream",
     "text": [
      "965/965 [==============================] - 0s 21us/step - loss: nan\n",
      "Epoch 203/500\n",
      "965/965 [==============================] - 0s 19us/step - loss: nan\n",
      "Epoch 204/500\n",
      "965/965 [==============================] - 0s 19us/step - loss: nan\n",
      "Epoch 205/500\n",
      "965/965 [==============================] - 0s 21us/step - loss: nan\n",
      "Epoch 206/500\n",
      "965/965 [==============================] - 0s 19us/step - loss: nan\n",
      "Epoch 207/500\n",
      "965/965 [==============================] - 0s 25us/step - loss: nan\n",
      "Epoch 208/500\n",
      "965/965 [==============================] - 0s 24us/step - loss: nan\n",
      "Epoch 209/500\n",
      "965/965 [==============================] - 0s 20us/step - loss: nan\n",
      "Epoch 210/500\n",
      "965/965 [==============================] - 0s 19us/step - loss: nan\n",
      "Epoch 211/500\n",
      "965/965 [==============================] - 0s 20us/step - loss: nan\n",
      "Epoch 212/500\n",
      "965/965 [==============================] - 0s 19us/step - loss: nan\n",
      "Epoch 213/500\n",
      "965/965 [==============================] - 0s 25us/step - loss: nan\n",
      "Epoch 214/500\n",
      "965/965 [==============================] - 0s 23us/step - loss: nan\n",
      "Epoch 215/500\n",
      "965/965 [==============================] - 0s 21us/step - loss: nan\n",
      "Epoch 216/500\n",
      "965/965 [==============================] - 0s 19us/step - loss: nan\n",
      "Epoch 217/500\n",
      "965/965 [==============================] - 0s 19us/step - loss: nan\n",
      "Epoch 218/500\n",
      "965/965 [==============================] - 0s 21us/step - loss: nan\n",
      "Epoch 219/500\n",
      "965/965 [==============================] - 0s 22us/step - loss: nan\n",
      "Epoch 220/500\n",
      "965/965 [==============================] - 0s 22us/step - loss: nan\n",
      "Epoch 221/500\n",
      "965/965 [==============================] - 0s 20us/step - loss: nan\n",
      "Epoch 222/500\n",
      "965/965 [==============================] - 0s 28us/step - loss: nan\n",
      "Epoch 223/500\n",
      "965/965 [==============================] - 0s 26us/step - loss: nan\n",
      "Epoch 224/500\n",
      "965/965 [==============================] - 0s 24us/step - loss: nan\n",
      "Epoch 225/500\n",
      "965/965 [==============================] - 0s 26us/step - loss: nan\n",
      "Epoch 226/500\n",
      "965/965 [==============================] - 0s 30us/step - loss: nan\n",
      "Epoch 227/500\n",
      "965/965 [==============================] - 0s 25us/step - loss: nan\n",
      "Epoch 228/500\n",
      "965/965 [==============================] - 0s 26us/step - loss: nan\n",
      "Epoch 229/500\n",
      "965/965 [==============================] - 0s 24us/step - loss: nan\n",
      "Epoch 230/500\n",
      "965/965 [==============================] - 0s 24us/step - loss: nan\n",
      "Epoch 231/500\n",
      "965/965 [==============================] - 0s 25us/step - loss: nan\n",
      "Epoch 232/500\n",
      "965/965 [==============================] - 0s 25us/step - loss: nan\n",
      "Epoch 233/500\n",
      "965/965 [==============================] - 0s 24us/step - loss: nan\n",
      "Epoch 234/500\n",
      "965/965 [==============================] - 0s 23us/step - loss: nan\n",
      "Epoch 235/500\n",
      "965/965 [==============================] - 0s 19us/step - loss: nan\n",
      "Epoch 236/500\n",
      "965/965 [==============================] - 0s 19us/step - loss: nan\n",
      "Epoch 237/500\n",
      "965/965 [==============================] - 0s 20us/step - loss: nan\n",
      "Epoch 238/500\n",
      "965/965 [==============================] - 0s 19us/step - loss: nan\n",
      "Epoch 239/500\n",
      "965/965 [==============================] - 0s 24us/step - loss: nan\n",
      "Epoch 240/500\n",
      "965/965 [==============================] - 0s 28us/step - loss: nan\n",
      "Epoch 241/500\n",
      "965/965 [==============================] - 0s 24us/step - loss: nan\n",
      "Epoch 242/500\n",
      "965/965 [==============================] - 0s 26us/step - loss: nan\n",
      "Epoch 243/500\n",
      "965/965 [==============================] - 0s 26us/step - loss: nan\n",
      "Epoch 244/500\n",
      "965/965 [==============================] - 0s 22us/step - loss: nan\n",
      "Epoch 245/500\n",
      "965/965 [==============================] - 0s 20us/step - loss: nan\n",
      "Epoch 246/500\n",
      "965/965 [==============================] - 0s 19us/step - loss: nan\n",
      "Epoch 247/500\n",
      "965/965 [==============================] - 0s 24us/step - loss: nan\n",
      "Epoch 248/500\n",
      "965/965 [==============================] - 0s 31us/step - loss: nan\n",
      "Epoch 249/500\n",
      "965/965 [==============================] - 0s 24us/step - loss: nan\n",
      "Epoch 250/500\n",
      "965/965 [==============================] - 0s 27us/step - loss: nan\n",
      "Epoch 251/500\n",
      "965/965 [==============================] - 0s 24us/step - loss: nan\n",
      "Epoch 252/500\n",
      "965/965 [==============================] - 0s 23us/step - loss: nan\n",
      "Epoch 253/500\n",
      "965/965 [==============================] - 0s 20us/step - loss: nan\n",
      "Epoch 254/500\n",
      "965/965 [==============================] - 0s 19us/step - loss: nan\n",
      "Epoch 255/500\n",
      "965/965 [==============================] - 0s 22us/step - loss: nan\n",
      "Epoch 256/500\n",
      "965/965 [==============================] - 0s 26us/step - loss: nan\n",
      "Epoch 257/500\n",
      "965/965 [==============================] - 0s 24us/step - loss: nan\n",
      "Epoch 258/500\n",
      "965/965 [==============================] - 0s 21us/step - loss: nan\n",
      "Epoch 259/500\n",
      "965/965 [==============================] - 0s 19us/step - loss: nan\n",
      "Epoch 260/500\n",
      "965/965 [==============================] - 0s 19us/step - loss: nan\n",
      "Epoch 261/500\n",
      "965/965 [==============================] - 0s 19us/step - loss: nan\n",
      "Epoch 262/500\n",
      "965/965 [==============================] - 0s 19us/step - loss: nan\n",
      "Epoch 263/500\n",
      "965/965 [==============================] - 0s 20us/step - loss: nan\n",
      "Epoch 264/500\n",
      "965/965 [==============================] - 0s 21us/step - loss: nan\n",
      "Epoch 265/500\n",
      "965/965 [==============================] - 0s 28us/step - loss: nan\n",
      "Epoch 266/500\n",
      "965/965 [==============================] - 0s 25us/step - loss: nan\n",
      "Epoch 267/500\n",
      "965/965 [==============================] - 0s 23us/step - loss: nan\n",
      "Epoch 268/500\n",
      "965/965 [==============================] - 0s 24us/step - loss: nan\n",
      "Epoch 269/500\n",
      "965/965 [==============================] - 0s 28us/step - loss: nan\n",
      "Epoch 270/500\n",
      "965/965 [==============================] - 0s 25us/step - loss: nan\n",
      "Epoch 271/500\n",
      "965/965 [==============================] - 0s 26us/step - loss: nan\n",
      "Epoch 272/500\n",
      "965/965 [==============================] - 0s 26us/step - loss: nan\n",
      "Epoch 273/500\n",
      "965/965 [==============================] - 0s 28us/step - loss: nan\n",
      "Epoch 274/500\n",
      "965/965 [==============================] - 0s 26us/step - loss: nan\n",
      "Epoch 275/500\n",
      "965/965 [==============================] - 0s 25us/step - loss: nan\n",
      "Epoch 276/500\n",
      "965/965 [==============================] - 0s 24us/step - loss: nan\n",
      "Epoch 277/500\n",
      "965/965 [==============================] - 0s 23us/step - loss: nan\n",
      "Epoch 278/500\n",
      "965/965 [==============================] - 0s 20us/step - loss: nan\n",
      "Epoch 279/500\n",
      "965/965 [==============================] - 0s 20us/step - loss: nan\n",
      "Epoch 280/500\n",
      "965/965 [==============================] - 0s 19us/step - loss: nan\n",
      "Epoch 281/500\n",
      "965/965 [==============================] - 0s 19us/step - loss: nan\n",
      "Epoch 282/500\n",
      "965/965 [==============================] - 0s 19us/step - loss: nan\n",
      "Epoch 283/500\n",
      "965/965 [==============================] - 0s 24us/step - loss: nan\n",
      "Epoch 284/500\n",
      "965/965 [==============================] - 0s 28us/step - loss: nan\n",
      "Epoch 285/500\n",
      "965/965 [==============================] - 0s 24us/step - loss: nan\n",
      "Epoch 286/500\n",
      "965/965 [==============================] - 0s 23us/step - loss: nan\n",
      "Epoch 287/500\n",
      "965/965 [==============================] - 0s 27us/step - loss: nan\n",
      "Epoch 288/500\n",
      "965/965 [==============================] - 0s 22us/step - loss: nan\n",
      "Epoch 289/500\n",
      "965/965 [==============================] - 0s 21us/step - loss: nan\n",
      "Epoch 290/500\n",
      "965/965 [==============================] - 0s 21us/step - loss: nan\n",
      "Epoch 291/500\n",
      "965/965 [==============================] - 0s 21us/step - loss: nan\n",
      "Epoch 292/500\n",
      "965/965 [==============================] - 0s 22us/step - loss: nan\n",
      "Epoch 293/500\n",
      "965/965 [==============================] - 0s 25us/step - loss: nan\n",
      "Epoch 294/500\n",
      "965/965 [==============================] - 0s 23us/step - loss: nan\n",
      "Epoch 295/500\n",
      "965/965 [==============================] - 0s 20us/step - loss: nan\n",
      "Epoch 296/500\n",
      "965/965 [==============================] - 0s 20us/step - loss: nan\n",
      "Epoch 297/500\n",
      "965/965 [==============================] - 0s 19us/step - loss: nan\n",
      "Epoch 298/500\n",
      "965/965 [==============================] - 0s 20us/step - loss: nan\n",
      "Epoch 299/500\n",
      "965/965 [==============================] - 0s 26us/step - loss: nan\n",
      "Epoch 300/500\n",
      "965/965 [==============================] - 0s 24us/step - loss: nan\n",
      "Epoch 301/500\n",
      "965/965 [==============================] - 0s 20us/step - loss: nan\n",
      "Epoch 302/500\n"
     ]
    },
    {
     "name": "stdout",
     "output_type": "stream",
     "text": [
      "965/965 [==============================] - 0s 19us/step - loss: nan\n",
      "Epoch 303/500\n",
      "965/965 [==============================] - 0s 19us/step - loss: nan\n",
      "Epoch 304/500\n",
      "965/965 [==============================] - 0s 19us/step - loss: nan\n",
      "Epoch 305/500\n",
      "965/965 [==============================] - 0s 19us/step - loss: nan\n",
      "Epoch 306/500\n",
      "965/965 [==============================] - 0s 19us/step - loss: nan\n",
      "Epoch 307/500\n",
      "965/965 [==============================] - 0s 19us/step - loss: nan\n",
      "Epoch 308/500\n",
      "965/965 [==============================] - 0s 22us/step - loss: nan\n",
      "Epoch 309/500\n",
      "965/965 [==============================] - 0s 30us/step - loss: nan\n",
      "Epoch 310/500\n",
      "965/965 [==============================] - 0s 24us/step - loss: nan\n",
      "Epoch 311/500\n",
      "965/965 [==============================] - 0s 23us/step - loss: nan\n",
      "Epoch 312/500\n",
      "965/965 [==============================] - 0s 24us/step - loss: nan\n",
      "Epoch 313/500\n",
      "965/965 [==============================] - 0s 29us/step - loss: nan\n",
      "Epoch 314/500\n",
      "965/965 [==============================] - 0s 29us/step - loss: nan\n",
      "Epoch 315/500\n",
      "965/965 [==============================] - 0s 25us/step - loss: nan\n",
      "Epoch 316/500\n",
      "965/965 [==============================] - 0s 26us/step - loss: nan\n",
      "Epoch 317/500\n",
      "965/965 [==============================] - 0s 25us/step - loss: nan\n",
      "Epoch 318/500\n",
      "965/965 [==============================] - 0s 28us/step - loss: nan\n",
      "Epoch 319/500\n",
      "965/965 [==============================] - 0s 24us/step - loss: nan\n",
      "Epoch 320/500\n",
      "965/965 [==============================] - 0s 23us/step - loss: nan\n",
      "Epoch 321/500\n",
      "965/965 [==============================] - 0s 20us/step - loss: nan\n",
      "Epoch 322/500\n",
      "965/965 [==============================] - 0s 20us/step - loss: nan\n",
      "Epoch 323/500\n",
      "965/965 [==============================] - 0s 19us/step - loss: nan\n",
      "Epoch 324/500\n",
      "965/965 [==============================] - 0s 19us/step - loss: nan\n",
      "Epoch 325/500\n",
      "965/965 [==============================] - 0s 19us/step - loss: nan\n",
      "Epoch 326/500\n",
      "965/965 [==============================] - 0s 26us/step - loss: nan\n",
      "Epoch 327/500\n",
      "965/965 [==============================] - 0s 26us/step - loss: nan\n",
      "Epoch 328/500\n",
      "965/965 [==============================] - 0s 24us/step - loss: nan\n",
      "Epoch 329/500\n",
      "965/965 [==============================] - 0s 27us/step - loss: nan\n",
      "Epoch 330/500\n",
      "965/965 [==============================] - 0s 24us/step - loss: nan\n",
      "Epoch 331/500\n",
      "965/965 [==============================] - 0s 22us/step - loss: nan\n",
      "Epoch 332/500\n",
      "965/965 [==============================] - 0s 20us/step - loss: nan\n",
      "Epoch 333/500\n",
      "965/965 [==============================] - 0s 20us/step - loss: nan\n",
      "Epoch 334/500\n",
      "965/965 [==============================] - 0s 20us/step - loss: nan\n",
      "Epoch 335/500\n",
      "965/965 [==============================] - 0s 21us/step - loss: nan\n",
      "Epoch 336/500\n",
      "965/965 [==============================] - 0s 24us/step - loss: nan\n",
      "Epoch 337/500\n",
      "965/965 [==============================] - 0s 24us/step - loss: nan\n",
      "Epoch 338/500\n",
      "965/965 [==============================] - 0s 22us/step - loss: nan\n",
      "Epoch 339/500\n",
      "965/965 [==============================] - 0s 23us/step - loss: nan\n",
      "Epoch 340/500\n",
      "965/965 [==============================] - 0s 24us/step - loss: nan\n",
      "Epoch 341/500\n",
      "965/965 [==============================] - 0s 24us/step - loss: nan\n",
      "Epoch 342/500\n",
      "965/965 [==============================] - 0s 22us/step - loss: nan\n",
      "Epoch 343/500\n",
      "965/965 [==============================] - 0s 20us/step - loss: nan\n",
      "Epoch 344/500\n",
      "965/965 [==============================] - 0s 19us/step - loss: nan\n",
      "Epoch 345/500\n",
      "965/965 [==============================] - 0s 19us/step - loss: nan\n",
      "Epoch 346/500\n",
      "965/965 [==============================] - 0s 19us/step - loss: nan\n",
      "Epoch 347/500\n",
      "965/965 [==============================] - 0s 19us/step - loss: nan\n",
      "Epoch 348/500\n",
      "965/965 [==============================] - 0s 20us/step - loss: nan\n",
      "Epoch 349/500\n",
      "965/965 [==============================] - 0s 23us/step - loss: nan\n",
      "Epoch 350/500\n",
      "965/965 [==============================] - 0s 26us/step - loss: nan\n",
      "Epoch 351/500\n",
      "965/965 [==============================] - 0s 25us/step - loss: nan\n",
      "Epoch 352/500\n",
      "965/965 [==============================] - 0s 22us/step - loss: nan\n",
      "Epoch 353/500\n",
      "965/965 [==============================] - 0s 25us/step - loss: nan\n",
      "Epoch 354/500\n",
      "965/965 [==============================] - 0s 27us/step - loss: nan\n",
      "Epoch 355/500\n",
      "965/965 [==============================] - 0s 27us/step - loss: nan\n",
      "Epoch 356/500\n",
      "965/965 [==============================] - 0s 25us/step - loss: nan\n",
      "Epoch 357/500\n",
      "965/965 [==============================] - 0s 26us/step - loss: nan\n",
      "Epoch 358/500\n",
      "965/965 [==============================] - 0s 26us/step - loss: nan\n",
      "Epoch 359/500\n",
      "965/965 [==============================] - 0s 27us/step - loss: nan\n",
      "Epoch 360/500\n",
      "965/965 [==============================] - 0s 23us/step - loss: nan\n",
      "Epoch 361/500\n",
      "965/965 [==============================] - 0s 23us/step - loss: nan\n",
      "Epoch 362/500\n",
      "965/965 [==============================] - 0s 21us/step - loss: nan\n",
      "Epoch 363/500\n",
      "965/965 [==============================] - 0s 19us/step - loss: nan\n",
      "Epoch 364/500\n",
      "965/965 [==============================] - 0s 19us/step - loss: nan\n",
      "Epoch 365/500\n",
      "965/965 [==============================] - 0s 19us/step - loss: nan\n",
      "Epoch 366/500\n",
      "965/965 [==============================] - 0s 19us/step - loss: nan\n",
      "Epoch 367/500\n",
      "965/965 [==============================] - 0s 24us/step - loss: nan\n",
      "Epoch 368/500\n",
      "965/965 [==============================] - 0s 29us/step - loss: nan\n",
      "Epoch 369/500\n",
      "965/965 [==============================] - 0s 25us/step - loss: nan\n",
      "Epoch 370/500\n",
      "965/965 [==============================] - 0s 23us/step - loss: nan\n",
      "Epoch 371/500\n",
      "965/965 [==============================] - 0s 26us/step - loss: nan\n",
      "Epoch 372/500\n",
      "965/965 [==============================] - 0s 24us/step - loss: nan\n",
      "Epoch 373/500\n",
      "965/965 [==============================] - 0s 23us/step - loss: nan\n",
      "Epoch 374/500\n",
      "965/965 [==============================] - 0s 20us/step - loss: nan\n",
      "Epoch 375/500\n",
      "965/965 [==============================] - 0s 21us/step - loss: nan\n",
      "Epoch 376/500\n",
      "965/965 [==============================] - 0s 21us/step - loss: nan\n",
      "Epoch 377/500\n",
      "965/965 [==============================] - 0s 27us/step - loss: nan\n",
      "Epoch 378/500\n",
      "965/965 [==============================] - 0s 22us/step - loss: nan\n",
      "Epoch 379/500\n",
      "965/965 [==============================] - 0s 20us/step - loss: nan\n",
      "Epoch 380/500\n",
      "965/965 [==============================] - 0s 19us/step - loss: nan\n",
      "Epoch 381/500\n",
      "965/965 [==============================] - 0s 20us/step - loss: nan\n",
      "Epoch 382/500\n",
      "965/965 [==============================] - 0s 27us/step - loss: nan\n",
      "Epoch 383/500\n",
      "965/965 [==============================] - 0s 26us/step - loss: nan\n",
      "Epoch 384/500\n",
      "965/965 [==============================] - 0s 22us/step - loss: nan\n",
      "Epoch 385/500\n",
      "965/965 [==============================] - 0s 19us/step - loss: nan\n",
      "Epoch 386/500\n",
      "965/965 [==============================] - 0s 20us/step - loss: nan\n",
      "Epoch 387/500\n",
      "965/965 [==============================] - 0s 19us/step - loss: nan\n",
      "Epoch 388/500\n",
      "965/965 [==============================] - 0s 19us/step - loss: nan\n",
      "Epoch 389/500\n",
      "965/965 [==============================] - 0s 19us/step - loss: nan\n",
      "Epoch 390/500\n",
      "965/965 [==============================] - 0s 19us/step - loss: nan\n",
      "Epoch 391/500\n",
      "965/965 [==============================] - 0s 19us/step - loss: nan\n",
      "Epoch 392/500\n",
      "965/965 [==============================] - 0s 20us/step - loss: nan\n",
      "Epoch 393/500\n",
      "965/965 [==============================] - 0s 28us/step - loss: nan\n",
      "Epoch 394/500\n",
      "965/965 [==============================] - 0s 25us/step - loss: nan\n",
      "Epoch 395/500\n",
      "965/965 [==============================] - 0s 23us/step - loss: nan\n",
      "Epoch 396/500\n",
      "965/965 [==============================] - 0s 24us/step - loss: nan\n",
      "Epoch 397/500\n",
      "965/965 [==============================] - 0s 27us/step - loss: nan\n",
      "Epoch 398/500\n",
      "965/965 [==============================] - 0s 26us/step - loss: nan\n",
      "Epoch 399/500\n",
      "965/965 [==============================] - 0s 24us/step - loss: nan\n",
      "Epoch 400/500\n",
      "965/965 [==============================] - 0s 25us/step - loss: nan\n",
      "Epoch 401/500\n",
      "965/965 [==============================] - 0s 26us/step - loss: nan\n",
      "Epoch 402/500\n"
     ]
    },
    {
     "name": "stdout",
     "output_type": "stream",
     "text": [
      "965/965 [==============================] - 0s 26us/step - loss: nan\n",
      "Epoch 403/500\n",
      "965/965 [==============================] - 0s 25us/step - loss: nan\n",
      "Epoch 404/500\n",
      "965/965 [==============================] - 0s 25us/step - loss: nan\n",
      "Epoch 405/500\n",
      "965/965 [==============================] - 0s 24us/step - loss: nan\n",
      "Epoch 406/500\n",
      "965/965 [==============================] - 0s 23us/step - loss: nan\n",
      "Epoch 407/500\n",
      "965/965 [==============================] - 0s 21us/step - loss: nan\n",
      "Epoch 408/500\n",
      "965/965 [==============================] - 0s 20us/step - loss: nan\n",
      "Epoch 409/500\n",
      "965/965 [==============================] - 0s 19us/step - loss: nan\n",
      "Epoch 410/500\n",
      "965/965 [==============================] - 0s 19us/step - loss: nan\n",
      "Epoch 411/500\n",
      "965/965 [==============================] - 0s 21us/step - loss: nan\n",
      "Epoch 412/500\n",
      "965/965 [==============================] - 0s 21us/step - loss: nan\n",
      "Epoch 413/500\n",
      "965/965 [==============================] - 0s 29us/step - loss: nan\n",
      "Epoch 414/500\n",
      "965/965 [==============================] - 0s 24us/step - loss: nan\n",
      "Epoch 415/500\n",
      "965/965 [==============================] - 0s 23us/step - loss: nan\n",
      "Epoch 416/500\n",
      "965/965 [==============================] - 0s 26us/step - loss: nan\n",
      "Epoch 417/500\n",
      "965/965 [==============================] - 0s 24us/step - loss: nan\n",
      "Epoch 418/500\n",
      "965/965 [==============================] - 0s 21us/step - loss: nan\n",
      "Epoch 419/500\n",
      "965/965 [==============================] - 0s 20us/step - loss: nan\n",
      "Epoch 420/500\n",
      "965/965 [==============================] - 0s 19us/step - loss: nan\n",
      "Epoch 421/500\n",
      "965/965 [==============================] - 0s 24us/step - loss: nan\n",
      "Epoch 422/500\n",
      "965/965 [==============================] - 0s 25us/step - loss: nan\n",
      "Epoch 423/500\n",
      "965/965 [==============================] - 0s 21us/step - loss: nan\n",
      "Epoch 424/500\n",
      "965/965 [==============================] - 0s 20us/step - loss: nan\n",
      "Epoch 425/500\n",
      "965/965 [==============================] - 0s 19us/step - loss: nan\n",
      "Epoch 426/500\n",
      "965/965 [==============================] - 0s 25us/step - loss: nan\n",
      "Epoch 427/500\n",
      "965/965 [==============================] - 0s 25us/step - loss: nan\n",
      "Epoch 428/500\n",
      "965/965 [==============================] - 0s 22us/step - loss: nan\n",
      "Epoch 429/500\n",
      "965/965 [==============================] - 0s 21us/step - loss: nan\n",
      "Epoch 430/500\n",
      "965/965 [==============================] - 0s 19us/step - loss: nan\n",
      "Epoch 431/500\n",
      "965/965 [==============================] - 0s 19us/step - loss: nan\n",
      "Epoch 432/500\n",
      "965/965 [==============================] - 0s 19us/step - loss: nan\n",
      "Epoch 433/500\n",
      "965/965 [==============================] - 0s 19us/step - loss: nan\n",
      "Epoch 434/500\n",
      "965/965 [==============================] - 0s 20us/step - loss: nan\n",
      "Epoch 435/500\n",
      "965/965 [==============================] - 0s 21us/step - loss: nan\n",
      "Epoch 436/500\n",
      "965/965 [==============================] - 0s 28us/step - loss: nan\n",
      "Epoch 437/500\n",
      "965/965 [==============================] - 0s 25us/step - loss: nan\n",
      "Epoch 438/500\n",
      "965/965 [==============================] - 0s 23us/step - loss: nan\n",
      "Epoch 439/500\n",
      "965/965 [==============================] - 0s 27us/step - loss: nan\n",
      "Epoch 440/500\n",
      "965/965 [==============================] - 0s 28us/step - loss: nan\n",
      "Epoch 441/500\n",
      "965/965 [==============================] - 0s 25us/step - loss: nan\n",
      "Epoch 442/500\n",
      "965/965 [==============================] - 0s 27us/step - loss: nan\n",
      "Epoch 443/500\n",
      "965/965 [==============================] - 0s 27us/step - loss: nan\n",
      "Epoch 444/500\n",
      "965/965 [==============================] - 0s 27us/step - loss: nan\n",
      "Epoch 445/500\n",
      "965/965 [==============================] - 0s 27us/step - loss: nan\n",
      "Epoch 446/500\n",
      "965/965 [==============================] - 0s 28us/step - loss: nan\n",
      "Epoch 447/500\n",
      "965/965 [==============================] - 0s 26us/step - loss: nan\n",
      "Epoch 448/500\n",
      "965/965 [==============================] - 0s 22us/step - loss: nan\n",
      "Epoch 449/500\n",
      "965/965 [==============================] - 0s 22us/step - loss: nan\n",
      "Epoch 450/500\n",
      "965/965 [==============================] - 0s 21us/step - loss: nan\n",
      "Epoch 451/500\n",
      "965/965 [==============================] - 0s 21us/step - loss: nan\n",
      "Epoch 452/500\n",
      "965/965 [==============================] - 0s 19us/step - loss: nan\n",
      "Epoch 453/500\n",
      "965/965 [==============================] - 0s 19us/step - loss: nan\n",
      "Epoch 454/500\n",
      "965/965 [==============================] - 0s 30us/step - loss: nan\n",
      "Epoch 455/500\n",
      "965/965 [==============================] - 0s 29us/step - loss: nan\n",
      "Epoch 456/500\n",
      "965/965 [==============================] - 0s 23us/step - loss: nan\n",
      "Epoch 457/500\n",
      "965/965 [==============================] - 0s 24us/step - loss: nan\n",
      "Epoch 458/500\n",
      "965/965 [==============================] - 0s 26us/step - loss: nan\n",
      "Epoch 459/500\n",
      "965/965 [==============================] - 0s 22us/step - loss: nan\n",
      "Epoch 460/500\n",
      "965/965 [==============================] - 0s 19us/step - loss: nan\n",
      "Epoch 461/500\n",
      "965/965 [==============================] - 0s 20us/step - loss: nan\n",
      "Epoch 462/500\n",
      "965/965 [==============================] - 0s 25us/step - loss: nan\n",
      "Epoch 463/500\n",
      "965/965 [==============================] - 0s 23us/step - loss: nan\n",
      "Epoch 464/500\n",
      "965/965 [==============================] - 0s 23us/step - loss: nan\n",
      "Epoch 465/500\n",
      "965/965 [==============================] - 0s 22us/step - loss: nan\n",
      "Epoch 466/500\n",
      "965/965 [==============================] - 0s 19us/step - loss: nan\n",
      "Epoch 467/500\n",
      "965/965 [==============================] - 0s 21us/step - loss: nan\n",
      "Epoch 468/500\n",
      "965/965 [==============================] - 0s 35us/step - loss: nan\n",
      "Epoch 469/500\n",
      "965/965 [==============================] - 0s 29us/step - loss: nan\n",
      "Epoch 470/500\n",
      "965/965 [==============================] - 0s 23us/step - loss: nan\n",
      "Epoch 471/500\n",
      "965/965 [==============================] - 0s 21us/step - loss: nan\n",
      "Epoch 472/500\n",
      "965/965 [==============================] - 0s 22us/step - loss: nan\n",
      "Epoch 473/500\n",
      "965/965 [==============================] - 0s 23us/step - loss: nan\n",
      "Epoch 474/500\n",
      "965/965 [==============================] - 0s 20us/step - loss: nan\n",
      "Epoch 475/500\n",
      "965/965 [==============================] - 0s 19us/step - loss: nan\n",
      "Epoch 476/500\n",
      "965/965 [==============================] - 0s 19us/step - loss: nan\n",
      "Epoch 477/500\n",
      "965/965 [==============================] - 0s 20us/step - loss: nan\n",
      "Epoch 478/500\n",
      "965/965 [==============================] - 0s 23us/step - loss: nan\n",
      "Epoch 479/500\n",
      "965/965 [==============================] - 0s 26us/step - loss: nan\n",
      "Epoch 480/500\n",
      "965/965 [==============================] - 0s 29us/step - loss: nan\n",
      "Epoch 481/500\n",
      "965/965 [==============================] - 0s 25us/step - loss: nan\n",
      "Epoch 482/500\n",
      "965/965 [==============================] - 0s 23us/step - loss: nan\n",
      "Epoch 483/500\n",
      "965/965 [==============================] - 0s 26us/step - loss: nan\n",
      "Epoch 484/500\n",
      "965/965 [==============================] - 0s 29us/step - loss: nan\n",
      "Epoch 485/500\n",
      "965/965 [==============================] - 0s 26us/step - loss: nan\n",
      "Epoch 486/500\n",
      "965/965 [==============================] - 0s 25us/step - loss: nan\n",
      "Epoch 487/500\n",
      "965/965 [==============================] - 0s 25us/step - loss: nan\n",
      "Epoch 488/500\n",
      "965/965 [==============================] - 0s 25us/step - loss: nan\n",
      "Epoch 489/500\n",
      "965/965 [==============================] - 0s 25us/step - loss: nan\n",
      "Epoch 490/500\n",
      "965/965 [==============================] - 0s 26us/step - loss: nan\n",
      "Epoch 491/500\n",
      "965/965 [==============================] - 0s 24us/step - loss: nan\n",
      "Epoch 492/500\n",
      "965/965 [==============================] - 0s 23us/step - loss: nan\n",
      "Epoch 493/500\n",
      "965/965 [==============================] - 0s 19us/step - loss: nan\n",
      "Epoch 494/500\n",
      "965/965 [==============================] - 0s 20us/step - loss: nan\n",
      "Epoch 495/500\n",
      "965/965 [==============================] - 0s 19us/step - loss: nan\n",
      "Epoch 496/500\n",
      "965/965 [==============================] - 0s 19us/step - loss: nan\n",
      "Epoch 497/500\n",
      "965/965 [==============================] - 0s 21us/step - loss: nan\n",
      "Epoch 498/500\n",
      "965/965 [==============================] - 0s 25us/step - loss: nan\n",
      "Epoch 499/500\n",
      "965/965 [==============================] - 0s 27us/step - loss: nan\n",
      "Epoch 500/500\n",
      "965/965 [==============================] - 0s 28us/step - loss: nan\n"
     ]
    }
   ],
   "source": [
    "import keras\n",
    "from keras.models import Sequential\n",
    "from keras.layers import Dense, Activation\n",
    "from keras.optimizers import SGD\n",
    "\n",
    "model = Sequential()\n",
    "model.add(Dense(1, input_shape=(10,), activation='linear'))\n",
    "model.compile(loss='mse', optimizer=SGD(lr=0.01))\n",
    "hist = model.fit(train_x.as_matrix(), train_y.as_matrix(), epochs=500, verbose=1)"
   ]
  },
  {
   "cell_type": "markdown",
   "metadata": {
    "slideshow": {
     "slide_type": "slide"
    }
   },
   "source": [
    "# 잘되지 않는 이유는 무엇일까?\n",
    "\n",
    "* 해당 모델은 다음과 같은 수식으로 정의 될 수 있음\n",
    "\n",
    "\\begin{align}\n",
    "h(x_1, x_2, x_3 \\dots x_{10}) = w_1x_1 + w_2x_2 + w_3x_3 + \\dots + w_{10}x_{10} + b \\nonumber\n",
    "\\end{align}\n",
    "\n",
    "* 각 $w$들은 대략 아주 크지 않은 숫자의 범위에서 초기값을 가짐\n",
    "* 예를 들어 다음과 같음\n",
    "\n",
    "\\begin{align}\n",
    "h(x_1, x_2, x_3 \\dots x_{10}) &= 0.1x_1 -2.2x_2 + 5.3x_3 + \\dots -5.3x_{10} + 0.5 \\nonumber\n",
    "\\end{align}"
   ]
  },
  {
   "cell_type": "markdown",
   "metadata": {
    "slideshow": {
     "slide_type": "subslide"
    }
   },
   "source": [
    "* 하지만, 어떤 데이터들의 경우 x간의 범위 차이가 수십배, 수천배가 날 수 있음\n",
    "* 예를들어 다음과 같음\n",
    "\n",
    "\\begin{align}\n",
    "h(x_1, x_2, x_3 \\dots x_{10}) &= w_10.5 + w_{2}2000 + w_{3}0.002312 + \\dots + w_{10}123125412 -2.432 \\nonumber\n",
    "\\end{align}\n",
    "\n",
    "* 수천배 이상 스케일을 가진 x의 weight가 반복적으로 증가하여 컴퓨터의 계산 범위를 초과하면 nan을 출력 할 수 있음\n",
    "* 이런 현상을 gradient exploding이라고 함\n",
    "* 여러가지 해결책 중 간단한 방법은 변수들의 스케일을 조정해주면 됨"
   ]
  },
  {
   "cell_type": "markdown",
   "metadata": {
    "slideshow": {
     "slide_type": "subslide"
    }
   },
   "source": [
    "# Min Max Normalize\n",
    "\n",
    "* 임의의 스케일을 가진 데이터에서 같은 도메인 기준으로 가장 작은 값과 가장 큰 값을 이용하여 0~1으로 범위를 변경하는 방법\n",
    "\n",
    "$$ norm({x_i}) = \\frac{x_i - x_{min}}{x_{max} - x_{min}} \\nonumber $$"
   ]
  },
  {
   "cell_type": "code",
   "execution_count": 57,
   "metadata": {
    "slideshow": {
     "slide_type": "fragment"
    }
   },
   "outputs": [],
   "source": [
    "def minmax_norm(x):\n",
    "    max_x = np.max(x)\n",
    "    min_x = np.min(x)\n",
    "    \n",
    "    return (x - min_x)/(max_x-min_x)"
   ]
  },
  {
   "cell_type": "code",
   "execution_count": 58,
   "metadata": {
    "slideshow": {
     "slide_type": "fragment"
    }
   },
   "outputs": [
    {
     "name": "stdout",
     "output_type": "stream",
     "text": [
      "[0.   0.25 0.5  0.75 1.  ]\n"
     ]
    }
   ],
   "source": [
    "print(minmax_norm([1,2,3,4,5]))"
   ]
  },
  {
   "cell_type": "code",
   "execution_count": 59,
   "metadata": {
    "slideshow": {
     "slide_type": "subslide"
    }
   },
   "outputs": [
    {
     "data": {
      "text/html": [
       "<div>\n",
       "<style scoped>\n",
       "    .dataframe tbody tr th:only-of-type {\n",
       "        vertical-align: middle;\n",
       "    }\n",
       "\n",
       "    .dataframe tbody tr th {\n",
       "        vertical-align: top;\n",
       "    }\n",
       "\n",
       "    .dataframe thead th {\n",
       "        text-align: right;\n",
       "    }\n",
       "</style>\n",
       "<table border=\"1\" class=\"dataframe\">\n",
       "  <thead>\n",
       "    <tr style=\"text-align: right;\">\n",
       "      <th></th>\n",
       "      <th>OverallQual</th>\n",
       "      <th>YearBuilt</th>\n",
       "      <th>YearRemodAdd</th>\n",
       "      <th>TotalBsmtSF</th>\n",
       "      <th>1stFlrSF</th>\n",
       "      <th>GrLivArea</th>\n",
       "      <th>FullBath</th>\n",
       "      <th>TotRmsAbvGrd</th>\n",
       "      <th>GarageCars</th>\n",
       "      <th>GarageArea</th>\n",
       "    </tr>\n",
       "  </thead>\n",
       "  <tbody>\n",
       "    <tr>\n",
       "      <th>655</th>\n",
       "      <td>6</td>\n",
       "      <td>1971</td>\n",
       "      <td>1971</td>\n",
       "      <td>525</td>\n",
       "      <td>525</td>\n",
       "      <td>1092</td>\n",
       "      <td>1</td>\n",
       "      <td>6</td>\n",
       "      <td>1</td>\n",
       "      <td>264</td>\n",
       "    </tr>\n",
       "    <tr>\n",
       "      <th>1217</th>\n",
       "      <td>8</td>\n",
       "      <td>2009</td>\n",
       "      <td>2009</td>\n",
       "      <td>1300</td>\n",
       "      <td>1314</td>\n",
       "      <td>1314</td>\n",
       "      <td>2</td>\n",
       "      <td>6</td>\n",
       "      <td>2</td>\n",
       "      <td>552</td>\n",
       "    </tr>\n",
       "    <tr>\n",
       "      <th>518</th>\n",
       "      <td>6</td>\n",
       "      <td>1998</td>\n",
       "      <td>1998</td>\n",
       "      <td>794</td>\n",
       "      <td>882</td>\n",
       "      <td>1796</td>\n",
       "      <td>2</td>\n",
       "      <td>7</td>\n",
       "      <td>2</td>\n",
       "      <td>546</td>\n",
       "    </tr>\n",
       "    <tr>\n",
       "      <th>1366</th>\n",
       "      <td>7</td>\n",
       "      <td>1999</td>\n",
       "      <td>1999</td>\n",
       "      <td>873</td>\n",
       "      <td>882</td>\n",
       "      <td>1790</td>\n",
       "      <td>2</td>\n",
       "      <td>7</td>\n",
       "      <td>2</td>\n",
       "      <td>588</td>\n",
       "    </tr>\n",
       "    <tr>\n",
       "      <th>355</th>\n",
       "      <td>6</td>\n",
       "      <td>1995</td>\n",
       "      <td>1995</td>\n",
       "      <td>1200</td>\n",
       "      <td>1200</td>\n",
       "      <td>1200</td>\n",
       "      <td>2</td>\n",
       "      <td>6</td>\n",
       "      <td>2</td>\n",
       "      <td>521</td>\n",
       "    </tr>\n",
       "  </tbody>\n",
       "</table>\n",
       "</div>"
      ],
      "text/plain": [
       "      OverallQual  YearBuilt  YearRemodAdd  TotalBsmtSF  1stFlrSF  GrLivArea  \\\n",
       "655             6       1971          1971          525       525       1092   \n",
       "1217            8       2009          2009         1300      1314       1314   \n",
       "518             6       1998          1998          794       882       1796   \n",
       "1366            7       1999          1999          873       882       1790   \n",
       "355             6       1995          1995         1200      1200       1200   \n",
       "\n",
       "      FullBath  TotRmsAbvGrd  GarageCars  GarageArea  \n",
       "655          1             6           1         264  \n",
       "1217         2             6           2         552  \n",
       "518          2             7           2         546  \n",
       "1366         2             7           2         588  \n",
       "355          2             6           2         521  "
      ]
     },
     "execution_count": 59,
     "metadata": {},
     "output_type": "execute_result"
    }
   ],
   "source": [
    "#x의 데이터를 출력해봄\n",
    "train_x.head(5)"
   ]
  },
  {
   "cell_type": "code",
   "execution_count": 60,
   "metadata": {},
   "outputs": [
    {
     "data": {
      "text/html": [
       "<div>\n",
       "<style scoped>\n",
       "    .dataframe tbody tr th:only-of-type {\n",
       "        vertical-align: middle;\n",
       "    }\n",
       "\n",
       "    .dataframe tbody tr th {\n",
       "        vertical-align: top;\n",
       "    }\n",
       "\n",
       "    .dataframe thead th {\n",
       "        text-align: right;\n",
       "    }\n",
       "</style>\n",
       "<table border=\"1\" class=\"dataframe\">\n",
       "  <thead>\n",
       "    <tr style=\"text-align: right;\">\n",
       "      <th></th>\n",
       "      <th>OverallQual</th>\n",
       "      <th>YearBuilt</th>\n",
       "      <th>YearRemodAdd</th>\n",
       "      <th>TotalBsmtSF</th>\n",
       "      <th>1stFlrSF</th>\n",
       "      <th>GrLivArea</th>\n",
       "      <th>FullBath</th>\n",
       "      <th>TotRmsAbvGrd</th>\n",
       "      <th>GarageCars</th>\n",
       "      <th>GarageArea</th>\n",
       "    </tr>\n",
       "  </thead>\n",
       "  <tbody>\n",
       "    <tr>\n",
       "      <th>655</th>\n",
       "      <td>0.500</td>\n",
       "      <td>0.705426</td>\n",
       "      <td>0.350000</td>\n",
       "      <td>0.085925</td>\n",
       "      <td>0.020451</td>\n",
       "      <td>0.125673</td>\n",
       "      <td>0.333333</td>\n",
       "      <td>0.333333</td>\n",
       "      <td>0.000000</td>\n",
       "      <td>0.082671</td>\n",
       "    </tr>\n",
       "    <tr>\n",
       "      <th>1217</th>\n",
       "      <td>0.750</td>\n",
       "      <td>1.000000</td>\n",
       "      <td>0.983333</td>\n",
       "      <td>0.212766</td>\n",
       "      <td>0.205924</td>\n",
       "      <td>0.168332</td>\n",
       "      <td>0.666667</td>\n",
       "      <td>0.333333</td>\n",
       "      <td>0.333333</td>\n",
       "      <td>0.311606</td>\n",
       "    </tr>\n",
       "    <tr>\n",
       "      <th>518</th>\n",
       "      <td>0.500</td>\n",
       "      <td>0.914729</td>\n",
       "      <td>0.800000</td>\n",
       "      <td>0.129951</td>\n",
       "      <td>0.104372</td>\n",
       "      <td>0.260953</td>\n",
       "      <td>0.666667</td>\n",
       "      <td>0.444444</td>\n",
       "      <td>0.333333</td>\n",
       "      <td>0.306836</td>\n",
       "    </tr>\n",
       "    <tr>\n",
       "      <th>1366</th>\n",
       "      <td>0.625</td>\n",
       "      <td>0.922481</td>\n",
       "      <td>0.816667</td>\n",
       "      <td>0.142881</td>\n",
       "      <td>0.104372</td>\n",
       "      <td>0.259800</td>\n",
       "      <td>0.666667</td>\n",
       "      <td>0.444444</td>\n",
       "      <td>0.333333</td>\n",
       "      <td>0.340223</td>\n",
       "    </tr>\n",
       "    <tr>\n",
       "      <th>355</th>\n",
       "      <td>0.500</td>\n",
       "      <td>0.891473</td>\n",
       "      <td>0.750000</td>\n",
       "      <td>0.196399</td>\n",
       "      <td>0.179126</td>\n",
       "      <td>0.146426</td>\n",
       "      <td>0.666667</td>\n",
       "      <td>0.333333</td>\n",
       "      <td>0.333333</td>\n",
       "      <td>0.286963</td>\n",
       "    </tr>\n",
       "  </tbody>\n",
       "</table>\n",
       "</div>"
      ],
      "text/plain": [
       "      OverallQual  YearBuilt  YearRemodAdd  TotalBsmtSF  1stFlrSF  GrLivArea  \\\n",
       "655         0.500   0.705426      0.350000     0.085925  0.020451   0.125673   \n",
       "1217        0.750   1.000000      0.983333     0.212766  0.205924   0.168332   \n",
       "518         0.500   0.914729      0.800000     0.129951  0.104372   0.260953   \n",
       "1366        0.625   0.922481      0.816667     0.142881  0.104372   0.259800   \n",
       "355         0.500   0.891473      0.750000     0.196399  0.179126   0.146426   \n",
       "\n",
       "      FullBath  TotRmsAbvGrd  GarageCars  GarageArea  \n",
       "655   0.333333      0.333333    0.000000    0.082671  \n",
       "1217  0.666667      0.333333    0.333333    0.311606  \n",
       "518   0.666667      0.444444    0.333333    0.306836  \n",
       "1366  0.666667      0.444444    0.333333    0.340223  \n",
       "355   0.666667      0.333333    0.333333    0.286963  "
      ]
     },
     "execution_count": 60,
     "metadata": {},
     "output_type": "execute_result"
    }
   ],
   "source": [
    "#norm된 x의 데이터를 출력해봄\n",
    "train_x.apply(minmax_norm, axis=0).head(5)"
   ]
  },
  {
   "cell_type": "code",
   "execution_count": 61,
   "metadata": {
    "slideshow": {
     "slide_type": "fragment"
    }
   },
   "outputs": [
    {
     "data": {
      "text/html": [
       "<div>\n",
       "<style scoped>\n",
       "    .dataframe tbody tr th:only-of-type {\n",
       "        vertical-align: middle;\n",
       "    }\n",
       "\n",
       "    .dataframe tbody tr th {\n",
       "        vertical-align: top;\n",
       "    }\n",
       "\n",
       "    .dataframe thead th {\n",
       "        text-align: right;\n",
       "    }\n",
       "</style>\n",
       "<table border=\"1\" class=\"dataframe\">\n",
       "  <thead>\n",
       "    <tr style=\"text-align: right;\">\n",
       "      <th></th>\n",
       "      <th>SalePrice</th>\n",
       "    </tr>\n",
       "  </thead>\n",
       "  <tbody>\n",
       "    <tr>\n",
       "      <th>655</th>\n",
       "      <td>88000</td>\n",
       "    </tr>\n",
       "    <tr>\n",
       "      <th>1217</th>\n",
       "      <td>229456</td>\n",
       "    </tr>\n",
       "    <tr>\n",
       "      <th>518</th>\n",
       "      <td>211000</td>\n",
       "    </tr>\n",
       "    <tr>\n",
       "      <th>1366</th>\n",
       "      <td>193000</td>\n",
       "    </tr>\n",
       "    <tr>\n",
       "      <th>355</th>\n",
       "      <td>177500</td>\n",
       "    </tr>\n",
       "  </tbody>\n",
       "</table>\n",
       "</div>"
      ],
      "text/plain": [
       "      SalePrice\n",
       "655       88000\n",
       "1217     229456\n",
       "518      211000\n",
       "1366     193000\n",
       "355      177500"
      ]
     },
     "execution_count": 61,
     "metadata": {},
     "output_type": "execute_result"
    }
   ],
   "source": [
    "#y의 데이터를 출력해봄\n",
    "train_y.head(5)"
   ]
  },
  {
   "cell_type": "code",
   "execution_count": 62,
   "metadata": {},
   "outputs": [
    {
     "data": {
      "text/html": [
       "<div>\n",
       "<style scoped>\n",
       "    .dataframe tbody tr th:only-of-type {\n",
       "        vertical-align: middle;\n",
       "    }\n",
       "\n",
       "    .dataframe tbody tr th {\n",
       "        vertical-align: top;\n",
       "    }\n",
       "\n",
       "    .dataframe thead th {\n",
       "        text-align: right;\n",
       "    }\n",
       "</style>\n",
       "<table border=\"1\" class=\"dataframe\">\n",
       "  <thead>\n",
       "    <tr style=\"text-align: right;\">\n",
       "      <th></th>\n",
       "      <th>SalePrice</th>\n",
       "    </tr>\n",
       "  </thead>\n",
       "  <tbody>\n",
       "    <tr>\n",
       "      <th>655</th>\n",
       "      <td>0.073211</td>\n",
       "    </tr>\n",
       "    <tr>\n",
       "      <th>1217</th>\n",
       "      <td>0.269762</td>\n",
       "    </tr>\n",
       "    <tr>\n",
       "      <th>518</th>\n",
       "      <td>0.244118</td>\n",
       "    </tr>\n",
       "    <tr>\n",
       "      <th>1366</th>\n",
       "      <td>0.219107</td>\n",
       "    </tr>\n",
       "    <tr>\n",
       "      <th>355</th>\n",
       "      <td>0.197570</td>\n",
       "    </tr>\n",
       "  </tbody>\n",
       "</table>\n",
       "</div>"
      ],
      "text/plain": [
       "      SalePrice\n",
       "655    0.073211\n",
       "1217   0.269762\n",
       "518    0.244118\n",
       "1366   0.219107\n",
       "355    0.197570"
      ]
     },
     "execution_count": 62,
     "metadata": {},
     "output_type": "execute_result"
    }
   ],
   "source": [
    "#norm된 y의 데이터를 출력해봄\n",
    "train_y.apply(minmax_norm, axis=0).head(5)"
   ]
  },
  {
   "cell_type": "code",
   "execution_count": 63,
   "metadata": {
    "slideshow": {
     "slide_type": "subslide"
    }
   },
   "outputs": [
    {
     "data": {
      "text/plain": [
       "MinMaxScaler(copy=True, feature_range=(0, 1))"
      ]
     },
     "execution_count": 63,
     "metadata": {},
     "output_type": "execute_result"
    }
   ],
   "source": [
    "#MinMaxScaler는 각 변수를 row별로 분석하여 최대 값으로 현재 값을 나눠주어 0~1사이로 값을 변경함\n",
    "from sklearn.preprocessing import MinMaxScaler\n",
    "minmaxer_x = MinMaxScaler()\n",
    "minmaxer_y = MinMaxScaler()\n",
    "minmaxer_x.fit(train_x)\n",
    "minmaxer_y.fit(train_y)"
   ]
  },
  {
   "cell_type": "code",
   "execution_count": 64,
   "metadata": {
    "slideshow": {
     "slide_type": "fragment"
    }
   },
   "outputs": [],
   "source": [
    "columns_x = train_x.columns\n",
    "columns_y = train_y.columns\n",
    "train_x = minmaxer_x.transform(train_x)\n",
    "train_x = pd.DataFrame(train_x, columns=columns_x)\n",
    "train_y = minmaxer_y.transform(train_y)\n",
    "train_y = pd.DataFrame(train_y, columns=columns_y)"
   ]
  },
  {
   "cell_type": "code",
   "execution_count": 65,
   "metadata": {
    "slideshow": {
     "slide_type": "subslide"
    }
   },
   "outputs": [
    {
     "data": {
      "text/html": [
       "<div>\n",
       "<style scoped>\n",
       "    .dataframe tbody tr th:only-of-type {\n",
       "        vertical-align: middle;\n",
       "    }\n",
       "\n",
       "    .dataframe tbody tr th {\n",
       "        vertical-align: top;\n",
       "    }\n",
       "\n",
       "    .dataframe thead th {\n",
       "        text-align: right;\n",
       "    }\n",
       "</style>\n",
       "<table border=\"1\" class=\"dataframe\">\n",
       "  <thead>\n",
       "    <tr style=\"text-align: right;\">\n",
       "      <th></th>\n",
       "      <th>OverallQual</th>\n",
       "      <th>YearBuilt</th>\n",
       "      <th>YearRemodAdd</th>\n",
       "      <th>TotalBsmtSF</th>\n",
       "      <th>1stFlrSF</th>\n",
       "      <th>GrLivArea</th>\n",
       "      <th>FullBath</th>\n",
       "      <th>TotRmsAbvGrd</th>\n",
       "      <th>GarageCars</th>\n",
       "      <th>GarageArea</th>\n",
       "    </tr>\n",
       "  </thead>\n",
       "  <tbody>\n",
       "    <tr>\n",
       "      <th>0</th>\n",
       "      <td>0.500</td>\n",
       "      <td>0.705426</td>\n",
       "      <td>0.350000</td>\n",
       "      <td>0.085925</td>\n",
       "      <td>0.020451</td>\n",
       "      <td>0.125673</td>\n",
       "      <td>0.333333</td>\n",
       "      <td>0.333333</td>\n",
       "      <td>0.000000</td>\n",
       "      <td>0.082671</td>\n",
       "    </tr>\n",
       "    <tr>\n",
       "      <th>1</th>\n",
       "      <td>0.750</td>\n",
       "      <td>1.000000</td>\n",
       "      <td>0.983333</td>\n",
       "      <td>0.212766</td>\n",
       "      <td>0.205924</td>\n",
       "      <td>0.168332</td>\n",
       "      <td>0.666667</td>\n",
       "      <td>0.333333</td>\n",
       "      <td>0.333333</td>\n",
       "      <td>0.311606</td>\n",
       "    </tr>\n",
       "    <tr>\n",
       "      <th>2</th>\n",
       "      <td>0.500</td>\n",
       "      <td>0.914729</td>\n",
       "      <td>0.800000</td>\n",
       "      <td>0.129951</td>\n",
       "      <td>0.104372</td>\n",
       "      <td>0.260953</td>\n",
       "      <td>0.666667</td>\n",
       "      <td>0.444444</td>\n",
       "      <td>0.333333</td>\n",
       "      <td>0.306836</td>\n",
       "    </tr>\n",
       "    <tr>\n",
       "      <th>3</th>\n",
       "      <td>0.625</td>\n",
       "      <td>0.922481</td>\n",
       "      <td>0.816667</td>\n",
       "      <td>0.142881</td>\n",
       "      <td>0.104372</td>\n",
       "      <td>0.259800</td>\n",
       "      <td>0.666667</td>\n",
       "      <td>0.444444</td>\n",
       "      <td>0.333333</td>\n",
       "      <td>0.340223</td>\n",
       "    </tr>\n",
       "    <tr>\n",
       "      <th>4</th>\n",
       "      <td>0.500</td>\n",
       "      <td>0.891473</td>\n",
       "      <td>0.750000</td>\n",
       "      <td>0.196399</td>\n",
       "      <td>0.179126</td>\n",
       "      <td>0.146426</td>\n",
       "      <td>0.666667</td>\n",
       "      <td>0.333333</td>\n",
       "      <td>0.333333</td>\n",
       "      <td>0.286963</td>\n",
       "    </tr>\n",
       "  </tbody>\n",
       "</table>\n",
       "</div>"
      ],
      "text/plain": [
       "   OverallQual  YearBuilt  YearRemodAdd  TotalBsmtSF  1stFlrSF  GrLivArea  \\\n",
       "0        0.500   0.705426      0.350000     0.085925  0.020451   0.125673   \n",
       "1        0.750   1.000000      0.983333     0.212766  0.205924   0.168332   \n",
       "2        0.500   0.914729      0.800000     0.129951  0.104372   0.260953   \n",
       "3        0.625   0.922481      0.816667     0.142881  0.104372   0.259800   \n",
       "4        0.500   0.891473      0.750000     0.196399  0.179126   0.146426   \n",
       "\n",
       "   FullBath  TotRmsAbvGrd  GarageCars  GarageArea  \n",
       "0  0.333333      0.333333    0.000000    0.082671  \n",
       "1  0.666667      0.333333    0.333333    0.311606  \n",
       "2  0.666667      0.444444    0.333333    0.306836  \n",
       "3  0.666667      0.444444    0.333333    0.340223  \n",
       "4  0.666667      0.333333    0.333333    0.286963  "
      ]
     },
     "execution_count": 65,
     "metadata": {},
     "output_type": "execute_result"
    }
   ],
   "source": [
    "#x의 데이터를 출력해봄\n",
    "train_x.head(5)"
   ]
  },
  {
   "cell_type": "code",
   "execution_count": 66,
   "metadata": {
    "slideshow": {
     "slide_type": "fragment"
    }
   },
   "outputs": [
    {
     "data": {
      "text/html": [
       "<div>\n",
       "<style scoped>\n",
       "    .dataframe tbody tr th:only-of-type {\n",
       "        vertical-align: middle;\n",
       "    }\n",
       "\n",
       "    .dataframe tbody tr th {\n",
       "        vertical-align: top;\n",
       "    }\n",
       "\n",
       "    .dataframe thead th {\n",
       "        text-align: right;\n",
       "    }\n",
       "</style>\n",
       "<table border=\"1\" class=\"dataframe\">\n",
       "  <thead>\n",
       "    <tr style=\"text-align: right;\">\n",
       "      <th></th>\n",
       "      <th>SalePrice</th>\n",
       "    </tr>\n",
       "  </thead>\n",
       "  <tbody>\n",
       "    <tr>\n",
       "      <th>0</th>\n",
       "      <td>0.073211</td>\n",
       "    </tr>\n",
       "    <tr>\n",
       "      <th>1</th>\n",
       "      <td>0.269762</td>\n",
       "    </tr>\n",
       "    <tr>\n",
       "      <th>2</th>\n",
       "      <td>0.244118</td>\n",
       "    </tr>\n",
       "    <tr>\n",
       "      <th>3</th>\n",
       "      <td>0.219107</td>\n",
       "    </tr>\n",
       "    <tr>\n",
       "      <th>4</th>\n",
       "      <td>0.197570</td>\n",
       "    </tr>\n",
       "  </tbody>\n",
       "</table>\n",
       "</div>"
      ],
      "text/plain": [
       "   SalePrice\n",
       "0   0.073211\n",
       "1   0.269762\n",
       "2   0.244118\n",
       "3   0.219107\n",
       "4   0.197570"
      ]
     },
     "execution_count": 66,
     "metadata": {},
     "output_type": "execute_result"
    }
   ],
   "source": [
    "#y의 데이터를 출력해봄\n",
    "train_y.head(5)"
   ]
  },
  {
   "cell_type": "code",
   "execution_count": 67,
   "metadata": {
    "slideshow": {
     "slide_type": "slide"
    }
   },
   "outputs": [
    {
     "name": "stderr",
     "output_type": "stream",
     "text": [
      "/Users/kakao/anaconda3/envs/py3/lib/python3.7/site-packages/ipykernel_launcher.py:10: FutureWarning: Method .as_matrix will be removed in a future version. Use .values instead.\n",
      "  # Remove the CWD from sys.path while we load stuff.\n"
     ]
    },
    {
     "name": "stdout",
     "output_type": "stream",
     "text": [
      "Epoch 1/500\n",
      "965/965 [==============================] - 0s 349us/step - loss: 0.0468\n",
      "Epoch 2/500\n",
      "965/965 [==============================] - 0s 26us/step - loss: 0.0353\n",
      "Epoch 3/500\n",
      "965/965 [==============================] - 0s 27us/step - loss: 0.0339\n",
      "Epoch 4/500\n",
      "965/965 [==============================] - 0s 27us/step - loss: 0.0328\n",
      "Epoch 5/500\n",
      "965/965 [==============================] - 0s 27us/step - loss: 0.0317\n",
      "Epoch 6/500\n",
      "965/965 [==============================] - 0s 29us/step - loss: 0.0307\n",
      "Epoch 7/500\n",
      "965/965 [==============================] - 0s 30us/step - loss: 0.0297\n",
      "Epoch 8/500\n",
      "965/965 [==============================] - 0s 28us/step - loss: 0.0289\n",
      "Epoch 9/500\n",
      "965/965 [==============================] - 0s 30us/step - loss: 0.0281\n",
      "Epoch 10/500\n",
      "965/965 [==============================] - 0s 25us/step - loss: 0.0274\n",
      "Epoch 11/500\n",
      "965/965 [==============================] - 0s 24us/step - loss: 0.0267\n",
      "Epoch 12/500\n",
      "965/965 [==============================] - 0s 19us/step - loss: 0.0260\n",
      "Epoch 13/500\n",
      "965/965 [==============================] - 0s 20us/step - loss: 0.0254\n",
      "Epoch 14/500\n",
      "965/965 [==============================] - 0s 20us/step - loss: 0.0248\n",
      "Epoch 15/500\n",
      "965/965 [==============================] - 0s 24us/step - loss: 0.0243\n",
      "Epoch 16/500\n",
      "965/965 [==============================] - 0s 25us/step - loss: 0.0238\n",
      "Epoch 17/500\n",
      "965/965 [==============================] - 0s 26us/step - loss: 0.0233\n",
      "Epoch 18/500\n",
      "965/965 [==============================] - 0s 27us/step - loss: 0.0228\n",
      "Epoch 19/500\n",
      "965/965 [==============================] - 0s 23us/step - loss: 0.0223\n",
      "Epoch 20/500\n",
      "965/965 [==============================] - 0s 28us/step - loss: 0.0219\n",
      "Epoch 21/500\n",
      "965/965 [==============================] - 0s 24us/step - loss: 0.0215\n",
      "Epoch 22/500\n",
      "965/965 [==============================] - 0s 20us/step - loss: 0.0211\n",
      "Epoch 23/500\n",
      "965/965 [==============================] - 0s 19us/step - loss: 0.0207\n",
      "Epoch 24/500\n",
      "965/965 [==============================] - 0s 19us/step - loss: 0.0203\n",
      "Epoch 25/500\n",
      "965/965 [==============================] - 0s 22us/step - loss: 0.0200\n",
      "Epoch 26/500\n",
      "965/965 [==============================] - 0s 28us/step - loss: 0.0197\n",
      "Epoch 27/500\n",
      "965/965 [==============================] - 0s 24us/step - loss: 0.0194\n",
      "Epoch 28/500\n",
      "965/965 [==============================] - 0s 23us/step - loss: 0.0190\n",
      "Epoch 29/500\n",
      "965/965 [==============================] - 0s 22us/step - loss: 0.0187\n",
      "Epoch 30/500\n",
      "965/965 [==============================] - 0s 24us/step - loss: 0.0184\n",
      "Epoch 31/500\n",
      "965/965 [==============================] - 0s 24us/step - loss: 0.0181\n",
      "Epoch 32/500\n",
      "965/965 [==============================] - 0s 28us/step - loss: 0.0179\n",
      "Epoch 33/500\n",
      "965/965 [==============================] - 0s 25us/step - loss: 0.0176\n",
      "Epoch 34/500\n",
      "965/965 [==============================] - 0s 22us/step - loss: 0.0173\n",
      "Epoch 35/500\n",
      "965/965 [==============================] - 0s 20us/step - loss: 0.0171\n",
      "Epoch 36/500\n",
      "965/965 [==============================] - 0s 19us/step - loss: 0.0168\n",
      "Epoch 37/500\n",
      "965/965 [==============================] - 0s 21us/step - loss: 0.0166\n",
      "Epoch 38/500\n",
      "965/965 [==============================] - 0s 22us/step - loss: 0.0163\n",
      "Epoch 39/500\n",
      "965/965 [==============================] - 0s 22us/step - loss: 0.0161\n",
      "Epoch 40/500\n",
      "965/965 [==============================] - 0s 20us/step - loss: 0.0159\n",
      "Epoch 41/500\n",
      "965/965 [==============================] - 0s 25us/step - loss: 0.0157\n",
      "Epoch 42/500\n",
      "965/965 [==============================] - 0s 28us/step - loss: 0.0154\n",
      "Epoch 43/500\n",
      "965/965 [==============================] - 0s 24us/step - loss: 0.0153\n",
      "Epoch 44/500\n",
      "965/965 [==============================] - 0s 23us/step - loss: 0.0150\n",
      "Epoch 45/500\n",
      "965/965 [==============================] - 0s 26us/step - loss: 0.0148\n",
      "Epoch 46/500\n",
      "965/965 [==============================] - 0s 25us/step - loss: 0.0146\n",
      "Epoch 47/500\n",
      "965/965 [==============================] - 0s 27us/step - loss: 0.0144\n",
      "Epoch 48/500\n",
      "965/965 [==============================] - 0s 26us/step - loss: 0.0143\n",
      "Epoch 49/500\n",
      "965/965 [==============================] - 0s 28us/step - loss: 0.0141\n",
      "Epoch 50/500\n",
      "965/965 [==============================] - 0s 28us/step - loss: 0.0139\n",
      "Epoch 51/500\n",
      "965/965 [==============================] - 0s 28us/step - loss: 0.0137\n",
      "Epoch 52/500\n",
      "965/965 [==============================] - 0s 26us/step - loss: 0.0135\n",
      "Epoch 53/500\n",
      "965/965 [==============================] - 0s 25us/step - loss: 0.0134\n",
      "Epoch 54/500\n",
      "965/965 [==============================] - 0s 28us/step - loss: 0.0132\n",
      "Epoch 55/500\n",
      "965/965 [==============================] - 0s 27us/step - loss: 0.0130\n",
      "Epoch 56/500\n",
      "965/965 [==============================] - 0s 24us/step - loss: 0.0129\n",
      "Epoch 57/500\n",
      "965/965 [==============================] - 0s 26us/step - loss: 0.0127\n",
      "Epoch 58/500\n",
      "965/965 [==============================] - 0s 26us/step - loss: 0.0126\n",
      "Epoch 59/500\n",
      "965/965 [==============================] - 0s 22us/step - loss: 0.0124\n",
      "Epoch 60/500\n",
      "965/965 [==============================] - 0s 20us/step - loss: 0.0123\n",
      "Epoch 61/500\n",
      "965/965 [==============================] - 0s 19us/step - loss: 0.0121\n",
      "Epoch 62/500\n",
      "965/965 [==============================] - 0s 19us/step - loss: 0.0120\n",
      "Epoch 63/500\n",
      "965/965 [==============================] - 0s 19us/step - loss: 0.0119\n",
      "Epoch 64/500\n",
      "965/965 [==============================] - 0s 20us/step - loss: 0.0117\n",
      "Epoch 65/500\n",
      "965/965 [==============================] - 0s 26us/step - loss: 0.0116\n",
      "Epoch 66/500\n",
      "965/965 [==============================] - 0s 25us/step - loss: 0.0114\n",
      "Epoch 67/500\n",
      "965/965 [==============================] - 0s 25us/step - loss: 0.0113\n",
      "Epoch 68/500\n",
      "965/965 [==============================] - 0s 28us/step - loss: 0.0112\n",
      "Epoch 69/500\n",
      "965/965 [==============================] - 0s 23us/step - loss: 0.0110\n",
      "Epoch 70/500\n",
      "965/965 [==============================] - 0s 20us/step - loss: 0.0109\n",
      "Epoch 71/500\n",
      "965/965 [==============================] - 0s 20us/step - loss: 0.0108\n",
      "Epoch 72/500\n",
      "965/965 [==============================] - 0s 20us/step - loss: 0.0107\n",
      "Epoch 73/500\n",
      "965/965 [==============================] - 0s 22us/step - loss: 0.0106\n",
      "Epoch 74/500\n",
      "965/965 [==============================] - 0s 22us/step - loss: 0.0104\n",
      "Epoch 75/500\n",
      "965/965 [==============================] - 0s 24us/step - loss: 0.0103\n",
      "Epoch 76/500\n",
      "965/965 [==============================] - 0s 26us/step - loss: 0.0102\n",
      "Epoch 77/500\n",
      "965/965 [==============================] - 0s 23us/step - loss: 0.0101\n",
      "Epoch 78/500\n",
      "965/965 [==============================] - 0s 20us/step - loss: 0.0100\n",
      "Epoch 79/500\n",
      "965/965 [==============================] - 0s 20us/step - loss: 0.0099\n",
      "Epoch 80/500\n",
      "965/965 [==============================] - 0s 24us/step - loss: 0.0098\n",
      "Epoch 81/500\n",
      "965/965 [==============================] - 0s 26us/step - loss: 0.0097\n",
      "Epoch 82/500\n",
      "965/965 [==============================] - 0s 22us/step - loss: 0.0096\n",
      "Epoch 83/500\n",
      "965/965 [==============================] - 0s 20us/step - loss: 0.0095\n",
      "Epoch 84/500\n",
      "965/965 [==============================] - 0s 19us/step - loss: 0.0094\n",
      "Epoch 85/500\n",
      "965/965 [==============================] - 0s 19us/step - loss: 0.0093\n",
      "Epoch 86/500\n",
      "965/965 [==============================] - 0s 20us/step - loss: 0.0092\n",
      "Epoch 87/500\n",
      "965/965 [==============================] - 0s 19us/step - loss: 0.0091\n",
      "Epoch 88/500\n",
      "965/965 [==============================] - 0s 19us/step - loss: 0.0090\n",
      "Epoch 89/500\n",
      "965/965 [==============================] - 0s 19us/step - loss: 0.0089\n",
      "Epoch 90/500\n",
      "965/965 [==============================] - 0s 24us/step - loss: 0.0089\n",
      "Epoch 91/500\n",
      "965/965 [==============================] - 0s 28us/step - loss: 0.0088\n",
      "Epoch 92/500\n",
      "965/965 [==============================] - 0s 25us/step - loss: 0.0087\n",
      "Epoch 93/500\n",
      "965/965 [==============================] - 0s 23us/step - loss: 0.0086\n",
      "Epoch 94/500\n",
      "965/965 [==============================] - 0s 24us/step - loss: 0.0085\n",
      "Epoch 95/500\n",
      "965/965 [==============================] - 0s 26us/step - loss: 0.0084\n",
      "Epoch 96/500\n",
      "965/965 [==============================] - 0s 26us/step - loss: 0.0084\n",
      "Epoch 97/500\n",
      "965/965 [==============================] - 0s 26us/step - loss: 0.0083\n",
      "Epoch 98/500\n",
      "965/965 [==============================] - 0s 25us/step - loss: 0.0082\n",
      "Epoch 99/500\n",
      "965/965 [==============================] - 0s 26us/step - loss: 0.0081\n",
      "Epoch 100/500\n",
      "965/965 [==============================] - 0s 25us/step - loss: 0.0080\n",
      "Epoch 101/500\n",
      "965/965 [==============================] - 0s 25us/step - loss: 0.0080\n",
      "Epoch 102/500\n",
      "965/965 [==============================] - 0s 24us/step - loss: 0.0079\n",
      "Epoch 103/500\n",
      "965/965 [==============================] - 0s 21us/step - loss: 0.0078\n",
      "Epoch 104/500\n",
      "965/965 [==============================] - 0s 19us/step - loss: 0.0078\n",
      "Epoch 105/500\n",
      "965/965 [==============================] - 0s 19us/step - loss: 0.0077\n",
      "Epoch 106/500\n",
      "965/965 [==============================] - 0s 19us/step - loss: 0.0076\n",
      "Epoch 107/500\n",
      "965/965 [==============================] - 0s 19us/step - loss: 0.0076\n",
      "Epoch 108/500\n",
      "965/965 [==============================] - 0s 23us/step - loss: 0.0075\n",
      "Epoch 109/500\n",
      "965/965 [==============================] - 0s 26us/step - loss: 0.0074\n",
      "Epoch 110/500\n",
      "965/965 [==============================] - 0s 26us/step - loss: 0.0074\n",
      "Epoch 111/500\n",
      "965/965 [==============================] - 0s 26us/step - loss: 0.0073\n",
      "Epoch 112/500\n",
      "965/965 [==============================] - 0s 25us/step - loss: 0.0072\n",
      "Epoch 113/500\n",
      "965/965 [==============================] - 0s 22us/step - loss: 0.0072\n",
      "Epoch 114/500\n",
      "965/965 [==============================] - 0s 20us/step - loss: 0.0071\n",
      "Epoch 115/500\n",
      "965/965 [==============================] - 0s 19us/step - loss: 0.0071\n",
      "Epoch 116/500\n",
      "965/965 [==============================] - 0s 20us/step - loss: 0.0070\n",
      "Epoch 117/500\n",
      "965/965 [==============================] - 0s 22us/step - loss: 0.0070\n",
      "Epoch 118/500\n",
      "965/965 [==============================] - 0s 25us/step - loss: 0.0069\n",
      "Epoch 119/500\n",
      "965/965 [==============================] - 0s 26us/step - loss: 0.0068\n",
      "Epoch 120/500\n",
      "965/965 [==============================] - 0s 23us/step - loss: 0.0068\n",
      "Epoch 121/500\n",
      "965/965 [==============================] - 0s 20us/step - loss: 0.0067\n",
      "Epoch 122/500\n",
      "965/965 [==============================] - 0s 23us/step - loss: 0.0067\n",
      "Epoch 123/500\n",
      "965/965 [==============================] - 0s 26us/step - loss: 0.0066\n",
      "Epoch 124/500\n",
      "965/965 [==============================] - 0s 23us/step - loss: 0.0066\n",
      "Epoch 125/500\n",
      "965/965 [==============================] - 0s 21us/step - loss: 0.0065\n",
      "Epoch 126/500\n",
      "965/965 [==============================] - 0s 19us/step - loss: 0.0065\n",
      "Epoch 127/500\n",
      "965/965 [==============================] - 0s 20us/step - loss: 0.0064\n",
      "Epoch 128/500\n",
      "965/965 [==============================] - 0s 19us/step - loss: 0.0064\n",
      "Epoch 129/500\n",
      "965/965 [==============================] - 0s 21us/step - loss: 0.0063\n",
      "Epoch 130/500\n",
      "965/965 [==============================] - 0s 22us/step - loss: 0.0063\n",
      "Epoch 131/500\n",
      "965/965 [==============================] - 0s 21us/step - loss: 0.0063\n",
      "Epoch 132/500\n",
      "965/965 [==============================] - 0s 28us/step - loss: 0.0062\n",
      "Epoch 133/500\n",
      "965/965 [==============================] - 0s 26us/step - loss: 0.0062\n",
      "Epoch 134/500\n",
      "965/965 [==============================] - 0s 25us/step - loss: 0.0061\n",
      "Epoch 135/500\n",
      "965/965 [==============================] - 0s 27us/step - loss: 0.0061\n",
      "Epoch 136/500\n",
      "965/965 [==============================] - 0s 25us/step - loss: 0.0061\n",
      "Epoch 137/500\n",
      "965/965 [==============================] - 0s 31us/step - loss: 0.0060\n",
      "Epoch 138/500\n",
      "965/965 [==============================] - 0s 32us/step - loss: 0.0060\n",
      "Epoch 139/500\n",
      "965/965 [==============================] - 0s 27us/step - loss: 0.0059\n",
      "Epoch 140/500\n",
      "965/965 [==============================] - 0s 26us/step - loss: 0.0059\n",
      "Epoch 141/500\n",
      "965/965 [==============================] - 0s 25us/step - loss: 0.0059\n",
      "Epoch 142/500\n",
      "965/965 [==============================] - 0s 25us/step - loss: 0.0058\n",
      "Epoch 143/500\n",
      "965/965 [==============================] - 0s 24us/step - loss: 0.0058\n",
      "Epoch 144/500\n",
      "965/965 [==============================] - 0s 23us/step - loss: 0.0058\n",
      "Epoch 145/500\n",
      "965/965 [==============================] - 0s 20us/step - loss: 0.0057\n",
      "Epoch 146/500\n",
      "965/965 [==============================] - 0s 20us/step - loss: 0.0057\n",
      "Epoch 147/500\n",
      "965/965 [==============================] - 0s 20us/step - loss: 0.0056\n",
      "Epoch 148/500\n",
      "965/965 [==============================] - 0s 19us/step - loss: 0.0056\n",
      "Epoch 149/500\n",
      "965/965 [==============================] - 0s 19us/step - loss: 0.0056\n",
      "Epoch 150/500\n",
      "965/965 [==============================] - 0s 22us/step - loss: 0.0055\n",
      "Epoch 151/500\n",
      "965/965 [==============================] - 0s 24us/step - loss: 0.0055\n",
      "Epoch 152/500\n",
      "965/965 [==============================] - 0s 24us/step - loss: 0.0055\n",
      "Epoch 153/500\n",
      "965/965 [==============================] - 0s 25us/step - loss: 0.0054\n",
      "Epoch 154/500\n",
      "965/965 [==============================] - 0s 22us/step - loss: 0.0054\n",
      "Epoch 155/500\n",
      "965/965 [==============================] - 0s 27us/step - loss: 0.0054\n",
      "Epoch 156/500\n",
      "965/965 [==============================] - 0s 24us/step - loss: 0.0054\n",
      "Epoch 157/500\n",
      "965/965 [==============================] - 0s 20us/step - loss: 0.0053\n",
      "Epoch 158/500\n",
      "965/965 [==============================] - 0s 19us/step - loss: 0.0053\n",
      "Epoch 159/500\n",
      "965/965 [==============================] - 0s 22us/step - loss: 0.0053\n",
      "Epoch 160/500\n",
      "965/965 [==============================] - 0s 22us/step - loss: 0.0052\n",
      "Epoch 161/500\n",
      "965/965 [==============================] - 0s 33us/step - loss: 0.0052\n",
      "Epoch 162/500\n",
      "965/965 [==============================] - 0s 30us/step - loss: 0.0052\n",
      "Epoch 163/500\n",
      "965/965 [==============================] - 0s 23us/step - loss: 0.0052\n",
      "Epoch 164/500\n",
      "965/965 [==============================] - 0s 26us/step - loss: 0.0051\n",
      "Epoch 165/500\n",
      "965/965 [==============================] - 0s 22us/step - loss: 0.0051\n",
      "Epoch 166/500\n",
      "965/965 [==============================] - 0s 20us/step - loss: 0.0051\n",
      "Epoch 167/500\n",
      "965/965 [==============================] - 0s 20us/step - loss: 0.0051\n",
      "Epoch 168/500\n",
      "965/965 [==============================] - 0s 26us/step - loss: 0.0050\n",
      "Epoch 169/500\n",
      "965/965 [==============================] - 0s 26us/step - loss: 0.0050\n",
      "Epoch 170/500\n",
      "965/965 [==============================] - 0s 24us/step - loss: 0.0050\n",
      "Epoch 171/500\n",
      "965/965 [==============================] - 0s 21us/step - loss: 0.0050\n",
      "Epoch 172/500\n",
      "965/965 [==============================] - 0s 20us/step - loss: 0.0049\n",
      "Epoch 173/500\n",
      "965/965 [==============================] - 0s 20us/step - loss: 0.0049\n",
      "Epoch 174/500\n",
      "965/965 [==============================] - 0s 19us/step - loss: 0.0049\n",
      "Epoch 175/500\n",
      "965/965 [==============================] - 0s 19us/step - loss: 0.0049\n",
      "Epoch 176/500\n",
      "965/965 [==============================] - 0s 19us/step - loss: 0.0049\n",
      "Epoch 177/500\n",
      "965/965 [==============================] - 0s 19us/step - loss: 0.0048\n",
      "Epoch 178/500\n",
      "965/965 [==============================] - 0s 23us/step - loss: 0.0048\n",
      "Epoch 179/500\n",
      "965/965 [==============================] - 0s 25us/step - loss: 0.0048\n",
      "Epoch 180/500\n",
      "965/965 [==============================] - 0s 26us/step - loss: 0.0048\n",
      "Epoch 181/500\n",
      "965/965 [==============================] - 0s 23us/step - loss: 0.0047\n",
      "Epoch 182/500\n",
      "965/965 [==============================] - 0s 22us/step - loss: 0.0047\n",
      "Epoch 183/500\n",
      "965/965 [==============================] - 0s 23us/step - loss: 0.0047\n",
      "Epoch 184/500\n",
      "965/965 [==============================] - 0s 28us/step - loss: 0.0047\n",
      "Epoch 185/500\n",
      "965/965 [==============================] - 0s 27us/step - loss: 0.0047\n",
      "Epoch 186/500\n",
      "965/965 [==============================] - 0s 27us/step - loss: 0.0047\n",
      "Epoch 187/500\n",
      "965/965 [==============================] - 0s 26us/step - loss: 0.0046\n",
      "Epoch 188/500\n",
      "965/965 [==============================] - 0s 25us/step - loss: 0.0046\n",
      "Epoch 189/500\n",
      "965/965 [==============================] - 0s 25us/step - loss: 0.0046\n",
      "Epoch 190/500\n",
      "965/965 [==============================] - 0s 25us/step - loss: 0.0046\n",
      "Epoch 191/500\n",
      "965/965 [==============================] - 0s 27us/step - loss: 0.0046\n",
      "Epoch 192/500\n",
      "965/965 [==============================] - 0s 28us/step - loss: 0.0045\n",
      "Epoch 193/500\n",
      "965/965 [==============================] - 0s 24us/step - loss: 0.0045\n",
      "Epoch 194/500\n"
     ]
    },
    {
     "name": "stdout",
     "output_type": "stream",
     "text": [
      "965/965 [==============================] - 0s 22us/step - loss: 0.0045\n",
      "Epoch 195/500\n",
      "965/965 [==============================] - 0s 20us/step - loss: 0.0045\n",
      "Epoch 196/500\n",
      "965/965 [==============================] - 0s 19us/step - loss: 0.0045\n",
      "Epoch 197/500\n",
      "965/965 [==============================] - 0s 20us/step - loss: 0.0045\n",
      "Epoch 198/500\n",
      "965/965 [==============================] - 0s 21us/step - loss: 0.0044\n",
      "Epoch 199/500\n",
      "965/965 [==============================] - 0s 21us/step - loss: 0.0044\n",
      "Epoch 200/500\n",
      "965/965 [==============================] - 0s 21us/step - loss: 0.0044\n",
      "Epoch 201/500\n",
      "965/965 [==============================] - 0s 19us/step - loss: 0.0044\n",
      "Epoch 202/500\n",
      "965/965 [==============================] - 0s 20us/step - loss: 0.0044\n",
      "Epoch 203/500\n",
      "965/965 [==============================] - 0s 20us/step - loss: 0.0044\n",
      "Epoch 204/500\n",
      "965/965 [==============================] - 0s 20us/step - loss: 0.0044\n",
      "Epoch 205/500\n",
      "965/965 [==============================] - 0s 19us/step - loss: 0.0043\n",
      "Epoch 206/500\n",
      "965/965 [==============================] - 0s 20us/step - loss: 0.0043\n",
      "Epoch 207/500\n",
      "965/965 [==============================] - 0s 20us/step - loss: 0.0043\n",
      "Epoch 208/500\n",
      "965/965 [==============================] - 0s 20us/step - loss: 0.0043\n",
      "Epoch 209/500\n",
      "965/965 [==============================] - 0s 24us/step - loss: 0.0043\n",
      "Epoch 210/500\n",
      "965/965 [==============================] - 0s 23us/step - loss: 0.0043\n",
      "Epoch 211/500\n",
      "965/965 [==============================] - 0s 20us/step - loss: 0.0043\n",
      "Epoch 212/500\n",
      "965/965 [==============================] - 0s 19us/step - loss: 0.0043\n",
      "Epoch 213/500\n",
      "965/965 [==============================] - 0s 19us/step - loss: 0.0042\n",
      "Epoch 214/500\n",
      "965/965 [==============================] - 0s 19us/step - loss: 0.0042\n",
      "Epoch 215/500\n",
      "965/965 [==============================] - 0s 20us/step - loss: 0.0042\n",
      "Epoch 216/500\n",
      "965/965 [==============================] - 0s 19us/step - loss: 0.0042\n",
      "Epoch 217/500\n",
      "965/965 [==============================] - 0s 20us/step - loss: 0.0042\n",
      "Epoch 218/500\n",
      "965/965 [==============================] - 0s 20us/step - loss: 0.0042\n",
      "Epoch 219/500\n",
      "965/965 [==============================] - 0s 20us/step - loss: 0.0042\n",
      "Epoch 220/500\n",
      "965/965 [==============================] - 0s 22us/step - loss: 0.0042\n",
      "Epoch 221/500\n",
      "965/965 [==============================] - 0s 26us/step - loss: 0.0041\n",
      "Epoch 222/500\n",
      "965/965 [==============================] - 0s 28us/step - loss: 0.0041\n",
      "Epoch 223/500\n",
      "965/965 [==============================] - 0s 28us/step - loss: 0.0041\n",
      "Epoch 224/500\n",
      "965/965 [==============================] - 0s 24us/step - loss: 0.0041\n",
      "Epoch 225/500\n",
      "965/965 [==============================] - 0s 24us/step - loss: 0.0041\n",
      "Epoch 226/500\n",
      "965/965 [==============================] - 0s 22us/step - loss: 0.0041\n",
      "Epoch 227/500\n",
      "965/965 [==============================] - 0s 19us/step - loss: 0.0041\n",
      "Epoch 228/500\n",
      "965/965 [==============================] - 0s 19us/step - loss: 0.0041\n",
      "Epoch 229/500\n",
      "965/965 [==============================] - 0s 19us/step - loss: 0.0041\n",
      "Epoch 230/500\n",
      "965/965 [==============================] - 0s 19us/step - loss: 0.0040\n",
      "Epoch 231/500\n",
      "965/965 [==============================] - 0s 19us/step - loss: 0.0040\n",
      "Epoch 232/500\n",
      "965/965 [==============================] - 0s 20us/step - loss: 0.0040\n",
      "Epoch 233/500\n",
      "965/965 [==============================] - 0s 20us/step - loss: 0.0040\n",
      "Epoch 234/500\n",
      "965/965 [==============================] - 0s 20us/step - loss: 0.0040\n",
      "Epoch 235/500\n",
      "965/965 [==============================] - 0s 19us/step - loss: 0.0040\n",
      "Epoch 236/500\n",
      "965/965 [==============================] - 0s 21us/step - loss: 0.0040\n",
      "Epoch 237/500\n",
      "965/965 [==============================] - 0s 29us/step - loss: 0.0040\n",
      "Epoch 238/500\n",
      "965/965 [==============================] - 0s 28us/step - loss: 0.0040\n",
      "Epoch 239/500\n",
      "965/965 [==============================] - 0s 23us/step - loss: 0.0040\n",
      "Epoch 240/500\n",
      "965/965 [==============================] - 0s 22us/step - loss: 0.0040\n",
      "Epoch 241/500\n",
      "965/965 [==============================] - 0s 23us/step - loss: 0.0040\n",
      "Epoch 242/500\n",
      "965/965 [==============================] - 0s 25us/step - loss: 0.0039\n",
      "Epoch 243/500\n",
      "965/965 [==============================] - 0s 27us/step - loss: 0.0039\n",
      "Epoch 244/500\n",
      "965/965 [==============================] - 0s 23us/step - loss: 0.0039\n",
      "Epoch 245/500\n",
      "965/965 [==============================] - 0s 24us/step - loss: 0.0039\n",
      "Epoch 246/500\n",
      "965/965 [==============================] - 0s 25us/step - loss: 0.0039\n",
      "Epoch 247/500\n",
      "965/965 [==============================] - 0s 30us/step - loss: 0.0039\n",
      "Epoch 248/500\n",
      "965/965 [==============================] - 0s 28us/step - loss: 0.0039\n",
      "Epoch 249/500\n",
      "965/965 [==============================] - 0s 26us/step - loss: 0.0039\n",
      "Epoch 250/500\n",
      "965/965 [==============================] - 0s 26us/step - loss: 0.0039\n",
      "Epoch 251/500\n",
      "965/965 [==============================] - 0s 25us/step - loss: 0.0039\n",
      "Epoch 252/500\n",
      "965/965 [==============================] - 0s 23us/step - loss: 0.0039\n",
      "Epoch 253/500\n",
      "965/965 [==============================] - 0s 19us/step - loss: 0.0039\n",
      "Epoch 254/500\n",
      "965/965 [==============================] - 0s 24us/step - loss: 0.0039\n",
      "Epoch 255/500\n",
      "965/965 [==============================] - 0s 24us/step - loss: 0.0039\n",
      "Epoch 256/500\n",
      "965/965 [==============================] - 0s 26us/step - loss: 0.0038\n",
      "Epoch 257/500\n",
      "965/965 [==============================] - 0s 22us/step - loss: 0.0038\n",
      "Epoch 258/500\n",
      "965/965 [==============================] - 0s 20us/step - loss: 0.0038\n",
      "Epoch 259/500\n",
      "965/965 [==============================] - 0s 20us/step - loss: 0.0038\n",
      "Epoch 260/500\n",
      "965/965 [==============================] - 0s 19us/step - loss: 0.0038\n",
      "Epoch 261/500\n",
      "965/965 [==============================] - 0s 19us/step - loss: 0.0038\n",
      "Epoch 262/500\n",
      "965/965 [==============================] - 0s 19us/step - loss: 0.0039\n",
      "Epoch 263/500\n",
      "965/965 [==============================] - 0s 20us/step - loss: 0.0038\n",
      "Epoch 264/500\n",
      "965/965 [==============================] - 0s 21us/step - loss: 0.0038\n",
      "Epoch 265/500\n",
      "965/965 [==============================] - 0s 26us/step - loss: 0.0038\n",
      "Epoch 266/500\n",
      "965/965 [==============================] - 0s 27us/step - loss: 0.0038\n",
      "Epoch 267/500\n",
      "965/965 [==============================] - 0s 27us/step - loss: 0.0038\n",
      "Epoch 268/500\n",
      "965/965 [==============================] - 0s 25us/step - loss: 0.0038\n",
      "Epoch 269/500\n",
      "965/965 [==============================] - 0s 24us/step - loss: 0.0038\n",
      "Epoch 270/500\n",
      "965/965 [==============================] - 0s 26us/step - loss: 0.0038\n",
      "Epoch 271/500\n",
      "965/965 [==============================] - 0s 27us/step - loss: 0.0038\n",
      "Epoch 272/500\n",
      "965/965 [==============================] - 0s 25us/step - loss: 0.0037\n",
      "Epoch 273/500\n",
      "965/965 [==============================] - 0s 24us/step - loss: 0.0037\n",
      "Epoch 274/500\n",
      "965/965 [==============================] - 0s 25us/step - loss: 0.0037\n",
      "Epoch 275/500\n",
      "965/965 [==============================] - 0s 24us/step - loss: 0.0037\n",
      "Epoch 276/500\n",
      "965/965 [==============================] - 0s 26us/step - loss: 0.0037\n",
      "Epoch 277/500\n",
      "965/965 [==============================] - 0s 24us/step - loss: 0.0037\n",
      "Epoch 278/500\n",
      "965/965 [==============================] - 0s 22us/step - loss: 0.0037\n",
      "Epoch 279/500\n",
      "965/965 [==============================] - 0s 19us/step - loss: 0.0037\n",
      "Epoch 280/500\n",
      "965/965 [==============================] - 0s 19us/step - loss: 0.0037\n",
      "Epoch 281/500\n",
      "965/965 [==============================] - 0s 19us/step - loss: 0.0037\n",
      "Epoch 282/500\n",
      "965/965 [==============================] - 0s 20us/step - loss: 0.0037\n",
      "Epoch 283/500\n",
      "965/965 [==============================] - 0s 20us/step - loss: 0.0037\n",
      "Epoch 284/500\n",
      "965/965 [==============================] - 0s 20us/step - loss: 0.0037\n",
      "Epoch 285/500\n",
      "965/965 [==============================] - 0s 26us/step - loss: 0.0037\n",
      "Epoch 286/500\n",
      "965/965 [==============================] - 0s 30us/step - loss: 0.0037\n",
      "Epoch 287/500\n",
      "965/965 [==============================] - 0s 32us/step - loss: 0.0037\n",
      "Epoch 288/500\n",
      "965/965 [==============================] - 0s 34us/step - loss: 0.0037\n",
      "Epoch 289/500\n",
      "965/965 [==============================] - 0s 24us/step - loss: 0.0037\n",
      "Epoch 290/500\n",
      "965/965 [==============================] - 0s 21us/step - loss: 0.0037\n",
      "Epoch 291/500\n",
      "965/965 [==============================] - 0s 20us/step - loss: 0.0036\n",
      "Epoch 292/500\n",
      "965/965 [==============================] - 0s 22us/step - loss: 0.0037\n",
      "Epoch 293/500\n",
      "965/965 [==============================] - 0s 25us/step - loss: 0.0036\n",
      "Epoch 294/500\n",
      "965/965 [==============================] - 0s 22us/step - loss: 0.0036\n",
      "Epoch 295/500\n",
      "965/965 [==============================] - 0s 20us/step - loss: 0.0036\n",
      "Epoch 296/500\n",
      "965/965 [==============================] - 0s 19us/step - loss: 0.0036\n",
      "Epoch 297/500\n",
      "965/965 [==============================] - 0s 20us/step - loss: 0.0036\n",
      "Epoch 298/500\n",
      "965/965 [==============================] - 0s 25us/step - loss: 0.0036\n",
      "Epoch 299/500\n",
      "965/965 [==============================] - 0s 27us/step - loss: 0.0036\n",
      "Epoch 300/500\n",
      "965/965 [==============================] - 0s 25us/step - loss: 0.0036\n",
      "Epoch 301/500\n",
      "965/965 [==============================] - 0s 24us/step - loss: 0.0036\n",
      "Epoch 302/500\n",
      "965/965 [==============================] - 0s 22us/step - loss: 0.0036\n",
      "Epoch 303/500\n",
      "965/965 [==============================] - 0s 19us/step - loss: 0.0036\n",
      "Epoch 304/500\n",
      "965/965 [==============================] - 0s 19us/step - loss: 0.0036\n",
      "Epoch 305/500\n",
      "965/965 [==============================] - 0s 20us/step - loss: 0.0036\n",
      "Epoch 306/500\n",
      "965/965 [==============================] - 0s 20us/step - loss: 0.0036\n",
      "Epoch 307/500\n",
      "965/965 [==============================] - 0s 20us/step - loss: 0.0036\n",
      "Epoch 308/500\n",
      "965/965 [==============================] - 0s 24us/step - loss: 0.0036\n",
      "Epoch 309/500\n",
      "965/965 [==============================] - 0s 24us/step - loss: 0.0036\n",
      "Epoch 310/500\n",
      "965/965 [==============================] - 0s 27us/step - loss: 0.0036\n",
      "Epoch 311/500\n",
      "965/965 [==============================] - 0s 28us/step - loss: 0.0036\n",
      "Epoch 312/500\n",
      "965/965 [==============================] - 0s 25us/step - loss: 0.0036\n",
      "Epoch 313/500\n",
      "965/965 [==============================] - 0s 28us/step - loss: 0.0036\n",
      "Epoch 314/500\n",
      "965/965 [==============================] - 0s 27us/step - loss: 0.0036\n",
      "Epoch 315/500\n",
      "965/965 [==============================] - 0s 27us/step - loss: 0.0036\n",
      "Epoch 316/500\n",
      "965/965 [==============================] - 0s 28us/step - loss: 0.0036\n",
      "Epoch 317/500\n",
      "965/965 [==============================] - 0s 25us/step - loss: 0.0036\n",
      "Epoch 318/500\n",
      "965/965 [==============================] - 0s 25us/step - loss: 0.0036\n",
      "Epoch 319/500\n",
      "965/965 [==============================] - 0s 26us/step - loss: 0.0036\n",
      "Epoch 320/500\n",
      "965/965 [==============================] - 0s 29us/step - loss: 0.0035\n",
      "Epoch 321/500\n",
      "965/965 [==============================] - 0s 31us/step - loss: 0.0036\n",
      "Epoch 322/500\n",
      "965/965 [==============================] - 0s 26us/step - loss: 0.0035\n",
      "Epoch 323/500\n",
      "965/965 [==============================] - 0s 23us/step - loss: 0.0035\n",
      "Epoch 324/500\n",
      "965/965 [==============================] - 0s 23us/step - loss: 0.0035\n",
      "Epoch 325/500\n",
      "965/965 [==============================] - 0s 21us/step - loss: 0.0035\n",
      "Epoch 326/500\n",
      "965/965 [==============================] - 0s 21us/step - loss: 0.0035\n",
      "Epoch 327/500\n",
      "965/965 [==============================] - 0s 25us/step - loss: 0.0035\n",
      "Epoch 328/500\n",
      "965/965 [==============================] - 0s 30us/step - loss: 0.0035\n",
      "Epoch 329/500\n",
      "965/965 [==============================] - 0s 25us/step - loss: 0.0035\n",
      "Epoch 330/500\n",
      "965/965 [==============================] - 0s 29us/step - loss: 0.0035\n",
      "Epoch 331/500\n",
      "965/965 [==============================] - 0s 31us/step - loss: 0.0035\n",
      "Epoch 332/500\n",
      "965/965 [==============================] - 0s 32us/step - loss: 0.0035\n",
      "Epoch 333/500\n",
      "965/965 [==============================] - 0s 27us/step - loss: 0.0035\n",
      "Epoch 334/500\n",
      "965/965 [==============================] - 0s 28us/step - loss: 0.0035\n",
      "Epoch 335/500\n",
      "965/965 [==============================] - 0s 24us/step - loss: 0.0035\n",
      "Epoch 336/500\n",
      "965/965 [==============================] - 0s 20us/step - loss: 0.0035\n",
      "Epoch 337/500\n",
      "965/965 [==============================] - 0s 19us/step - loss: 0.0035\n",
      "Epoch 338/500\n",
      "965/965 [==============================] - 0s 22us/step - loss: 0.0035\n",
      "Epoch 339/500\n",
      "965/965 [==============================] - 0s 25us/step - loss: 0.0035\n",
      "Epoch 340/500\n",
      "965/965 [==============================] - 0s 27us/step - loss: 0.0035\n",
      "Epoch 341/500\n",
      "965/965 [==============================] - 0s 24us/step - loss: 0.0035\n",
      "Epoch 342/500\n",
      "965/965 [==============================] - 0s 22us/step - loss: 0.0035\n",
      "Epoch 343/500\n",
      "965/965 [==============================] - 0s 19us/step - loss: 0.0035\n",
      "Epoch 344/500\n",
      "965/965 [==============================] - 0s 19us/step - loss: 0.0035\n",
      "Epoch 345/500\n",
      "965/965 [==============================] - 0s 19us/step - loss: 0.0035\n",
      "Epoch 346/500\n",
      "965/965 [==============================] - 0s 20us/step - loss: 0.0035\n",
      "Epoch 347/500\n",
      "965/965 [==============================] - 0s 22us/step - loss: 0.0035\n",
      "Epoch 348/500\n",
      "965/965 [==============================] - 0s 24us/step - loss: 0.0035\n",
      "Epoch 349/500\n",
      "965/965 [==============================] - 0s 28us/step - loss: 0.0035\n",
      "Epoch 350/500\n",
      "965/965 [==============================] - 0s 26us/step - loss: 0.0035\n",
      "Epoch 351/500\n",
      "965/965 [==============================] - 0s 26us/step - loss: 0.0035\n",
      "Epoch 352/500\n",
      "965/965 [==============================] - 0s 25us/step - loss: 0.0035\n",
      "Epoch 353/500\n",
      "965/965 [==============================] - 0s 23us/step - loss: 0.0035\n",
      "Epoch 354/500\n",
      "965/965 [==============================] - 0s 24us/step - loss: 0.0035\n",
      "Epoch 355/500\n",
      "965/965 [==============================] - 0s 26us/step - loss: 0.0035\n",
      "Epoch 356/500\n",
      "965/965 [==============================] - 0s 27us/step - loss: 0.0035\n",
      "Epoch 357/500\n",
      "965/965 [==============================] - 0s 27us/step - loss: 0.0035\n",
      "Epoch 358/500\n",
      "965/965 [==============================] - 0s 24us/step - loss: 0.0035\n",
      "Epoch 359/500\n",
      "965/965 [==============================] - 0s 26us/step - loss: 0.0035\n",
      "Epoch 360/500\n",
      "965/965 [==============================] - 0s 25us/step - loss: 0.0035\n",
      "Epoch 361/500\n",
      "965/965 [==============================] - 0s 28us/step - loss: 0.0034\n",
      "Epoch 362/500\n",
      "965/965 [==============================] - 0s 25us/step - loss: 0.0034\n",
      "Epoch 363/500\n",
      "965/965 [==============================] - 0s 23us/step - loss: 0.0034\n",
      "Epoch 364/500\n",
      "965/965 [==============================] - 0s 20us/step - loss: 0.0034\n",
      "Epoch 365/500\n",
      "965/965 [==============================] - 0s 22us/step - loss: 0.0034\n",
      "Epoch 366/500\n",
      "965/965 [==============================] - 0s 24us/step - loss: 0.0034\n",
      "Epoch 367/500\n",
      "965/965 [==============================] - 0s 24us/step - loss: 0.0034\n",
      "Epoch 368/500\n",
      "965/965 [==============================] - 0s 29us/step - loss: 0.0034\n",
      "Epoch 369/500\n",
      "965/965 [==============================] - 0s 28us/step - loss: 0.0034\n",
      "Epoch 370/500\n",
      "965/965 [==============================] - 0s 32us/step - loss: 0.0034\n",
      "Epoch 371/500\n",
      "965/965 [==============================] - 0s 29us/step - loss: 0.0034\n",
      "Epoch 372/500\n",
      "965/965 [==============================] - 0s 28us/step - loss: 0.0034\n",
      "Epoch 373/500\n",
      "965/965 [==============================] - 0s 23us/step - loss: 0.0034\n",
      "Epoch 374/500\n",
      "965/965 [==============================] - 0s 23us/step - loss: 0.0034\n",
      "Epoch 375/500\n",
      "965/965 [==============================] - 0s 29us/step - loss: 0.0034\n",
      "Epoch 376/500\n",
      "965/965 [==============================] - 0s 32us/step - loss: 0.0034\n",
      "Epoch 377/500\n",
      "965/965 [==============================] - 0s 31us/step - loss: 0.0034\n",
      "Epoch 378/500\n",
      "965/965 [==============================] - 0s 26us/step - loss: 0.0034\n",
      "Epoch 379/500\n",
      "965/965 [==============================] - 0s 31us/step - loss: 0.0034\n",
      "Epoch 380/500\n",
      "965/965 [==============================] - 0s 30us/step - loss: 0.0034\n",
      "Epoch 381/500\n",
      "965/965 [==============================] - 0s 24us/step - loss: 0.0034\n",
      "Epoch 382/500\n",
      "965/965 [==============================] - 0s 23us/step - loss: 0.0034\n",
      "Epoch 383/500\n",
      "965/965 [==============================] - 0s 24us/step - loss: 0.0034\n",
      "Epoch 384/500\n",
      "965/965 [==============================] - 0s 26us/step - loss: 0.0034\n",
      "Epoch 385/500\n",
      "965/965 [==============================] - 0s 26us/step - loss: 0.0034\n",
      "Epoch 386/500\n"
     ]
    },
    {
     "name": "stdout",
     "output_type": "stream",
     "text": [
      "965/965 [==============================] - 0s 28us/step - loss: 0.0034\n",
      "Epoch 387/500\n",
      "965/965 [==============================] - 0s 24us/step - loss: 0.0034\n",
      "Epoch 388/500\n",
      "965/965 [==============================] - 0s 22us/step - loss: 0.0034\n",
      "Epoch 389/500\n",
      "965/965 [==============================] - 0s 22us/step - loss: 0.0034\n",
      "Epoch 390/500\n",
      "965/965 [==============================] - 0s 22us/step - loss: 0.0034\n",
      "Epoch 391/500\n",
      "965/965 [==============================] - 0s 20us/step - loss: 0.0034\n",
      "Epoch 392/500\n",
      "965/965 [==============================] - 0s 24us/step - loss: 0.0034\n",
      "Epoch 393/500\n",
      "965/965 [==============================] - 0s 25us/step - loss: 0.0034\n",
      "Epoch 394/500\n",
      "965/965 [==============================] - 0s 24us/step - loss: 0.0034\n",
      "Epoch 395/500\n",
      "965/965 [==============================] - 0s 23us/step - loss: 0.0034\n",
      "Epoch 396/500\n",
      "965/965 [==============================] - 0s 23us/step - loss: 0.0034\n",
      "Epoch 397/500\n",
      "965/965 [==============================] - 0s 27us/step - loss: 0.0034\n",
      "Epoch 398/500\n",
      "965/965 [==============================] - 0s 29us/step - loss: 0.0034\n",
      "Epoch 399/500\n",
      "965/965 [==============================] - 0s 26us/step - loss: 0.0034\n",
      "Epoch 400/500\n",
      "965/965 [==============================] - 0s 37us/step - loss: 0.0034\n",
      "Epoch 401/500\n",
      "965/965 [==============================] - 0s 33us/step - loss: 0.0034\n",
      "Epoch 402/500\n",
      "965/965 [==============================] - 0s 29us/step - loss: 0.0034\n",
      "Epoch 403/500\n",
      "965/965 [==============================] - 0s 27us/step - loss: 0.0034\n",
      "Epoch 404/500\n",
      "965/965 [==============================] - 0s 25us/step - loss: 0.0034\n",
      "Epoch 405/500\n",
      "965/965 [==============================] - 0s 25us/step - loss: 0.0034\n",
      "Epoch 406/500\n",
      "965/965 [==============================] - 0s 21us/step - loss: 0.0034\n",
      "Epoch 407/500\n",
      "965/965 [==============================] - 0s 20us/step - loss: 0.0034\n",
      "Epoch 408/500\n",
      "965/965 [==============================] - 0s 20us/step - loss: 0.0034\n",
      "Epoch 409/500\n",
      "965/965 [==============================] - 0s 20us/step - loss: 0.0034\n",
      "Epoch 410/500\n",
      "965/965 [==============================] - 0s 19us/step - loss: 0.0034\n",
      "Epoch 411/500\n",
      "965/965 [==============================] - 0s 19us/step - loss: 0.0034\n",
      "Epoch 412/500\n",
      "965/965 [==============================] - 0s 20us/step - loss: 0.0034\n",
      "Epoch 413/500\n",
      "965/965 [==============================] - 0s 26us/step - loss: 0.0034\n",
      "Epoch 414/500\n",
      "965/965 [==============================] - 0s 27us/step - loss: 0.0034\n",
      "Epoch 415/500\n",
      "965/965 [==============================] - 0s 24us/step - loss: 0.0034\n",
      "Epoch 416/500\n",
      "965/965 [==============================] - 0s 27us/step - loss: 0.0034\n",
      "Epoch 417/500\n",
      "965/965 [==============================] - 0s 28us/step - loss: 0.0034\n",
      "Epoch 418/500\n",
      "965/965 [==============================] - 0s 32us/step - loss: 0.0034\n",
      "Epoch 419/500\n",
      "965/965 [==============================] - 0s 32us/step - loss: 0.0034\n",
      "Epoch 420/500\n",
      "965/965 [==============================] - 0s 32us/step - loss: 0.0034\n",
      "Epoch 421/500\n",
      "965/965 [==============================] - 0s 28us/step - loss: 0.0034\n",
      "Epoch 422/500\n",
      "965/965 [==============================] - 0s 23us/step - loss: 0.0034\n",
      "Epoch 423/500\n",
      "965/965 [==============================] - 0s 20us/step - loss: 0.0034\n",
      "Epoch 424/500\n",
      "965/965 [==============================] - 0s 20us/step - loss: 0.0034\n",
      "Epoch 425/500\n",
      "965/965 [==============================] - 0s 21us/step - loss: 0.0034\n",
      "Epoch 426/500\n",
      "965/965 [==============================] - 0s 21us/step - loss: 0.0034\n",
      "Epoch 427/500\n",
      "965/965 [==============================] - 0s 20us/step - loss: 0.0034\n",
      "Epoch 428/500\n",
      "965/965 [==============================] - 0s 20us/step - loss: 0.0034\n",
      "Epoch 429/500\n",
      "965/965 [==============================] - 0s 26us/step - loss: 0.0034\n",
      "Epoch 430/500\n",
      "965/965 [==============================] - 0s 23us/step - loss: 0.0034\n",
      "Epoch 431/500\n",
      "965/965 [==============================] - 0s 20us/step - loss: 0.0033\n",
      "Epoch 432/500\n",
      "965/965 [==============================] - 0s 20us/step - loss: 0.0034\n",
      "Epoch 433/500\n",
      "965/965 [==============================] - 0s 19us/step - loss: 0.0034\n",
      "Epoch 434/500\n",
      "965/965 [==============================] - 0s 19us/step - loss: 0.0034\n",
      "Epoch 435/500\n",
      "965/965 [==============================] - 0s 19us/step - loss: 0.0033\n",
      "Epoch 436/500\n",
      "965/965 [==============================] - 0s 21us/step - loss: 0.0034\n",
      "Epoch 437/500\n",
      "965/965 [==============================] - 0s 20us/step - loss: 0.0034\n",
      "Epoch 438/500\n",
      "965/965 [==============================] - 0s 23us/step - loss: 0.0033\n",
      "Epoch 439/500\n",
      "965/965 [==============================] - 0s 27us/step - loss: 0.0034\n",
      "Epoch 440/500\n",
      "965/965 [==============================] - 0s 27us/step - loss: 0.0033\n",
      "Epoch 441/500\n",
      "965/965 [==============================] - 0s 27us/step - loss: 0.0033\n",
      "Epoch 442/500\n",
      "965/965 [==============================] - 0s 24us/step - loss: 0.0033\n",
      "Epoch 443/500\n",
      "965/965 [==============================] - 0s 27us/step - loss: 0.0033\n",
      "Epoch 444/500\n",
      "965/965 [==============================] - 0s 25us/step - loss: 0.0033\n",
      "Epoch 445/500\n",
      "965/965 [==============================] - 0s 25us/step - loss: 0.0033\n",
      "Epoch 446/500\n",
      "965/965 [==============================] - 0s 25us/step - loss: 0.0033\n",
      "Epoch 447/500\n",
      "965/965 [==============================] - 0s 27us/step - loss: 0.0033\n",
      "Epoch 448/500\n",
      "965/965 [==============================] - 0s 27us/step - loss: 0.0033\n",
      "Epoch 449/500\n",
      "965/965 [==============================] - 0s 26us/step - loss: 0.0033\n",
      "Epoch 450/500\n",
      "965/965 [==============================] - 0s 24us/step - loss: 0.0033\n",
      "Epoch 451/500\n",
      "965/965 [==============================] - 0s 22us/step - loss: 0.0033\n",
      "Epoch 452/500\n",
      "965/965 [==============================] - 0s 19us/step - loss: 0.0033\n",
      "Epoch 453/500\n",
      "965/965 [==============================] - 0s 19us/step - loss: 0.0033\n",
      "Epoch 454/500\n",
      "965/965 [==============================] - 0s 19us/step - loss: 0.0033\n",
      "Epoch 455/500\n",
      "965/965 [==============================] - 0s 19us/step - loss: 0.0033\n",
      "Epoch 456/500\n",
      "965/965 [==============================] - 0s 19us/step - loss: 0.0033\n",
      "Epoch 457/500\n",
      "965/965 [==============================] - 0s 22us/step - loss: 0.0033\n",
      "Epoch 458/500\n",
      "965/965 [==============================] - 0s 26us/step - loss: 0.0033\n",
      "Epoch 459/500\n",
      "965/965 [==============================] - 0s 24us/step - loss: 0.0033\n",
      "Epoch 460/500\n",
      "965/965 [==============================] - 0s 22us/step - loss: 0.0033\n",
      "Epoch 461/500\n",
      "965/965 [==============================] - 0s 28us/step - loss: 0.0033\n",
      "Epoch 462/500\n",
      "965/965 [==============================] - 0s 22us/step - loss: 0.0033\n",
      "Epoch 463/500\n",
      "965/965 [==============================] - 0s 20us/step - loss: 0.0033\n",
      "Epoch 464/500\n",
      "965/965 [==============================] - 0s 19us/step - loss: 0.0033\n",
      "Epoch 465/500\n",
      "965/965 [==============================] - 0s 19us/step - loss: 0.0033\n",
      "Epoch 466/500\n",
      "965/965 [==============================] - 0s 22us/step - loss: 0.0033\n",
      "Epoch 467/500\n",
      "965/965 [==============================] - 0s 23us/step - loss: 0.0033\n",
      "Epoch 468/500\n",
      "965/965 [==============================] - 0s 20us/step - loss: 0.0033\n",
      "Epoch 469/500\n",
      "965/965 [==============================] - 0s 19us/step - loss: 0.0033\n",
      "Epoch 470/500\n",
      "965/965 [==============================] - 0s 20us/step - loss: 0.0033\n",
      "Epoch 471/500\n",
      "965/965 [==============================] - 0s 20us/step - loss: 0.0033\n",
      "Epoch 472/500\n",
      "965/965 [==============================] - 0s 28us/step - loss: 0.0033\n",
      "Epoch 473/500\n",
      "965/965 [==============================] - 0s 25us/step - loss: 0.0033\n",
      "Epoch 474/500\n",
      "965/965 [==============================] - 0s 22us/step - loss: 0.0033\n",
      "Epoch 475/500\n",
      "965/965 [==============================] - 0s 20us/step - loss: 0.0033\n",
      "Epoch 476/500\n",
      "965/965 [==============================] - 0s 19us/step - loss: 0.0033\n",
      "Epoch 477/500\n",
      "965/965 [==============================] - 0s 20us/step - loss: 0.0033\n",
      "Epoch 478/500\n",
      "965/965 [==============================] - 0s 20us/step - loss: 0.0033\n",
      "Epoch 479/500\n",
      "965/965 [==============================] - 0s 21us/step - loss: 0.0033\n",
      "Epoch 480/500\n",
      "965/965 [==============================] - 0s 22us/step - loss: 0.0033\n",
      "Epoch 481/500\n",
      "965/965 [==============================] - 0s 22us/step - loss: 0.0033\n",
      "Epoch 482/500\n",
      "965/965 [==============================] - 0s 29us/step - loss: 0.0033\n",
      "Epoch 483/500\n",
      "965/965 [==============================] - 0s 30us/step - loss: 0.0033\n",
      "Epoch 484/500\n",
      "965/965 [==============================] - 0s 23us/step - loss: 0.0033\n",
      "Epoch 485/500\n",
      "965/965 [==============================] - 0s 22us/step - loss: 0.0033\n",
      "Epoch 486/500\n",
      "965/965 [==============================] - 0s 23us/step - loss: 0.0033\n",
      "Epoch 487/500\n",
      "965/965 [==============================] - 0s 27us/step - loss: 0.0033\n",
      "Epoch 488/500\n",
      "965/965 [==============================] - 0s 29us/step - loss: 0.0033\n",
      "Epoch 489/500\n",
      "965/965 [==============================] - 0s 25us/step - loss: 0.0033\n",
      "Epoch 490/500\n",
      "965/965 [==============================] - 0s 26us/step - loss: 0.0033\n",
      "Epoch 491/500\n",
      "965/965 [==============================] - 0s 27us/step - loss: 0.0033\n",
      "Epoch 492/500\n",
      "965/965 [==============================] - 0s 25us/step - loss: 0.0033\n",
      "Epoch 493/500\n",
      "965/965 [==============================] - 0s 27us/step - loss: 0.0033\n",
      "Epoch 494/500\n",
      "965/965 [==============================] - 0s 23us/step - loss: 0.0033\n",
      "Epoch 495/500\n",
      "965/965 [==============================] - 0s 22us/step - loss: 0.0033\n",
      "Epoch 496/500\n",
      "965/965 [==============================] - 0s 20us/step - loss: 0.0033\n",
      "Epoch 497/500\n",
      "965/965 [==============================] - 0s 19us/step - loss: 0.0033\n",
      "Epoch 498/500\n",
      "965/965 [==============================] - 0s 19us/step - loss: 0.0033\n",
      "Epoch 499/500\n",
      "965/965 [==============================] - 0s 20us/step - loss: 0.0033\n",
      "Epoch 500/500\n",
      "965/965 [==============================] - 0s 21us/step - loss: 0.0033\n"
     ]
    }
   ],
   "source": [
    "#똑같이 모델을 다시 돌려본다\n",
    "import keras\n",
    "from keras.models import Sequential\n",
    "from keras.layers import Dense, Activation\n",
    "from keras.optimizers import SGD\n",
    "\n",
    "model = Sequential()\n",
    "model.add(Dense(1, input_shape=(10,), activation='linear'))\n",
    "model.compile(loss='mse', optimizer=SGD(lr=0.01))\n",
    "hist = model.fit(train_x.as_matrix(), train_y.as_matrix(), epochs=500, verbose=1)"
   ]
  },
  {
   "cell_type": "code",
   "execution_count": 68,
   "metadata": {
    "slideshow": {
     "slide_type": "slide"
    }
   },
   "outputs": [
    {
     "name": "stdout",
     "output_type": "stream",
     "text": [
      "정답: 256300 , 예측: 270436.72\n",
      "차이: -14136.71875\n"
     ]
    },
    {
     "name": "stderr",
     "output_type": "stream",
     "text": [
      "/Users/kakao/anaconda3/envs/py3/lib/python3.7/site-packages/ipykernel_launcher.py:2: FutureWarning: Method .as_matrix will be removed in a future version. Use .values instead.\n",
      "  \n",
      "/Users/kakao/anaconda3/envs/py3/lib/python3.7/site-packages/ipykernel_launcher.py:4: FutureWarning: Method .as_matrix will be removed in a future version. Use .values instead.\n",
      "  after removing the cwd from sys.path.\n",
      "/Users/kakao/anaconda3/envs/py3/lib/python3.7/site-packages/ipykernel_launcher.py:5: FutureWarning: Method .as_matrix will be removed in a future version. Use .values instead.\n",
      "  \"\"\"\n"
     ]
    }
   ],
   "source": [
    "idx = 9\n",
    "x = minmaxer_x.transform(np.expand_dims(test_x.as_matrix()[idx], axis=0))\n",
    "y = model.predict(x)\n",
    "print('정답:', test_y.as_matrix()[idx][0], ', 예측:', minmaxer_y.inverse_transform(y)[0][0])\n",
    "print('차이:',  test_y.as_matrix()[idx][0] - minmaxer_y.inverse_transform(y)[0][0])"
   ]
  },
  {
   "cell_type": "code",
   "execution_count": 69,
   "metadata": {
    "slideshow": {
     "slide_type": "subslide"
    }
   },
   "outputs": [
    {
     "name": "stderr",
     "output_type": "stream",
     "text": [
      "/Users/kakao/anaconda3/envs/py3/lib/python3.7/site-packages/ipykernel_launcher.py:1: FutureWarning: Method .as_matrix will be removed in a future version. Use .values instead.\n",
      "  \"\"\"Entry point for launching an IPython kernel.\n",
      "/Users/kakao/anaconda3/envs/py3/lib/python3.7/site-packages/ipykernel_launcher.py:4: FutureWarning: Method .as_matrix will be removed in a future version. Use .values instead.\n",
      "  after removing the cwd from sys.path.\n"
     ]
    },
    {
     "data": {
      "image/png": "[encoded data removed]",
      "text/plain": [
       "<Figure size 432x288 with 1 Axes>"
      ]
     },
     "metadata": {
      "needs_background": "light"
     },
     "output_type": "display_data"
    }
   ],
   "source": [
    "xs = minmaxer_x.transform(test_x.as_matrix())\n",
    "ys = minmaxer_y.inverse_transform(model.predict(xs))\n",
    "plt.plot(ys, label='pred')\n",
    "plt.plot(test_y.as_matrix(), label='true')\n",
    "plt.legend(fontsize='x-large')\n",
    "plt.show()"
   ]
  },
  {
   "cell_type": "code",
   "execution_count": null,
   "metadata": {},
   "outputs": [],
   "source": []
  }
 ],
 "metadata": {
  "celltoolbar": "Slideshow",
  "kernelspec": {
   "display_name": "Python py3",
   "language": "python",
   "name": "py3"
  },
  "language_info": {
   "codemirror_mode": {
    "name": "ipython",
    "version": 3
   },
   "file_extension": ".py",
   "mimetype": "text/x-python",
   "name": "python",
   "nbconvert_exporter": "python",
   "pygments_lexer": "ipython3",
   "version": "3.7.3"
  },
  "latex_envs": {
   "LaTeX_envs_menu_present": true,
   "autoclose": false,
   "autocomplete": true,
   "bibliofile": "biblio.bib",
   "cite_by": "apalike",
   "current_citInitial": 1,
   "eqLabelWithNumbers": true,
   "eqNumInitial": 1,
   "hotkeys": {
    "equation": "Ctrl-E",
    "itemize": "Ctrl-I"
   },
   "labels_anchors": false,
   "latex_user_defs": false,
   "report_style_numbering": false,
   "user_envs_cfg": false
  },
  "toc": {
   "base_numbering": 1,
   "nav_menu": {},
   "number_sections": false,
   "sideBar": true,
   "skip_h1_title": false,
   "title_cell": "Table of Contents",
   "title_sidebar": "Contents",
   "toc_cell": false,
   "toc_position": {
    "height": "calc(100% - 180px)",
    "left": "10px",
    "top": "150px",
    "width": "294.594px"
   },
   "toc_section_display": true,
   "toc_window_display": false
  },
  "varInspector": {
   "cols": {
    "lenName": 16,
    "lenType": 16,
    "lenVar": 40
   },
   "kernels_config": {
    "python": {
     "delete_cmd_postfix": "",
     "delete_cmd_prefix": "del ",
     "library": "var_list.py",
     "varRefreshCmd": "print(var_dic_list())"
    },
    "r": {
     "delete_cmd_postfix": ") ",
     "delete_cmd_prefix": "rm(",
     "library": "var_list.r",
     "varRefreshCmd": "cat(var_dic_list()) "
    }
   },
   "types_to_exclude": [
    "module",
    "function",
    "builtin_function_or_method",
    "instance",
    "_Feature"
   ],
   "window_display": false
  }
 },
 "nbformat": 4,
 "nbformat_minor": 2
}
